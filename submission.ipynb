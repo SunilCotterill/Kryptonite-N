{
 "cells": [
  {
   "cell_type": "markdown",
   "metadata": {},
   "source": [
    "# Submission for Kryptonite-N\n",
    "\n",
    "# Decision Tree"
   ]
  },
  {
   "cell_type": "code",
   "execution_count": 2,
   "metadata": {},
   "outputs": [],
   "source": [
    "from sklearn.model_selection import train_test_split\n",
    "import pandas as pd\n",
    "import numpy as np\n",
    "from codecarbon import track_emissions\n",
    "\n",
    "def preprocess_data(n, use_split = True):\n",
    "    Xs = np.load(f\"/home/moritz/maths-for-ml/Kryptonite-N/Datasets/kryptonite-{n}-X.npy\")\n",
    "    Ys = np.load(f\"/home/moritz/maths-for-ml/Kryptonite-N/Datasets/kryptonite-{n}-y.npy\")\n",
    "    df_x = pd.DataFrame(Xs)\n",
    "    df_y = pd.Series(Ys)  \n",
    "    df_x = (df_x >= 0.5).astype(int)\n",
    "    return train_test_split(df_x, df_y, test_size=0.2) if use_split else df_x,df_y\n",
    "\n",
    "def preprocess_prediction_data(n):\n",
    "    Xs = np.load(f\"/home/moritz/maths-for-ml/Kryptonite-N/Datasets/hidden-kryptonite-{n}-X.npy\")\n",
    "    df_x = pd.DataFrame(Xs)\n",
    "    df_x = (df_x >= 0.5).astype(int)\n",
    "    return df_x\n",
    "    "
   ]
  },
  {
   "cell_type": "code",
   "execution_count": 9,
   "metadata": {},
   "outputs": [],
   "source": [
    "\n",
    "from sklearn.tree import DecisionTreeClassifier\n",
    "from sklearn.metrics import accuracy_score\n",
    "\n",
    "@track_emissions()\n",
    "def fit_decision_tree(X_train,y_train):\n",
    "    decision_tree = DecisionTreeClassifier(max_depth=15,min_samples_leaf=2,min_samples_split=2)\n",
    "    decision_tree.fit(X_train, y_train)\n",
    "    return decision_tree\n",
    "   \n",
    "    \n",
    "@track_emissions\n",
    "def predict_decision_tree(decision_tree, X_test):\n",
    "    return decision_tree.predict(X_test)\n",
    "    \n",
    "\n",
    "\n"
   ]
  },
  {
   "cell_type": "code",
   "execution_count": null,
   "metadata": {},
   "outputs": [],
   "source": [
    "for n in [9,12,15,18]:\n",
    "    X_train, X_test, y_train, y_test = preprocess_data(n)\n",
    "    decision_tree = fit_decision_tree(X_train, y_train)\n",
    "    y_pred = predict_decision_tree(decision_tree, X_test)\n",
    "    accuracy = accuracy_score(y_test, y_pred)\n",
    "    print(f\"Decision Tree Accuracy: {accuracy:.4f} for n = {n}\")"
   ]
  },
  {
   "cell_type": "markdown",
   "metadata": {},
   "source": [
    "## Neural Network"
   ]
  },
  {
   "cell_type": "code",
   "execution_count": 4,
   "metadata": {},
   "outputs": [],
   "source": [
    "import pandas as pd\n",
    "import numpy as np\n",
    "from sklearn.model_selection import train_test_split\n",
    "from sklearn.metrics import accuracy_score\n",
    "from tensorflow.keras.models import Sequential\n",
    "from tensorflow.keras.layers import Dense, Dropout, LeakyReLU, Input\n",
    "from tensorflow.keras.optimizers import Adam\n",
    "from tensorflow.keras.callbacks import EarlyStopping\n",
    "\n",
    "@track_emissions()\n",
    "def fit_neural_network(X_train,y_train, use_early_stopping = True):\n",
    "    model = Sequential([\n",
    "        Input(shape=(X_train.shape[1],), sparse=True),\n",
    "        Dense(128),\n",
    "        LeakyReLU(alpha=0.1),\n",
    "        \n",
    "        Dense(64),\n",
    "        LeakyReLU(alpha=0.1),\n",
    "\n",
    "        Dense(32),\n",
    "        LeakyReLU(alpha=0.1),\n",
    "        \n",
    "        Dense(1, activation='sigmoid')\n",
    "    ])\n",
    "\n",
    "    \n",
    "    model.compile(optimizer=Adam(learning_rate=0.001), loss='binary_crossentropy', metrics=['accuracy'])\n",
    "    \n",
    "\n",
    "    early_stopping = EarlyStopping(\n",
    "        monitor='val_loss', \n",
    "        patience=20, \n",
    "        restore_best_weights=True\n",
    "    )\n",
    "\n",
    "    \n",
    "    model.fit(\n",
    "        X_train, y_train,\n",
    "        epochs= 500,\n",
    "        batch_size=32,\n",
    "        validation_split=0.1, \n",
    "        verbose=1,\n",
    "        callbacks = [early_stopping] if use_early_stopping else []\n",
    "    )\n",
    "    return model\n",
    "@track_emissions\n",
    "def predict_neural_network(model, X_test):\n",
    "    return (model.predict(X_test) > 0.5).astype(int)\n"
   ]
  },
  {
   "cell_type": "code",
   "execution_count": null,
   "metadata": {},
   "outputs": [],
   "source": [
    "\n",
    "for n in [9,12,15,18]:\n",
    "    X_train, X_test, y_train, y_test = preprocess_data(n)\n",
    "    decision_tree = fit_neural_network(X_train, y_train)\n",
    "    y_pred = predict_neural_network(decision_tree, X_test)\n",
    "    accuracy = accuracy_score(y_test, y_pred)\n",
    "    print(f\"Neural Netork Accuracy: {accuracy:.4f} for n = {n}\")\n"
   ]
  },
  {
   "cell_type": "markdown",
   "metadata": {},
   "source": [
    "# Prediction of the labels"
   ]
  },
  {
   "cell_type": "markdown",
   "metadata": {},
   "source": [
    "## Neural Network"
   ]
  },
  {
   "cell_type": "code",
   "execution_count": 13,
   "metadata": {},
   "outputs": [
    {
     "name": "stderr",
     "output_type": "stream",
     "text": [
      "[codecarbon INFO @ 18:31:24] [setup] RAM Tracking...\n",
      "[codecarbon INFO @ 18:31:24] [setup] GPU Tracking...\n",
      "[codecarbon INFO @ 18:31:24] Tracking Nvidia GPU via pynvml\n"
     ]
    },
    {
     "name": "stdout",
     "output_type": "stream",
     "text": [
      "9 --------------------------------------------------------- \n"
     ]
    },
    {
     "name": "stderr",
     "output_type": "stream",
     "text": [
      "[codecarbon INFO @ 18:31:25] [setup] CPU Tracking...\n",
      "[codecarbon WARNING @ 18:31:25] No CPU tracking mode found. Falling back on CPU constant mode. \n",
      " Windows OS detected: Please install Intel Power Gadget to measure CPU\n",
      "\n",
      "[codecarbon WARNING @ 18:31:27] We saw that you have a 12th Gen Intel(R) Core(TM) i9-12900H but we don't know it. Please contact us.\n",
      "[codecarbon INFO @ 18:31:27] CPU Model on constant consumption mode: 12th Gen Intel(R) Core(TM) i9-12900H\n",
      "[codecarbon INFO @ 18:31:27] >>> Tracker's metadata:\n",
      "[codecarbon INFO @ 18:31:27]   Platform system: Windows-11-10.0.22631-SP0\n",
      "[codecarbon INFO @ 18:31:27]   Python version: 3.12.7\n",
      "[codecarbon INFO @ 18:31:27]   CodeCarbon version: 2.7.4\n",
      "[codecarbon INFO @ 18:31:27]   Available RAM : 31.694 GB\n",
      "[codecarbon INFO @ 18:31:27]   CPU count: 20\n",
      "[codecarbon INFO @ 18:31:27]   CPU model: 12th Gen Intel(R) Core(TM) i9-12900H\n",
      "[codecarbon INFO @ 18:31:27]   GPU count: 1\n",
      "[codecarbon INFO @ 18:31:27]   GPU model: 1 x NVIDIA GeForce RTX 4060 Laptop GPU\n",
      "[codecarbon INFO @ 18:31:27] Saving emissions data to file \\\\wsl.localhost\\Ubuntu\\home\\moritz\\maths-for-ml\\Kryptonite-N\\submission\\emissions.csv\n",
      "C:\\Users\\morit\\AppData\\Local\\Packages\\PythonSoftwareFoundation.Python.3.12_qbz5n2kfra8p0\\LocalCache\\local-packages\\Python312\\site-packages\\keras\\src\\layers\\activations\\leaky_relu.py:41: UserWarning: Argument `alpha` is deprecated. Use `negative_slope` instead.\n",
      "  warnings.warn(\n"
     ]
    },
    {
     "name": "stdout",
     "output_type": "stream",
     "text": [
      "Epoch 1/500\n",
      "\u001b[1m507/507\u001b[0m \u001b[32m━━━━━━━━━━━━━━━━━━━━\u001b[0m\u001b[37m\u001b[0m \u001b[1m1s\u001b[0m 881us/step - accuracy: 0.5697 - loss: 0.6692 - val_accuracy: 0.9517 - val_loss: 0.2310\n",
      "Epoch 2/500\n",
      "\u001b[1m507/507\u001b[0m \u001b[32m━━━━━━━━━━━━━━━━━━━━\u001b[0m\u001b[37m\u001b[0m \u001b[1m0s\u001b[0m 748us/step - accuracy: 0.9478 - loss: 0.2246 - val_accuracy: 0.9650 - val_loss: 0.1604\n",
      "Epoch 3/500\n",
      "\u001b[1m507/507\u001b[0m \u001b[32m━━━━━━━━━━━━━━━━━━━━\u001b[0m\u001b[37m\u001b[0m \u001b[1m0s\u001b[0m 702us/step - accuracy: 0.9557 - loss: 0.1880 - val_accuracy: 0.9650 - val_loss: 0.1652\n",
      "Epoch 4/500\n",
      "\u001b[1m507/507\u001b[0m \u001b[32m━━━━━━━━━━━━━━━━━━━━\u001b[0m\u001b[37m\u001b[0m \u001b[1m0s\u001b[0m 761us/step - accuracy: 0.9561 - loss: 0.1886 - val_accuracy: 0.9650 - val_loss: 0.1561\n",
      "Epoch 5/500\n",
      "\u001b[1m507/507\u001b[0m \u001b[32m━━━━━━━━━━━━━━━━━━━━\u001b[0m\u001b[37m\u001b[0m \u001b[1m0s\u001b[0m 699us/step - accuracy: 0.9560 - loss: 0.1820 - val_accuracy: 0.9650 - val_loss: 0.1545\n",
      "Epoch 6/500\n",
      "\u001b[1m507/507\u001b[0m \u001b[32m━━━━━━━━━━━━━━━━━━━━\u001b[0m\u001b[37m\u001b[0m \u001b[1m0s\u001b[0m 709us/step - accuracy: 0.9575 - loss: 0.1773 - val_accuracy: 0.9650 - val_loss: 0.1572\n",
      "Epoch 7/500\n",
      "\u001b[1m507/507\u001b[0m \u001b[32m━━━━━━━━━━━━━━━━━━━━\u001b[0m\u001b[37m\u001b[0m \u001b[1m0s\u001b[0m 699us/step - accuracy: 0.9572 - loss: 0.1771 - val_accuracy: 0.9650 - val_loss: 0.1571\n",
      "Epoch 8/500\n",
      "\u001b[1m507/507\u001b[0m \u001b[32m━━━━━━━━━━━━━━━━━━━━\u001b[0m\u001b[37m\u001b[0m \u001b[1m0s\u001b[0m 688us/step - accuracy: 0.9570 - loss: 0.1733 - val_accuracy: 0.9650 - val_loss: 0.1586\n",
      "Epoch 9/500\n",
      "\u001b[1m507/507\u001b[0m \u001b[32m━━━━━━━━━━━━━━━━━━━━\u001b[0m\u001b[37m\u001b[0m \u001b[1m0s\u001b[0m 696us/step - accuracy: 0.9579 - loss: 0.1719 - val_accuracy: 0.9650 - val_loss: 0.1533\n",
      "Epoch 10/500\n",
      "\u001b[1m507/507\u001b[0m \u001b[32m━━━━━━━━━━━━━━━━━━━━\u001b[0m\u001b[37m\u001b[0m \u001b[1m0s\u001b[0m 703us/step - accuracy: 0.9607 - loss: 0.1659 - val_accuracy: 0.9650 - val_loss: 0.1559\n",
      "Epoch 11/500\n",
      "\u001b[1m507/507\u001b[0m \u001b[32m━━━━━━━━━━━━━━━━━━━━\u001b[0m\u001b[37m\u001b[0m \u001b[1m0s\u001b[0m 691us/step - accuracy: 0.9604 - loss: 0.1642 - val_accuracy: 0.9650 - val_loss: 0.1629\n",
      "Epoch 12/500\n",
      "\u001b[1m507/507\u001b[0m \u001b[32m━━━━━━━━━━━━━━━━━━━━\u001b[0m\u001b[37m\u001b[0m \u001b[1m0s\u001b[0m 686us/step - accuracy: 0.9566 - loss: 0.1773 - val_accuracy: 0.9650 - val_loss: 0.1542\n",
      "Epoch 13/500\n",
      "\u001b[1m507/507\u001b[0m \u001b[32m━━━━━━━━━━━━━━━━━━━━\u001b[0m\u001b[37m\u001b[0m \u001b[1m0s\u001b[0m 694us/step - accuracy: 0.9551 - loss: 0.1758 - val_accuracy: 0.9650 - val_loss: 0.1562\n",
      "Epoch 14/500\n",
      "\u001b[1m507/507\u001b[0m \u001b[32m━━━━━━━━━━━━━━━━━━━━\u001b[0m\u001b[37m\u001b[0m \u001b[1m0s\u001b[0m 696us/step - accuracy: 0.9576 - loss: 0.1734 - val_accuracy: 0.9650 - val_loss: 0.1534\n",
      "Epoch 15/500\n",
      "\u001b[1m507/507\u001b[0m \u001b[32m━━━━━━━━━━━━━━━━━━━━\u001b[0m\u001b[37m\u001b[0m \u001b[1m0s\u001b[0m 698us/step - accuracy: 0.9563 - loss: 0.1717 - val_accuracy: 0.9650 - val_loss: 0.1627\n",
      "Epoch 16/500\n",
      "\u001b[1m507/507\u001b[0m \u001b[32m━━━━━━━━━━━━━━━━━━━━\u001b[0m\u001b[37m\u001b[0m \u001b[1m0s\u001b[0m 714us/step - accuracy: 0.9554 - loss: 0.1781 - val_accuracy: 0.9650 - val_loss: 0.1561\n",
      "Epoch 17/500\n",
      "\u001b[1m507/507\u001b[0m \u001b[32m━━━━━━━━━━━━━━━━━━━━\u001b[0m\u001b[37m\u001b[0m \u001b[1m0s\u001b[0m 698us/step - accuracy: 0.9566 - loss: 0.1721 - val_accuracy: 0.9650 - val_loss: 0.1620\n",
      "Epoch 18/500\n",
      "\u001b[1m507/507\u001b[0m \u001b[32m━━━━━━━━━━━━━━━━━━━━\u001b[0m\u001b[37m\u001b[0m \u001b[1m0s\u001b[0m 691us/step - accuracy: 0.9577 - loss: 0.1702 - val_accuracy: 0.9650 - val_loss: 0.1478\n",
      "Epoch 19/500\n",
      "\u001b[1m507/507\u001b[0m \u001b[32m━━━━━━━━━━━━━━━━━━━━\u001b[0m\u001b[37m\u001b[0m \u001b[1m0s\u001b[0m 711us/step - accuracy: 0.9593 - loss: 0.1622 - val_accuracy: 0.9650 - val_loss: 0.1535\n",
      "Epoch 20/500\n",
      "\u001b[1m507/507\u001b[0m \u001b[32m━━━━━━━━━━━━━━━━━━━━\u001b[0m\u001b[37m\u001b[0m \u001b[1m0s\u001b[0m 698us/step - accuracy: 0.9589 - loss: 0.1653 - val_accuracy: 0.9650 - val_loss: 0.1552\n",
      "Epoch 21/500\n",
      "\u001b[1m507/507\u001b[0m \u001b[32m━━━━━━━━━━━━━━━━━━━━\u001b[0m\u001b[37m\u001b[0m \u001b[1m0s\u001b[0m 702us/step - accuracy: 0.9586 - loss: 0.1668 - val_accuracy: 0.9650 - val_loss: 0.1535\n",
      "Epoch 22/500\n",
      "\u001b[1m507/507\u001b[0m \u001b[32m━━━━━━━━━━━━━━━━━━━━\u001b[0m\u001b[37m\u001b[0m \u001b[1m0s\u001b[0m 699us/step - accuracy: 0.9562 - loss: 0.1719 - val_accuracy: 0.9650 - val_loss: 0.1519\n",
      "Epoch 23/500\n",
      "\u001b[1m507/507\u001b[0m \u001b[32m━━━━━━━━━━━━━━━━━━━━\u001b[0m\u001b[37m\u001b[0m \u001b[1m0s\u001b[0m 694us/step - accuracy: 0.9589 - loss: 0.1635 - val_accuracy: 0.9650 - val_loss: 0.1580\n",
      "Epoch 24/500\n",
      "\u001b[1m507/507\u001b[0m \u001b[32m━━━━━━━━━━━━━━━━━━━━\u001b[0m\u001b[37m\u001b[0m \u001b[1m0s\u001b[0m 690us/step - accuracy: 0.9574 - loss: 0.1689 - val_accuracy: 0.9650 - val_loss: 0.1507\n",
      "Epoch 25/500\n",
      "\u001b[1m507/507\u001b[0m \u001b[32m━━━━━━━━━━━━━━━━━━━━\u001b[0m\u001b[37m\u001b[0m \u001b[1m0s\u001b[0m 696us/step - accuracy: 0.9609 - loss: 0.1560 - val_accuracy: 0.9650 - val_loss: 0.1540\n",
      "Epoch 26/500\n",
      "\u001b[1m507/507\u001b[0m \u001b[32m━━━━━━━━━━━━━━━━━━━━\u001b[0m\u001b[37m\u001b[0m \u001b[1m0s\u001b[0m 695us/step - accuracy: 0.9615 - loss: 0.1573 - val_accuracy: 0.9650 - val_loss: 0.1524\n",
      "Epoch 27/500\n",
      "\u001b[1m507/507\u001b[0m \u001b[32m━━━━━━━━━━━━━━━━━━━━\u001b[0m\u001b[37m\u001b[0m \u001b[1m0s\u001b[0m 725us/step - accuracy: 0.9575 - loss: 0.1697 - val_accuracy: 0.9650 - val_loss: 0.1563\n",
      "Epoch 28/500\n",
      "\u001b[1m507/507\u001b[0m \u001b[32m━━━━━━━━━━━━━━━━━━━━\u001b[0m\u001b[37m\u001b[0m \u001b[1m0s\u001b[0m 698us/step - accuracy: 0.9567 - loss: 0.1686 - val_accuracy: 0.9650 - val_loss: 0.1520\n",
      "Epoch 29/500\n",
      "\u001b[1m507/507\u001b[0m \u001b[32m━━━━━━━━━━━━━━━━━━━━\u001b[0m\u001b[37m\u001b[0m \u001b[1m0s\u001b[0m 712us/step - accuracy: 0.9570 - loss: 0.1676 - val_accuracy: 0.9650 - val_loss: 0.1576\n",
      "Epoch 30/500\n",
      "\u001b[1m507/507\u001b[0m \u001b[32m━━━━━━━━━━━━━━━━━━━━\u001b[0m\u001b[37m\u001b[0m \u001b[1m0s\u001b[0m 710us/step - accuracy: 0.9567 - loss: 0.1690 - val_accuracy: 0.9650 - val_loss: 0.1540\n",
      "Epoch 31/500\n",
      "\u001b[1m507/507\u001b[0m \u001b[32m━━━━━━━━━━━━━━━━━━━━\u001b[0m\u001b[37m\u001b[0m \u001b[1m0s\u001b[0m 706us/step - accuracy: 0.9591 - loss: 0.1623 - val_accuracy: 0.9650 - val_loss: 0.1590\n",
      "Epoch 32/500\n",
      "\u001b[1m507/507\u001b[0m \u001b[32m━━━━━━━━━━━━━━━━━━━━\u001b[0m\u001b[37m\u001b[0m \u001b[1m0s\u001b[0m 700us/step - accuracy: 0.9591 - loss: 0.1613 - val_accuracy: 0.9650 - val_loss: 0.1658\n",
      "Epoch 33/500\n",
      "\u001b[1m507/507\u001b[0m \u001b[32m━━━━━━━━━━━━━━━━━━━━\u001b[0m\u001b[37m\u001b[0m \u001b[1m0s\u001b[0m 706us/step - accuracy: 0.9588 - loss: 0.1632 - val_accuracy: 0.9650 - val_loss: 0.1579\n",
      "Epoch 34/500\n",
      "\u001b[1m507/507\u001b[0m \u001b[32m━━━━━━━━━━━━━━━━━━━━\u001b[0m\u001b[37m\u001b[0m \u001b[1m0s\u001b[0m 691us/step - accuracy: 0.9596 - loss: 0.1593 - val_accuracy: 0.9650 - val_loss: 0.1567\n",
      "Epoch 35/500\n",
      "\u001b[1m507/507\u001b[0m \u001b[32m━━━━━━━━━━━━━━━━━━━━\u001b[0m\u001b[37m\u001b[0m \u001b[1m0s\u001b[0m 691us/step - accuracy: 0.9571 - loss: 0.1663 - val_accuracy: 0.9650 - val_loss: 0.1527\n",
      "Epoch 36/500\n",
      "\u001b[1m507/507\u001b[0m \u001b[32m━━━━━━━━━━━━━━━━━━━━\u001b[0m\u001b[37m\u001b[0m \u001b[1m0s\u001b[0m 717us/step - accuracy: 0.9587 - loss: 0.1613 - val_accuracy: 0.9650 - val_loss: 0.1541\n",
      "Epoch 37/500\n",
      "\u001b[1m507/507\u001b[0m \u001b[32m━━━━━━━━━━━━━━━━━━━━\u001b[0m\u001b[37m\u001b[0m \u001b[1m0s\u001b[0m 698us/step - accuracy: 0.9576 - loss: 0.1645 - val_accuracy: 0.9650 - val_loss: 0.1541\n",
      "Epoch 38/500\n",
      "\u001b[1m355/507\u001b[0m \u001b[32m━━━━━━━━━━━━━━\u001b[0m\u001b[37m━━━━━━\u001b[0m \u001b[1m0s\u001b[0m 618us/step - accuracy: 0.9591 - loss: 0.1611"
     ]
    },
    {
     "name": "stderr",
     "output_type": "stream",
     "text": [
      "[codecarbon INFO @ 18:31:42] Energy consumed for RAM : 0.000050 kWh. RAM Power : 11.8851900100708 W\n"
     ]
    },
    {
     "name": "stdout",
     "output_type": "stream",
     "text": [
      "\u001b[1m507/507\u001b[0m \u001b[32m━━━━━━━━━━━━━━━━━━━━\u001b[0m\u001b[37m\u001b[0m \u001b[1m0s\u001b[0m 733us/step - accuracy: 0.9587 - loss: 0.1625 - val_accuracy: 0.9650 - val_loss: 0.1593\n"
     ]
    },
    {
     "name": "stderr",
     "output_type": "stream",
     "text": [
      "[codecarbon INFO @ 18:31:42] \n",
      "Graceful stopping: collecting and writing information.\n",
      "Please wait a few seconds...\n",
      "[codecarbon INFO @ 18:31:42] Energy consumed for RAM : 0.000100 kWh. RAM Power : 11.8851900100708 W\n",
      "[codecarbon INFO @ 18:31:43] Energy consumed for all GPUs : 0.000052 kWh. Total GPU Power : 12.326551123664288 W\n",
      "[codecarbon INFO @ 18:31:43] Energy consumed for all CPUs : 0.000196 kWh. Total CPU Power : 42.5 W\n",
      "[codecarbon INFO @ 18:31:43] 0.000348 kWh of electricity used since the beginning.\n",
      "[codecarbon INFO @ 18:31:43] Done!\n",
      "\n",
      "[codecarbon INFO @ 18:31:43] [setup] RAM Tracking...\n",
      "[codecarbon INFO @ 18:31:43] [setup] GPU Tracking...\n",
      "[codecarbon INFO @ 18:31:43] Tracking Nvidia GPU via pynvml\n",
      "[codecarbon INFO @ 18:31:43] [setup] CPU Tracking...\n",
      "[codecarbon WARNING @ 18:31:43] No CPU tracking mode found. Falling back on CPU constant mode. \n",
      " Windows OS detected: Please install Intel Power Gadget to measure CPU\n",
      "\n",
      "[codecarbon INFO @ 18:31:43] Energy consumed for all GPUs : 0.000062 kWh. Total GPU Power : 2.3779815710964916 W\n",
      "[codecarbon INFO @ 18:31:43] Energy consumed for all CPUs : 0.000197 kWh. Total CPU Power : 42.5 W\n",
      "[codecarbon INFO @ 18:31:43] 0.000359 kWh of electricity used since the beginning.\n",
      "[codecarbon WARNING @ 18:31:45] We saw that you have a 12th Gen Intel(R) Core(TM) i9-12900H but we don't know it. Please contact us.\n",
      "[codecarbon INFO @ 18:31:45] CPU Model on constant consumption mode: 12th Gen Intel(R) Core(TM) i9-12900H\n",
      "[codecarbon INFO @ 18:31:45] >>> Tracker's metadata:\n",
      "[codecarbon INFO @ 18:31:45]   Platform system: Windows-11-10.0.22631-SP0\n",
      "[codecarbon INFO @ 18:31:45]   Python version: 3.12.7\n",
      "[codecarbon INFO @ 18:31:45]   CodeCarbon version: 2.7.4\n",
      "[codecarbon INFO @ 18:31:45]   Available RAM : 31.694 GB\n",
      "[codecarbon INFO @ 18:31:45]   CPU count: 20\n",
      "[codecarbon INFO @ 18:31:45]   CPU model: 12th Gen Intel(R) Core(TM) i9-12900H\n",
      "[codecarbon INFO @ 18:31:45]   GPU count: 1\n",
      "[codecarbon INFO @ 18:31:45]   GPU model: 1 x NVIDIA GeForce RTX 4060 Laptop GPU\n",
      "[codecarbon INFO @ 18:31:46] Saving emissions data to file \\\\wsl.localhost\\Ubuntu\\home\\moritz\\maths-for-ml\\Kryptonite-N\\submission\\emissions.csv\n"
     ]
    },
    {
     "name": "stdout",
     "output_type": "stream",
     "text": [
      "\u001b[1m313/313\u001b[0m \u001b[32m━━━━━━━━━━━━━━━━━━━━\u001b[0m\u001b[37m\u001b[0m \u001b[1m0s\u001b[0m 551us/step\n"
     ]
    },
    {
     "name": "stderr",
     "output_type": "stream",
     "text": [
      "[codecarbon INFO @ 18:31:46] \n",
      "Graceful stopping: collecting and writing information.\n",
      "Please wait a few seconds...\n",
      "[codecarbon INFO @ 18:31:46] Energy consumed for RAM : 0.000001 kWh. RAM Power : 11.8851900100708 W\n",
      "[codecarbon INFO @ 18:31:46] Energy consumed for all GPUs : 0.000004 kWh. Total GPU Power : 44.50189725247784 W\n",
      "[codecarbon INFO @ 18:31:46] Energy consumed for all CPUs : 0.000003 kWh. Total CPU Power : 42.5 W\n",
      "[codecarbon INFO @ 18:31:46] 0.000008 kWh of electricity used since the beginning.\n",
      "[codecarbon INFO @ 18:31:46] Done!\n",
      "\n"
     ]
    },
    {
     "name": "stdout",
     "output_type": "stream",
     "text": [
      "12 --------------------------------------------------------- \n"
     ]
    },
    {
     "name": "stderr",
     "output_type": "stream",
     "text": [
      "[codecarbon INFO @ 18:31:46] [setup] RAM Tracking...\n",
      "[codecarbon INFO @ 18:31:46] [setup] GPU Tracking...\n",
      "[codecarbon INFO @ 18:31:46] Tracking Nvidia GPU via pynvml\n",
      "[codecarbon INFO @ 18:31:46] [setup] CPU Tracking...\n",
      "[codecarbon WARNING @ 18:31:46] No CPU tracking mode found. Falling back on CPU constant mode. \n",
      " Windows OS detected: Please install Intel Power Gadget to measure CPU\n",
      "\n",
      "[codecarbon WARNING @ 18:31:48] We saw that you have a 12th Gen Intel(R) Core(TM) i9-12900H but we don't know it. Please contact us.\n",
      "[codecarbon INFO @ 18:31:48] CPU Model on constant consumption mode: 12th Gen Intel(R) Core(TM) i9-12900H\n",
      "[codecarbon INFO @ 18:31:48] >>> Tracker's metadata:\n",
      "[codecarbon INFO @ 18:31:48]   Platform system: Windows-11-10.0.22631-SP0\n",
      "[codecarbon INFO @ 18:31:48]   Python version: 3.12.7\n",
      "[codecarbon INFO @ 18:31:48]   CodeCarbon version: 2.7.4\n",
      "[codecarbon INFO @ 18:31:48]   Available RAM : 31.694 GB\n",
      "[codecarbon INFO @ 18:31:48]   CPU count: 20\n",
      "[codecarbon INFO @ 18:31:48]   CPU model: 12th Gen Intel(R) Core(TM) i9-12900H\n",
      "[codecarbon INFO @ 18:31:48]   GPU count: 1\n",
      "[codecarbon INFO @ 18:31:48]   GPU model: 1 x NVIDIA GeForce RTX 4060 Laptop GPU\n",
      "[codecarbon INFO @ 18:31:48] Saving emissions data to file \\\\wsl.localhost\\Ubuntu\\home\\moritz\\maths-for-ml\\Kryptonite-N\\submission\\emissions.csv\n"
     ]
    },
    {
     "name": "stdout",
     "output_type": "stream",
     "text": [
      "Epoch 1/500\n"
     ]
    },
    {
     "name": "stderr",
     "output_type": "stream",
     "text": [
      "C:\\Users\\morit\\AppData\\Local\\Packages\\PythonSoftwareFoundation.Python.3.12_qbz5n2kfra8p0\\LocalCache\\local-packages\\Python312\\site-packages\\keras\\src\\layers\\activations\\leaky_relu.py:41: UserWarning: Argument `alpha` is deprecated. Use `negative_slope` instead.\n",
      "  warnings.warn(\n"
     ]
    },
    {
     "name": "stdout",
     "output_type": "stream",
     "text": [
      "\u001b[1m675/675\u001b[0m \u001b[32m━━━━━━━━━━━━━━━━━━━━\u001b[0m\u001b[37m\u001b[0m \u001b[1m1s\u001b[0m 837us/step - accuracy: 0.5013 - loss: 0.6947 - val_accuracy: 0.5492 - val_loss: 0.6869\n",
      "Epoch 2/500\n",
      "\u001b[1m675/675\u001b[0m \u001b[32m━━━━━━━━━━━━━━━━━━━━\u001b[0m\u001b[37m\u001b[0m \u001b[1m0s\u001b[0m 685us/step - accuracy: 0.6639 - loss: 0.6091 - val_accuracy: 0.9096 - val_loss: 0.2920\n",
      "Epoch 3/500\n",
      "\u001b[1m675/675\u001b[0m \u001b[32m━━━━━━━━━━━━━━━━━━━━\u001b[0m\u001b[37m\u001b[0m \u001b[1m0s\u001b[0m 710us/step - accuracy: 0.9185 - loss: 0.2627 - val_accuracy: 0.9388 - val_loss: 0.2037\n",
      "Epoch 4/500\n",
      "\u001b[1m675/675\u001b[0m \u001b[32m━━━━━━━━━━━━━━━━━━━━\u001b[0m\u001b[37m\u001b[0m \u001b[1m0s\u001b[0m 694us/step - accuracy: 0.9482 - loss: 0.1970 - val_accuracy: 0.9571 - val_loss: 0.1925\n",
      "Epoch 5/500\n",
      "\u001b[1m675/675\u001b[0m \u001b[32m━━━━━━━━━━━━━━━━━━━━\u001b[0m\u001b[37m\u001b[0m \u001b[1m0s\u001b[0m 665us/step - accuracy: 0.9512 - loss: 0.1875 - val_accuracy: 0.9571 - val_loss: 0.1868\n",
      "Epoch 6/500\n",
      "\u001b[1m675/675\u001b[0m \u001b[32m━━━━━━━━━━━━━━━━━━━━\u001b[0m\u001b[37m\u001b[0m \u001b[1m0s\u001b[0m 685us/step - accuracy: 0.9540 - loss: 0.1766 - val_accuracy: 0.9571 - val_loss: 0.1831\n",
      "Epoch 7/500\n",
      "\u001b[1m675/675\u001b[0m \u001b[32m━━━━━━━━━━━━━━━━━━━━\u001b[0m\u001b[37m\u001b[0m \u001b[1m0s\u001b[0m 657us/step - accuracy: 0.9557 - loss: 0.1724 - val_accuracy: 0.9571 - val_loss: 0.1780\n",
      "Epoch 8/500\n",
      "\u001b[1m675/675\u001b[0m \u001b[32m━━━━━━━━━━━━━━━━━━━━\u001b[0m\u001b[37m\u001b[0m \u001b[1m1s\u001b[0m 665us/step - accuracy: 0.9566 - loss: 0.1743 - val_accuracy: 0.9592 - val_loss: 0.1850\n",
      "Epoch 9/500\n",
      "\u001b[1m675/675\u001b[0m \u001b[32m━━━━━━━━━━━━━━━━━━━━\u001b[0m\u001b[37m\u001b[0m \u001b[1m0s\u001b[0m 679us/step - accuracy: 0.9561 - loss: 0.1753 - val_accuracy: 0.9592 - val_loss: 0.1790\n",
      "Epoch 10/500\n",
      "\u001b[1m675/675\u001b[0m \u001b[32m━━━━━━━━━━━━━━━━━━━━\u001b[0m\u001b[37m\u001b[0m \u001b[1m0s\u001b[0m 694us/step - accuracy: 0.9584 - loss: 0.1659 - val_accuracy: 0.9592 - val_loss: 0.1771\n",
      "Epoch 11/500\n",
      "\u001b[1m675/675\u001b[0m \u001b[32m━━━━━━━━━━━━━━━━━━━━\u001b[0m\u001b[37m\u001b[0m \u001b[1m0s\u001b[0m 688us/step - accuracy: 0.9607 - loss: 0.1549 - val_accuracy: 0.9583 - val_loss: 0.1780\n",
      "Epoch 12/500\n",
      "\u001b[1m675/675\u001b[0m \u001b[32m━━━━━━━━━━━━━━━━━━━━\u001b[0m\u001b[37m\u001b[0m \u001b[1m0s\u001b[0m 663us/step - accuracy: 0.9594 - loss: 0.1592 - val_accuracy: 0.9625 - val_loss: 0.1752\n",
      "Epoch 13/500\n",
      "\u001b[1m675/675\u001b[0m \u001b[32m━━━━━━━━━━━━━━━━━━━━\u001b[0m\u001b[37m\u001b[0m \u001b[1m0s\u001b[0m 659us/step - accuracy: 0.9623 - loss: 0.1539 - val_accuracy: 0.9608 - val_loss: 0.1771\n",
      "Epoch 14/500\n",
      "\u001b[1m675/675\u001b[0m \u001b[32m━━━━━━━━━━━━━━━━━━━━\u001b[0m\u001b[37m\u001b[0m \u001b[1m0s\u001b[0m 670us/step - accuracy: 0.9646 - loss: 0.1507 - val_accuracy: 0.9583 - val_loss: 0.1761\n",
      "Epoch 15/500\n",
      "\u001b[1m675/675\u001b[0m \u001b[32m━━━━━━━━━━━━━━━━━━━━\u001b[0m\u001b[37m\u001b[0m \u001b[1m0s\u001b[0m 669us/step - accuracy: 0.9631 - loss: 0.1517 - val_accuracy: 0.9625 - val_loss: 0.1705\n",
      "Epoch 16/500\n",
      "\u001b[1m675/675\u001b[0m \u001b[32m━━━━━━━━━━━━━━━━━━━━\u001b[0m\u001b[37m\u001b[0m \u001b[1m0s\u001b[0m 672us/step - accuracy: 0.9631 - loss: 0.1531 - val_accuracy: 0.9571 - val_loss: 0.1828\n",
      "Epoch 17/500\n",
      "\u001b[1m675/675\u001b[0m \u001b[32m━━━━━━━━━━━━━━━━━━━━\u001b[0m\u001b[37m\u001b[0m \u001b[1m0s\u001b[0m 683us/step - accuracy: 0.9632 - loss: 0.1541 - val_accuracy: 0.9613 - val_loss: 0.1771\n",
      "Epoch 18/500\n",
      "\u001b[1m675/675\u001b[0m \u001b[32m━━━━━━━━━━━━━━━━━━━━\u001b[0m\u001b[37m\u001b[0m \u001b[1m0s\u001b[0m 687us/step - accuracy: 0.9642 - loss: 0.1483 - val_accuracy: 0.9625 - val_loss: 0.1750\n",
      "Epoch 19/500\n",
      "\u001b[1m675/675\u001b[0m \u001b[32m━━━━━━━━━━━━━━━━━━━━\u001b[0m\u001b[37m\u001b[0m \u001b[1m0s\u001b[0m 682us/step - accuracy: 0.9652 - loss: 0.1448 - val_accuracy: 0.9583 - val_loss: 0.1777\n",
      "Epoch 20/500\n",
      "\u001b[1m675/675\u001b[0m \u001b[32m━━━━━━━━━━━━━━━━━━━━\u001b[0m\u001b[37m\u001b[0m \u001b[1m0s\u001b[0m 677us/step - accuracy: 0.9649 - loss: 0.1426 - val_accuracy: 0.9438 - val_loss: 0.2228\n",
      "Epoch 21/500\n",
      "\u001b[1m675/675\u001b[0m \u001b[32m━━━━━━━━━━━━━━━━━━━━\u001b[0m\u001b[37m\u001b[0m \u001b[1m0s\u001b[0m 675us/step - accuracy: 0.9637 - loss: 0.1459 - val_accuracy: 0.9625 - val_loss: 0.1741\n",
      "Epoch 22/500\n",
      "\u001b[1m675/675\u001b[0m \u001b[32m━━━━━━━━━━━━━━━━━━━━\u001b[0m\u001b[37m\u001b[0m \u001b[1m0s\u001b[0m 699us/step - accuracy: 0.9624 - loss: 0.1518 - val_accuracy: 0.9625 - val_loss: 0.1679\n",
      "Epoch 23/500\n",
      "\u001b[1m675/675\u001b[0m \u001b[32m━━━━━━━━━━━━━━━━━━━━\u001b[0m\u001b[37m\u001b[0m \u001b[1m0s\u001b[0m 677us/step - accuracy: 0.9648 - loss: 0.1440 - val_accuracy: 0.9625 - val_loss: 0.1705\n",
      "Epoch 24/500\n",
      "\u001b[1m675/675\u001b[0m \u001b[32m━━━━━━━━━━━━━━━━━━━━\u001b[0m\u001b[37m\u001b[0m \u001b[1m0s\u001b[0m 692us/step - accuracy: 0.9626 - loss: 0.1459 - val_accuracy: 0.9625 - val_loss: 0.1668\n",
      "Epoch 25/500\n",
      "\u001b[1m675/675\u001b[0m \u001b[32m━━━━━━━━━━━━━━━━━━━━\u001b[0m\u001b[37m\u001b[0m \u001b[1m0s\u001b[0m 672us/step - accuracy: 0.9642 - loss: 0.1423 - val_accuracy: 0.9625 - val_loss: 0.1679\n",
      "Epoch 26/500\n",
      "\u001b[1m675/675\u001b[0m \u001b[32m━━━━━━━━━━━━━━━━━━━━\u001b[0m\u001b[37m\u001b[0m \u001b[1m0s\u001b[0m 699us/step - accuracy: 0.9640 - loss: 0.1438 - val_accuracy: 0.9613 - val_loss: 0.1796\n",
      "Epoch 27/500\n",
      "\u001b[1m675/675\u001b[0m \u001b[32m━━━━━━━━━━━━━━━━━━━━\u001b[0m\u001b[37m\u001b[0m \u001b[1m0s\u001b[0m 674us/step - accuracy: 0.9654 - loss: 0.1399 - val_accuracy: 0.9625 - val_loss: 0.1720\n",
      "Epoch 28/500\n",
      "\u001b[1m675/675\u001b[0m \u001b[32m━━━━━━━━━━━━━━━━━━━━\u001b[0m\u001b[37m\u001b[0m \u001b[1m0s\u001b[0m 679us/step - accuracy: 0.9650 - loss: 0.1410 - val_accuracy: 0.9575 - val_loss: 0.1801\n",
      "Epoch 29/500\n",
      "\u001b[1m675/675\u001b[0m \u001b[32m━━━━━━━━━━━━━━━━━━━━\u001b[0m\u001b[37m\u001b[0m \u001b[1m0s\u001b[0m 692us/step - accuracy: 0.9602 - loss: 0.1517 - val_accuracy: 0.9621 - val_loss: 0.1798\n",
      "Epoch 30/500\n",
      "\u001b[1m  4/675\u001b[0m \u001b[37m━━━━━━━━━━━━━━━━━━━━\u001b[0m \u001b[1m0s\u001b[0m 686us/step - accuracy: 0.9349 - loss: 0.2450"
     ]
    },
    {
     "name": "stderr",
     "output_type": "stream",
     "text": [
      "[codecarbon INFO @ 18:32:03] Energy consumed for RAM : 0.000050 kWh. RAM Power : 11.8851900100708 W\n"
     ]
    },
    {
     "name": "stdout",
     "output_type": "stream",
     "text": [
      "\u001b[1m675/675\u001b[0m \u001b[32m━━━━━━━━━━━━━━━━━━━━\u001b[0m\u001b[37m\u001b[0m \u001b[1m0s\u001b[0m 682us/step - accuracy: 0.9632 - loss: 0.1452 - val_accuracy: 0.9625 - val_loss: 0.1718\n",
      "Epoch 31/500\n",
      "\u001b[1m675/675\u001b[0m \u001b[32m━━━━━━━━━━━━━━━━━━━━\u001b[0m\u001b[37m\u001b[0m \u001b[1m0s\u001b[0m 688us/step - accuracy: 0.9610 - loss: 0.1499 - val_accuracy: 0.9621 - val_loss: 0.1718\n",
      "Epoch 32/500\n",
      "\u001b[1m675/675\u001b[0m \u001b[32m━━━━━━━━━━━━━━━━━━━━\u001b[0m\u001b[37m\u001b[0m \u001b[1m0s\u001b[0m 696us/step - accuracy: 0.9650 - loss: 0.1376 - val_accuracy: 0.9625 - val_loss: 0.1751\n",
      "Epoch 33/500\n",
      "\u001b[1m 95/675\u001b[0m \u001b[32m━━\u001b[0m\u001b[37m━━━━━━━━━━━━━━━━━━\u001b[0m \u001b[1m0s\u001b[0m 608us/step - accuracy: 0.9635 - loss: 0.1439"
     ]
    },
    {
     "name": "stderr",
     "output_type": "stream",
     "text": [
      "[codecarbon INFO @ 18:32:05] Energy consumed for all GPUs : 0.000011 kWh. Total GPU Power : 2.596127717660779 W\n",
      "[codecarbon INFO @ 18:32:05] Energy consumed for all CPUs : 0.000195 kWh. Total CPU Power : 42.5 W\n",
      "[codecarbon INFO @ 18:32:05] 0.000255 kWh of electricity used since the beginning.\n"
     ]
    },
    {
     "name": "stdout",
     "output_type": "stream",
     "text": [
      "\u001b[1m675/675\u001b[0m \u001b[32m━━━━━━━━━━━━━━━━━━━━\u001b[0m\u001b[37m\u001b[0m \u001b[1m0s\u001b[0m 665us/step - accuracy: 0.9641 - loss: 0.1418 - val_accuracy: 0.9596 - val_loss: 0.1824\n",
      "Epoch 34/500\n",
      "\u001b[1m675/675\u001b[0m \u001b[32m━━━━━━━━━━━━━━━━━━━━\u001b[0m\u001b[37m\u001b[0m \u001b[1m0s\u001b[0m 660us/step - accuracy: 0.9609 - loss: 0.1486 - val_accuracy: 0.9625 - val_loss: 0.1830\n",
      "Epoch 35/500\n",
      "\u001b[1m675/675\u001b[0m \u001b[32m━━━━━━━━━━━━━━━━━━━━\u001b[0m\u001b[37m\u001b[0m \u001b[1m0s\u001b[0m 659us/step - accuracy: 0.9634 - loss: 0.1423 - val_accuracy: 0.9625 - val_loss: 0.1691\n",
      "Epoch 36/500\n",
      "\u001b[1m675/675\u001b[0m \u001b[32m━━━━━━━━━━━━━━━━━━━━\u001b[0m\u001b[37m\u001b[0m \u001b[1m0s\u001b[0m 665us/step - accuracy: 0.9634 - loss: 0.1423 - val_accuracy: 0.9625 - val_loss: 0.1741\n",
      "Epoch 37/500\n",
      "\u001b[1m675/675\u001b[0m \u001b[32m━━━━━━━━━━━━━━━━━━━━\u001b[0m\u001b[37m\u001b[0m \u001b[1m0s\u001b[0m 651us/step - accuracy: 0.9654 - loss: 0.1356 - val_accuracy: 0.9625 - val_loss: 0.1731\n",
      "Epoch 38/500\n",
      "\u001b[1m675/675\u001b[0m \u001b[32m━━━━━━━━━━━━━━━━━━━━\u001b[0m\u001b[37m\u001b[0m \u001b[1m0s\u001b[0m 665us/step - accuracy: 0.9619 - loss: 0.1452 - val_accuracy: 0.9625 - val_loss: 0.1815\n",
      "Epoch 39/500\n",
      "\u001b[1m675/675\u001b[0m \u001b[32m━━━━━━━━━━━━━━━━━━━━\u001b[0m\u001b[37m\u001b[0m \u001b[1m0s\u001b[0m 691us/step - accuracy: 0.9638 - loss: 0.1396 - val_accuracy: 0.9625 - val_loss: 0.1740\n",
      "Epoch 40/500\n",
      "\u001b[1m675/675\u001b[0m \u001b[32m━━━━━━━━━━━━━━━━━━━━\u001b[0m\u001b[37m\u001b[0m \u001b[1m0s\u001b[0m 696us/step - accuracy: 0.9640 - loss: 0.1384 - val_accuracy: 0.9592 - val_loss: 0.1834\n",
      "Epoch 41/500\n",
      "\u001b[1m675/675\u001b[0m \u001b[32m━━━━━━━━━━━━━━━━━━━━\u001b[0m\u001b[37m\u001b[0m \u001b[1m0s\u001b[0m 687us/step - accuracy: 0.9631 - loss: 0.1368 - val_accuracy: 0.9625 - val_loss: 0.1743\n",
      "Epoch 42/500\n",
      "\u001b[1m675/675\u001b[0m \u001b[32m━━━━━━━━━━━━━━━━━━━━\u001b[0m\u001b[37m\u001b[0m \u001b[1m0s\u001b[0m 685us/step - accuracy: 0.9632 - loss: 0.1368 - val_accuracy: 0.9588 - val_loss: 0.1887\n",
      "Epoch 43/500\n",
      "\u001b[1m675/675\u001b[0m \u001b[32m━━━━━━━━━━━━━━━━━━━━\u001b[0m\u001b[37m\u001b[0m \u001b[1m0s\u001b[0m 682us/step - accuracy: 0.9651 - loss: 0.1320 - val_accuracy: 0.9613 - val_loss: 0.1788\n",
      "Epoch 44/500\n",
      "\u001b[1m675/675\u001b[0m \u001b[32m━━━━━━━━━━━━━━━━━━━━\u001b[0m\u001b[37m\u001b[0m \u001b[1m0s\u001b[0m 658us/step - accuracy: 0.9643 - loss: 0.1351 - val_accuracy: 0.9613 - val_loss: 0.1788\n"
     ]
    },
    {
     "name": "stderr",
     "output_type": "stream",
     "text": [
      "[codecarbon INFO @ 18:32:10] \n",
      "Graceful stopping: collecting and writing information.\n",
      "Please wait a few seconds...\n",
      "[codecarbon INFO @ 18:32:10] Energy consumed for RAM : 0.000068 kWh. RAM Power : 11.8851900100708 W\n",
      "[codecarbon INFO @ 18:32:11] Energy consumed for all GPUs : 0.000021 kWh. Total GPU Power : 6.5976429078915055 W\n",
      "[codecarbon INFO @ 18:32:11] Energy consumed for all CPUs : 0.000266 kWh. Total CPU Power : 42.5 W\n",
      "[codecarbon INFO @ 18:32:11] 0.000355 kWh of electricity used since the beginning.\n",
      "[codecarbon INFO @ 18:32:11] Done!\n",
      "\n",
      "[codecarbon INFO @ 18:32:11] [setup] RAM Tracking...\n",
      "[codecarbon INFO @ 18:32:11] [setup] GPU Tracking...\n",
      "[codecarbon INFO @ 18:32:11] Tracking Nvidia GPU via pynvml\n",
      "[codecarbon INFO @ 18:32:11] [setup] CPU Tracking...\n",
      "[codecarbon WARNING @ 18:32:11] No CPU tracking mode found. Falling back on CPU constant mode. \n",
      " Windows OS detected: Please install Intel Power Gadget to measure CPU\n",
      "\n",
      "[codecarbon WARNING @ 18:32:13] We saw that you have a 12th Gen Intel(R) Core(TM) i9-12900H but we don't know it. Please contact us.\n",
      "[codecarbon INFO @ 18:32:13] CPU Model on constant consumption mode: 12th Gen Intel(R) Core(TM) i9-12900H\n",
      "[codecarbon INFO @ 18:32:13] >>> Tracker's metadata:\n",
      "[codecarbon INFO @ 18:32:13]   Platform system: Windows-11-10.0.22631-SP0\n",
      "[codecarbon INFO @ 18:32:13]   Python version: 3.12.7\n",
      "[codecarbon INFO @ 18:32:13]   CodeCarbon version: 2.7.4\n",
      "[codecarbon INFO @ 18:32:13]   Available RAM : 31.694 GB\n",
      "[codecarbon INFO @ 18:32:13]   CPU count: 20\n",
      "[codecarbon INFO @ 18:32:13]   CPU model: 12th Gen Intel(R) Core(TM) i9-12900H\n",
      "[codecarbon INFO @ 18:32:13]   GPU count: 1\n",
      "[codecarbon INFO @ 18:32:13]   GPU model: 1 x NVIDIA GeForce RTX 4060 Laptop GPU\n",
      "[codecarbon INFO @ 18:32:13] Saving emissions data to file \\\\wsl.localhost\\Ubuntu\\home\\moritz\\maths-for-ml\\Kryptonite-N\\submission\\emissions.csv\n"
     ]
    },
    {
     "name": "stdout",
     "output_type": "stream",
     "text": [
      "\u001b[1m313/313\u001b[0m \u001b[32m━━━━━━━━━━━━━━━━━━━━\u001b[0m\u001b[37m\u001b[0m \u001b[1m0s\u001b[0m 720us/step\n"
     ]
    },
    {
     "name": "stderr",
     "output_type": "stream",
     "text": [
      "[codecarbon INFO @ 18:32:13] \n",
      "Graceful stopping: collecting and writing information.\n",
      "Please wait a few seconds...\n",
      "[codecarbon INFO @ 18:32:13] Energy consumed for RAM : 0.000001 kWh. RAM Power : 11.8851900100708 W\n",
      "[codecarbon INFO @ 18:32:14] Energy consumed for all GPUs : 0.000009 kWh. Total GPU Power : 88.50260155845366 W\n",
      "[codecarbon INFO @ 18:32:14] Energy consumed for all CPUs : 0.000009 kWh. Total CPU Power : 42.5 W\n",
      "[codecarbon INFO @ 18:32:14] 0.000019 kWh of electricity used since the beginning.\n",
      "[codecarbon INFO @ 18:32:14] Done!\n",
      "\n",
      "[codecarbon INFO @ 18:32:14] [setup] RAM Tracking...\n",
      "[codecarbon INFO @ 18:32:14] [setup] GPU Tracking...\n",
      "[codecarbon INFO @ 18:32:14] Tracking Nvidia GPU via pynvml\n",
      "[codecarbon INFO @ 18:32:14] [setup] CPU Tracking...\n",
      "[codecarbon WARNING @ 18:32:14] No CPU tracking mode found. Falling back on CPU constant mode. \n",
      " Windows OS detected: Please install Intel Power Gadget to measure CPU\n",
      "\n"
     ]
    },
    {
     "name": "stdout",
     "output_type": "stream",
     "text": [
      "15 --------------------------------------------------------- \n"
     ]
    },
    {
     "name": "stderr",
     "output_type": "stream",
     "text": [
      "[codecarbon WARNING @ 18:32:16] We saw that you have a 12th Gen Intel(R) Core(TM) i9-12900H but we don't know it. Please contact us.\n",
      "[codecarbon INFO @ 18:32:16] CPU Model on constant consumption mode: 12th Gen Intel(R) Core(TM) i9-12900H\n",
      "[codecarbon INFO @ 18:32:16] >>> Tracker's metadata:\n",
      "[codecarbon INFO @ 18:32:16]   Platform system: Windows-11-10.0.22631-SP0\n",
      "[codecarbon INFO @ 18:32:16]   Python version: 3.12.7\n",
      "[codecarbon INFO @ 18:32:16]   CodeCarbon version: 2.7.4\n",
      "[codecarbon INFO @ 18:32:16]   Available RAM : 31.694 GB\n",
      "[codecarbon INFO @ 18:32:16]   CPU count: 20\n",
      "[codecarbon INFO @ 18:32:16]   CPU model: 12th Gen Intel(R) Core(TM) i9-12900H\n",
      "[codecarbon INFO @ 18:32:16]   GPU count: 1\n",
      "[codecarbon INFO @ 18:32:16]   GPU model: 1 x NVIDIA GeForce RTX 4060 Laptop GPU\n",
      "[codecarbon INFO @ 18:32:16] Saving emissions data to file \\\\wsl.localhost\\Ubuntu\\home\\moritz\\maths-for-ml\\Kryptonite-N\\submission\\emissions.csv\n"
     ]
    },
    {
     "name": "stdout",
     "output_type": "stream",
     "text": [
      "Epoch 1/500\n"
     ]
    },
    {
     "name": "stderr",
     "output_type": "stream",
     "text": [
      "C:\\Users\\morit\\AppData\\Local\\Packages\\PythonSoftwareFoundation.Python.3.12_qbz5n2kfra8p0\\LocalCache\\local-packages\\Python312\\site-packages\\keras\\src\\layers\\activations\\leaky_relu.py:41: UserWarning: Argument `alpha` is deprecated. Use `negative_slope` instead.\n",
      "  warnings.warn(\n"
     ]
    },
    {
     "name": "stdout",
     "output_type": "stream",
     "text": [
      "\u001b[1m844/844\u001b[0m \u001b[32m━━━━━━━━━━━━━━━━━━━━\u001b[0m\u001b[37m\u001b[0m \u001b[1m2s\u001b[0m 954us/step - accuracy: 0.4997 - loss: 0.6947 - val_accuracy: 0.4907 - val_loss: 0.6941\n",
      "Epoch 2/500\n",
      "\u001b[1m844/844\u001b[0m \u001b[32m━━━━━━━━━━━━━━━━━━━━\u001b[0m\u001b[37m\u001b[0m \u001b[1m1s\u001b[0m 715us/step - accuracy: 0.5053 - loss: 0.6932 - val_accuracy: 0.5100 - val_loss: 0.6934\n",
      "Epoch 3/500\n",
      "\u001b[1m844/844\u001b[0m \u001b[32m━━━━━━━━━━━━━━━━━━━━\u001b[0m\u001b[37m\u001b[0m \u001b[1m1s\u001b[0m 785us/step - accuracy: 0.5168 - loss: 0.6924 - val_accuracy: 0.4870 - val_loss: 0.6942\n",
      "Epoch 4/500\n",
      "\u001b[1m844/844\u001b[0m \u001b[32m━━━━━━━━━━━━━━━━━━━━\u001b[0m\u001b[37m\u001b[0m \u001b[1m1s\u001b[0m 736us/step - accuracy: 0.5279 - loss: 0.6906 - val_accuracy: 0.5443 - val_loss: 0.6904\n",
      "Epoch 5/500\n",
      "\u001b[1m844/844\u001b[0m \u001b[32m━━━━━━━━━━━━━━━━━━━━\u001b[0m\u001b[37m\u001b[0m \u001b[1m1s\u001b[0m 714us/step - accuracy: 0.6099 - loss: 0.6510 - val_accuracy: 0.7820 - val_loss: 0.4435\n",
      "Epoch 6/500\n",
      "\u001b[1m844/844\u001b[0m \u001b[32m━━━━━━━━━━━━━━━━━━━━\u001b[0m\u001b[37m\u001b[0m \u001b[1m1s\u001b[0m 694us/step - accuracy: 0.8323 - loss: 0.3893 - val_accuracy: 0.9160 - val_loss: 0.2687\n",
      "Epoch 7/500\n",
      "\u001b[1m844/844\u001b[0m \u001b[32m━━━━━━━━━━━━━━━━━━━━\u001b[0m\u001b[37m\u001b[0m \u001b[1m1s\u001b[0m 679us/step - accuracy: 0.9205 - loss: 0.2557 - val_accuracy: 0.9270 - val_loss: 0.2404\n",
      "Epoch 8/500\n",
      "\u001b[1m844/844\u001b[0m \u001b[32m━━━━━━━━━━━━━━━━━━━━\u001b[0m\u001b[37m\u001b[0m \u001b[1m1s\u001b[0m 776us/step - accuracy: 0.9349 - loss: 0.2228 - val_accuracy: 0.9423 - val_loss: 0.2154\n",
      "Epoch 9/500\n",
      "\u001b[1m844/844\u001b[0m \u001b[32m━━━━━━━━━━━━━━━━━━━━\u001b[0m\u001b[37m\u001b[0m \u001b[1m1s\u001b[0m 756us/step - accuracy: 0.9460 - loss: 0.2010 - val_accuracy: 0.9523 - val_loss: 0.1822\n",
      "Epoch 10/500\n",
      "\u001b[1m844/844\u001b[0m \u001b[32m━━━━━━━━━━━━━━━━━━━━\u001b[0m\u001b[37m\u001b[0m \u001b[1m1s\u001b[0m 825us/step - accuracy: 0.9530 - loss: 0.1823 - val_accuracy: 0.9627 - val_loss: 0.1630\n",
      "Epoch 11/500\n",
      "\u001b[1m844/844\u001b[0m \u001b[32m━━━━━━━━━━━━━━━━━━━━\u001b[0m\u001b[37m\u001b[0m \u001b[1m1s\u001b[0m 762us/step - accuracy: 0.9574 - loss: 0.1666 - val_accuracy: 0.9660 - val_loss: 0.1595\n",
      "Epoch 12/500\n",
      "\u001b[1m844/844\u001b[0m \u001b[32m━━━━━━━━━━━━━━━━━━━━\u001b[0m\u001b[37m\u001b[0m \u001b[1m1s\u001b[0m 814us/step - accuracy: 0.9616 - loss: 0.1605 - val_accuracy: 0.9643 - val_loss: 0.1644\n",
      "Epoch 13/500\n",
      "\u001b[1m844/844\u001b[0m \u001b[32m━━━━━━━━━━━━━━━━━━━━\u001b[0m\u001b[37m\u001b[0m \u001b[1m1s\u001b[0m 771us/step - accuracy: 0.9620 - loss: 0.1580 - val_accuracy: 0.9683 - val_loss: 0.1489\n",
      "Epoch 14/500\n",
      "\u001b[1m844/844\u001b[0m \u001b[32m━━━━━━━━━━━━━━━━━━━━\u001b[0m\u001b[37m\u001b[0m \u001b[1m1s\u001b[0m 722us/step - accuracy: 0.9633 - loss: 0.1538 - val_accuracy: 0.9667 - val_loss: 0.1566\n",
      "Epoch 15/500\n",
      "\u001b[1m844/844\u001b[0m \u001b[32m━━━━━━━━━━━━━━━━━━━━\u001b[0m\u001b[37m\u001b[0m \u001b[1m1s\u001b[0m 755us/step - accuracy: 0.9628 - loss: 0.1519 - val_accuracy: 0.9687 - val_loss: 0.1453\n",
      "Epoch 16/500\n",
      "\u001b[1m844/844\u001b[0m \u001b[32m━━━━━━━━━━━━━━━━━━━━\u001b[0m\u001b[37m\u001b[0m \u001b[1m1s\u001b[0m 755us/step - accuracy: 0.9678 - loss: 0.1388 - val_accuracy: 0.9687 - val_loss: 0.1538\n",
      "Epoch 17/500\n",
      "\u001b[1m844/844\u001b[0m \u001b[32m━━━━━━━━━━━━━━━━━━━━\u001b[0m\u001b[37m\u001b[0m \u001b[1m1s\u001b[0m 727us/step - accuracy: 0.9652 - loss: 0.1421 - val_accuracy: 0.9677 - val_loss: 0.1528\n",
      "Epoch 18/500\n",
      "\u001b[1m844/844\u001b[0m \u001b[32m━━━━━━━━━━━━━━━━━━━━\u001b[0m\u001b[37m\u001b[0m \u001b[1m1s\u001b[0m 702us/step - accuracy: 0.9635 - loss: 0.1474 - val_accuracy: 0.9667 - val_loss: 0.1641\n",
      "Epoch 19/500\n",
      "\u001b[1m844/844\u001b[0m \u001b[32m━━━━━━━━━━━━━━━━━━━━\u001b[0m\u001b[37m\u001b[0m \u001b[1m1s\u001b[0m 749us/step - accuracy: 0.9645 - loss: 0.1419 - val_accuracy: 0.9663 - val_loss: 0.1535\n",
      "Epoch 20/500\n",
      "\u001b[1m844/844\u001b[0m \u001b[32m━━━━━━━━━━━━━━━━━━━━\u001b[0m\u001b[37m\u001b[0m \u001b[1m1s\u001b[0m 773us/step - accuracy: 0.9653 - loss: 0.1425 - val_accuracy: 0.9687 - val_loss: 0.1533\n",
      "Epoch 21/500\n",
      "\u001b[1m844/844\u001b[0m \u001b[32m━━━━━━━━━━━━━━━━━━━━\u001b[0m\u001b[37m\u001b[0m \u001b[1m1s\u001b[0m 806us/step - accuracy: 0.9651 - loss: 0.1392 - val_accuracy: 0.9580 - val_loss: 0.1777\n",
      "Epoch 22/500\n",
      "\u001b[1m439/844\u001b[0m \u001b[32m━━━━━━━━━━\u001b[0m\u001b[37m━━━━━━━━━━\u001b[0m \u001b[1m0s\u001b[0m 608us/step - accuracy: 0.9636 - loss: 0.1421"
     ]
    },
    {
     "name": "stderr",
     "output_type": "stream",
     "text": [
      "[codecarbon INFO @ 18:32:31] Energy consumed for RAM : 0.000050 kWh. RAM Power : 11.8851900100708 W\n"
     ]
    },
    {
     "name": "stdout",
     "output_type": "stream",
     "text": [
      "\u001b[1m844/844\u001b[0m \u001b[32m━━━━━━━━━━━━━━━━━━━━\u001b[0m\u001b[37m\u001b[0m \u001b[1m1s\u001b[0m 753us/step - accuracy: 0.9640 - loss: 0.1419 - val_accuracy: 0.9637 - val_loss: 0.1581\n",
      "Epoch 23/500\n",
      "\u001b[1m844/844\u001b[0m \u001b[32m━━━━━━━━━━━━━━━━━━━━\u001b[0m\u001b[37m\u001b[0m \u001b[1m1s\u001b[0m 768us/step - accuracy: 0.9645 - loss: 0.1390 - val_accuracy: 0.9683 - val_loss: 0.1508\n",
      "Epoch 24/500\n",
      "\u001b[1m544/844\u001b[0m \u001b[32m━━━━━━━━━━━━\u001b[0m\u001b[37m━━━━━━━━\u001b[0m \u001b[1m0s\u001b[0m 696us/step - accuracy: 0.9639 - loss: 0.1389"
     ]
    },
    {
     "name": "stderr",
     "output_type": "stream",
     "text": [
      "[codecarbon INFO @ 18:32:33] Energy consumed for all GPUs : 0.000007 kWh. Total GPU Power : 1.658201648586677 W\n",
      "[codecarbon INFO @ 18:32:33] Energy consumed for all CPUs : 0.000194 kWh. Total CPU Power : 42.5 W\n",
      "[codecarbon INFO @ 18:32:33] 0.000251 kWh of electricity used since the beginning.\n"
     ]
    },
    {
     "name": "stdout",
     "output_type": "stream",
     "text": [
      "\u001b[1m844/844\u001b[0m \u001b[32m━━━━━━━━━━━━━━━━━━━━\u001b[0m\u001b[37m\u001b[0m \u001b[1m1s\u001b[0m 781us/step - accuracy: 0.9639 - loss: 0.1392 - val_accuracy: 0.9687 - val_loss: 0.1535\n",
      "Epoch 25/500\n",
      "\u001b[1m844/844\u001b[0m \u001b[32m━━━━━━━━━━━━━━━━━━━━\u001b[0m\u001b[37m\u001b[0m \u001b[1m1s\u001b[0m 707us/step - accuracy: 0.9647 - loss: 0.1359 - val_accuracy: 0.9687 - val_loss: 0.1484\n",
      "Epoch 26/500\n",
      "\u001b[1m844/844\u001b[0m \u001b[32m━━━━━━━━━━━━━━━━━━━━\u001b[0m\u001b[37m\u001b[0m \u001b[1m1s\u001b[0m 725us/step - accuracy: 0.9665 - loss: 0.1317 - val_accuracy: 0.9677 - val_loss: 0.1556\n",
      "Epoch 27/500\n",
      "\u001b[1m844/844\u001b[0m \u001b[32m━━━━━━━━━━━━━━━━━━━━\u001b[0m\u001b[37m\u001b[0m \u001b[1m1s\u001b[0m 726us/step - accuracy: 0.9643 - loss: 0.1333 - val_accuracy: 0.9683 - val_loss: 0.1527\n",
      "Epoch 28/500\n",
      "\u001b[1m844/844\u001b[0m \u001b[32m━━━━━━━━━━━━━━━━━━━━\u001b[0m\u001b[37m\u001b[0m \u001b[1m1s\u001b[0m 675us/step - accuracy: 0.9634 - loss: 0.1366 - val_accuracy: 0.9683 - val_loss: 0.1508\n",
      "Epoch 29/500\n",
      "\u001b[1m844/844\u001b[0m \u001b[32m━━━━━━━━━━━━━━━━━━━━\u001b[0m\u001b[37m\u001b[0m \u001b[1m1s\u001b[0m 722us/step - accuracy: 0.9647 - loss: 0.1338 - val_accuracy: 0.9667 - val_loss: 0.1567\n",
      "Epoch 30/500\n",
      "\u001b[1m844/844\u001b[0m \u001b[32m━━━━━━━━━━━━━━━━━━━━\u001b[0m\u001b[37m\u001b[0m \u001b[1m1s\u001b[0m 718us/step - accuracy: 0.9652 - loss: 0.1295 - val_accuracy: 0.9687 - val_loss: 0.1489\n",
      "Epoch 31/500\n",
      "\u001b[1m844/844\u001b[0m \u001b[32m━━━━━━━━━━━━━━━━━━━━\u001b[0m\u001b[37m\u001b[0m \u001b[1m1s\u001b[0m 729us/step - accuracy: 0.9646 - loss: 0.1337 - val_accuracy: 0.9683 - val_loss: 0.1604\n",
      "Epoch 32/500\n",
      "\u001b[1m844/844\u001b[0m \u001b[32m━━━━━━━━━━━━━━━━━━━━\u001b[0m\u001b[37m\u001b[0m \u001b[1m1s\u001b[0m 731us/step - accuracy: 0.9643 - loss: 0.1338 - val_accuracy: 0.9667 - val_loss: 0.1605\n",
      "Epoch 33/500\n",
      "\u001b[1m844/844\u001b[0m \u001b[32m━━━━━━━━━━━━━━━━━━━━\u001b[0m\u001b[37m\u001b[0m \u001b[1m1s\u001b[0m 680us/step - accuracy: 0.9662 - loss: 0.1242 - val_accuracy: 0.9653 - val_loss: 0.1598\n",
      "Epoch 34/500\n",
      "\u001b[1m844/844\u001b[0m \u001b[32m━━━━━━━━━━━━━━━━━━━━\u001b[0m\u001b[37m\u001b[0m \u001b[1m1s\u001b[0m 738us/step - accuracy: 0.9657 - loss: 0.1251 - val_accuracy: 0.9663 - val_loss: 0.1572\n",
      "Epoch 35/500\n",
      "\u001b[1m844/844\u001b[0m \u001b[32m━━━━━━━━━━━━━━━━━━━━\u001b[0m\u001b[37m\u001b[0m \u001b[1m1s\u001b[0m 694us/step - accuracy: 0.9657 - loss: 0.1230 - val_accuracy: 0.9640 - val_loss: 0.1661\n"
     ]
    },
    {
     "name": "stderr",
     "output_type": "stream",
     "text": [
      "[codecarbon INFO @ 18:32:40] \n",
      "Graceful stopping: collecting and writing information.\n",
      "Please wait a few seconds...\n",
      "[codecarbon INFO @ 18:32:40] Energy consumed for RAM : 0.000073 kWh. RAM Power : 11.8851900100708 W\n",
      "[codecarbon INFO @ 18:32:40] Energy consumed for all GPUs : 0.000047 kWh. Total GPU Power : 20.127137713807414 W\n",
      "[codecarbon INFO @ 18:32:40] Energy consumed for all CPUs : 0.000278 kWh. Total CPU Power : 42.5 W\n",
      "[codecarbon INFO @ 18:32:40] 0.000398 kWh of electricity used since the beginning.\n",
      "[codecarbon INFO @ 18:32:40] Done!\n",
      "\n",
      "[codecarbon INFO @ 18:32:40] [setup] RAM Tracking...\n",
      "[codecarbon INFO @ 18:32:40] [setup] GPU Tracking...\n",
      "[codecarbon INFO @ 18:32:40] Tracking Nvidia GPU via pynvml\n",
      "[codecarbon INFO @ 18:32:40] [setup] CPU Tracking...\n",
      "[codecarbon WARNING @ 18:32:40] No CPU tracking mode found. Falling back on CPU constant mode. \n",
      " Windows OS detected: Please install Intel Power Gadget to measure CPU\n",
      "\n",
      "[codecarbon WARNING @ 18:32:41] We saw that you have a 12th Gen Intel(R) Core(TM) i9-12900H but we don't know it. Please contact us.\n",
      "[codecarbon INFO @ 18:32:41] CPU Model on constant consumption mode: 12th Gen Intel(R) Core(TM) i9-12900H\n",
      "[codecarbon INFO @ 18:32:42] >>> Tracker's metadata:\n",
      "[codecarbon INFO @ 18:32:42]   Platform system: Windows-11-10.0.22631-SP0\n",
      "[codecarbon INFO @ 18:32:42]   Python version: 3.12.7\n",
      "[codecarbon INFO @ 18:32:42]   CodeCarbon version: 2.7.4\n",
      "[codecarbon INFO @ 18:32:42]   Available RAM : 31.694 GB\n",
      "[codecarbon INFO @ 18:32:42]   CPU count: 20\n",
      "[codecarbon INFO @ 18:32:42]   CPU model: 12th Gen Intel(R) Core(TM) i9-12900H\n",
      "[codecarbon INFO @ 18:32:42]   GPU count: 1\n",
      "[codecarbon INFO @ 18:32:42]   GPU model: 1 x NVIDIA GeForce RTX 4060 Laptop GPU\n",
      "[codecarbon INFO @ 18:32:42] Saving emissions data to file \\\\wsl.localhost\\Ubuntu\\home\\moritz\\maths-for-ml\\Kryptonite-N\\submission\\emissions.csv\n"
     ]
    },
    {
     "name": "stdout",
     "output_type": "stream",
     "text": [
      "\u001b[1m313/313\u001b[0m \u001b[32m━━━━━━━━━━━━━━━━━━━━\u001b[0m\u001b[37m\u001b[0m \u001b[1m0s\u001b[0m 662us/step\n"
     ]
    },
    {
     "name": "stderr",
     "output_type": "stream",
     "text": [
      "[codecarbon INFO @ 18:32:42] \n",
      "Graceful stopping: collecting and writing information.\n",
      "Please wait a few seconds...\n",
      "[codecarbon INFO @ 18:32:42] Energy consumed for RAM : 0.000001 kWh. RAM Power : 11.8851900100708 W\n",
      "[codecarbon INFO @ 18:32:42] Energy consumed for all GPUs : 0.000003 kWh. Total GPU Power : 27.75662122062162 W\n",
      "[codecarbon INFO @ 18:32:42] Energy consumed for all CPUs : 0.000004 kWh. Total CPU Power : 42.5 W\n",
      "[codecarbon INFO @ 18:32:42] 0.000008 kWh of electricity used since the beginning.\n",
      "[codecarbon INFO @ 18:32:42] Done!\n",
      "\n"
     ]
    },
    {
     "name": "stdout",
     "output_type": "stream",
     "text": [
      "18 --------------------------------------------------------- \n"
     ]
    },
    {
     "name": "stderr",
     "output_type": "stream",
     "text": [
      "[codecarbon INFO @ 18:32:42] [setup] RAM Tracking...\n",
      "[codecarbon INFO @ 18:32:42] [setup] GPU Tracking...\n",
      "[codecarbon INFO @ 18:32:42] Tracking Nvidia GPU via pynvml\n",
      "[codecarbon INFO @ 18:32:42] [setup] CPU Tracking...\n",
      "[codecarbon WARNING @ 18:32:42] No CPU tracking mode found. Falling back on CPU constant mode. \n",
      " Windows OS detected: Please install Intel Power Gadget to measure CPU\n",
      "\n",
      "[codecarbon WARNING @ 18:32:44] We saw that you have a 12th Gen Intel(R) Core(TM) i9-12900H but we don't know it. Please contact us.\n",
      "[codecarbon INFO @ 18:32:44] CPU Model on constant consumption mode: 12th Gen Intel(R) Core(TM) i9-12900H\n",
      "[codecarbon INFO @ 18:32:44] >>> Tracker's metadata:\n",
      "[codecarbon INFO @ 18:32:44]   Platform system: Windows-11-10.0.22631-SP0\n",
      "[codecarbon INFO @ 18:32:44]   Python version: 3.12.7\n",
      "[codecarbon INFO @ 18:32:44]   CodeCarbon version: 2.7.4\n",
      "[codecarbon INFO @ 18:32:44]   Available RAM : 31.694 GB\n",
      "[codecarbon INFO @ 18:32:44]   CPU count: 20\n",
      "[codecarbon INFO @ 18:32:44]   CPU model: 12th Gen Intel(R) Core(TM) i9-12900H\n",
      "[codecarbon INFO @ 18:32:44]   GPU count: 1\n",
      "[codecarbon INFO @ 18:32:44]   GPU model: 1 x NVIDIA GeForce RTX 4060 Laptop GPU\n",
      "[codecarbon INFO @ 18:32:44] Saving emissions data to file \\\\wsl.localhost\\Ubuntu\\home\\moritz\\maths-for-ml\\Kryptonite-N\\submission\\emissions.csv\n"
     ]
    },
    {
     "name": "stdout",
     "output_type": "stream",
     "text": [
      "Epoch 1/500\n"
     ]
    },
    {
     "name": "stderr",
     "output_type": "stream",
     "text": [
      "C:\\Users\\morit\\AppData\\Local\\Packages\\PythonSoftwareFoundation.Python.3.12_qbz5n2kfra8p0\\LocalCache\\local-packages\\Python312\\site-packages\\keras\\src\\layers\\activations\\leaky_relu.py:41: UserWarning: Argument `alpha` is deprecated. Use `negative_slope` instead.\n",
      "  warnings.warn(\n"
     ]
    },
    {
     "name": "stdout",
     "output_type": "stream",
     "text": [
      "\u001b[1m1013/1013\u001b[0m \u001b[32m━━━━━━━━━━━━━━━━━━━━\u001b[0m\u001b[37m\u001b[0m \u001b[1m2s\u001b[0m 829us/step - accuracy: 0.5053 - loss: 0.6954 - val_accuracy: 0.4947 - val_loss: 0.6934\n",
      "Epoch 2/500\n",
      "\u001b[1m1013/1013\u001b[0m \u001b[32m━━━━━━━━━━━━━━━━━━━━\u001b[0m\u001b[37m\u001b[0m \u001b[1m1s\u001b[0m 762us/step - accuracy: 0.5012 - loss: 0.6932 - val_accuracy: 0.5069 - val_loss: 0.6930\n",
      "Epoch 3/500\n",
      "\u001b[1m1013/1013\u001b[0m \u001b[32m━━━━━━━━━━━━━━━━━━━━\u001b[0m\u001b[37m\u001b[0m \u001b[1m1s\u001b[0m 781us/step - accuracy: 0.5074 - loss: 0.6931 - val_accuracy: 0.4944 - val_loss: 0.7002\n",
      "Epoch 4/500\n",
      "\u001b[1m1013/1013\u001b[0m \u001b[32m━━━━━━━━━━━━━━━━━━━━\u001b[0m\u001b[37m\u001b[0m \u001b[1m1s\u001b[0m 740us/step - accuracy: 0.5154 - loss: 0.6925 - val_accuracy: 0.5086 - val_loss: 0.6933\n",
      "Epoch 5/500\n",
      "\u001b[1m1013/1013\u001b[0m \u001b[32m━━━━━━━━━━━━━━━━━━━━\u001b[0m\u001b[37m\u001b[0m \u001b[1m1s\u001b[0m 708us/step - accuracy: 0.5211 - loss: 0.6920 - val_accuracy: 0.5025 - val_loss: 0.6937\n",
      "Epoch 6/500\n",
      "\u001b[1m1013/1013\u001b[0m \u001b[32m━━━━━━━━━━━━━━━━━━━━\u001b[0m\u001b[37m\u001b[0m \u001b[1m1s\u001b[0m 729us/step - accuracy: 0.5221 - loss: 0.6913 - val_accuracy: 0.4961 - val_loss: 0.6956\n",
      "Epoch 7/500\n",
      "\u001b[1m1013/1013\u001b[0m \u001b[32m━━━━━━━━━━━━━━━━━━━━\u001b[0m\u001b[37m\u001b[0m \u001b[1m1s\u001b[0m 693us/step - accuracy: 0.5265 - loss: 0.6896 - val_accuracy: 0.5111 - val_loss: 0.6944\n",
      "Epoch 8/500\n",
      "\u001b[1m1013/1013\u001b[0m \u001b[32m━━━━━━━━━━━━━━━━━━━━\u001b[0m\u001b[37m\u001b[0m \u001b[1m1s\u001b[0m 687us/step - accuracy: 0.5337 - loss: 0.6887 - val_accuracy: 0.5000 - val_loss: 0.6957\n",
      "Epoch 9/500\n",
      "\u001b[1m1013/1013\u001b[0m \u001b[32m━━━━━━━━━━━━━━━━━━━━\u001b[0m\u001b[37m\u001b[0m \u001b[1m1s\u001b[0m 682us/step - accuracy: 0.5360 - loss: 0.6879 - val_accuracy: 0.5111 - val_loss: 0.6958\n",
      "Epoch 10/500\n",
      "\u001b[1m1013/1013\u001b[0m \u001b[32m━━━━━━━━━━━━━━━━━━━━\u001b[0m\u001b[37m\u001b[0m \u001b[1m1s\u001b[0m 684us/step - accuracy: 0.5496 - loss: 0.6857 - val_accuracy: 0.5039 - val_loss: 0.6980\n",
      "Epoch 11/500\n",
      "\u001b[1m1013/1013\u001b[0m \u001b[32m━━━━━━━━━━━━━━━━━━━━\u001b[0m\u001b[37m\u001b[0m \u001b[1m1s\u001b[0m 688us/step - accuracy: 0.5513 - loss: 0.6832 - val_accuracy: 0.5025 - val_loss: 0.6966\n",
      "Epoch 12/500\n",
      "\u001b[1m1013/1013\u001b[0m \u001b[32m━━━━━━━━━━━━━━━━━━━━\u001b[0m\u001b[37m\u001b[0m \u001b[1m1s\u001b[0m 722us/step - accuracy: 0.5516 - loss: 0.6820 - val_accuracy: 0.5108 - val_loss: 0.6982\n",
      "Epoch 13/500\n",
      "\u001b[1m1013/1013\u001b[0m \u001b[32m━━━━━━━━━━━━━━━━━━━━\u001b[0m\u001b[37m\u001b[0m \u001b[1m1s\u001b[0m 735us/step - accuracy: 0.5742 - loss: 0.6752 - val_accuracy: 0.5219 - val_loss: 0.7008\n",
      "Epoch 14/500\n",
      "\u001b[1m1013/1013\u001b[0m \u001b[32m━━━━━━━━━━━━━━━━━━━━\u001b[0m\u001b[37m\u001b[0m \u001b[1m1s\u001b[0m 666us/step - accuracy: 0.5888 - loss: 0.6694 - val_accuracy: 0.5242 - val_loss: 0.7013\n",
      "Epoch 15/500\n",
      "\u001b[1m1013/1013\u001b[0m \u001b[32m━━━━━━━━━━━━━━━━━━━━\u001b[0m\u001b[37m\u001b[0m \u001b[1m1s\u001b[0m 694us/step - accuracy: 0.6062 - loss: 0.6578 - val_accuracy: 0.5556 - val_loss: 0.6843\n",
      "Epoch 16/500\n",
      "\u001b[1m1013/1013\u001b[0m \u001b[32m━━━━━━━━━━━━━━━━━━━━\u001b[0m\u001b[37m\u001b[0m \u001b[1m1s\u001b[0m 685us/step - accuracy: 0.6385 - loss: 0.6285 - val_accuracy: 0.6233 - val_loss: 0.6298\n",
      "Epoch 17/500\n",
      "\u001b[1m1013/1013\u001b[0m \u001b[32m━━━━━━━━━━━━━━━━━━━━\u001b[0m\u001b[37m\u001b[0m \u001b[1m1s\u001b[0m 692us/step - accuracy: 0.7015 - loss: 0.5575 - val_accuracy: 0.7628 - val_loss: 0.4705\n",
      "Epoch 18/500\n",
      "\u001b[1m1013/1013\u001b[0m \u001b[32m━━━━━━━━━━━━━━━━━━━━\u001b[0m\u001b[37m\u001b[0m \u001b[1m1s\u001b[0m 677us/step - accuracy: 0.8139 - loss: 0.4050 - val_accuracy: 0.8611 - val_loss: 0.3537\n",
      "Epoch 19/500\n",
      "\u001b[1m 984/1013\u001b[0m \u001b[32m━━━━━━━━━━━━━━━━━━━\u001b[0m\u001b[37m━\u001b[0m \u001b[1m0s\u001b[0m 606us/step - accuracy: 0.8900 - loss: 0.3003"
     ]
    },
    {
     "name": "stderr",
     "output_type": "stream",
     "text": [
      "[codecarbon INFO @ 18:32:59] Energy consumed for RAM : 0.000050 kWh. RAM Power : 11.8851900100708 W\n"
     ]
    },
    {
     "name": "stdout",
     "output_type": "stream",
     "text": [
      "\u001b[1m1013/1013\u001b[0m \u001b[32m━━━━━━━━━━━━━━━━━━━━\u001b[0m\u001b[37m\u001b[0m \u001b[1m1s\u001b[0m 685us/step - accuracy: 0.8904 - loss: 0.2996 - val_accuracy: 0.9308 - val_loss: 0.2352\n",
      "Epoch 20/500\n",
      "\u001b[1m1013/1013\u001b[0m \u001b[32m━━━━━━━━━━━━━━━━━━━━\u001b[0m\u001b[37m\u001b[0m \u001b[1m1s\u001b[0m 716us/step - accuracy: 0.9323 - loss: 0.2259 - val_accuracy: 0.9508 - val_loss: 0.1905\n",
      "Epoch 21/500\n",
      "\u001b[1m1013/1013\u001b[0m \u001b[32m━━━━━━━━━━━━━━━━━━━━\u001b[0m\u001b[37m\u001b[0m \u001b[1m0s\u001b[0m 632us/step - accuracy: 0.9484 - loss: 0.1956"
     ]
    },
    {
     "name": "stderr",
     "output_type": "stream",
     "text": [
      "[codecarbon INFO @ 18:33:01] Energy consumed for all GPUs : 0.000014 kWh. Total GPU Power : 3.269809291322025 W\n",
      "[codecarbon INFO @ 18:33:01] Energy consumed for all CPUs : 0.000195 kWh. Total CPU Power : 42.5 W\n",
      "[codecarbon INFO @ 18:33:01] 0.000258 kWh of electricity used since the beginning.\n"
     ]
    },
    {
     "name": "stdout",
     "output_type": "stream",
     "text": [
      "\u001b[1m1013/1013\u001b[0m \u001b[32m━━━━━━━━━━━━━━━━━━━━\u001b[0m\u001b[37m\u001b[0m \u001b[1m1s\u001b[0m 704us/step - accuracy: 0.9484 - loss: 0.1956 - val_accuracy: 0.9417 - val_loss: 0.1892\n",
      "Epoch 22/500\n",
      "\u001b[1m1013/1013\u001b[0m \u001b[32m━━━━━━━━━━━━━━━━━━━━\u001b[0m\u001b[37m\u001b[0m \u001b[1m1s\u001b[0m 676us/step - accuracy: 0.9531 - loss: 0.1761 - val_accuracy: 0.9614 - val_loss: 0.1732\n",
      "Epoch 23/500\n",
      "\u001b[1m1013/1013\u001b[0m \u001b[32m━━━━━━━━━━━━━━━━━━━━\u001b[0m\u001b[37m\u001b[0m \u001b[1m1s\u001b[0m 665us/step - accuracy: 0.9560 - loss: 0.1685 - val_accuracy: 0.9631 - val_loss: 0.1597\n",
      "Epoch 24/500\n",
      "\u001b[1m1013/1013\u001b[0m \u001b[32m━━━━━━━━━━━━━━━━━━━━\u001b[0m\u001b[37m\u001b[0m \u001b[1m1s\u001b[0m 664us/step - accuracy: 0.9602 - loss: 0.1571 - val_accuracy: 0.9614 - val_loss: 0.1702\n",
      "Epoch 25/500\n",
      "\u001b[1m1013/1013\u001b[0m \u001b[32m━━━━━━━━━━━━━━━━━━━━\u001b[0m\u001b[37m\u001b[0m \u001b[1m1s\u001b[0m 685us/step - accuracy: 0.9591 - loss: 0.1582 - val_accuracy: 0.9606 - val_loss: 0.1632\n",
      "Epoch 26/500\n",
      "\u001b[1m1013/1013\u001b[0m \u001b[32m━━━━━━━━━━━━━━━━━━━━\u001b[0m\u001b[37m\u001b[0m \u001b[1m1s\u001b[0m 680us/step - accuracy: 0.9584 - loss: 0.1546 - val_accuracy: 0.9583 - val_loss: 0.1686\n",
      "Epoch 27/500\n",
      "\u001b[1m1013/1013\u001b[0m \u001b[32m━━━━━━━━━━━━━━━━━━━━\u001b[0m\u001b[37m\u001b[0m \u001b[1m1s\u001b[0m 682us/step - accuracy: 0.9628 - loss: 0.1485 - val_accuracy: 0.9683 - val_loss: 0.1559\n",
      "Epoch 28/500\n",
      "\u001b[1m1013/1013\u001b[0m \u001b[32m━━━━━━━━━━━━━━━━━━━━\u001b[0m\u001b[37m\u001b[0m \u001b[1m1s\u001b[0m 708us/step - accuracy: 0.9606 - loss: 0.1498 - val_accuracy: 0.9656 - val_loss: 0.1642\n",
      "Epoch 29/500\n",
      "\u001b[1m1013/1013\u001b[0m \u001b[32m━━━━━━━━━━━━━━━━━━━━\u001b[0m\u001b[37m\u001b[0m \u001b[1m1s\u001b[0m 718us/step - accuracy: 0.9613 - loss: 0.1420 - val_accuracy: 0.9589 - val_loss: 0.1709\n",
      "Epoch 30/500\n",
      "\u001b[1m1013/1013\u001b[0m \u001b[32m━━━━━━━━━━━━━━━━━━━━\u001b[0m\u001b[37m\u001b[0m \u001b[1m1s\u001b[0m 694us/step - accuracy: 0.9618 - loss: 0.1389 - val_accuracy: 0.9642 - val_loss: 0.1557\n",
      "Epoch 31/500\n",
      "\u001b[1m1013/1013\u001b[0m \u001b[32m━━━━━━━━━━━━━━━━━━━━\u001b[0m\u001b[37m\u001b[0m \u001b[1m1s\u001b[0m 723us/step - accuracy: 0.9652 - loss: 0.1323 - val_accuracy: 0.9658 - val_loss: 0.1578\n",
      "Epoch 32/500\n",
      "\u001b[1m1013/1013\u001b[0m \u001b[32m━━━━━━━━━━━━━━━━━━━━\u001b[0m\u001b[37m\u001b[0m \u001b[1m1s\u001b[0m 691us/step - accuracy: 0.9651 - loss: 0.1298 - val_accuracy: 0.9575 - val_loss: 0.1807\n",
      "Epoch 33/500\n",
      "\u001b[1m1013/1013\u001b[0m \u001b[32m━━━━━━━━━━━━━━━━━━━━\u001b[0m\u001b[37m\u001b[0m \u001b[1m1s\u001b[0m 700us/step - accuracy: 0.9640 - loss: 0.1338 - val_accuracy: 0.9689 - val_loss: 0.1510\n",
      "Epoch 34/500\n",
      "\u001b[1m1013/1013\u001b[0m \u001b[32m━━━━━━━━━━━━━━━━━━━━\u001b[0m\u001b[37m\u001b[0m \u001b[1m1s\u001b[0m 688us/step - accuracy: 0.9651 - loss: 0.1264 - val_accuracy: 0.9669 - val_loss: 0.1542\n",
      "Epoch 35/500\n",
      "\u001b[1m1013/1013\u001b[0m \u001b[32m━━━━━━━━━━━━━━━━━━━━\u001b[0m\u001b[37m\u001b[0m \u001b[1m1s\u001b[0m 694us/step - accuracy: 0.9659 - loss: 0.1203 - val_accuracy: 0.9675 - val_loss: 0.1594\n",
      "Epoch 36/500\n",
      "\u001b[1m1013/1013\u001b[0m \u001b[32m━━━━━━━━━━━━━━━━━━━━\u001b[0m\u001b[37m\u001b[0m \u001b[1m1s\u001b[0m 692us/step - accuracy: 0.9660 - loss: 0.1205 - val_accuracy: 0.9589 - val_loss: 0.1723\n",
      "Epoch 37/500\n",
      "\u001b[1m1013/1013\u001b[0m \u001b[32m━━━━━━━━━━━━━━━━━━━━\u001b[0m\u001b[37m\u001b[0m \u001b[1m1s\u001b[0m 680us/step - accuracy: 0.9641 - loss: 0.1220 - val_accuracy: 0.9669 - val_loss: 0.1585\n",
      "Epoch 38/500\n",
      "\u001b[1m1013/1013\u001b[0m \u001b[32m━━━━━━━━━━━━━━━━━━━━\u001b[0m\u001b[37m\u001b[0m \u001b[1m1s\u001b[0m 829us/step - accuracy: 0.9662 - loss: 0.1157 - val_accuracy: 0.9664 - val_loss: 0.1615\n",
      "Epoch 39/500\n",
      "\u001b[1m1013/1013\u001b[0m \u001b[32m━━━━━━━━━━━━━━━━━━━━\u001b[0m\u001b[37m\u001b[0m \u001b[1m1s\u001b[0m 714us/step - accuracy: 0.9651 - loss: 0.1195 - val_accuracy: 0.9672 - val_loss: 0.1598\n",
      "Epoch 40/500\n",
      "\u001b[1m 495/1013\u001b[0m \u001b[32m━━━━━━━━━\u001b[0m\u001b[37m━━━━━━━━━━━\u001b[0m \u001b[1m0s\u001b[0m 644us/step - accuracy: 0.9680 - loss: 0.1112"
     ]
    },
    {
     "name": "stderr",
     "output_type": "stream",
     "text": [
      "[codecarbon INFO @ 18:33:14] Energy consumed for RAM : 0.000094 kWh. RAM Power : 11.8851900100708 W\n"
     ]
    },
    {
     "name": "stdout",
     "output_type": "stream",
     "text": [
      "\u001b[1m1013/1013\u001b[0m \u001b[32m━━━━━━━━━━━━━━━━━━━━\u001b[0m\u001b[37m\u001b[0m \u001b[1m1s\u001b[0m 762us/step - accuracy: 0.9675 - loss: 0.1123 - val_accuracy: 0.9611 - val_loss: 0.1742\n",
      "Epoch 41/500\n",
      "\u001b[1m1013/1013\u001b[0m \u001b[32m━━━━━━━━━━━━━━━━━━━━\u001b[0m\u001b[37m\u001b[0m \u001b[1m1s\u001b[0m 726us/step - accuracy: 0.9664 - loss: 0.1147 - val_accuracy: 0.9586 - val_loss: 0.1731\n",
      "Epoch 42/500\n",
      "\u001b[1m 342/1013\u001b[0m \u001b[32m━━━━━━\u001b[0m\u001b[37m━━━━━━━━━━━━━━\u001b[0m \u001b[1m0s\u001b[0m 635us/step - accuracy: 0.9670 - loss: 0.1095"
     ]
    },
    {
     "name": "stderr",
     "output_type": "stream",
     "text": [
      "[codecarbon INFO @ 18:33:16] Energy consumed for all GPUs : 0.000023 kWh. Total GPU Power : 2.5823912005935177 W\n",
      "[codecarbon INFO @ 18:33:16] Energy consumed for all CPUs : 0.000372 kWh. Total CPU Power : 42.5 W\n",
      "[codecarbon INFO @ 18:33:16] 0.000489 kWh of electricity used since the beginning.\n"
     ]
    },
    {
     "name": "stdout",
     "output_type": "stream",
     "text": [
      "\u001b[1m1013/1013\u001b[0m \u001b[32m━━━━━━━━━━━━━━━━━━━━\u001b[0m\u001b[37m\u001b[0m \u001b[1m1s\u001b[0m 724us/step - accuracy: 0.9664 - loss: 0.1124 - val_accuracy: 0.9636 - val_loss: 0.1761\n",
      "Epoch 43/500\n",
      "\u001b[1m1013/1013\u001b[0m \u001b[32m━━━━━━━━━━━━━━━━━━━━\u001b[0m\u001b[37m\u001b[0m \u001b[1m1s\u001b[0m 677us/step - accuracy: 0.9676 - loss: 0.1106 - val_accuracy: 0.9681 - val_loss: 0.1623\n",
      "Epoch 44/500\n",
      "\u001b[1m1013/1013\u001b[0m \u001b[32m━━━━━━━━━━━━━━━━━━━━\u001b[0m\u001b[37m\u001b[0m \u001b[1m1s\u001b[0m 678us/step - accuracy: 0.9672 - loss: 0.1100 - val_accuracy: 0.9644 - val_loss: 0.1693\n",
      "Epoch 45/500\n",
      "\u001b[1m1013/1013\u001b[0m \u001b[32m━━━━━━━━━━━━━━━━━━━━\u001b[0m\u001b[37m\u001b[0m \u001b[1m1s\u001b[0m 690us/step - accuracy: 0.9691 - loss: 0.1033 - val_accuracy: 0.9692 - val_loss: 0.1650\n",
      "Epoch 46/500\n",
      "\u001b[1m1013/1013\u001b[0m \u001b[32m━━━━━━━━━━━━━━━━━━━━\u001b[0m\u001b[37m\u001b[0m \u001b[1m1s\u001b[0m 699us/step - accuracy: 0.9687 - loss: 0.1035 - val_accuracy: 0.9672 - val_loss: 0.1698\n",
      "Epoch 47/500\n",
      "\u001b[1m1013/1013\u001b[0m \u001b[32m━━━━━━━━━━━━━━━━━━━━\u001b[0m\u001b[37m\u001b[0m \u001b[1m1s\u001b[0m 690us/step - accuracy: 0.9670 - loss: 0.1031 - val_accuracy: 0.9664 - val_loss: 0.1652\n",
      "Epoch 48/500\n",
      "\u001b[1m1013/1013\u001b[0m \u001b[32m━━━━━━━━━━━━━━━━━━━━\u001b[0m\u001b[37m\u001b[0m \u001b[1m1s\u001b[0m 683us/step - accuracy: 0.9690 - loss: 0.1029 - val_accuracy: 0.9644 - val_loss: 0.1819\n",
      "Epoch 49/500\n",
      "\u001b[1m1013/1013\u001b[0m \u001b[32m━━━━━━━━━━━━━━━━━━━━\u001b[0m\u001b[37m\u001b[0m \u001b[1m1s\u001b[0m 678us/step - accuracy: 0.9712 - loss: 0.0947 - val_accuracy: 0.9581 - val_loss: 0.1879\n",
      "Epoch 50/500\n",
      "\u001b[1m1013/1013\u001b[0m \u001b[32m━━━━━━━━━━━━━━━━━━━━\u001b[0m\u001b[37m\u001b[0m \u001b[1m1s\u001b[0m 683us/step - accuracy: 0.9706 - loss: 0.0933 - val_accuracy: 0.9650 - val_loss: 0.1673\n",
      "Epoch 51/500\n",
      "\u001b[1m1013/1013\u001b[0m \u001b[32m━━━━━━━━━━━━━━━━━━━━\u001b[0m\u001b[37m\u001b[0m \u001b[1m1s\u001b[0m 679us/step - accuracy: 0.9713 - loss: 0.0955 - val_accuracy: 0.9636 - val_loss: 0.1798\n",
      "Epoch 52/500\n",
      "\u001b[1m1013/1013\u001b[0m \u001b[32m━━━━━━━━━━━━━━━━━━━━\u001b[0m\u001b[37m\u001b[0m \u001b[1m1s\u001b[0m 690us/step - accuracy: 0.9704 - loss: 0.0923 - val_accuracy: 0.9514 - val_loss: 0.1940\n",
      "Epoch 53/500\n",
      "\u001b[1m1013/1013\u001b[0m \u001b[32m━━━━━━━━━━━━━━━━━━━━\u001b[0m\u001b[37m\u001b[0m \u001b[1m1s\u001b[0m 688us/step - accuracy: 0.9716 - loss: 0.0883 - val_accuracy: 0.9578 - val_loss: 0.1829\n"
     ]
    },
    {
     "name": "stderr",
     "output_type": "stream",
     "text": [
      "[codecarbon INFO @ 18:33:24] \n",
      "Graceful stopping: collecting and writing information.\n",
      "Please wait a few seconds...\n",
      "[codecarbon INFO @ 18:33:24] Energy consumed for RAM : 0.000122 kWh. RAM Power : 11.8851900100708 W\n",
      "[codecarbon INFO @ 18:33:24] Energy consumed for all GPUs : 0.000030 kWh. Total GPU Power : 3.0825660671405726 W\n",
      "[codecarbon INFO @ 18:33:24] Energy consumed for all CPUs : 0.000475 kWh. Total CPU Power : 42.5 W\n",
      "[codecarbon INFO @ 18:33:24] 0.000628 kWh of electricity used since the beginning.\n",
      "[codecarbon INFO @ 18:33:25] Done!\n",
      "\n",
      "[codecarbon INFO @ 18:33:25] [setup] RAM Tracking...\n",
      "[codecarbon INFO @ 18:33:25] [setup] GPU Tracking...\n",
      "[codecarbon INFO @ 18:33:25] Tracking Nvidia GPU via pynvml\n",
      "[codecarbon INFO @ 18:33:25] [setup] CPU Tracking...\n",
      "[codecarbon WARNING @ 18:33:25] No CPU tracking mode found. Falling back on CPU constant mode. \n",
      " Windows OS detected: Please install Intel Power Gadget to measure CPU\n",
      "\n",
      "[codecarbon WARNING @ 18:33:26] We saw that you have a 12th Gen Intel(R) Core(TM) i9-12900H but we don't know it. Please contact us.\n",
      "[codecarbon INFO @ 18:33:26] CPU Model on constant consumption mode: 12th Gen Intel(R) Core(TM) i9-12900H\n",
      "[codecarbon INFO @ 18:33:26] >>> Tracker's metadata:\n",
      "[codecarbon INFO @ 18:33:26]   Platform system: Windows-11-10.0.22631-SP0\n",
      "[codecarbon INFO @ 18:33:26]   Python version: 3.12.7\n",
      "[codecarbon INFO @ 18:33:26]   CodeCarbon version: 2.7.4\n",
      "[codecarbon INFO @ 18:33:26]   Available RAM : 31.694 GB\n",
      "[codecarbon INFO @ 18:33:26]   CPU count: 20\n",
      "[codecarbon INFO @ 18:33:26]   CPU model: 12th Gen Intel(R) Core(TM) i9-12900H\n",
      "[codecarbon INFO @ 18:33:26]   GPU count: 1\n",
      "[codecarbon INFO @ 18:33:26]   GPU model: 1 x NVIDIA GeForce RTX 4060 Laptop GPU\n",
      "[codecarbon INFO @ 18:33:27] Saving emissions data to file \\\\wsl.localhost\\Ubuntu\\home\\moritz\\maths-for-ml\\Kryptonite-N\\submission\\emissions.csv\n"
     ]
    },
    {
     "name": "stdout",
     "output_type": "stream",
     "text": [
      "\u001b[1m313/313\u001b[0m \u001b[32m━━━━━━━━━━━━━━━━━━━━\u001b[0m\u001b[37m\u001b[0m \u001b[1m0s\u001b[0m 618us/step\n"
     ]
    },
    {
     "name": "stderr",
     "output_type": "stream",
     "text": [
      "[codecarbon INFO @ 18:33:27] \n",
      "Graceful stopping: collecting and writing information.\n",
      "Please wait a few seconds...\n",
      "[codecarbon INFO @ 18:33:27] Energy consumed for RAM : 0.000001 kWh. RAM Power : 11.8851900100708 W\n",
      "[codecarbon INFO @ 18:33:27] Energy consumed for all GPUs : 0.000002 kWh. Total GPU Power : 23.17515641359548 W\n",
      "[codecarbon INFO @ 18:33:27] Energy consumed for all CPUs : 0.000009 kWh. Total CPU Power : 42.5 W\n",
      "[codecarbon INFO @ 18:33:27] 0.000012 kWh of electricity used since the beginning.\n",
      "[codecarbon INFO @ 18:33:27] Done!\n",
      "\n"
     ]
    }
   ],
   "source": [
    "for n in [9,12,15,18]:\n",
    "    print(f\"{n} --------------------------------------------------------- \")\n",
    "    X_train, y_train = preprocess_data(n,use_split=False)\n",
    "    neural_network = fit_neural_network(X_train, y_train)\n",
    "    X_test = preprocess_prediction_data(n)\n",
    "    y_pred = predict_neural_network(neural_network, X_test)\n",
    "    np.save(f\"/home/moritz/maths-for-ml/Kryptonite-N/submission/y_predicted_{n}.npy\", y_pred)\n",
    "    \n",
    "    \n"
   ]
  },
  {
   "cell_type": "code",
   "execution_count": null,
   "metadata": {},
   "outputs": [],
   "source": []
  }
 ],
 "metadata": {
  "kernelspec": {
   "display_name": "Python 3",
   "language": "python",
   "name": "python3"
  },
  "language_info": {
   "codemirror_mode": {
    "name": "ipython",
    "version": 3
   },
   "file_extension": ".py",
   "mimetype": "text/x-python",
   "name": "python",
   "nbconvert_exporter": "python",
   "pygments_lexer": "ipython3",
   "version": "3.12.7"
  }
 },
 "nbformat": 4,
 "nbformat_minor": 2
}
