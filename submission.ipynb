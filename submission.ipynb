{
 "cells": [
  {
   "cell_type": "markdown",
   "metadata": {},
   "source": [
    "# Submission for Kryptonite-N\n",
    "\n",
    "# Decision Tree"
   ]
  },
  {
   "cell_type": "code",
   "execution_count": 2,
   "metadata": {},
   "outputs": [],
   "source": [
    "from sklearn.model_selection import train_test_split\n",
    "import pandas as pd\n",
    "import numpy as np\n",
    "from codecarbon import track_emissions\n",
    "def preprocess_data(n):\n",
    "    Xs = np.load(f\"/home/moritz/maths-for-ml/Kryptonite-N/Datasets/kryptonite-{n}-X.npy\")\n",
    "    Ys = np.load(f\"/home/moritz/maths-for-ml/Kryptonite-N/Datasets/kryptonite-{n}-y.npy\")\n",
    "    df_x = pd.DataFrame(Xs)\n",
    "    df_y = pd.Series(Ys)  \n",
    "    \n",
    "    df_x = (df_x >= 0.5).astype(int)\n",
    "    # Split data\n",
    "    return train_test_split(df_x, df_y, test_size=0.2)"
   ]
  },
  {
   "cell_type": "code",
   "execution_count": 3,
   "metadata": {},
   "outputs": [
    {
     "name": "stderr",
     "output_type": "stream",
     "text": [
      "[codecarbon INFO @ 13:27:09] [setup] RAM Tracking...\n",
      "[codecarbon INFO @ 13:27:09] [setup] GPU Tracking...\n",
      "[codecarbon DEBUG @ 13:27:11] Signal 2 received. Releasing lock and exiting.\n",
      "[codecarbon DEBUG @ 13:27:11] Removing the lock\n"
     ]
    },
    {
     "ename": "",
     "evalue": "",
     "output_type": "error",
     "traceback": [
      "\u001b[1;31mThe Kernel crashed while executing code in the current cell or a previous cell. \n",
      "\u001b[1;31mPlease review the code in the cell(s) to identify a possible cause of the failure. \n",
      "\u001b[1;31mClick <a href='https://aka.ms/vscodeJupyterKernelCrash'>here</a> for more info. \n",
      "\u001b[1;31mView Jupyter <a href='command:jupyter.viewOutput'>log</a> for further details."
     ]
    }
   ],
   "source": [
    "\n",
    "from sklearn.tree import DecisionTreeClassifier\n",
    "from sklearn.metrics import accuracy_score\n",
    "\n",
    "@track_emissions()\n",
    "def fit_decision_tree(X_train,y_train):\n",
    "    for _ in range(1000):\n",
    "        decision_tree = DecisionTreeClassifier(max_depth=15,min_samples_leaf=2,min_samples_split=2)\n",
    "        decision_tree.fit(X_train, y_train)\n",
    "    return decision_tree\n",
    "    \n",
    "@track_emissions\n",
    "def predict_decision_tree(decision_tree, X_test):\n",
    "    for _ in range(999):\n",
    "        decision_tree.predict(X_test)\n",
    "    return decision_tree.predict(X_test)\n",
    "\n",
    "\n",
    "for n in [18]:\n",
    "    X_train, X_test, y_train, y_test = preprocess_data(n)\n",
    "    decision_tree = fit_decision_tree(X_train, y_train)\n",
    "    print(f\"WWWWWWWWWWWWWWWWWWWWWWWWWWWWWWWWWWWWWWWWWWWWWWWW{n}\")\n",
    "    y_pred = predict_decision_tree(decision_tree, X_test)\n",
    "    print(f\"-------------------------------------------{n}\")\n",
    "    accuracy = accuracy_score(y_test, y_pred)\n",
    "    print(f\"Decision Tree Accuracy: {accuracy:.4f} for n = {n}\")"
   ]
  },
  {
   "cell_type": "markdown",
   "metadata": {},
   "source": [
    "## Neural Network"
   ]
  },
  {
   "cell_type": "code",
   "execution_count": 3,
   "metadata": {},
   "outputs": [
    {
     "name": "stderr",
     "output_type": "stream",
     "text": [
      "[codecarbon INFO @ 13:48:15] [setup] RAM Tracking...\n",
      "[codecarbon INFO @ 13:48:15] [setup] GPU Tracking...\n",
      "[codecarbon INFO @ 13:48:17] Tracking Nvidia GPU via pynvml\n",
      "[codecarbon DEBUG @ 13:48:17] GPU available. Starting setup\n",
      "[codecarbon INFO @ 13:48:17] [setup] CPU Tracking...\n",
      "[codecarbon DEBUG @ 13:48:17] Not using PowerGadget, an exception occurred while instantiating IntelPowerGadget : expected str, bytes or os.PathLike object, not NoneType\n",
      "[codecarbon DEBUG @ 13:48:17] Not using the RAPL interface, an exception occurred while instantiating IntelRAPL : Platform not supported by Intel RAPL Interface\n",
      "[codecarbon DEBUG @ 13:48:17] Not using PowerMetrics, an exception occurred while instantiating Powermetrics : Platform not supported by Powermetrics\n",
      "[codecarbon WARNING @ 13:48:17] No CPU tracking mode found. Falling back on CPU constant mode. \n",
      " Windows OS detected: Please install Intel Power Gadget to measure CPU\n",
      "\n",
      "[codecarbon WARNING @ 13:48:19] We saw that you have a 12th Gen Intel(R) Core(TM) i9-12900H but we don't know it. Please contact us.\n",
      "[codecarbon INFO @ 13:48:19] CPU Model on constant consumption mode: 12th Gen Intel(R) Core(TM) i9-12900H\n",
      "[codecarbon DEBUG @ 13:48:19] The below tracking methods have been set up:\n",
      "                RAM Tracking Method: 3 Watts for 8 GB ratio constant\n",
      "                CPU Tracking Method: TDP constant\n",
      "                GPU Tracking Method: pynvml\n",
      "            \n",
      "[codecarbon INFO @ 13:48:19] >>> Tracker's metadata:\n",
      "[codecarbon INFO @ 13:48:19]   Platform system: Windows-11-10.0.22631-SP0\n",
      "[codecarbon INFO @ 13:48:19]   Python version: 3.12.7\n",
      "[codecarbon INFO @ 13:48:19]   CodeCarbon version: 2.7.4\n",
      "[codecarbon INFO @ 13:48:19]   Available RAM : 31.694 GB\n",
      "[codecarbon INFO @ 13:48:19]   CPU count: 20\n",
      "[codecarbon INFO @ 13:48:19]   CPU model: 12th Gen Intel(R) Core(TM) i9-12900H\n",
      "[codecarbon INFO @ 13:48:19]   GPU count: 1\n",
      "[codecarbon INFO @ 13:48:19]   GPU model: 1 x NVIDIA GeForce RTX 4060 Laptop GPU\n",
      "[codecarbon DEBUG @ 13:48:19] Not running on AWS\n",
      "[codecarbon DEBUG @ 13:48:19] Not running on Azure\n",
      "[codecarbon DEBUG @ 13:48:19] Not running on GCP\n",
      "[codecarbon INFO @ 13:48:20] Saving emissions data to file \\\\wsl.localhost\\Ubuntu\\home\\moritz\\maths-for-ml\\emissions.csv\n",
      "[codecarbon ERROR @ 13:48:20] ApiClient Error when calling the API on https://api.codecarbon.io/runs with : {\"timestamp\": \"2024-11-22T13:48:20.013845+00:00\", \"experiment_id\": \"pkqh9CiOkp4MkPqRqM_k8Xc3mwBRpojS3RayIk1i5Pg\", \"os\": \"Windows-11-10.0.22631-SP0\", \"python_version\": \"3.12.7\", \"codecarbon_version\": \"2.7.4\", \"cpu_count\": 20, \"cpu_model\": \"12th Gen Intel(R) Core(TM) i9-12900H\", \"gpu_count\": 1, \"gpu_model\": \"1 x NVIDIA GeForce RTX 4060 Laptop GPU\", \"longitude\": -0.2, \"latitude\": 51.5, \"region\": null, \"provider\": null, \"ram_total_size\": 31.69384002685547, \"tracking_mode\": \"machine\"}\n",
      "[codecarbon ERROR @ 13:48:20] ApiClient API return http code 405 and answer : {\"detail\":\"Method Not Allowed\"}\n",
      "C:\\Users\\morit\\AppData\\Local\\Packages\\PythonSoftwareFoundation.Python.3.12_qbz5n2kfra8p0\\LocalCache\\local-packages\\Python312\\site-packages\\keras\\src\\layers\\activations\\leaky_relu.py:41: UserWarning: Argument `alpha` is deprecated. Use `negative_slope` instead.\n",
      "  warnings.warn(\n"
     ]
    },
    {
     "name": "stdout",
     "output_type": "stream",
     "text": [
      "<class 'str'>\n",
      "Epoch 1/500\n",
      "\u001b[1m810/810\u001b[0m \u001b[32m━━━━━━━━━━━━━━━━━━━━\u001b[0m\u001b[37m\u001b[0m \u001b[1m4s\u001b[0m 2ms/step - accuracy: 0.5114 - loss: 0.6951 - val_accuracy: 0.5083 - val_loss: 0.6933\n",
      "Epoch 2/500\n",
      "\u001b[1m810/810\u001b[0m \u001b[32m━━━━━━━━━━━━━━━━━━━━\u001b[0m\u001b[37m\u001b[0m \u001b[1m1s\u001b[0m 2ms/step - accuracy: 0.4988 - loss: 0.6937 - val_accuracy: 0.4958 - val_loss: 0.6933\n",
      "Epoch 3/500\n",
      "\u001b[1m810/810\u001b[0m \u001b[32m━━━━━━━━━━━━━━━━━━━━\u001b[0m\u001b[37m\u001b[0m \u001b[1m2s\u001b[0m 2ms/step - accuracy: 0.5096 - loss: 0.6928 - val_accuracy: 0.5083 - val_loss: 0.6930\n",
      "Epoch 4/500\n",
      "\u001b[1m810/810\u001b[0m \u001b[32m━━━━━━━━━━━━━━━━━━━━\u001b[0m\u001b[37m\u001b[0m \u001b[1m1s\u001b[0m 2ms/step - accuracy: 0.5080 - loss: 0.6930 - val_accuracy: 0.4931 - val_loss: 0.6947\n",
      "Epoch 5/500\n",
      "\u001b[1m810/810\u001b[0m \u001b[32m━━━━━━━━━━━━━━━━━━━━\u001b[0m\u001b[37m\u001b[0m \u001b[1m1s\u001b[0m 2ms/step - accuracy: 0.5167 - loss: 0.6927 - val_accuracy: 0.4972 - val_loss: 0.6936\n",
      "Epoch 6/500\n",
      "\u001b[1m810/810\u001b[0m \u001b[32m━━━━━━━━━━━━━━━━━━━━\u001b[0m\u001b[37m\u001b[0m \u001b[1m1s\u001b[0m 2ms/step - accuracy: 0.5145 - loss: 0.6925 - val_accuracy: 0.4948 - val_loss: 0.6926\n",
      "Epoch 7/500\n",
      "\u001b[1m810/810\u001b[0m \u001b[32m━━━━━━━━━━━━━━━━━━━━\u001b[0m\u001b[37m\u001b[0m \u001b[1m1s\u001b[0m 2ms/step - accuracy: 0.5075 - loss: 0.6926 - val_accuracy: 0.5056 - val_loss: 0.6920\n",
      "Epoch 8/500\n",
      "\u001b[1m810/810\u001b[0m \u001b[32m━━━━━━━━━━━━━━━━━━━━\u001b[0m\u001b[37m\u001b[0m \u001b[1m1s\u001b[0m 2ms/step - accuracy: 0.5134 - loss: 0.6923 - val_accuracy: 0.5024 - val_loss: 0.6934\n",
      "Epoch 9/500\n",
      "\u001b[1m770/810\u001b[0m \u001b[32m━━━━━━━━━━━━━━━━━━━\u001b[0m\u001b[37m━\u001b[0m \u001b[1m0s\u001b[0m 1ms/step - accuracy: 0.5171 - loss: 0.6913"
     ]
    },
    {
     "name": "stderr",
     "output_type": "stream",
     "text": [
      "[codecarbon INFO @ 13:48:35] Energy consumed for RAM : 0.000050 kWh. RAM Power : 11.8851900100708 W\n",
      "[codecarbon DEBUG @ 13:48:35] RAM : 11.89 W during 15.01 s [measurement time: 0.0088]\n"
     ]
    },
    {
     "name": "stdout",
     "output_type": "stream",
     "text": [
      "\u001b[1m810/810\u001b[0m \u001b[32m━━━━━━━━━━━━━━━━━━━━\u001b[0m\u001b[37m\u001b[0m \u001b[1m1s\u001b[0m 2ms/step - accuracy: 0.5173 - loss: 0.6913 - val_accuracy: 0.4910 - val_loss: 0.6963\n",
      "Epoch 10/500\n",
      "\u001b[1m810/810\u001b[0m \u001b[32m━━━━━━━━━━━━━━━━━━━━\u001b[0m\u001b[37m\u001b[0m \u001b[1m1s\u001b[0m 1ms/step - accuracy: 0.5274 - loss: 0.6905 - val_accuracy: 0.5003 - val_loss: 0.6930\n",
      "Epoch 11/500\n",
      "\u001b[1m 34/810\u001b[0m \u001b[37m━━━━━━━━━━━━━━━━━━━━\u001b[0m \u001b[1m1s\u001b[0m 2ms/step - accuracy: 0.5046 - loss: 0.6899   "
     ]
    },
    {
     "name": "stderr",
     "output_type": "stream",
     "text": [
      "[codecarbon INFO @ 13:48:36] Energy consumed for all GPUs : 0.000018 kWh. Total GPU Power : 4.352134016637764 W\n",
      "[codecarbon DEBUG @ 13:48:36] GPU : 4.35 W during 15.03 s [measurement time: 1.5148]\n",
      "[codecarbon INFO @ 13:48:36] Energy consumed for all CPUs : 0.000195 kWh. Total CPU Power : 42.5 W\n",
      "[codecarbon DEBUG @ 13:48:36] CPU : 42.50 W during 16.55 s [measurement time: 0.0031]\n",
      "[codecarbon INFO @ 13:48:36] 0.000263 kWh of electricity used since the beginning.\n",
      "[codecarbon DEBUG @ 13:48:36] last_duration=15.013700399999834\n",
      "------------------------\n"
     ]
    },
    {
     "name": "stdout",
     "output_type": "stream",
     "text": [
      "\u001b[1m810/810\u001b[0m \u001b[32m━━━━━━━━━━━━━━━━━━━━\u001b[0m\u001b[37m\u001b[0m \u001b[1m1s\u001b[0m 1ms/step - accuracy: 0.5278 - loss: 0.6898 - val_accuracy: 0.4958 - val_loss: 0.6951\n",
      "Epoch 12/500\n",
      "\u001b[1m810/810\u001b[0m \u001b[32m━━━━━━━━━━━━━━━━━━━━\u001b[0m\u001b[37m\u001b[0m \u001b[1m2s\u001b[0m 2ms/step - accuracy: 0.5274 - loss: 0.6891 - val_accuracy: 0.5076 - val_loss: 0.6930\n",
      "Epoch 13/500\n",
      "\u001b[1m810/810\u001b[0m \u001b[32m━━━━━━━━━━━━━━━━━━━━\u001b[0m\u001b[37m\u001b[0m \u001b[1m2s\u001b[0m 2ms/step - accuracy: 0.5360 - loss: 0.6872 - val_accuracy: 0.5101 - val_loss: 0.6963\n",
      "Epoch 14/500\n",
      "\u001b[1m810/810\u001b[0m \u001b[32m━━━━━━━━━━━━━━━━━━━━\u001b[0m\u001b[37m\u001b[0m \u001b[1m1s\u001b[0m 2ms/step - accuracy: 0.5440 - loss: 0.6867 - val_accuracy: 0.5042 - val_loss: 0.6931\n",
      "Epoch 15/500\n",
      "\u001b[1m810/810\u001b[0m \u001b[32m━━━━━━━━━━━━━━━━━━━━\u001b[0m\u001b[37m\u001b[0m \u001b[1m2s\u001b[0m 2ms/step - accuracy: 0.5479 - loss: 0.6860 - val_accuracy: 0.5319 - val_loss: 0.6947\n",
      "Epoch 16/500\n",
      "\u001b[1m810/810\u001b[0m \u001b[32m━━━━━━━━━━━━━━━━━━━━\u001b[0m\u001b[37m\u001b[0m \u001b[1m2s\u001b[0m 2ms/step - accuracy: 0.5536 - loss: 0.6837 - val_accuracy: 0.5375 - val_loss: 0.6913\n",
      "Epoch 17/500\n",
      "\u001b[1m810/810\u001b[0m \u001b[32m━━━━━━━━━━━━━━━━━━━━\u001b[0m\u001b[37m\u001b[0m \u001b[1m1s\u001b[0m 2ms/step - accuracy: 0.5622 - loss: 0.6818 - val_accuracy: 0.5556 - val_loss: 0.6858\n",
      "Epoch 18/500\n",
      "\u001b[1m810/810\u001b[0m \u001b[32m━━━━━━━━━━━━━━━━━━━━\u001b[0m\u001b[37m\u001b[0m \u001b[1m2s\u001b[0m 2ms/step - accuracy: 0.5707 - loss: 0.6797 - val_accuracy: 0.5660 - val_loss: 0.6782\n",
      "Epoch 19/500\n",
      "\u001b[1m810/810\u001b[0m \u001b[32m━━━━━━━━━━━━━━━━━━━━\u001b[0m\u001b[37m\u001b[0m \u001b[1m1s\u001b[0m 2ms/step - accuracy: 0.5774 - loss: 0.6724 - val_accuracy: 0.5934 - val_loss: 0.6498\n",
      "Epoch 20/500\n"
     ]
    },
    {
     "name": "stderr",
     "output_type": "stream",
     "text": [
      "[codecarbon INFO @ 13:48:50] Energy consumed for RAM : 0.000094 kWh. RAM Power : 11.8851900100708 W\n",
      "[codecarbon DEBUG @ 13:48:50] RAM : 11.89 W during 13.47 s [measurement time: 0.0214]\n"
     ]
    },
    {
     "name": "stdout",
     "output_type": "stream",
     "text": [
      "\u001b[1m405/810\u001b[0m \u001b[32m━━━━━━━━━━\u001b[0m\u001b[37m━━━━━━━━━━\u001b[0m \u001b[1m0s\u001b[0m 1ms/step - accuracy: 0.6085 - loss: 0.6518"
     ]
    },
    {
     "name": "stderr",
     "output_type": "stream",
     "text": [
      "[codecarbon INFO @ 13:48:51] Energy consumed for all GPUs : 0.000028 kWh. Total GPU Power : 2.6865793305195167 W\n",
      "[codecarbon DEBUG @ 13:48:51] GPU : 2.69 W during 13.50 s [measurement time: 1.5179]\n",
      "[codecarbon INFO @ 13:48:51] Energy consumed for all CPUs : 0.000373 kWh. Total CPU Power : 42.5 W\n",
      "[codecarbon DEBUG @ 13:48:51] CPU : 42.50 W during 15.02 s [measurement time: 0.0019]\n",
      "[codecarbon INFO @ 13:48:51] 0.000495 kWh of electricity used since the beginning.\n",
      "[codecarbon DEBUG @ 13:48:51] last_duration=13.471284000000196\n",
      "------------------------\n"
     ]
    },
    {
     "name": "stdout",
     "output_type": "stream",
     "text": [
      "\u001b[1m810/810\u001b[0m \u001b[32m━━━━━━━━━━━━━━━━━━━━\u001b[0m\u001b[37m\u001b[0m \u001b[1m2s\u001b[0m 2ms/step - accuracy: 0.6069 - loss: 0.6494 - val_accuracy: 0.6378 - val_loss: 0.6070\n",
      "Epoch 21/500\n",
      "\u001b[1m810/810\u001b[0m \u001b[32m━━━━━━━━━━━━━━━━━━━━\u001b[0m\u001b[37m\u001b[0m \u001b[1m1s\u001b[0m 1ms/step - accuracy: 0.6159 - loss: 0.6233 - val_accuracy: 0.6545 - val_loss: 0.5778\n",
      "Epoch 22/500\n",
      "\u001b[1m810/810\u001b[0m \u001b[32m━━━━━━━━━━━━━━━━━━━━\u001b[0m\u001b[37m\u001b[0m \u001b[1m1s\u001b[0m 2ms/step - accuracy: 0.6398 - loss: 0.5980 - val_accuracy: 0.7250 - val_loss: 0.5096\n",
      "Epoch 23/500\n",
      "\u001b[1m810/810\u001b[0m \u001b[32m━━━━━━━━━━━━━━━━━━━━\u001b[0m\u001b[37m\u001b[0m \u001b[1m2s\u001b[0m 2ms/step - accuracy: 0.7046 - loss: 0.5387 - val_accuracy: 0.7292 - val_loss: 0.4420\n",
      "Epoch 24/500\n",
      "\u001b[1m810/810\u001b[0m \u001b[32m━━━━━━━━━━━━━━━━━━━━\u001b[0m\u001b[37m\u001b[0m \u001b[1m2s\u001b[0m 2ms/step - accuracy: 0.7511 - loss: 0.4726 - val_accuracy: 0.8073 - val_loss: 0.3903\n",
      "Epoch 25/500\n",
      "\u001b[1m810/810\u001b[0m \u001b[32m━━━━━━━━━━━━━━━━━━━━\u001b[0m\u001b[37m\u001b[0m \u001b[1m1s\u001b[0m 2ms/step - accuracy: 0.8016 - loss: 0.4149 - val_accuracy: 0.8181 - val_loss: 0.3546\n",
      "Epoch 26/500\n",
      "\u001b[1m810/810\u001b[0m \u001b[32m━━━━━━━━━━━━━━━━━━━━\u001b[0m\u001b[37m\u001b[0m \u001b[1m1s\u001b[0m 2ms/step - accuracy: 0.8179 - loss: 0.3925 - val_accuracy: 0.8240 - val_loss: 0.3425\n",
      "Epoch 27/500\n",
      "\u001b[1m810/810\u001b[0m \u001b[32m━━━━━━━━━━━━━━━━━━━━\u001b[0m\u001b[37m\u001b[0m \u001b[1m1s\u001b[0m 2ms/step - accuracy: 0.8295 - loss: 0.3697 - val_accuracy: 0.8944 - val_loss: 0.3233\n",
      "Epoch 28/500\n",
      "\u001b[1m810/810\u001b[0m \u001b[32m━━━━━━━━━━━━━━━━━━━━\u001b[0m\u001b[37m\u001b[0m \u001b[1m2s\u001b[0m 2ms/step - accuracy: 0.8364 - loss: 0.3542 - val_accuracy: 0.8833 - val_loss: 0.2814\n",
      "Epoch 29/500\n",
      "\u001b[1m792/810\u001b[0m \u001b[32m━━━━━━━━━━━━━━━━━━━\u001b[0m\u001b[37m━\u001b[0m \u001b[1m0s\u001b[0m 1ms/step - accuracy: 0.8561 - loss: 0.3288"
     ]
    },
    {
     "name": "stderr",
     "output_type": "stream",
     "text": [
      "[codecarbon INFO @ 13:49:05] Energy consumed for RAM : 0.000138 kWh. RAM Power : 11.8851900100708 W\n",
      "[codecarbon DEBUG @ 13:49:05] RAM : 11.89 W during 13.46 s [measurement time: 0.0070]\n"
     ]
    },
    {
     "name": "stdout",
     "output_type": "stream",
     "text": [
      "\u001b[1m810/810\u001b[0m \u001b[32m━━━━━━━━━━━━━━━━━━━━\u001b[0m\u001b[37m\u001b[0m \u001b[1m1s\u001b[0m 2ms/step - accuracy: 0.8563 - loss: 0.3285 - val_accuracy: 0.8910 - val_loss: 0.2612\n",
      "Epoch 30/500\n",
      "\u001b[1m810/810\u001b[0m \u001b[32m━━━━━━━━━━━━━━━━━━━━\u001b[0m\u001b[37m\u001b[0m \u001b[1m1s\u001b[0m 2ms/step - accuracy: 0.8745 - loss: 0.3046 - val_accuracy: 0.9142 - val_loss: 0.2522\n",
      "Epoch 31/500\n"
     ]
    },
    {
     "name": "stderr",
     "output_type": "stream",
     "text": [
      "[codecarbon INFO @ 13:49:06] Energy consumed for all GPUs : 0.000038 kWh. Total GPU Power : 2.631064542770118 W\n",
      "[codecarbon DEBUG @ 13:49:06] GPU : 2.63 W during 13.47 s [measurement time: 1.5030]\n",
      "[codecarbon INFO @ 13:49:06] Energy consumed for all CPUs : 0.000549 kWh. Total CPU Power : 42.5 W\n",
      "[codecarbon DEBUG @ 13:49:06] CPU : 42.50 W during 14.97 s [measurement time: 0.0015]\n",
      "[codecarbon INFO @ 13:49:06] 0.000726 kWh of electricity used since the beginning.\n",
      "[codecarbon DEBUG @ 13:49:06] last_duration=13.456348000000162\n",
      "------------------------\n"
     ]
    },
    {
     "name": "stdout",
     "output_type": "stream",
     "text": [
      "\u001b[1m810/810\u001b[0m \u001b[32m━━━━━━━━━━━━━━━━━━━━\u001b[0m\u001b[37m\u001b[0m \u001b[1m1s\u001b[0m 2ms/step - accuracy: 0.8887 - loss: 0.2905 - val_accuracy: 0.9007 - val_loss: 0.2363\n",
      "Epoch 32/500\n",
      "\u001b[1m810/810\u001b[0m \u001b[32m━━━━━━━━━━━━━━━━━━━━\u001b[0m\u001b[37m\u001b[0m \u001b[1m1s\u001b[0m 2ms/step - accuracy: 0.8991 - loss: 0.2658 - val_accuracy: 0.9361 - val_loss: 0.2262\n",
      "Epoch 33/500\n",
      "\u001b[1m810/810\u001b[0m \u001b[32m━━━━━━━━━━━━━━━━━━━━\u001b[0m\u001b[37m\u001b[0m \u001b[1m2s\u001b[0m 2ms/step - accuracy: 0.9067 - loss: 0.2554 - val_accuracy: 0.9427 - val_loss: 0.2092\n",
      "Epoch 34/500\n",
      "\u001b[1m810/810\u001b[0m \u001b[32m━━━━━━━━━━━━━━━━━━━━\u001b[0m\u001b[37m\u001b[0m \u001b[1m1s\u001b[0m 2ms/step - accuracy: 0.9183 - loss: 0.2359 - val_accuracy: 0.9542 - val_loss: 0.1966\n",
      "Epoch 35/500\n",
      "\u001b[1m810/810\u001b[0m \u001b[32m━━━━━━━━━━━━━━━━━━━━\u001b[0m\u001b[37m\u001b[0m \u001b[1m1s\u001b[0m 2ms/step - accuracy: 0.9202 - loss: 0.2376 - val_accuracy: 0.9413 - val_loss: 0.1865\n",
      "Epoch 36/500\n",
      "\u001b[1m810/810\u001b[0m \u001b[32m━━━━━━━━━━━━━━━━━━━━\u001b[0m\u001b[37m\u001b[0m \u001b[1m1s\u001b[0m 2ms/step - accuracy: 0.9289 - loss: 0.2296 - val_accuracy: 0.9438 - val_loss: 0.1864\n",
      "Epoch 37/500\n",
      "\u001b[1m810/810\u001b[0m \u001b[32m━━━━━━━━━━━━━━━━━━━━\u001b[0m\u001b[37m\u001b[0m \u001b[1m1s\u001b[0m 2ms/step - accuracy: 0.9292 - loss: 0.2247 - val_accuracy: 0.9451 - val_loss: 0.1695\n",
      "Epoch 38/500\n",
      "\u001b[1m810/810\u001b[0m \u001b[32m━━━━━━━━━━━━━━━━━━━━\u001b[0m\u001b[37m\u001b[0m \u001b[1m2s\u001b[0m 2ms/step - accuracy: 0.9396 - loss: 0.2052 - val_accuracy: 0.9531 - val_loss: 0.1671\n",
      "Epoch 39/500\n",
      "\u001b[1m500/810\u001b[0m \u001b[32m━━━━━━━━━━━━\u001b[0m\u001b[37m━━━━━━━━\u001b[0m \u001b[1m0s\u001b[0m 1ms/step - accuracy: 0.9456 - loss: 0.1972"
     ]
    },
    {
     "name": "stderr",
     "output_type": "stream",
     "text": [
      "[codecarbon INFO @ 13:49:20] Energy consumed for RAM : 0.000183 kWh. RAM Power : 11.8851900100708 W\n",
      "[codecarbon DEBUG @ 13:49:20] RAM : 11.89 W during 13.48 s [measurement time: 0.0082]\n"
     ]
    },
    {
     "name": "stdout",
     "output_type": "stream",
     "text": [
      "\u001b[1m810/810\u001b[0m \u001b[32m━━━━━━━━━━━━━━━━━━━━\u001b[0m\u001b[37m\u001b[0m \u001b[1m2s\u001b[0m 2ms/step - accuracy: 0.9446 - loss: 0.1986 - val_accuracy: 0.9653 - val_loss: 0.1595\n",
      "Epoch 40/500\n",
      "\u001b[1m700/810\u001b[0m \u001b[32m━━━━━━━━━━━━━━━━━\u001b[0m\u001b[37m━━━\u001b[0m \u001b[1m0s\u001b[0m 1ms/step - accuracy: 0.9503 - loss: 0.1857"
     ]
    },
    {
     "name": "stderr",
     "output_type": "stream",
     "text": [
      "[codecarbon INFO @ 13:49:21] Energy consumed for all GPUs : 0.000048 kWh. Total GPU Power : 2.6256509883408423 W\n",
      "[codecarbon DEBUG @ 13:49:21] GPU : 2.63 W during 13.50 s [measurement time: 1.5069]\n",
      "[codecarbon INFO @ 13:49:21] Energy consumed for all CPUs : 0.000727 kWh. Total CPU Power : 42.5 W\n",
      "[codecarbon DEBUG @ 13:49:21] CPU : 42.50 W during 15.00 s [measurement time: 0.0017]\n",
      "[codecarbon INFO @ 13:49:21] 0.000957 kWh of electricity used since the beginning.\n",
      "[codecarbon DEBUG @ 13:49:21] last_duration=13.480314200000066\n",
      "------------------------\n"
     ]
    },
    {
     "name": "stdout",
     "output_type": "stream",
     "text": [
      "\u001b[1m810/810\u001b[0m \u001b[32m━━━━━━━━━━━━━━━━━━━━\u001b[0m\u001b[37m\u001b[0m \u001b[1m1s\u001b[0m 1ms/step - accuracy: 0.9497 - loss: 0.1869 - val_accuracy: 0.9583 - val_loss: 0.1608\n",
      "Epoch 41/500\n",
      "\u001b[1m810/810\u001b[0m \u001b[32m━━━━━━━━━━━━━━━━━━━━\u001b[0m\u001b[37m\u001b[0m \u001b[1m2s\u001b[0m 3ms/step - accuracy: 0.9492 - loss: 0.1945 - val_accuracy: 0.9594 - val_loss: 0.1505\n",
      "Epoch 42/500\n",
      "\u001b[1m810/810\u001b[0m \u001b[32m━━━━━━━━━━━━━━━━━━━━\u001b[0m\u001b[37m\u001b[0m \u001b[1m4s\u001b[0m 5ms/step - accuracy: 0.9468 - loss: 0.1918 - val_accuracy: 0.9722 - val_loss: 0.1363\n",
      "Epoch 43/500\n",
      "\u001b[1m810/810\u001b[0m \u001b[32m━━━━━━━━━━━━━━━━━━━━\u001b[0m\u001b[37m\u001b[0m \u001b[1m4s\u001b[0m 4ms/step - accuracy: 0.9493 - loss: 0.1868 - val_accuracy: 0.9719 - val_loss: 0.1356\n",
      "Epoch 44/500\n",
      "\u001b[1m810/810\u001b[0m \u001b[32m━━━━━━━━━━━━━━━━━━━━\u001b[0m\u001b[37m\u001b[0m \u001b[1m3s\u001b[0m 4ms/step - accuracy: 0.9536 - loss: 0.1746 - val_accuracy: 0.9663 - val_loss: 0.1346\n",
      "Epoch 45/500\n"
     ]
    },
    {
     "name": "stderr",
     "output_type": "stream",
     "text": [
      "[codecarbon INFO @ 13:49:35] Energy consumed for RAM : 0.000227 kWh. RAM Power : 11.8851900100708 W\n",
      "[codecarbon DEBUG @ 13:49:35] RAM : 11.89 W during 13.49 s [measurement time: 0.0163]\n"
     ]
    },
    {
     "name": "stdout",
     "output_type": "stream",
     "text": [
      "\u001b[1m394/810\u001b[0m \u001b[32m━━━━━━━━━\u001b[0m\u001b[37m━━━━━━━━━━━\u001b[0m \u001b[1m1s\u001b[0m 4ms/step - accuracy: 0.9518 - loss: 0.1756"
     ]
    },
    {
     "name": "stderr",
     "output_type": "stream",
     "text": [
      "[codecarbon INFO @ 13:49:36] Energy consumed for all GPUs : 0.000066 kWh. Total GPU Power : 4.847529065841769 W\n",
      "[codecarbon DEBUG @ 13:49:36] GPU : 4.85 W during 13.52 s [measurement time: 1.5407]\n",
      "[codecarbon INFO @ 13:49:36] Energy consumed for all CPUs : 0.000904 kWh. Total CPU Power : 42.5 W\n",
      "[codecarbon DEBUG @ 13:49:36] CPU : 42.50 W during 15.07 s [measurement time: 0.0067]\n",
      "[codecarbon INFO @ 13:49:36] 0.001198 kWh of electricity used since the beginning.\n",
      "[codecarbon DEBUG @ 13:49:36] last_duration=13.485739499999909\n",
      "------------------------\n"
     ]
    },
    {
     "name": "stdout",
     "output_type": "stream",
     "text": [
      "\u001b[1m810/810\u001b[0m \u001b[32m━━━━━━━━━━━━━━━━━━━━\u001b[0m\u001b[37m\u001b[0m \u001b[1m3s\u001b[0m 4ms/step - accuracy: 0.9531 - loss: 0.1736 - val_accuracy: 0.9733 - val_loss: 0.1326\n",
      "Epoch 46/500\n",
      "\u001b[1m810/810\u001b[0m \u001b[32m━━━━━━━━━━━━━━━━━━━━\u001b[0m\u001b[37m\u001b[0m \u001b[1m4s\u001b[0m 4ms/step - accuracy: 0.9553 - loss: 0.1738 - val_accuracy: 0.9733 - val_loss: 0.1341\n",
      "Epoch 47/500\n",
      "\u001b[1m810/810\u001b[0m \u001b[32m━━━━━━━━━━━━━━━━━━━━\u001b[0m\u001b[37m\u001b[0m \u001b[1m4s\u001b[0m 5ms/step - accuracy: 0.9576 - loss: 0.1658 - val_accuracy: 0.9736 - val_loss: 0.1285\n",
      "Epoch 48/500\n",
      "\u001b[1m801/810\u001b[0m \u001b[32m━━━━━━━━━━━━━━━━━━━\u001b[0m\u001b[37m━\u001b[0m \u001b[1m0s\u001b[0m 4ms/step - accuracy: 0.9546 - loss: 0.1678"
     ]
    },
    {
     "name": "stderr",
     "output_type": "stream",
     "text": [
      "[codecarbon INFO @ 13:49:50] Energy consumed for RAM : 0.000272 kWh. RAM Power : 11.8851900100708 W\n",
      "[codecarbon DEBUG @ 13:49:50] RAM : 11.89 W during 13.42 s [measurement time: 0.0165]\n"
     ]
    },
    {
     "name": "stdout",
     "output_type": "stream",
     "text": [
      "\u001b[1m810/810\u001b[0m \u001b[32m━━━━━━━━━━━━━━━━━━━━\u001b[0m\u001b[37m\u001b[0m \u001b[1m4s\u001b[0m 5ms/step - accuracy: 0.9546 - loss: 0.1678 - val_accuracy: 0.9715 - val_loss: 0.1299\n",
      "Epoch 49/500\n",
      "\u001b[1m306/810\u001b[0m \u001b[32m━━━━━━━\u001b[0m\u001b[37m━━━━━━━━━━━━━\u001b[0m \u001b[1m1s\u001b[0m 4ms/step - accuracy: 0.9577 - loss: 0.1654"
     ]
    },
    {
     "name": "stderr",
     "output_type": "stream",
     "text": [
      "[codecarbon INFO @ 13:49:51] Energy consumed for all GPUs : 0.000080 kWh. Total GPU Power : 3.8293383351463497 W\n",
      "[codecarbon DEBUG @ 13:49:51] GPU : 3.83 W during 13.45 s [measurement time: 1.5273]\n",
      "[codecarbon INFO @ 13:49:51] Energy consumed for all CPUs : 0.001081 kWh. Total CPU Power : 42.5 W\n",
      "[codecarbon DEBUG @ 13:49:51] CPU : 42.50 W during 14.98 s [measurement time: 0.0037]\n",
      "[codecarbon INFO @ 13:49:51] 0.001434 kWh of electricity used since the beginning.\n",
      "[codecarbon DEBUG @ 13:49:51] last_duration=13.418196299999636\n",
      "------------------------\n"
     ]
    },
    {
     "name": "stdout",
     "output_type": "stream",
     "text": [
      "\u001b[1m810/810\u001b[0m \u001b[32m━━━━━━━━━━━━━━━━━━━━\u001b[0m\u001b[37m\u001b[0m \u001b[1m4s\u001b[0m 4ms/step - accuracy: 0.9588 - loss: 0.1631 - val_accuracy: 0.9660 - val_loss: 0.1287\n",
      "Epoch 50/500\n",
      "\u001b[1m810/810\u001b[0m \u001b[32m━━━━━━━━━━━━━━━━━━━━\u001b[0m\u001b[37m\u001b[0m \u001b[1m4s\u001b[0m 4ms/step - accuracy: 0.9589 - loss: 0.1660 - val_accuracy: 0.9733 - val_loss: 0.1264\n",
      "Epoch 51/500\n",
      "\u001b[1m810/810\u001b[0m \u001b[32m━━━━━━━━━━━━━━━━━━━━\u001b[0m\u001b[37m\u001b[0m \u001b[1m3s\u001b[0m 4ms/step - accuracy: 0.9571 - loss: 0.1647 - val_accuracy: 0.9729 - val_loss: 0.1288\n",
      "Epoch 52/500\n",
      "\u001b[1m810/810\u001b[0m \u001b[32m━━━━━━━━━━━━━━━━━━━━\u001b[0m\u001b[37m\u001b[0m \u001b[1m4s\u001b[0m 4ms/step - accuracy: 0.9605 - loss: 0.1586 - val_accuracy: 0.9733 - val_loss: 0.1296\n",
      "Epoch 53/500\n",
      "\u001b[1m100/810\u001b[0m \u001b[32m━━\u001b[0m\u001b[37m━━━━━━━━━━━━━━━━━━\u001b[0m \u001b[1m2s\u001b[0m 4ms/step - accuracy: 0.9663 - loss: 0.1423"
     ]
    },
    {
     "name": "stderr",
     "output_type": "stream",
     "text": [
      "[codecarbon INFO @ 13:50:05] Energy consumed for RAM : 0.000316 kWh. RAM Power : 11.8851900100708 W\n"
     ]
    },
    {
     "name": "stdout",
     "output_type": "stream",
     "text": [
      "\u001b[1m101/810\u001b[0m \u001b[32m━━\u001b[0m\u001b[37m━━━━━━━━━━━━━━━━━━\u001b[0m \u001b[1m2s\u001b[0m 4ms/step - accuracy: 0.9663 - loss: 0.1423"
     ]
    },
    {
     "name": "stderr",
     "output_type": "stream",
     "text": [
      "[codecarbon DEBUG @ 13:50:05] RAM : 11.89 W during 13.44 s [measurement time: 0.0290]\n"
     ]
    },
    {
     "name": "stdout",
     "output_type": "stream",
     "text": [
      "\u001b[1m475/810\u001b[0m \u001b[32m━━━━━━━━━━━\u001b[0m\u001b[37m━━━━━━━━━\u001b[0m \u001b[1m1s\u001b[0m 4ms/step - accuracy: 0.9620 - loss: 0.1542"
     ]
    },
    {
     "name": "stderr",
     "output_type": "stream",
     "text": [
      "[codecarbon INFO @ 13:50:06] Energy consumed for all GPUs : 0.000098 kWh. Total GPU Power : 4.708766862254409 W\n",
      "[codecarbon DEBUG @ 13:50:06] GPU : 4.71 W during 13.49 s [measurement time: 1.5415]\n",
      "[codecarbon INFO @ 13:50:06] Energy consumed for all CPUs : 0.001259 kWh. Total CPU Power : 42.5 W\n",
      "[codecarbon DEBUG @ 13:50:06] CPU : 42.50 W during 15.03 s [measurement time: 0.0038]\n",
      "[codecarbon INFO @ 13:50:06] 0.001673 kWh of electricity used since the beginning.\n",
      "[codecarbon DEBUG @ 13:50:06] last_duration=13.438293199999862\n",
      "------------------------\n"
     ]
    },
    {
     "name": "stdout",
     "output_type": "stream",
     "text": [
      "\u001b[1m810/810\u001b[0m \u001b[32m━━━━━━━━━━━━━━━━━━━━\u001b[0m\u001b[37m\u001b[0m \u001b[1m4s\u001b[0m 4ms/step - accuracy: 0.9607 - loss: 0.1576 - val_accuracy: 0.9736 - val_loss: 0.1262\n",
      "Epoch 54/500\n",
      "\u001b[1m810/810\u001b[0m \u001b[32m━━━━━━━━━━━━━━━━━━━━\u001b[0m\u001b[37m\u001b[0m \u001b[1m1s\u001b[0m 2ms/step - accuracy: 0.9586 - loss: 0.1613 - val_accuracy: 0.9736 - val_loss: 0.1276\n",
      "Epoch 55/500\n",
      "\u001b[1m810/810\u001b[0m \u001b[32m━━━━━━━━━━━━━━━━━━━━\u001b[0m\u001b[37m\u001b[0m \u001b[1m1s\u001b[0m 2ms/step - accuracy: 0.9596 - loss: 0.1581 - val_accuracy: 0.9660 - val_loss: 0.1378\n",
      "Epoch 56/500\n",
      "\u001b[1m810/810\u001b[0m \u001b[32m━━━━━━━━━━━━━━━━━━━━\u001b[0m\u001b[37m\u001b[0m \u001b[1m1s\u001b[0m 2ms/step - accuracy: 0.9582 - loss: 0.1614 - val_accuracy: 0.9736 - val_loss: 0.1259\n",
      "Epoch 57/500\n",
      "\u001b[1m810/810\u001b[0m \u001b[32m━━━━━━━━━━━━━━━━━━━━\u001b[0m\u001b[37m\u001b[0m \u001b[1m2s\u001b[0m 2ms/step - accuracy: 0.9591 - loss: 0.1621 - val_accuracy: 0.9729 - val_loss: 0.1253\n",
      "Epoch 58/500\n",
      "\u001b[1m810/810\u001b[0m \u001b[32m━━━━━━━━━━━━━━━━━━━━\u001b[0m\u001b[37m\u001b[0m \u001b[1m2s\u001b[0m 2ms/step - accuracy: 0.9627 - loss: 0.1517 - val_accuracy: 0.9635 - val_loss: 0.1360\n",
      "Epoch 59/500\n",
      "\u001b[1m810/810\u001b[0m \u001b[32m━━━━━━━━━━━━━━━━━━━━\u001b[0m\u001b[37m\u001b[0m \u001b[1m2s\u001b[0m 2ms/step - accuracy: 0.9610 - loss: 0.1563 - val_accuracy: 0.9736 - val_loss: 0.1268\n",
      "Epoch 60/500\n",
      "\u001b[1m728/810\u001b[0m \u001b[32m━━━━━━━━━━━━━━━━━\u001b[0m\u001b[37m━━━\u001b[0m \u001b[1m0s\u001b[0m 4ms/step - accuracy: 0.9625 - loss: 0.1491"
     ]
    },
    {
     "name": "stderr",
     "output_type": "stream",
     "text": [
      "[codecarbon INFO @ 13:50:20] Energy consumed for RAM : 0.000360 kWh. RAM Power : 11.8851900100708 W\n",
      "[codecarbon DEBUG @ 13:50:20] RAM : 11.89 W during 13.40 s [measurement time: 0.0151]\n"
     ]
    },
    {
     "name": "stdout",
     "output_type": "stream",
     "text": [
      "\u001b[1m810/810\u001b[0m \u001b[32m━━━━━━━━━━━━━━━━━━━━\u001b[0m\u001b[37m\u001b[0m \u001b[1m3s\u001b[0m 4ms/step - accuracy: 0.9624 - loss: 0.1495 - val_accuracy: 0.9729 - val_loss: 0.1267\n",
      "Epoch 61/500\n",
      "\u001b[1m244/810\u001b[0m \u001b[32m━━━━━━\u001b[0m\u001b[37m━━━━━━━━━━━━━━\u001b[0m \u001b[1m1s\u001b[0m 3ms/step - accuracy: 0.9628 - loss: 0.1485"
     ]
    },
    {
     "name": "stderr",
     "output_type": "stream",
     "text": [
      "[codecarbon INFO @ 13:50:21] Energy consumed for all GPUs : 0.000110 kWh. Total GPU Power : 3.1605471686676734 W\n"
     ]
    },
    {
     "name": "stdout",
     "output_type": "stream",
     "text": [
      "\u001b[1m247/810\u001b[0m \u001b[32m━━━━━━\u001b[0m\u001b[37m━━━━━━━━━━━━━━\u001b[0m \u001b[1m1s\u001b[0m 3ms/step - accuracy: 0.9628 - loss: 0.1485"
     ]
    },
    {
     "name": "stderr",
     "output_type": "stream",
     "text": [
      "[codecarbon DEBUG @ 13:50:21] GPU : 3.16 W during 13.44 s [measurement time: 1.5315]\n",
      "[codecarbon INFO @ 13:50:21] Energy consumed for all CPUs : 0.001436 kWh. Total CPU Power : 42.5 W\n",
      "[codecarbon DEBUG @ 13:50:21] CPU : 42.50 W during 14.98 s [measurement time: 0.0080]\n",
      "[codecarbon INFO @ 13:50:21] 0.001906 kWh of electricity used since the beginning.\n",
      "[codecarbon DEBUG @ 13:50:21] We apply an energy mix of 238 g.CO2eq/kWh for United Kingdom\n",
      "[codecarbon DEBUG @ 13:50:21] EmissionsData(timestamp='2024-11-22T13:50:21', project_name='codecarbon', run_id='None', experiment_id='pkqh9CiOkp4MkPqRqM_k8Xc3mwBRpojS3RayIk1i5Pg', duration=121.68477339999981, emissions=0.00045280951049074905, emissions_rate=3.721168210604974e-06, cpu_power=42.5, gpu_power=3.1605471686676734, ram_power=11.8851900100708, cpu_energy=0.001435555850694452, gpu_energy=0.00010988536568599992, ram_energy=0.0003604109505580385, energy_consumed=0.0019058521669384906, country_name='United Kingdom', country_iso_code='GBR', region='england', cloud_provider='', cloud_region='', os='Windows-11-10.0.22631-SP0', python_version='3.12.7', codecarbon_version='2.7.4', cpu_count=20, cpu_model='12th Gen Intel(R) Core(TM) i9-12900H', gpu_count=1, gpu_model='1 x NVIDIA GeForce RTX 4060 Laptop GPU', longitude=-0.1905, latitude=51.5005, ram_total_size=31.69384002685547, tracking_mode='machine', on_cloud='N', pue=1.0)\n",
      "[codecarbon INFO @ 13:50:21] 0.003721 g.CO2eq/s mean an estimation of 117.35076068963845 kg.CO2eq/year\n",
      "[codecarbon DEBUG @ 13:50:21] last_duration=13.403822599999785\n",
      "------------------------\n"
     ]
    },
    {
     "name": "stdout",
     "output_type": "stream",
     "text": [
      "\u001b[1m810/810\u001b[0m \u001b[32m━━━━━━━━━━━━━━━━━━━━\u001b[0m\u001b[37m\u001b[0m \u001b[1m4s\u001b[0m 4ms/step - accuracy: 0.9618 - loss: 0.1512 - val_accuracy: 0.9656 - val_loss: 0.1331\n",
      "Epoch 62/500\n",
      "\u001b[1m810/810\u001b[0m \u001b[32m━━━━━━━━━━━━━━━━━━━━\u001b[0m\u001b[37m\u001b[0m \u001b[1m4s\u001b[0m 4ms/step - accuracy: 0.9603 - loss: 0.1570 - val_accuracy: 0.9729 - val_loss: 0.1315\n",
      "Epoch 63/500\n",
      "\u001b[1m810/810\u001b[0m \u001b[32m━━━━━━━━━━━━━━━━━━━━\u001b[0m\u001b[37m\u001b[0m \u001b[1m4s\u001b[0m 4ms/step - accuracy: 0.9621 - loss: 0.1499 - val_accuracy: 0.9733 - val_loss: 0.1271\n",
      "Epoch 64/500\n",
      "\u001b[1m805/810\u001b[0m \u001b[32m━━━━━━━━━━━━━━━━━━━\u001b[0m\u001b[37m━\u001b[0m \u001b[1m0s\u001b[0m 4ms/step - accuracy: 0.9607 - loss: 0.1554"
     ]
    },
    {
     "name": "stderr",
     "output_type": "stream",
     "text": [
      "[codecarbon INFO @ 13:50:35] Energy consumed for RAM : 0.000405 kWh. RAM Power : 11.8851900100708 W\n",
      "[codecarbon DEBUG @ 13:50:35] RAM : 11.89 W during 13.42 s [measurement time: 0.0157]\n"
     ]
    },
    {
     "name": "stdout",
     "output_type": "stream",
     "text": [
      "\u001b[1m810/810\u001b[0m \u001b[32m━━━━━━━━━━━━━━━━━━━━\u001b[0m\u001b[37m\u001b[0m \u001b[1m4s\u001b[0m 4ms/step - accuracy: 0.9607 - loss: 0.1554 - val_accuracy: 0.9733 - val_loss: 0.1305\n",
      "Epoch 65/500\n",
      "\u001b[1m384/810\u001b[0m \u001b[32m━━━━━━━━━\u001b[0m\u001b[37m━━━━━━━━━━━\u001b[0m \u001b[1m1s\u001b[0m 4ms/step - accuracy: 0.9636 - loss: 0.1504"
     ]
    },
    {
     "name": "stderr",
     "output_type": "stream",
     "text": [
      "[codecarbon INFO @ 13:50:36] Energy consumed for all GPUs : 0.000118 kWh. Total GPU Power : 2.238890952521012 W\n",
      "[codecarbon DEBUG @ 13:50:36] GPU : 2.24 W during 13.46 s [measurement time: 1.5393]\n",
      "[codecarbon INFO @ 13:50:36] Energy consumed for all CPUs : 0.001613 kWh. Total CPU Power : 42.5 W\n",
      "[codecarbon DEBUG @ 13:50:36] CPU : 42.50 W during 15.00 s [measurement time: 0.0045]\n",
      "[codecarbon INFO @ 13:50:36] 0.002136 kWh of electricity used since the beginning.\n",
      "[codecarbon DEBUG @ 13:50:36] last_duration=13.424686800000018\n",
      "------------------------\n"
     ]
    },
    {
     "name": "stdout",
     "output_type": "stream",
     "text": [
      "\u001b[1m810/810\u001b[0m \u001b[32m━━━━━━━━━━━━━━━━━━━━\u001b[0m\u001b[37m\u001b[0m \u001b[1m4s\u001b[0m 4ms/step - accuracy: 0.9626 - loss: 0.1516 - val_accuracy: 0.9736 - val_loss: 0.1236\n",
      "Epoch 66/500\n",
      "\u001b[1m810/810\u001b[0m \u001b[32m━━━━━━━━━━━━━━━━━━━━\u001b[0m\u001b[37m\u001b[0m \u001b[1m4s\u001b[0m 4ms/step - accuracy: 0.9639 - loss: 0.1467 - val_accuracy: 0.9656 - val_loss: 0.1338\n",
      "Epoch 67/500\n",
      "\u001b[1m810/810\u001b[0m \u001b[32m━━━━━━━━━━━━━━━━━━━━\u001b[0m\u001b[37m\u001b[0m \u001b[1m4s\u001b[0m 5ms/step - accuracy: 0.9625 - loss: 0.1500 - val_accuracy: 0.9733 - val_loss: 0.1281\n",
      "Epoch 68/500\n",
      "\u001b[1m810/810\u001b[0m \u001b[32m━━━━━━━━━━━━━━━━━━━━\u001b[0m\u001b[37m\u001b[0m \u001b[1m3s\u001b[0m 4ms/step - accuracy: 0.9595 - loss: 0.1580 - val_accuracy: 0.9656 - val_loss: 0.1500\n",
      "Epoch 69/500\n",
      "\u001b[1m 70/810\u001b[0m \u001b[32m━\u001b[0m\u001b[37m━━━━━━━━━━━━━━━━━━━\u001b[0m \u001b[1m3s\u001b[0m 4ms/step - accuracy: 0.9629 - loss: 0.1652"
     ]
    },
    {
     "name": "stderr",
     "output_type": "stream",
     "text": [
      "[codecarbon INFO @ 13:50:50] Energy consumed for RAM : 0.000449 kWh. RAM Power : 11.8851900100708 W\n",
      "[codecarbon DEBUG @ 13:50:50] RAM : 11.89 W during 13.42 s [measurement time: 0.0182]\n"
     ]
    },
    {
     "name": "stdout",
     "output_type": "stream",
     "text": [
      "\u001b[1m508/810\u001b[0m \u001b[32m━━━━━━━━━━━━\u001b[0m\u001b[37m━━━━━━━━\u001b[0m \u001b[1m1s\u001b[0m 4ms/step - accuracy: 0.9614 - loss: 0.1575"
     ]
    },
    {
     "name": "stderr",
     "output_type": "stream",
     "text": [
      "[codecarbon INFO @ 13:50:51] Energy consumed for all GPUs : 0.000145 kWh. Total GPU Power : 7.165282930986442 W\n",
      "[codecarbon DEBUG @ 13:50:51] GPU : 7.17 W during 13.46 s [measurement time: 1.5695]\n",
      "[codecarbon INFO @ 13:50:51] Energy consumed for all CPUs : 0.001790 kWh. Total CPU Power : 42.5 W\n",
      "[codecarbon DEBUG @ 13:50:51] CPU : 42.50 W during 15.04 s [measurement time: 0.0028]\n",
      "[codecarbon INFO @ 13:50:51] 0.002384 kWh of electricity used since the beginning.\n",
      "[codecarbon DEBUG @ 13:50:51] last_duration=13.417032700000163\n",
      "------------------------\n"
     ]
    },
    {
     "name": "stdout",
     "output_type": "stream",
     "text": [
      "\u001b[1m810/810\u001b[0m \u001b[32m━━━━━━━━━━━━━━━━━━━━\u001b[0m\u001b[37m\u001b[0m \u001b[1m4s\u001b[0m 4ms/step - accuracy: 0.9620 - loss: 0.1541 - val_accuracy: 0.9736 - val_loss: 0.1275\n",
      "Epoch 70/500\n",
      "\u001b[1m810/810\u001b[0m \u001b[32m━━━━━━━━━━━━━━━━━━━━\u001b[0m\u001b[37m\u001b[0m \u001b[1m3s\u001b[0m 4ms/step - accuracy: 0.9624 - loss: 0.1480 - val_accuracy: 0.9736 - val_loss: 0.1279\n",
      "Epoch 71/500\n",
      "\u001b[1m810/810\u001b[0m \u001b[32m━━━━━━━━━━━━━━━━━━━━\u001b[0m\u001b[37m\u001b[0m \u001b[1m2s\u001b[0m 2ms/step - accuracy: 0.9630 - loss: 0.1506 - val_accuracy: 0.9733 - val_loss: 0.1272\n",
      "Epoch 72/500\n",
      "\u001b[1m810/810\u001b[0m \u001b[32m━━━━━━━━━━━━━━━━━━━━\u001b[0m\u001b[37m\u001b[0m \u001b[1m2s\u001b[0m 2ms/step - accuracy: 0.9636 - loss: 0.1453 - val_accuracy: 0.9733 - val_loss: 0.1273\n",
      "Epoch 73/500\n",
      "\u001b[1m810/810\u001b[0m \u001b[32m━━━━━━━━━━━━━━━━━━━━\u001b[0m\u001b[37m\u001b[0m \u001b[1m2s\u001b[0m 2ms/step - accuracy: 0.9629 - loss: 0.1495 - val_accuracy: 0.9726 - val_loss: 0.1321\n",
      "Epoch 74/500\n",
      "\u001b[1m810/810\u001b[0m \u001b[32m━━━━━━━━━━━━━━━━━━━━\u001b[0m\u001b[37m\u001b[0m \u001b[1m2s\u001b[0m 2ms/step - accuracy: 0.9613 - loss: 0.1502 - val_accuracy: 0.9733 - val_loss: 0.1254\n",
      "Epoch 75/500\n",
      "\u001b[1m681/810\u001b[0m \u001b[32m━━━━━━━━━━━━━━━━\u001b[0m\u001b[37m━━━━\u001b[0m \u001b[1m0s\u001b[0m 2ms/step - accuracy: 0.9642 - loss: 0.1471"
     ]
    },
    {
     "name": "stderr",
     "output_type": "stream",
     "text": [
      "[codecarbon INFO @ 13:51:05] Energy consumed for RAM : 0.000493 kWh. RAM Power : 11.8851900100708 W\n",
      "[codecarbon DEBUG @ 13:51:05] RAM : 11.89 W during 13.37 s [measurement time: 0.0082]\n"
     ]
    },
    {
     "name": "stdout",
     "output_type": "stream",
     "text": [
      "\u001b[1m810/810\u001b[0m \u001b[32m━━━━━━━━━━━━━━━━━━━━\u001b[0m\u001b[37m\u001b[0m \u001b[1m2s\u001b[0m 2ms/step - accuracy: 0.9640 - loss: 0.1476 - val_accuracy: 0.9736 - val_loss: 0.1239\n",
      "Epoch 76/500\n",
      "\u001b[1m758/810\u001b[0m \u001b[32m━━━━━━━━━━━━━━━━━━\u001b[0m\u001b[37m━━\u001b[0m \u001b[1m0s\u001b[0m 1ms/step - accuracy: 0.9627 - loss: 0.1478"
     ]
    },
    {
     "name": "stderr",
     "output_type": "stream",
     "text": [
      "[codecarbon INFO @ 13:51:06] Energy consumed for all GPUs : 0.000158 kWh. Total GPU Power : 3.4602307165232737 W\n",
      "[codecarbon DEBUG @ 13:51:06] GPU : 3.46 W during 13.39 s [measurement time: 1.5004]\n",
      "[codecarbon INFO @ 13:51:06] Energy consumed for all CPUs : 0.001966 kWh. Total CPU Power : 42.5 W\n"
     ]
    },
    {
     "name": "stdout",
     "output_type": "stream",
     "text": [
      "\u001b[1m793/810\u001b[0m \u001b[32m━━━━━━━━━━━━━━━━━━━\u001b[0m\u001b[37m━\u001b[0m \u001b[1m0s\u001b[0m 1ms/step - accuracy: 0.9627 - loss: 0.1478"
     ]
    },
    {
     "name": "stderr",
     "output_type": "stream",
     "text": [
      "[codecarbon DEBUG @ 13:51:06] CPU : 42.50 W during 14.89 s [measurement time: 0.0055]\n",
      "[codecarbon INFO @ 13:51:06] 0.002617 kWh of electricity used since the beginning.\n",
      "[codecarbon DEBUG @ 13:51:06] last_duration=13.374303699999928\n",
      "------------------------\n"
     ]
    },
    {
     "name": "stdout",
     "output_type": "stream",
     "text": [
      "\u001b[1m810/810\u001b[0m \u001b[32m━━━━━━━━━━━━━━━━━━━━\u001b[0m\u001b[37m\u001b[0m \u001b[1m1s\u001b[0m 2ms/step - accuracy: 0.9627 - loss: 0.1478 - val_accuracy: 0.9729 - val_loss: 0.1238\n",
      "Epoch 77/500\n",
      "\u001b[1m810/810\u001b[0m \u001b[32m━━━━━━━━━━━━━━━━━━━━\u001b[0m\u001b[37m\u001b[0m \u001b[1m1s\u001b[0m 2ms/step - accuracy: 0.9654 - loss: 0.1418 - val_accuracy: 0.9729 - val_loss: 0.1288\n",
      "Epoch 78/500\n",
      "\u001b[1m810/810\u001b[0m \u001b[32m━━━━━━━━━━━━━━━━━━━━\u001b[0m\u001b[37m\u001b[0m \u001b[1m2s\u001b[0m 2ms/step - accuracy: 0.9661 - loss: 0.1402 - val_accuracy: 0.9736 - val_loss: 0.1265\n",
      "Epoch 79/500\n",
      "\u001b[1m810/810\u001b[0m \u001b[32m━━━━━━━━━━━━━━━━━━━━\u001b[0m\u001b[37m\u001b[0m \u001b[1m2s\u001b[0m 2ms/step - accuracy: 0.9654 - loss: 0.1404 - val_accuracy: 0.9726 - val_loss: 0.1260\n",
      "Epoch 80/500\n",
      "\u001b[1m810/810\u001b[0m \u001b[32m━━━━━━━━━━━━━━━━━━━━\u001b[0m\u001b[37m\u001b[0m \u001b[1m1s\u001b[0m 2ms/step - accuracy: 0.9628 - loss: 0.1482 - val_accuracy: 0.9733 - val_loss: 0.1232\n",
      "Epoch 81/500\n",
      "\u001b[1m810/810\u001b[0m \u001b[32m━━━━━━━━━━━━━━━━━━━━\u001b[0m\u001b[37m\u001b[0m \u001b[1m1s\u001b[0m 2ms/step - accuracy: 0.9641 - loss: 0.1429 - val_accuracy: 0.9729 - val_loss: 0.1325\n",
      "Epoch 82/500\n",
      "\u001b[1m810/810\u001b[0m \u001b[32m━━━━━━━━━━━━━━━━━━━━\u001b[0m\u001b[37m\u001b[0m \u001b[1m1s\u001b[0m 2ms/step - accuracy: 0.9610 - loss: 0.1518 - val_accuracy: 0.9729 - val_loss: 0.1237\n",
      "Epoch 83/500\n",
      "\u001b[1m810/810\u001b[0m \u001b[32m━━━━━━━━━━━━━━━━━━━━\u001b[0m\u001b[37m\u001b[0m \u001b[1m3s\u001b[0m 4ms/step - accuracy: 0.9621 - loss: 0.1481 - val_accuracy: 0.9733 - val_loss: 0.1257\n",
      "Epoch 84/500\n"
     ]
    },
    {
     "name": "stderr",
     "output_type": "stream",
     "text": [
      "[codecarbon INFO @ 13:51:20] Energy consumed for RAM : 0.000538 kWh. RAM Power : 11.8851900100708 W\n",
      "[codecarbon DEBUG @ 13:51:20] RAM : 11.89 W during 13.48 s [measurement time: 0.0127]\n"
     ]
    },
    {
     "name": "stdout",
     "output_type": "stream",
     "text": [
      "\u001b[1m230/810\u001b[0m \u001b[32m━━━━━\u001b[0m\u001b[37m━━━━━━━━━━━━━━━\u001b[0m \u001b[1m1s\u001b[0m 3ms/step - accuracy: 0.9625 - loss: 0.1482"
     ]
    },
    {
     "name": "stderr",
     "output_type": "stream",
     "text": [
      "[codecarbon INFO @ 13:51:21] Energy consumed for all GPUs : 0.000169 kWh. Total GPU Power : 2.9641340304466897 W\n"
     ]
    },
    {
     "name": "stdout",
     "output_type": "stream",
     "text": [
      "\u001b[1m232/810\u001b[0m \u001b[32m━━━━━\u001b[0m\u001b[37m━━━━━━━━━━━━━━━\u001b[0m \u001b[1m1s\u001b[0m 3ms/step - accuracy: 0.9625 - loss: 0.1482"
     ]
    },
    {
     "name": "stderr",
     "output_type": "stream",
     "text": [
      "[codecarbon DEBUG @ 13:51:21] GPU : 2.96 W during 13.50 s [measurement time: 1.5429]\n"
     ]
    },
    {
     "name": "stdout",
     "output_type": "stream",
     "text": [
      "\u001b[1m233/810\u001b[0m \u001b[32m━━━━━\u001b[0m\u001b[37m━━━━━━━━━━━━━━━\u001b[0m \u001b[1m1s\u001b[0m 3ms/step - accuracy: 0.9625 - loss: 0.1482"
     ]
    },
    {
     "name": "stderr",
     "output_type": "stream",
     "text": [
      "[codecarbon INFO @ 13:51:21] Energy consumed for all CPUs : 0.002144 kWh. Total CPU Power : 42.5 W\n",
      "[codecarbon DEBUG @ 13:51:21] CPU : 42.50 W during 15.05 s [measurement time: 0.0046]\n",
      "[codecarbon INFO @ 13:51:21] 0.002850 kWh of electricity used since the beginning.\n",
      "[codecarbon DEBUG @ 13:51:21] last_duration=13.480362299999797\n",
      "------------------------\n"
     ]
    },
    {
     "name": "stdout",
     "output_type": "stream",
     "text": [
      "\u001b[1m810/810\u001b[0m \u001b[32m━━━━━━━━━━━━━━━━━━━━\u001b[0m\u001b[37m\u001b[0m \u001b[1m5s\u001b[0m 3ms/step - accuracy: 0.9634 - loss: 0.1456 - val_accuracy: 0.9733 - val_loss: 0.1256\n",
      "Epoch 85/500\n",
      "\u001b[1m810/810\u001b[0m \u001b[32m━━━━━━━━━━━━━━━━━━━━\u001b[0m\u001b[37m\u001b[0m \u001b[1m1s\u001b[0m 2ms/step - accuracy: 0.9635 - loss: 0.1452 - val_accuracy: 0.9729 - val_loss: 0.1271\n",
      "Epoch 86/500\n",
      "\u001b[1m810/810\u001b[0m \u001b[32m━━━━━━━━━━━━━━━━━━━━\u001b[0m\u001b[37m\u001b[0m \u001b[1m1s\u001b[0m 2ms/step - accuracy: 0.9636 - loss: 0.1440 - val_accuracy: 0.9726 - val_loss: 0.1302\n",
      "Epoch 87/500\n",
      "\u001b[1m810/810\u001b[0m \u001b[32m━━━━━━━━━━━━━━━━━━━━\u001b[0m\u001b[37m\u001b[0m \u001b[1m1s\u001b[0m 2ms/step - accuracy: 0.9662 - loss: 0.1381 - val_accuracy: 0.9688 - val_loss: 0.1313\n",
      "Epoch 88/500\n",
      "\u001b[1m810/810\u001b[0m \u001b[32m━━━━━━━━━━━━━━━━━━━━\u001b[0m\u001b[37m\u001b[0m \u001b[1m1s\u001b[0m 2ms/step - accuracy: 0.9664 - loss: 0.1325 - val_accuracy: 0.9736 - val_loss: 0.1247\n",
      "Epoch 89/500\n",
      "\u001b[1m810/810\u001b[0m \u001b[32m━━━━━━━━━━━━━━━━━━━━\u001b[0m\u001b[37m\u001b[0m \u001b[1m1s\u001b[0m 2ms/step - accuracy: 0.9647 - loss: 0.1424 - val_accuracy: 0.9719 - val_loss: 0.1364\n",
      "Epoch 90/500\n",
      "\u001b[1m810/810\u001b[0m \u001b[32m━━━━━━━━━━━━━━━━━━━━\u001b[0m\u001b[37m\u001b[0m \u001b[1m1s\u001b[0m 2ms/step - accuracy: 0.9645 - loss: 0.1416 - val_accuracy: 0.9736 - val_loss: 0.1258\n",
      "Epoch 91/500\n",
      "\u001b[1m810/810\u001b[0m \u001b[32m━━━━━━━━━━━━━━━━━━━━\u001b[0m\u001b[37m\u001b[0m \u001b[1m1s\u001b[0m 2ms/step - accuracy: 0.9637 - loss: 0.1417 - val_accuracy: 0.9674 - val_loss: 0.1369\n",
      "Epoch 92/500\n",
      "\u001b[1m810/810\u001b[0m \u001b[32m━━━━━━━━━━━━━━━━━━━━\u001b[0m\u001b[37m\u001b[0m \u001b[1m1s\u001b[0m 2ms/step - accuracy: 0.9661 - loss: 0.1342 - val_accuracy: 0.9736 - val_loss: 0.1312\n",
      "Epoch 93/500\n",
      "\u001b[1m213/810\u001b[0m \u001b[32m━━━━━\u001b[0m\u001b[37m━━━━━━━━━━━━━━━\u001b[0m \u001b[1m0s\u001b[0m 2ms/step - accuracy: 0.9674 - loss: 0.1340"
     ]
    },
    {
     "name": "stderr",
     "output_type": "stream",
     "text": [
      "[codecarbon INFO @ 13:51:35] Energy consumed for RAM : 0.000582 kWh. RAM Power : 11.8851900100708 W\n",
      "[codecarbon DEBUG @ 13:51:35] RAM : 11.89 W during 13.42 s [measurement time: 0.0079]\n"
     ]
    },
    {
     "name": "stdout",
     "output_type": "stream",
     "text": [
      "\u001b[1m810/810\u001b[0m \u001b[32m━━━━━━━━━━━━━━━━━━━━\u001b[0m\u001b[37m\u001b[0m \u001b[1m1s\u001b[0m 2ms/step - accuracy: 0.9644 - loss: 0.1434 - val_accuracy: 0.9733 - val_loss: 0.1285\n",
      "Epoch 94/500\n",
      "\u001b[1m367/810\u001b[0m \u001b[32m━━━━━━━━━\u001b[0m\u001b[37m━━━━━━━━━━━\u001b[0m \u001b[1m0s\u001b[0m 1ms/step - accuracy: 0.9605 - loss: 0.1521"
     ]
    },
    {
     "name": "stderr",
     "output_type": "stream",
     "text": [
      "[codecarbon INFO @ 13:51:36] Energy consumed for all GPUs : 0.000179 kWh. Total GPU Power : 2.6643081675874027 W\n",
      "[codecarbon DEBUG @ 13:51:36] GPU : 2.66 W during 13.44 s [measurement time: 1.4995]\n",
      "[codecarbon INFO @ 13:51:36] Energy consumed for all CPUs : 0.002320 kWh. Total CPU Power : 42.5 W\n",
      "[codecarbon DEBUG @ 13:51:36] CPU : 42.50 W during 14.94 s [measurement time: 0.0014]\n",
      "[codecarbon INFO @ 13:51:36] 0.003081 kWh of electricity used since the beginning.\n",
      "[codecarbon DEBUG @ 13:51:36] last_duration=13.422356399999899\n",
      "------------------------\n"
     ]
    },
    {
     "name": "stdout",
     "output_type": "stream",
     "text": [
      "\u001b[1m810/810\u001b[0m \u001b[32m━━━━━━━━━━━━━━━━━━━━\u001b[0m\u001b[37m\u001b[0m \u001b[1m1s\u001b[0m 2ms/step - accuracy: 0.9624 - loss: 0.1467 - val_accuracy: 0.9736 - val_loss: 0.1299\n",
      "Epoch 95/500\n",
      "\u001b[1m810/810\u001b[0m \u001b[32m━━━━━━━━━━━━━━━━━━━━\u001b[0m\u001b[37m\u001b[0m \u001b[1m1s\u001b[0m 2ms/step - accuracy: 0.9658 - loss: 0.1385 - val_accuracy: 0.9733 - val_loss: 0.1255\n",
      "Epoch 96/500\n",
      "\u001b[1m810/810\u001b[0m \u001b[32m━━━━━━━━━━━━━━━━━━━━\u001b[0m\u001b[37m\u001b[0m \u001b[1m1s\u001b[0m 2ms/step - accuracy: 0.9659 - loss: 0.1376 - val_accuracy: 0.9729 - val_loss: 0.1290\n",
      "Epoch 97/500\n",
      "\u001b[1m810/810\u001b[0m \u001b[32m━━━━━━━━━━━━━━━━━━━━\u001b[0m\u001b[37m\u001b[0m \u001b[1m2s\u001b[0m 2ms/step - accuracy: 0.9640 - loss: 0.1439 - val_accuracy: 0.9733 - val_loss: 0.1316\n",
      "Epoch 98/500\n",
      "\u001b[1m810/810\u001b[0m \u001b[32m━━━━━━━━━━━━━━━━━━━━\u001b[0m\u001b[37m\u001b[0m \u001b[1m2s\u001b[0m 2ms/step - accuracy: 0.9655 - loss: 0.1382 - val_accuracy: 0.9733 - val_loss: 0.1293\n",
      "Epoch 99/500\n",
      "\u001b[1m810/810\u001b[0m \u001b[32m━━━━━━━━━━━━━━━━━━━━\u001b[0m\u001b[37m\u001b[0m \u001b[1m2s\u001b[0m 2ms/step - accuracy: 0.9661 - loss: 0.1323 - val_accuracy: 0.9729 - val_loss: 0.1269\n",
      "Epoch 100/500\n",
      "\u001b[1m810/810\u001b[0m \u001b[32m━━━━━━━━━━━━━━━━━━━━\u001b[0m\u001b[37m\u001b[0m \u001b[1m2s\u001b[0m 2ms/step - accuracy: 0.9622 - loss: 0.1473 - val_accuracy: 0.9729 - val_loss: 0.1323\n",
      "Epoch 101/500\n",
      "\u001b[1m810/810\u001b[0m \u001b[32m━━━━━━━━━━━━━━━━━━━━\u001b[0m\u001b[37m\u001b[0m \u001b[1m1s\u001b[0m 2ms/step - accuracy: 0.9672 - loss: 0.1348 - val_accuracy: 0.9733 - val_loss: 0.1295\n",
      "Epoch 102/500\n",
      "\u001b[1m810/810\u001b[0m \u001b[32m━━━━━━━━━━━━━━━━━━━━\u001b[0m\u001b[37m\u001b[0m \u001b[1m1s\u001b[0m 2ms/step - accuracy: 0.9632 - loss: 0.1438 - val_accuracy: 0.9729 - val_loss: 0.1268\n",
      "Epoch 103/500\n",
      "\u001b[1m158/810\u001b[0m \u001b[32m━━━\u001b[0m\u001b[37m━━━━━━━━━━━━━━━━━\u001b[0m \u001b[1m1s\u001b[0m 2ms/step - accuracy: 0.9617 - loss: 0.1538"
     ]
    },
    {
     "name": "stderr",
     "output_type": "stream",
     "text": [
      "[codecarbon INFO @ 13:51:50] Energy consumed for RAM : 0.000627 kWh. RAM Power : 11.8851900100708 W\n",
      "[codecarbon DEBUG @ 13:51:50] RAM : 11.89 W during 13.48 s [measurement time: 0.0131]\n"
     ]
    },
    {
     "name": "stdout",
     "output_type": "stream",
     "text": [
      "\u001b[1m707/810\u001b[0m \u001b[32m━━━━━━━━━━━━━━━━━\u001b[0m\u001b[37m━━━\u001b[0m \u001b[1m0s\u001b[0m 3ms/step - accuracy: 0.9650 - loss: 0.1407"
     ]
    },
    {
     "name": "stderr",
     "output_type": "stream",
     "text": [
      "[codecarbon INFO @ 13:51:51] Energy consumed for all GPUs : 0.000189 kWh. Total GPU Power : 2.608412623102352 W\n",
      "[codecarbon DEBUG @ 13:51:51] GPU : 2.61 W during 13.51 s [measurement time: 1.5049]\n",
      "[codecarbon INFO @ 13:51:51] Energy consumed for all CPUs : 0.002497 kWh. Total CPU Power : 42.5 W\n",
      "[codecarbon DEBUG @ 13:51:51] CPU : 42.50 W during 15.02 s [measurement time: 0.0015]\n",
      "[codecarbon INFO @ 13:51:51] 0.003313 kWh of electricity used since the beginning.\n",
      "[codecarbon DEBUG @ 13:51:51] last_duration=13.48445380000021\n",
      "------------------------\n"
     ]
    },
    {
     "name": "stdout",
     "output_type": "stream",
     "text": [
      "\u001b[1m810/810\u001b[0m \u001b[32m━━━━━━━━━━━━━━━━━━━━\u001b[0m\u001b[37m\u001b[0m \u001b[1m3s\u001b[0m 3ms/step - accuracy: 0.9651 - loss: 0.1406 - val_accuracy: 0.9733 - val_loss: 0.1315\n",
      "Epoch 104/500\n",
      "\u001b[1m810/810\u001b[0m \u001b[32m━━━━━━━━━━━━━━━━━━━━\u001b[0m\u001b[37m\u001b[0m \u001b[1m4s\u001b[0m 5ms/step - accuracy: 0.9647 - loss: 0.1408 - val_accuracy: 0.9733 - val_loss: 0.1244\n",
      "Epoch 105/500\n",
      "\u001b[1m810/810\u001b[0m \u001b[32m━━━━━━━━━━━━━━━━━━━━\u001b[0m\u001b[37m\u001b[0m \u001b[1m4s\u001b[0m 4ms/step - accuracy: 0.9655 - loss: 0.1393 - val_accuracy: 0.9733 - val_loss: 0.1287\n",
      "Epoch 106/500\n",
      "\u001b[1m810/810\u001b[0m \u001b[32m━━━━━━━━━━━━━━━━━━━━\u001b[0m\u001b[37m\u001b[0m \u001b[1m0s\u001b[0m 5ms/step - accuracy: 0.9652 - loss: 0.1360"
     ]
    },
    {
     "name": "stderr",
     "output_type": "stream",
     "text": [
      "[codecarbon INFO @ 13:52:05] Energy consumed for RAM : 0.000671 kWh. RAM Power : 11.8851900100708 W\n",
      "[codecarbon DEBUG @ 13:52:05] RAM : 11.89 W during 13.46 s [measurement time: 0.0305]\n"
     ]
    },
    {
     "name": "stdout",
     "output_type": "stream",
     "text": [
      "\u001b[1m810/810\u001b[0m \u001b[32m━━━━━━━━━━━━━━━━━━━━\u001b[0m\u001b[37m\u001b[0m \u001b[1m5s\u001b[0m 6ms/step - accuracy: 0.9652 - loss: 0.1360 - val_accuracy: 0.9733 - val_loss: 0.1297\n",
      "Epoch 107/500\n",
      "\u001b[1m210/810\u001b[0m \u001b[32m━━━━━\u001b[0m\u001b[37m━━━━━━━━━━━━━━━\u001b[0m \u001b[1m2s\u001b[0m 3ms/step - accuracy: 0.9635 - loss: 0.1412"
     ]
    },
    {
     "name": "stderr",
     "output_type": "stream",
     "text": [
      "[codecarbon INFO @ 13:52:06] Energy consumed for all GPUs : 0.000204 kWh. Total GPU Power : 4.175318835937215 W\n",
      "[codecarbon DEBUG @ 13:52:06] GPU : 4.18 W during 13.50 s [measurement time: 1.5225]\n"
     ]
    },
    {
     "name": "stdout",
     "output_type": "stream",
     "text": [
      "\u001b[1m227/810\u001b[0m \u001b[32m━━━━━\u001b[0m\u001b[37m━━━━━━━━━━━━━━━\u001b[0m \u001b[1m1s\u001b[0m 3ms/step - accuracy: 0.9635 - loss: 0.1411"
     ]
    },
    {
     "name": "stderr",
     "output_type": "stream",
     "text": [
      "[codecarbon INFO @ 13:52:06] Energy consumed for all CPUs : 0.002675 kWh. Total CPU Power : 42.5 W\n",
      "[codecarbon DEBUG @ 13:52:06] CPU : 42.50 W during 15.04 s [measurement time: 0.0071]\n"
     ]
    },
    {
     "name": "stdout",
     "output_type": "stream",
     "text": [
      "\u001b[1m229/810\u001b[0m \u001b[32m━━━━━\u001b[0m\u001b[37m━━━━━━━━━━━━━━━\u001b[0m \u001b[1m1s\u001b[0m 3ms/step - accuracy: 0.9635 - loss: 0.1411"
     ]
    },
    {
     "name": "stderr",
     "output_type": "stream",
     "text": [
      "[codecarbon INFO @ 13:52:06] 0.003550 kWh of electricity used since the beginning.\n",
      "[codecarbon DEBUG @ 13:52:06] last_duration=13.461830199999895\n",
      "------------------------\n"
     ]
    },
    {
     "name": "stdout",
     "output_type": "stream",
     "text": [
      "\u001b[1m810/810\u001b[0m \u001b[32m━━━━━━━━━━━━━━━━━━━━\u001b[0m\u001b[37m\u001b[0m \u001b[1m4s\u001b[0m 4ms/step - accuracy: 0.9640 - loss: 0.1409 - val_accuracy: 0.9722 - val_loss: 0.1351\n",
      "Epoch 108/500\n",
      "\u001b[1m810/810\u001b[0m \u001b[32m━━━━━━━━━━━━━━━━━━━━\u001b[0m\u001b[37m\u001b[0m \u001b[1m5s\u001b[0m 4ms/step - accuracy: 0.9655 - loss: 0.1358 - val_accuracy: 0.9729 - val_loss: 0.1317\n",
      "Epoch 109/500\n",
      "\u001b[1m810/810\u001b[0m \u001b[32m━━━━━━━━━━━━━━━━━━━━\u001b[0m\u001b[37m\u001b[0m \u001b[1m5s\u001b[0m 4ms/step - accuracy: 0.9647 - loss: 0.1386 - val_accuracy: 0.9733 - val_loss: 0.1273\n",
      "Epoch 110/500\n"
     ]
    },
    {
     "name": "stderr",
     "output_type": "stream",
     "text": [
      "[codecarbon INFO @ 13:52:20] Energy consumed for RAM : 0.000715 kWh. RAM Power : 11.8851900100708 W\n",
      "[codecarbon DEBUG @ 13:52:20] RAM : 11.89 W during 13.41 s [measurement time: 0.0118]\n"
     ]
    },
    {
     "name": "stdout",
     "output_type": "stream",
     "text": [
      "\u001b[1m 70/810\u001b[0m \u001b[32m━\u001b[0m\u001b[37m━━━━━━━━━━━━━━━━━━━\u001b[0m \u001b[1m2s\u001b[0m 3ms/step - accuracy: 0.9663 - loss: 0.1255"
     ]
    },
    {
     "name": "stderr",
     "output_type": "stream",
     "text": [
      "[codecarbon INFO @ 13:52:21] Energy consumed for all GPUs : 0.000215 kWh. Total GPU Power : 2.7084227510903136 W\n",
      "[codecarbon DEBUG @ 13:52:21] GPU : 2.71 W during 13.43 s [measurement time: 1.5199]\n",
      "[codecarbon INFO @ 13:52:21] Energy consumed for all CPUs : 0.002851 kWh. Total CPU Power : 42.5 W\n",
      "[codecarbon DEBUG @ 13:52:21] CPU : 42.50 W during 14.95 s [measurement time: 0.0041]\n",
      "[codecarbon INFO @ 13:52:21] 0.003781 kWh of electricity used since the beginning.\n"
     ]
    },
    {
     "name": "stdout",
     "output_type": "stream",
     "text": [
      "\u001b[1m 89/810\u001b[0m \u001b[32m━━\u001b[0m\u001b[37m━━━━━━━━━━━━━━━━━━\u001b[0m \u001b[1m2s\u001b[0m 3ms/step - accuracy: 0.9654 - loss: 0.1289"
     ]
    },
    {
     "name": "stderr",
     "output_type": "stream",
     "text": [
      "[codecarbon DEBUG @ 13:52:21] We apply an energy mix of 238 g.CO2eq/kWh for United Kingdom\n"
     ]
    },
    {
     "name": "stdout",
     "output_type": "stream",
     "text": [
      "\u001b[1m 88/810\u001b[0m \u001b[32m━━\u001b[0m\u001b[37m━━━━━━━━━━━━━━━━━━\u001b[0m \u001b[1m2s\u001b[0m 3ms/step - accuracy: 0.9655 - loss: 0.1289"
     ]
    },
    {
     "name": "stderr",
     "output_type": "stream",
     "text": [
      "[codecarbon DEBUG @ 13:52:21] EmissionsData(timestamp='2024-11-22T13:52:21', project_name='codecarbon', run_id='None', experiment_id='pkqh9CiOkp4MkPqRqM_k8Xc3mwBRpojS3RayIk1i5Pg', duration=241.71326790000012, emissions=0.0008983634975703095, emissions_rate=3.7166495053220415e-06, cpu_power=42.5, gpu_power=2.7084227510903136, ram_power=11.8851900100708, cpu_energy=0.002851395261944445, gpu_energy=0.000214535449406, ram_energy=0.0007152354940307367, energy_consumed=0.0037811662053811815, country_name='United Kingdom', country_iso_code='GBR', region='england', cloud_provider='', cloud_region='', os='Windows-11-10.0.22631-SP0', python_version='3.12.7', codecarbon_version='2.7.4', cpu_count=20, cpu_model='12th Gen Intel(R) Core(TM) i9-12900H', gpu_count=1, gpu_model='1 x NVIDIA GeForce RTX 4060 Laptop GPU', longitude=-0.1905, latitude=51.5005, ram_total_size=31.69384002685547, tracking_mode='machine', on_cloud='N', pue=1.0)\n",
      "[codecarbon INFO @ 13:52:21] 0.003712 g.CO2eq/s mean an estimation of 117.06379051968351 kg.CO2eq/year\n",
      "[codecarbon DEBUG @ 13:52:21] last_duration=13.410532800000055\n",
      "------------------------\n"
     ]
    },
    {
     "name": "stdout",
     "output_type": "stream",
     "text": [
      "\u001b[1m810/810\u001b[0m \u001b[32m━━━━━━━━━━━━━━━━━━━━\u001b[0m\u001b[37m\u001b[0m \u001b[1m6s\u001b[0m 4ms/step - accuracy: 0.9645 - loss: 0.1398 - val_accuracy: 0.9733 - val_loss: 0.1322\n",
      "Epoch 111/500\n",
      "\u001b[1m810/810\u001b[0m \u001b[32m━━━━━━━━━━━━━━━━━━━━\u001b[0m\u001b[37m\u001b[0m \u001b[1m4s\u001b[0m 5ms/step - accuracy: 0.9638 - loss: 0.1399 - val_accuracy: 0.9733 - val_loss: 0.1299\n",
      "Epoch 112/500\n",
      "\u001b[1m810/810\u001b[0m \u001b[32m━━━━━━━━━━━━━━━━━━━━\u001b[0m\u001b[37m\u001b[0m \u001b[1m4s\u001b[0m 5ms/step - accuracy: 0.9679 - loss: 0.1313 - val_accuracy: 0.9733 - val_loss: 0.1304\n",
      "Epoch 113/500\n",
      "\u001b[1m300/810\u001b[0m \u001b[32m━━━━━━━\u001b[0m\u001b[37m━━━━━━━━━━━━━\u001b[0m \u001b[1m1s\u001b[0m 3ms/step - accuracy: 0.9617 - loss: 0.1446"
     ]
    },
    {
     "name": "stderr",
     "output_type": "stream",
     "text": [
      "[codecarbon INFO @ 13:52:35] Energy consumed for RAM : 0.000760 kWh. RAM Power : 11.8851900100708 W\n"
     ]
    },
    {
     "name": "stdout",
     "output_type": "stream",
     "text": [
      "\u001b[1m314/810\u001b[0m \u001b[32m━━━━━━━\u001b[0m\u001b[37m━━━━━━━━━━━━━\u001b[0m \u001b[1m1s\u001b[0m 3ms/step - accuracy: 0.9618 - loss: 0.1443"
     ]
    },
    {
     "name": "stderr",
     "output_type": "stream",
     "text": [
      "[codecarbon DEBUG @ 13:52:35] RAM : 11.89 W during 13.45 s [measurement time: 0.0167]\n"
     ]
    },
    {
     "name": "stdout",
     "output_type": "stream",
     "text": [
      "\u001b[1m796/810\u001b[0m \u001b[32m━━━━━━━━━━━━━━━━━━━\u001b[0m\u001b[37m━\u001b[0m \u001b[1m0s\u001b[0m 3ms/step - accuracy: 0.9634 - loss: 0.1406"
     ]
    },
    {
     "name": "stderr",
     "output_type": "stream",
     "text": [
      "[codecarbon INFO @ 13:52:36] Energy consumed for all GPUs : 0.000225 kWh. Total GPU Power : 2.6982900789940802 W\n",
      "[codecarbon DEBUG @ 13:52:36] GPU : 2.70 W during 13.48 s [measurement time: 1.5211]\n",
      "[codecarbon INFO @ 13:52:36] Energy consumed for all CPUs : 0.003029 kWh. Total CPU Power : 42.5 W\n",
      "[codecarbon DEBUG @ 13:52:36] CPU : 42.50 W during 15.00 s [measurement time: 0.0030]\n",
      "[codecarbon INFO @ 13:52:36] 0.004013 kWh of electricity used since the beginning.\n",
      "[codecarbon DEBUG @ 13:52:36] last_duration=13.448703399999886\n",
      "------------------------\n"
     ]
    },
    {
     "name": "stdout",
     "output_type": "stream",
     "text": [
      "\u001b[1m810/810\u001b[0m \u001b[32m━━━━━━━━━━━━━━━━━━━━\u001b[0m\u001b[37m\u001b[0m \u001b[1m4s\u001b[0m 3ms/step - accuracy: 0.9634 - loss: 0.1406 - val_accuracy: 0.9729 - val_loss: 0.1336\n",
      "Epoch 114/500\n",
      "\u001b[1m810/810\u001b[0m \u001b[32m━━━━━━━━━━━━━━━━━━━━\u001b[0m\u001b[37m\u001b[0m \u001b[1m4s\u001b[0m 5ms/step - accuracy: 0.9634 - loss: 0.1417 - val_accuracy: 0.9733 - val_loss: 0.1314\n",
      "Epoch 115/500\n",
      "\u001b[1m810/810\u001b[0m \u001b[32m━━━━━━━━━━━━━━━━━━━━\u001b[0m\u001b[37m\u001b[0m \u001b[1m3s\u001b[0m 2ms/step - accuracy: 0.9640 - loss: 0.1409 - val_accuracy: 0.9729 - val_loss: 0.1258\n",
      "Epoch 116/500\n",
      "\u001b[1m810/810\u001b[0m \u001b[32m━━━━━━━━━━━━━━━━━━━━\u001b[0m\u001b[37m\u001b[0m \u001b[1m1s\u001b[0m 1ms/step - accuracy: 0.9657 - loss: 0.1376 - val_accuracy: 0.9733 - val_loss: 0.1283\n",
      "Epoch 117/500\n",
      "\u001b[1m810/810\u001b[0m \u001b[32m━━━━━━━━━━━━━━━━━━━━\u001b[0m\u001b[37m\u001b[0m \u001b[1m1s\u001b[0m 2ms/step - accuracy: 0.9653 - loss: 0.1347 - val_accuracy: 0.9733 - val_loss: 0.1269\n",
      "Epoch 118/500\n",
      "\u001b[1m810/810\u001b[0m \u001b[32m━━━━━━━━━━━━━━━━━━━━\u001b[0m\u001b[37m\u001b[0m \u001b[1m2s\u001b[0m 2ms/step - accuracy: 0.9652 - loss: 0.1354 - val_accuracy: 0.9729 - val_loss: 0.1288\n",
      "Epoch 119/500\n",
      "\u001b[1m810/810\u001b[0m \u001b[32m━━━━━━━━━━━━━━━━━━━━\u001b[0m\u001b[37m\u001b[0m \u001b[1m2s\u001b[0m 2ms/step - accuracy: 0.9644 - loss: 0.1381 - val_accuracy: 0.9733 - val_loss: 0.1339\n",
      "Epoch 120/500\n",
      "\u001b[1m325/810\u001b[0m \u001b[32m━━━━━━━━\u001b[0m\u001b[37m━━━━━━━━━━━━\u001b[0m \u001b[1m0s\u001b[0m 1ms/step - accuracy: 0.9674 - loss: 0.1296"
     ]
    },
    {
     "name": "stderr",
     "output_type": "stream",
     "text": [
      "[codecarbon INFO @ 13:52:50] Energy consumed for RAM : 0.000804 kWh. RAM Power : 11.8851900100708 W\n",
      "[codecarbon DEBUG @ 13:52:50] RAM : 11.89 W during 13.45 s [measurement time: 0.0082]\n"
     ]
    },
    {
     "name": "stdout",
     "output_type": "stream",
     "text": [
      "\u001b[1m810/810\u001b[0m \u001b[32m━━━━━━━━━━━━━━━━━━━━\u001b[0m\u001b[37m\u001b[0m \u001b[1m1s\u001b[0m 1ms/step - accuracy: 0.9658 - loss: 0.1350 - val_accuracy: 0.9722 - val_loss: 0.1330\n",
      "Epoch 121/500\n",
      "\u001b[1m586/810\u001b[0m \u001b[32m━━━━━━━━━━━━━━\u001b[0m\u001b[37m━━━━━━\u001b[0m \u001b[1m0s\u001b[0m 1ms/step - accuracy: 0.9627 - loss: 0.1437"
     ]
    },
    {
     "name": "stderr",
     "output_type": "stream",
     "text": [
      "[codecarbon INFO @ 13:52:51] Energy consumed for all GPUs : 0.000236 kWh. Total GPU Power : 3.0896564333025798 W\n",
      "[codecarbon DEBUG @ 13:52:51] GPU : 3.09 W during 13.46 s [measurement time: 1.5014]\n",
      "[codecarbon INFO @ 13:52:51] Energy consumed for all CPUs : 0.003205 kWh. Total CPU Power : 42.5 W\n",
      "[codecarbon DEBUG @ 13:52:51] CPU : 42.50 W during 14.96 s [measurement time: 0.0016]\n",
      "[codecarbon INFO @ 13:52:51] 0.004245 kWh of electricity used since the beginning.\n",
      "[codecarbon DEBUG @ 13:52:51] last_duration=13.446731600000021\n",
      "------------------------\n"
     ]
    },
    {
     "name": "stdout",
     "output_type": "stream",
     "text": [
      "\u001b[1m810/810\u001b[0m \u001b[32m━━━━━━━━━━━━━━━━━━━━\u001b[0m\u001b[37m\u001b[0m \u001b[1m1s\u001b[0m 1ms/step - accuracy: 0.9630 - loss: 0.1429 - val_accuracy: 0.9733 - val_loss: 0.1319\n",
      "Epoch 122/500\n",
      "\u001b[1m810/810\u001b[0m \u001b[32m━━━━━━━━━━━━━━━━━━━━\u001b[0m\u001b[37m\u001b[0m \u001b[1m1s\u001b[0m 2ms/step - accuracy: 0.9668 - loss: 0.1328 - val_accuracy: 0.9733 - val_loss: 0.1302\n",
      "Epoch 123/500\n",
      "\u001b[1m810/810\u001b[0m \u001b[32m━━━━━━━━━━━━━━━━━━━━\u001b[0m\u001b[37m\u001b[0m \u001b[1m2s\u001b[0m 2ms/step - accuracy: 0.9629 - loss: 0.1432 - val_accuracy: 0.9733 - val_loss: 0.1321\n",
      "Epoch 124/500\n",
      "\u001b[1m810/810\u001b[0m \u001b[32m━━━━━━━━━━━━━━━━━━━━\u001b[0m\u001b[37m\u001b[0m \u001b[1m2s\u001b[0m 2ms/step - accuracy: 0.9649 - loss: 0.1394 - val_accuracy: 0.9719 - val_loss: 0.1349\n",
      "Epoch 125/500\n",
      "\u001b[1m810/810\u001b[0m \u001b[32m━━━━━━━━━━━━━━━━━━━━\u001b[0m\u001b[37m\u001b[0m \u001b[1m2s\u001b[0m 2ms/step - accuracy: 0.9651 - loss: 0.1386 - val_accuracy: 0.9733 - val_loss: 0.1308\n",
      "Epoch 126/500\n",
      "\u001b[1m810/810\u001b[0m \u001b[32m━━━━━━━━━━━━━━━━━━━━\u001b[0m\u001b[37m\u001b[0m \u001b[1m2s\u001b[0m 2ms/step - accuracy: 0.9623 - loss: 0.1458 - val_accuracy: 0.9656 - val_loss: 0.1474\n",
      "Epoch 127/500\n",
      "\u001b[1m810/810\u001b[0m \u001b[32m━━━━━━━━━━━━━━━━━━━━\u001b[0m\u001b[37m\u001b[0m \u001b[1m2s\u001b[0m 2ms/step - accuracy: 0.9663 - loss: 0.1326 - val_accuracy: 0.9733 - val_loss: 0.1366\n",
      "Epoch 128/500\n",
      "\u001b[1m810/810\u001b[0m \u001b[32m━━━━━━━━━━━━━━━━━━━━\u001b[0m\u001b[37m\u001b[0m \u001b[1m2s\u001b[0m 2ms/step - accuracy: 0.9644 - loss: 0.1406 - val_accuracy: 0.9729 - val_loss: 0.1271\n",
      "Epoch 129/500\n",
      "\u001b[1m784/810\u001b[0m \u001b[32m━━━━━━━━━━━━━━━━━━━\u001b[0m\u001b[37m━\u001b[0m \u001b[1m0s\u001b[0m 1ms/step - accuracy: 0.9667 - loss: 0.1321"
     ]
    },
    {
     "name": "stderr",
     "output_type": "stream",
     "text": [
      "[codecarbon INFO @ 13:53:05] Energy consumed for RAM : 0.000849 kWh. RAM Power : 11.8851900100708 W\n",
      "[codecarbon DEBUG @ 13:53:05] RAM : 11.89 W during 13.49 s [measurement time: 0.0106]\n"
     ]
    },
    {
     "name": "stdout",
     "output_type": "stream",
     "text": [
      "\u001b[1m810/810\u001b[0m \u001b[32m━━━━━━━━━━━━━━━━━━━━\u001b[0m\u001b[37m\u001b[0m \u001b[1m1s\u001b[0m 2ms/step - accuracy: 0.9667 - loss: 0.1322 - val_accuracy: 0.9733 - val_loss: 0.1340\n",
      "Epoch 130/500\n",
      "\u001b[1m810/810\u001b[0m \u001b[32m━━━━━━━━━━━━━━━━━━━━\u001b[0m\u001b[37m\u001b[0m \u001b[1m1s\u001b[0m 2ms/step - accuracy: 0.9623 - loss: 0.1420 - val_accuracy: 0.9736 - val_loss: 0.1283\n",
      "Epoch 131/500\n",
      "\u001b[1m139/810\u001b[0m \u001b[32m━━━\u001b[0m\u001b[37m━━━━━━━━━━━━━━━━━\u001b[0m \u001b[1m0s\u001b[0m 1ms/step - accuracy: 0.9671 - loss: 0.1301"
     ]
    },
    {
     "name": "stderr",
     "output_type": "stream",
     "text": [
      "[codecarbon INFO @ 13:53:06] Energy consumed for all GPUs : 0.000246 kWh. Total GPU Power : 2.624685089960395 W\n",
      "[codecarbon DEBUG @ 13:53:06] GPU : 2.62 W during 13.51 s [measurement time: 1.4983]\n",
      "[codecarbon INFO @ 13:53:06] Energy consumed for all CPUs : 0.003382 kWh. Total CPU Power : 42.5 W\n",
      "[codecarbon DEBUG @ 13:53:06] CPU : 42.50 W during 15.01 s [measurement time: 0.0012]\n",
      "[codecarbon INFO @ 13:53:06] 0.004477 kWh of electricity used since the beginning.\n",
      "[codecarbon DEBUG @ 13:53:06] last_duration=13.490529700000025\n",
      "------------------------\n"
     ]
    },
    {
     "name": "stdout",
     "output_type": "stream",
     "text": [
      "\u001b[1m810/810\u001b[0m \u001b[32m━━━━━━━━━━━━━━━━━━━━\u001b[0m\u001b[37m\u001b[0m \u001b[1m1s\u001b[0m 1ms/step - accuracy: 0.9668 - loss: 0.1312 - val_accuracy: 0.9729 - val_loss: 0.1281\n",
      "Epoch 132/500\n",
      "\u001b[1m810/810\u001b[0m \u001b[32m━━━━━━━━━━━━━━━━━━━━\u001b[0m\u001b[37m\u001b[0m \u001b[1m1s\u001b[0m 2ms/step - accuracy: 0.9644 - loss: 0.1385 - val_accuracy: 0.9736 - val_loss: 0.1323\n",
      "Epoch 133/500\n",
      "\u001b[1m810/810\u001b[0m \u001b[32m━━━━━━━━━━━━━━━━━━━━\u001b[0m\u001b[37m\u001b[0m \u001b[1m2s\u001b[0m 2ms/step - accuracy: 0.9640 - loss: 0.1381 - val_accuracy: 0.9726 - val_loss: 0.1294\n",
      "Epoch 134/500\n",
      "\u001b[1m810/810\u001b[0m \u001b[32m━━━━━━━━━━━━━━━━━━━━\u001b[0m\u001b[37m\u001b[0m \u001b[1m2s\u001b[0m 2ms/step - accuracy: 0.9672 - loss: 0.1268 - val_accuracy: 0.9736 - val_loss: 0.1285\n",
      "Epoch 135/500\n",
      "\u001b[1m810/810\u001b[0m \u001b[32m━━━━━━━━━━━━━━━━━━━━\u001b[0m\u001b[37m\u001b[0m \u001b[1m2s\u001b[0m 2ms/step - accuracy: 0.9661 - loss: 0.1361 - val_accuracy: 0.9729 - val_loss: 0.1294\n",
      "Epoch 136/500\n",
      "\u001b[1m810/810\u001b[0m \u001b[32m━━━━━━━━━━━━━━━━━━━━\u001b[0m\u001b[37m\u001b[0m \u001b[1m1s\u001b[0m 2ms/step - accuracy: 0.9659 - loss: 0.1369 - val_accuracy: 0.9733 - val_loss: 0.1320\n",
      "Epoch 137/500\n",
      "\u001b[1m810/810\u001b[0m \u001b[32m━━━━━━━━━━━━━━━━━━━━\u001b[0m\u001b[37m\u001b[0m \u001b[1m1s\u001b[0m 2ms/step - accuracy: 0.9664 - loss: 0.1337 - val_accuracy: 0.9726 - val_loss: 0.1288\n",
      "Epoch 138/500\n",
      "\u001b[1m810/810\u001b[0m \u001b[32m━━━━━━━━━━━━━━━━━━━━\u001b[0m\u001b[37m\u001b[0m \u001b[1m1s\u001b[0m 2ms/step - accuracy: 0.9647 - loss: 0.1348 - val_accuracy: 0.9733 - val_loss: 0.1311\n",
      "Epoch 139/500\n",
      "\u001b[1m810/810\u001b[0m \u001b[32m━━━━━━━━━━━━━━━━━━━━\u001b[0m\u001b[37m\u001b[0m \u001b[1m1s\u001b[0m 2ms/step - accuracy: 0.9652 - loss: 0.1369 - val_accuracy: 0.9733 - val_loss: 0.1302\n",
      "Epoch 140/500\n",
      "\u001b[1m370/810\u001b[0m \u001b[32m━━━━━━━━━\u001b[0m\u001b[37m━━━━━━━━━━━\u001b[0m \u001b[1m0s\u001b[0m 2ms/step - accuracy: 0.9676 - loss: 0.1271"
     ]
    },
    {
     "name": "stderr",
     "output_type": "stream",
     "text": [
      "[codecarbon INFO @ 13:53:20] Energy consumed for RAM : 0.000893 kWh. RAM Power : 11.8851900100708 W\n",
      "[codecarbon DEBUG @ 13:53:20] RAM : 11.89 W during 13.48 s [measurement time: 0.0080]\n"
     ]
    },
    {
     "name": "stdout",
     "output_type": "stream",
     "text": [
      "\u001b[1m810/810\u001b[0m \u001b[32m━━━━━━━━━━━━━━━━━━━━\u001b[0m\u001b[37m\u001b[0m \u001b[1m1s\u001b[0m 2ms/step - accuracy: 0.9662 - loss: 0.1316 - val_accuracy: 0.9733 - val_loss: 0.1349\n",
      "Epoch 141/500\n"
     ]
    },
    {
     "name": "stderr",
     "output_type": "stream",
     "text": [
      "[codecarbon INFO @ 13:53:21] Energy consumed for all GPUs : 0.000256 kWh. Total GPU Power : 2.6394700634840524 W\n",
      "[codecarbon DEBUG @ 13:53:21] GPU : 2.64 W during 13.49 s [measurement time: 1.5116]\n",
      "[codecarbon INFO @ 13:53:21] Energy consumed for all CPUs : 0.003560 kWh. Total CPU Power : 42.5 W\n",
      "[codecarbon DEBUG @ 13:53:21] CPU : 42.50 W during 15.01 s [measurement time: 0.0013]\n",
      "[codecarbon INFO @ 13:53:21] 0.004709 kWh of electricity used since the beginning.\n",
      "[codecarbon DEBUG @ 13:53:21] last_duration=13.479475900000125\n",
      "------------------------\n"
     ]
    },
    {
     "name": "stdout",
     "output_type": "stream",
     "text": [
      "\u001b[1m810/810\u001b[0m \u001b[32m━━━━━━━━━━━━━━━━━━━━\u001b[0m\u001b[37m\u001b[0m \u001b[1m3s\u001b[0m 2ms/step - accuracy: 0.9662 - loss: 0.1355 - val_accuracy: 0.9733 - val_loss: 0.1321\n",
      "Epoch 142/500\n",
      "\u001b[1m810/810\u001b[0m \u001b[32m━━━━━━━━━━━━━━━━━━━━\u001b[0m\u001b[37m\u001b[0m \u001b[1m3s\u001b[0m 4ms/step - accuracy: 0.9645 - loss: 0.1378 - val_accuracy: 0.9705 - val_loss: 0.1415\n",
      "Epoch 143/500\n",
      "\u001b[1m810/810\u001b[0m \u001b[32m━━━━━━━━━━━━━━━━━━━━\u001b[0m\u001b[37m\u001b[0m \u001b[1m4s\u001b[0m 5ms/step - accuracy: 0.9670 - loss: 0.1299 - val_accuracy: 0.9733 - val_loss: 0.1287\n",
      "Epoch 144/500\n",
      "\u001b[1m808/810\u001b[0m \u001b[32m━━━━━━━━━━━━━━━━━━━\u001b[0m\u001b[37m━\u001b[0m \u001b[1m0s\u001b[0m 3ms/step - accuracy: 0.9635 - loss: 0.1384"
     ]
    },
    {
     "name": "stderr",
     "output_type": "stream",
     "text": [
      "[codecarbon INFO @ 13:53:35] Energy consumed for RAM : 0.000938 kWh. RAM Power : 11.8851900100708 W\n",
      "[codecarbon DEBUG @ 13:53:35] RAM : 11.89 W during 13.49 s [measurement time: 0.0187]\n"
     ]
    },
    {
     "name": "stdout",
     "output_type": "stream",
     "text": [
      "\u001b[1m810/810\u001b[0m \u001b[32m━━━━━━━━━━━━━━━━━━━━\u001b[0m\u001b[37m\u001b[0m \u001b[1m4s\u001b[0m 4ms/step - accuracy: 0.9635 - loss: 0.1384 - val_accuracy: 0.9733 - val_loss: 0.1308\n",
      "Epoch 145/500\n",
      "\u001b[1m299/810\u001b[0m \u001b[32m━━━━━━━\u001b[0m\u001b[37m━━━━━━━━━━━━━\u001b[0m \u001b[1m2s\u001b[0m 4ms/step - accuracy: 0.9635 - loss: 0.1363"
     ]
    },
    {
     "name": "stderr",
     "output_type": "stream",
     "text": [
      "[codecarbon INFO @ 13:53:36] Energy consumed for all GPUs : 0.000269 kWh. Total GPU Power : 3.5008774868626094 W\n",
      "[codecarbon DEBUG @ 13:53:36] GPU : 3.50 W during 13.52 s [measurement time: 1.5172]\n"
     ]
    },
    {
     "name": "stdout",
     "output_type": "stream",
     "text": [
      "\u001b[1m311/810\u001b[0m \u001b[32m━━━━━━━\u001b[0m\u001b[37m━━━━━━━━━━━━━\u001b[0m \u001b[1m2s\u001b[0m 4ms/step - accuracy: 0.9635 - loss: 0.1364"
     ]
    },
    {
     "name": "stderr",
     "output_type": "stream",
     "text": [
      "[codecarbon INFO @ 13:53:36] Energy consumed for all CPUs : 0.003737 kWh. Total CPU Power : 42.5 W\n"
     ]
    },
    {
     "name": "stdout",
     "output_type": "stream",
     "text": [
      "\u001b[1m313/810\u001b[0m \u001b[32m━━━━━━━\u001b[0m\u001b[37m━━━━━━━━━━━━━\u001b[0m \u001b[1m2s\u001b[0m 4ms/step - accuracy: 0.9635 - loss: 0.1364"
     ]
    },
    {
     "name": "stderr",
     "output_type": "stream",
     "text": [
      "[codecarbon DEBUG @ 13:53:36] CPU : 42.50 W during 15.05 s [measurement time: 0.0115]\n",
      "[codecarbon INFO @ 13:53:36] 0.004944 kWh of electricity used since the beginning.\n"
     ]
    },
    {
     "name": "stdout",
     "output_type": "stream",
     "text": [
      "\u001b[1m314/810\u001b[0m \u001b[32m━━━━━━━\u001b[0m\u001b[37m━━━━━━━━━━━━━\u001b[0m \u001b[1m2s\u001b[0m 4ms/step - accuracy: 0.9635 - loss: 0.1364"
     ]
    },
    {
     "name": "stderr",
     "output_type": "stream",
     "text": [
      "[codecarbon DEBUG @ 13:53:36] last_duration=13.490512500000023\n",
      "------------------------\n"
     ]
    },
    {
     "name": "stdout",
     "output_type": "stream",
     "text": [
      "\u001b[1m810/810\u001b[0m \u001b[32m━━━━━━━━━━━━━━━━━━━━\u001b[0m\u001b[37m\u001b[0m \u001b[1m4s\u001b[0m 5ms/step - accuracy: 0.9641 - loss: 0.1358 - val_accuracy: 0.9733 - val_loss: 0.1333\n",
      "Epoch 146/500\n",
      "\u001b[1m810/810\u001b[0m \u001b[32m━━━━━━━━━━━━━━━━━━━━\u001b[0m\u001b[37m\u001b[0m \u001b[1m4s\u001b[0m 3ms/step - accuracy: 0.9647 - loss: 0.1357 - val_accuracy: 0.9733 - val_loss: 0.1326\n",
      "Epoch 147/500\n",
      "\u001b[1m810/810\u001b[0m \u001b[32m━━━━━━━━━━━━━━━━━━━━\u001b[0m\u001b[37m\u001b[0m \u001b[1m4s\u001b[0m 4ms/step - accuracy: 0.9610 - loss: 0.1456 - val_accuracy: 0.9701 - val_loss: 0.1458\n",
      "Epoch 148/500\n",
      "\u001b[1m760/810\u001b[0m \u001b[32m━━━━━━━━━━━━━━━━━━\u001b[0m\u001b[37m━━\u001b[0m \u001b[1m0s\u001b[0m 4ms/step - accuracy: 0.9629 - loss: 0.1426"
     ]
    },
    {
     "name": "stderr",
     "output_type": "stream",
     "text": [
      "[codecarbon INFO @ 13:53:50] Energy consumed for RAM : 0.000982 kWh. RAM Power : 11.8851900100708 W\n",
      "[codecarbon DEBUG @ 13:53:50] RAM : 11.89 W during 13.42 s [measurement time: 0.0375]\n"
     ]
    },
    {
     "name": "stdout",
     "output_type": "stream",
     "text": [
      "\u001b[1m810/810\u001b[0m \u001b[32m━━━━━━━━━━━━━━━━━━━━\u001b[0m\u001b[37m\u001b[0m \u001b[1m4s\u001b[0m 4ms/step - accuracy: 0.9630 - loss: 0.1420 - val_accuracy: 0.9733 - val_loss: 0.1296\n",
      "Epoch 149/500\n",
      "\u001b[1m249/810\u001b[0m \u001b[32m━━━━━━\u001b[0m\u001b[37m━━━━━━━━━━━━━━\u001b[0m \u001b[1m2s\u001b[0m 4ms/step - accuracy: 0.9669 - loss: 0.1285"
     ]
    },
    {
     "name": "stderr",
     "output_type": "stream",
     "text": [
      "[codecarbon INFO @ 13:53:51] Energy consumed for all GPUs : 0.000284 kWh. Total GPU Power : 4.017310218351542 W\n",
      "[codecarbon DEBUG @ 13:53:51] GPU : 4.02 W during 13.48 s [measurement time: 1.5213]\n",
      "[codecarbon INFO @ 13:53:51] Energy consumed for all CPUs : 0.003914 kWh. Total CPU Power : 42.5 W\n",
      "[codecarbon DEBUG @ 13:53:51] CPU : 42.50 W during 15.01 s [measurement time: 0.0070]\n",
      "[codecarbon INFO @ 13:53:51] 0.005180 kWh of electricity used since the beginning.\n"
     ]
    },
    {
     "name": "stdout",
     "output_type": "stream",
     "text": [
      "\u001b[1m266/810\u001b[0m \u001b[32m━━━━━━\u001b[0m\u001b[37m━━━━━━━━━━━━━━\u001b[0m \u001b[1m2s\u001b[0m 4ms/step - accuracy: 0.9667 - loss: 0.1289"
     ]
    },
    {
     "name": "stderr",
     "output_type": "stream",
     "text": [
      "[codecarbon DEBUG @ 13:53:51] last_duration=13.422109300000102\n",
      "------------------------\n"
     ]
    },
    {
     "name": "stdout",
     "output_type": "stream",
     "text": [
      "\u001b[1m810/810\u001b[0m \u001b[32m━━━━━━━━━━━━━━━━━━━━\u001b[0m\u001b[37m\u001b[0m \u001b[1m4s\u001b[0m 4ms/step - accuracy: 0.9654 - loss: 0.1338 - val_accuracy: 0.9729 - val_loss: 0.1302\n",
      "Epoch 150/500\n",
      "\u001b[1m810/810\u001b[0m \u001b[32m━━━━━━━━━━━━━━━━━━━━\u001b[0m\u001b[37m\u001b[0m \u001b[1m4s\u001b[0m 5ms/step - accuracy: 0.9646 - loss: 0.1344 - val_accuracy: 0.9736 - val_loss: 0.1344\n",
      "Epoch 151/500\n",
      "\u001b[1m810/810\u001b[0m \u001b[32m━━━━━━━━━━━━━━━━━━━━\u001b[0m\u001b[37m\u001b[0m \u001b[1m4s\u001b[0m 5ms/step - accuracy: 0.9653 - loss: 0.1317 - val_accuracy: 0.9729 - val_loss: 0.1319\n",
      "Epoch 152/500\n",
      "\u001b[1m614/810\u001b[0m \u001b[32m━━━━━━━━━━━━━━━\u001b[0m\u001b[37m━━━━━\u001b[0m \u001b[1m0s\u001b[0m 5ms/step - accuracy: 0.9694 - loss: 0.1234"
     ]
    },
    {
     "name": "stderr",
     "output_type": "stream",
     "text": [
      "[codecarbon INFO @ 13:54:05] Energy consumed for RAM : 0.001026 kWh. RAM Power : 11.8851900100708 W\n",
      "[codecarbon DEBUG @ 13:54:05] RAM : 11.89 W during 13.38 s [measurement time: 0.0385]\n"
     ]
    },
    {
     "name": "stdout",
     "output_type": "stream",
     "text": [
      "\u001b[1m810/810\u001b[0m \u001b[32m━━━━━━━━━━━━━━━━━━━━\u001b[0m\u001b[37m\u001b[0m \u001b[1m4s\u001b[0m 5ms/step - accuracy: 0.9687 - loss: 0.1255 - val_accuracy: 0.9729 - val_loss: 0.1293\n",
      "Epoch 153/500\n"
     ]
    },
    {
     "name": "stderr",
     "output_type": "stream",
     "text": [
      "[codecarbon INFO @ 13:54:06] Energy consumed for all GPUs : 0.000294 kWh. Total GPU Power : 2.778485341030083 W\n",
      "[codecarbon DEBUG @ 13:54:06] GPU : 2.78 W during 13.43 s [measurement time: 1.5031]\n",
      "[codecarbon INFO @ 13:54:06] Energy consumed for all CPUs : 0.004091 kWh. Total CPU Power : 42.5 W\n",
      "[codecarbon DEBUG @ 13:54:06] CPU : 42.50 W during 14.94 s [measurement time: 0.0013]\n",
      "[codecarbon INFO @ 13:54:06] 0.005411 kWh of electricity used since the beginning.\n",
      "[codecarbon DEBUG @ 13:54:06] last_duration=13.3827639000001\n",
      "------------------------\n"
     ]
    },
    {
     "name": "stdout",
     "output_type": "stream",
     "text": [
      "\u001b[1m810/810\u001b[0m \u001b[32m━━━━━━━━━━━━━━━━━━━━\u001b[0m\u001b[37m\u001b[0m \u001b[1m4s\u001b[0m 4ms/step - accuracy: 0.9647 - loss: 0.1351 - val_accuracy: 0.9733 - val_loss: 0.1334\n",
      "Epoch 154/500\n",
      "\u001b[1m810/810\u001b[0m \u001b[32m━━━━━━━━━━━━━━━━━━━━\u001b[0m\u001b[37m\u001b[0m \u001b[1m5s\u001b[0m 3ms/step - accuracy: 0.9650 - loss: 0.1349 - val_accuracy: 0.9733 - val_loss: 0.1327\n",
      "Epoch 155/500\n",
      "\u001b[1m810/810\u001b[0m \u001b[32m━━━━━━━━━━━━━━━━━━━━\u001b[0m\u001b[37m\u001b[0m \u001b[1m5s\u001b[0m 5ms/step - accuracy: 0.9660 - loss: 0.1344 - val_accuracy: 0.9729 - val_loss: 0.1326\n",
      "Epoch 156/500\n",
      "\u001b[1m  2/810\u001b[0m \u001b[37m━━━━━━━━━━━━━━━━━━━━\u001b[0m \u001b[1m5s\u001b[0m 6ms/step - accuracy: 1.0000 - loss: 0.04350460"
     ]
    },
    {
     "name": "stderr",
     "output_type": "stream",
     "text": [
      "[codecarbon INFO @ 13:54:20] Energy consumed for RAM : 0.001071 kWh. RAM Power : 11.8851900100708 W\n"
     ]
    },
    {
     "name": "stdout",
     "output_type": "stream",
     "text": [
      "\u001b[1m  3/810\u001b[0m \u001b[37m━━━━━━━━━━━━━━━━━━━━\u001b[0m \u001b[1m5s\u001b[0m 7ms/step - accuracy: 1.0000 - loss: 0.0514"
     ]
    },
    {
     "name": "stderr",
     "output_type": "stream",
     "text": [
      "[codecarbon DEBUG @ 13:54:20] RAM : 11.89 W during 13.46 s [measurement time: 0.0243]\n"
     ]
    },
    {
     "name": "stdout",
     "output_type": "stream",
     "text": [
      "\u001b[1m361/810\u001b[0m \u001b[32m━━━━━━━━\u001b[0m\u001b[37m━━━━━━━━━━━━\u001b[0m \u001b[1m1s\u001b[0m 4ms/step - accuracy: 0.9665 - loss: 0.1304"
     ]
    },
    {
     "name": "stderr",
     "output_type": "stream",
     "text": [
      "[codecarbon INFO @ 13:54:21] Energy consumed for all GPUs : 0.000305 kWh. Total GPU Power : 2.7450286490203686 W\n",
      "[codecarbon DEBUG @ 13:54:21] GPU : 2.75 W during 13.50 s [measurement time: 1.5422]\n",
      "[codecarbon INFO @ 13:54:21] Energy consumed for all CPUs : 0.004268 kWh. Total CPU Power : 42.5 W\n",
      "[codecarbon DEBUG @ 13:54:21] CPU : 42.50 W during 15.04 s [measurement time: 0.0024]\n",
      "[codecarbon INFO @ 13:54:21] 0.005644 kWh of electricity used since the beginning.\n",
      "[codecarbon DEBUG @ 13:54:21] We apply an energy mix of 238 g.CO2eq/kWh for United Kingdom\n",
      "[codecarbon DEBUG @ 13:54:21] EmissionsData(timestamp='2024-11-22T13:54:21', project_name='codecarbon', run_id='None', experiment_id='pkqh9CiOkp4MkPqRqM_k8Xc3mwBRpojS3RayIk1i5Pg', duration=361.8346597999998, emissions=0.0013408568491089738, emissions_rate=3.7057169975096297e-06, cpu_power=42.5, gpu_power=2.7450286490203686, ram_power=11.8851900100708, cpu_energy=0.004268283440972228, gpu_energy=0.0003047860771619998, ram_energy=0.0010705286665838077, energy_consumed=0.005643598184718037, country_name='United Kingdom', country_iso_code='GBR', region='england', cloud_provider='', cloud_region='', os='Windows-11-10.0.22631-SP0', python_version='3.12.7', codecarbon_version='2.7.4', cpu_count=20, cpu_model='12th Gen Intel(R) Core(TM) i9-12900H', gpu_count=1, gpu_model='1 x NVIDIA GeForce RTX 4060 Laptop GPU', longitude=-0.1905, latitude=51.5005, ram_total_size=31.69384002685547, tracking_mode='machine', on_cloud='N', pue=1.0)\n",
      "[codecarbon INFO @ 13:54:21] 0.003684 g.CO2eq/s mean an estimation of 116.16973557666003 kg.CO2eq/year\n",
      "[codecarbon DEBUG @ 13:54:21] last_duration=13.456680700000106\n",
      "------------------------\n"
     ]
    },
    {
     "name": "stdout",
     "output_type": "stream",
     "text": [
      "\u001b[1m810/810\u001b[0m \u001b[32m━━━━━━━━━━━━━━━━━━━━\u001b[0m\u001b[37m\u001b[0m \u001b[1m4s\u001b[0m 5ms/step - accuracy: 0.9661 - loss: 0.1313 - val_accuracy: 0.9726 - val_loss: 0.1361\n",
      "Epoch 157/500\n",
      "\u001b[1m810/810\u001b[0m \u001b[32m━━━━━━━━━━━━━━━━━━━━\u001b[0m\u001b[37m\u001b[0m \u001b[1m4s\u001b[0m 4ms/step - accuracy: 0.9668 - loss: 0.1303 - val_accuracy: 0.9729 - val_loss: 0.1358\n",
      "Epoch 158/500\n",
      "\u001b[1m810/810\u001b[0m \u001b[32m━━━━━━━━━━━━━━━━━━━━\u001b[0m\u001b[37m\u001b[0m \u001b[1m4s\u001b[0m 5ms/step - accuracy: 0.9648 - loss: 0.1350 - val_accuracy: 0.9684 - val_loss: 0.1401\n",
      "Epoch 159/500\n",
      "\u001b[1m675/810\u001b[0m \u001b[32m━━━━━━━━━━━━━━━━\u001b[0m\u001b[37m━━━━\u001b[0m \u001b[1m0s\u001b[0m 4ms/step - accuracy: 0.9630 - loss: 0.1400"
     ]
    },
    {
     "name": "stderr",
     "output_type": "stream",
     "text": [
      "[codecarbon INFO @ 13:54:35] Energy consumed for RAM : 0.001115 kWh. RAM Power : 11.8851900100708 W\n"
     ]
    },
    {
     "name": "stdout",
     "output_type": "stream",
     "text": [
      "\u001b[1m681/810\u001b[0m \u001b[32m━━━━━━━━━━━━━━━━\u001b[0m\u001b[37m━━━━\u001b[0m \u001b[1m0s\u001b[0m 4ms/step - accuracy: 0.9630 - loss: 0.1399"
     ]
    },
    {
     "name": "stderr",
     "output_type": "stream",
     "text": [
      "[codecarbon DEBUG @ 13:54:35] RAM : 11.89 W during 13.41 s [measurement time: 0.0187]\n"
     ]
    },
    {
     "name": "stdout",
     "output_type": "stream",
     "text": [
      "\u001b[1m810/810\u001b[0m \u001b[32m━━━━━━━━━━━━━━━━━━━━\u001b[0m\u001b[37m\u001b[0m \u001b[1m4s\u001b[0m 5ms/step - accuracy: 0.9633 - loss: 0.1388 - val_accuracy: 0.9733 - val_loss: 0.1344\n",
      "Epoch 160/500\n",
      "\u001b[1m 38/810\u001b[0m \u001b[37m━━━━━━━━━━━━━━━━━━━━\u001b[0m \u001b[1m3s\u001b[0m 4ms/step - accuracy: 0.9688 - loss: 0.1297"
     ]
    },
    {
     "name": "stderr",
     "output_type": "stream",
     "text": [
      "[codecarbon INFO @ 13:54:36] Energy consumed for all GPUs : 0.000315 kWh. Total GPU Power : 2.7860577084711724 W\n",
      "[codecarbon DEBUG @ 13:54:36] GPU : 2.79 W during 13.46 s [measurement time: 1.5299]\n",
      "[codecarbon INFO @ 13:54:36] Energy consumed for all CPUs : 0.004445 kWh. Total CPU Power : 42.5 W\n"
     ]
    },
    {
     "name": "stdout",
     "output_type": "stream",
     "text": [
      "\u001b[1m 39/810\u001b[0m \u001b[37m━━━━━━━━━━━━━━━━━━━━\u001b[0m \u001b[1m3s\u001b[0m 5ms/step - accuracy: 0.9687 - loss: 0.1302"
     ]
    },
    {
     "name": "stderr",
     "output_type": "stream",
     "text": [
      "[codecarbon DEBUG @ 13:54:36] CPU : 42.50 W during 15.00 s [measurement time: 0.0108]\n",
      "[codecarbon INFO @ 13:54:36] 0.005875 kWh of electricity used since the beginning.\n",
      "[codecarbon DEBUG @ 13:54:37] last_duration=13.413437899999735\n",
      "------------------------\n"
     ]
    },
    {
     "name": "stdout",
     "output_type": "stream",
     "text": [
      "\u001b[1m810/810\u001b[0m \u001b[32m━━━━━━━━━━━━━━━━━━━━\u001b[0m\u001b[37m\u001b[0m \u001b[1m4s\u001b[0m 5ms/step - accuracy: 0.9649 - loss: 0.1344 - val_accuracy: 0.9733 - val_loss: 0.1301\n",
      "Epoch 161/500\n",
      "\u001b[1m810/810\u001b[0m \u001b[32m━━━━━━━━━━━━━━━━━━━━\u001b[0m\u001b[37m\u001b[0m \u001b[1m5s\u001b[0m 6ms/step - accuracy: 0.9650 - loss: 0.1356 - val_accuracy: 0.9729 - val_loss: 0.1385\n",
      "Epoch 162/500\n",
      "\u001b[1m810/810\u001b[0m \u001b[32m━━━━━━━━━━━━━━━━━━━━\u001b[0m\u001b[37m\u001b[0m \u001b[1m4s\u001b[0m 4ms/step - accuracy: 0.9644 - loss: 0.1342 - val_accuracy: 0.9733 - val_loss: 0.1337\n",
      "Epoch 163/500\n"
     ]
    },
    {
     "name": "stderr",
     "output_type": "stream",
     "text": [
      "[codecarbon INFO @ 13:54:50] Energy consumed for RAM : 0.001159 kWh. RAM Power : 11.8851900100708 W\n",
      "[codecarbon DEBUG @ 13:54:50] RAM : 11.89 W during 13.40 s [measurement time: 0.0141]\n"
     ]
    },
    {
     "name": "stdout",
     "output_type": "stream",
     "text": [
      "\u001b[1m110/810\u001b[0m \u001b[32m━━\u001b[0m\u001b[37m━━━━━━━━━━━━━━━━━━\u001b[0m \u001b[1m1s\u001b[0m 3ms/step - accuracy: 0.9640 - loss: 0.1358"
     ]
    },
    {
     "name": "stderr",
     "output_type": "stream",
     "text": [
      "[codecarbon INFO @ 13:54:51] Energy consumed for all GPUs : 0.000331 kWh. Total GPU Power : 4.255360666445495 W\n"
     ]
    },
    {
     "name": "stdout",
     "output_type": "stream",
     "text": [
      "\u001b[1m130/810\u001b[0m \u001b[32m━━━\u001b[0m\u001b[37m━━━━━━━━━━━━━━━━━\u001b[0m \u001b[1m1s\u001b[0m 3ms/step - accuracy: 0.9641 - loss: 0.1356"
     ]
    },
    {
     "name": "stderr",
     "output_type": "stream",
     "text": [
      "[codecarbon DEBUG @ 13:54:51] GPU : 4.26 W during 13.42 s [measurement time: 1.5232]\n"
     ]
    },
    {
     "name": "stdout",
     "output_type": "stream",
     "text": [
      "\u001b[1m131/810\u001b[0m \u001b[32m━━━\u001b[0m\u001b[37m━━━━━━━━━━━━━━━━━\u001b[0m \u001b[1m1s\u001b[0m 3ms/step - accuracy: 0.9642 - loss: 0.1356"
     ]
    },
    {
     "name": "stderr",
     "output_type": "stream",
     "text": [
      "[codecarbon INFO @ 13:54:51] Energy consumed for all CPUs : 0.004622 kWh. Total CPU Power : 42.5 W\n",
      "[codecarbon DEBUG @ 13:54:51] CPU : 42.50 W during 14.95 s [measurement time: 0.0036]\n",
      "[codecarbon INFO @ 13:54:51] 0.006112 kWh of electricity used since the beginning.\n",
      "[codecarbon DEBUG @ 13:54:51] last_duration=13.397376700000223\n",
      "------------------------\n"
     ]
    },
    {
     "name": "stdout",
     "output_type": "stream",
     "text": [
      "\u001b[1m810/810\u001b[0m \u001b[32m━━━━━━━━━━━━━━━━━━━━\u001b[0m\u001b[37m\u001b[0m \u001b[1m6s\u001b[0m 4ms/step - accuracy: 0.9658 - loss: 0.1310 - val_accuracy: 0.9729 - val_loss: 0.1354\n",
      "Epoch 164/500\n",
      "\u001b[1m810/810\u001b[0m \u001b[32m━━━━━━━━━━━━━━━━━━━━\u001b[0m\u001b[37m\u001b[0m \u001b[1m4s\u001b[0m 5ms/step - accuracy: 0.9647 - loss: 0.1334 - val_accuracy: 0.9729 - val_loss: 0.1326\n",
      "Epoch 165/500\n",
      "\u001b[1m810/810\u001b[0m \u001b[32m━━━━━━━━━━━━━━━━━━━━\u001b[0m\u001b[37m\u001b[0m \u001b[1m4s\u001b[0m 5ms/step - accuracy: 0.9657 - loss: 0.1333 - val_accuracy: 0.9733 - val_loss: 0.1354\n",
      "Epoch 166/500\n",
      "\u001b[1m268/810\u001b[0m \u001b[32m━━━━━━\u001b[0m\u001b[37m━━━━━━━━━━━━━━\u001b[0m \u001b[1m1s\u001b[0m 3ms/step - accuracy: 0.9650 - loss: 0.1291"
     ]
    },
    {
     "name": "stderr",
     "output_type": "stream",
     "text": [
      "[codecarbon INFO @ 13:55:05] Energy consumed for RAM : 0.001203 kWh. RAM Power : 11.8851900100708 W\n",
      "[codecarbon DEBUG @ 13:55:05] RAM : 11.89 W during 13.46 s [measurement time: 0.0262]\n"
     ]
    },
    {
     "name": "stdout",
     "output_type": "stream",
     "text": [
      "\u001b[1m754/810\u001b[0m \u001b[32m━━━━━━━━━━━━━━━━━━\u001b[0m\u001b[37m━━\u001b[0m \u001b[1m0s\u001b[0m 3ms/step - accuracy: 0.9655 - loss: 0.1301"
     ]
    },
    {
     "name": "stderr",
     "output_type": "stream",
     "text": [
      "[codecarbon INFO @ 13:55:06] Energy consumed for all GPUs : 0.000341 kWh. Total GPU Power : 2.70606338117516 W\n",
      "[codecarbon DEBUG @ 13:55:06] GPU : 2.71 W during 13.50 s [measurement time: 1.5280]\n"
     ]
    },
    {
     "name": "stdout",
     "output_type": "stream",
     "text": [
      "\u001b[1m755/810\u001b[0m \u001b[32m━━━━━━━━━━━━━━━━━━\u001b[0m\u001b[37m━━\u001b[0m \u001b[1m0s\u001b[0m 3ms/step - accuracy: 0.9655 - loss: 0.1301"
     ]
    },
    {
     "name": "stderr",
     "output_type": "stream",
     "text": [
      "[codecarbon INFO @ 13:55:06] Energy consumed for all CPUs : 0.004799 kWh. Total CPU Power : 42.5 W\n",
      "[codecarbon DEBUG @ 13:55:07] CPU : 42.50 W during 15.03 s [measurement time: 0.0097]\n",
      "[codecarbon INFO @ 13:55:07] 0.006344 kWh of electricity used since the beginning.\n",
      "[codecarbon DEBUG @ 13:55:07] last_duration=13.455008900000394\n",
      "------------------------\n"
     ]
    },
    {
     "name": "stdout",
     "output_type": "stream",
     "text": [
      "\u001b[1m810/810\u001b[0m \u001b[32m━━━━━━━━━━━━━━━━━━━━\u001b[0m\u001b[37m\u001b[0m \u001b[1m4s\u001b[0m 4ms/step - accuracy: 0.9655 - loss: 0.1303 - val_accuracy: 0.9733 - val_loss: 0.1331\n",
      "Epoch 167/500\n",
      "\u001b[1m810/810\u001b[0m \u001b[32m━━━━━━━━━━━━━━━━━━━━\u001b[0m\u001b[37m\u001b[0m \u001b[1m5s\u001b[0m 4ms/step - accuracy: 0.9655 - loss: 0.1313 - val_accuracy: 0.9733 - val_loss: 0.1317\n",
      "Epoch 168/500\n",
      "\u001b[1m810/810\u001b[0m \u001b[32m━━━━━━━━━━━━━━━━━━━━\u001b[0m\u001b[37m\u001b[0m \u001b[1m6s\u001b[0m 5ms/step - accuracy: 0.9650 - loss: 0.1340 - val_accuracy: 0.9729 - val_loss: 0.1331\n",
      "Epoch 169/500\n",
      "\u001b[1m368/810\u001b[0m \u001b[32m━━━━━━━━━\u001b[0m\u001b[37m━━━━━━━━━━━\u001b[0m \u001b[1m1s\u001b[0m 4ms/step - accuracy: 0.9728 - loss: 0.1032"
     ]
    },
    {
     "name": "stderr",
     "output_type": "stream",
     "text": [
      "[codecarbon INFO @ 13:55:20] Energy consumed for RAM : 0.001248 kWh. RAM Power : 11.8851900100708 W\n"
     ]
    },
    {
     "name": "stdout",
     "output_type": "stream",
     "text": [
      "\u001b[1m370/810\u001b[0m \u001b[32m━━━━━━━━━\u001b[0m\u001b[37m━━━━━━━━━━━\u001b[0m \u001b[1m1s\u001b[0m 4ms/step - accuracy: 0.9728 - loss: 0.1033"
     ]
    },
    {
     "name": "stderr",
     "output_type": "stream",
     "text": [
      "[codecarbon DEBUG @ 13:55:20] RAM : 11.89 W during 13.41 s [measurement time: 0.0233]\n"
     ]
    },
    {
     "name": "stdout",
     "output_type": "stream",
     "text": [
      "\u001b[1m746/810\u001b[0m \u001b[32m━━━━━━━━━━━━━━━━━━\u001b[0m\u001b[37m━━\u001b[0m \u001b[1m0s\u001b[0m 4ms/step - accuracy: 0.9697 - loss: 0.1144"
     ]
    },
    {
     "name": "stderr",
     "output_type": "stream",
     "text": [
      "[codecarbon INFO @ 13:55:21] Energy consumed for all GPUs : 0.000352 kWh. Total GPU Power : 2.825655424506769 W\n",
      "[codecarbon DEBUG @ 13:55:22] GPU : 2.83 W during 13.45 s [measurement time: 1.5316]\n",
      "[codecarbon INFO @ 13:55:22] Energy consumed for all CPUs : 0.004976 kWh. Total CPU Power : 42.5 W\n",
      "[codecarbon DEBUG @ 13:55:22] CPU : 42.50 W during 14.99 s [measurement time: 0.0069]\n",
      "[codecarbon INFO @ 13:55:22] 0.006576 kWh of electricity used since the beginning.\n",
      "[codecarbon DEBUG @ 13:55:22] last_duration=13.40634769999997\n",
      "------------------------\n"
     ]
    },
    {
     "name": "stdout",
     "output_type": "stream",
     "text": [
      "\u001b[1m810/810\u001b[0m \u001b[32m━━━━━━━━━━━━━━━━━━━━\u001b[0m\u001b[37m\u001b[0m \u001b[1m4s\u001b[0m 5ms/step - accuracy: 0.9694 - loss: 0.1157 - val_accuracy: 0.9712 - val_loss: 0.1463\n",
      "Epoch 170/500\n",
      "\u001b[1m810/810\u001b[0m \u001b[32m━━━━━━━━━━━━━━━━━━━━\u001b[0m\u001b[37m\u001b[0m \u001b[1m5s\u001b[0m 4ms/step - accuracy: 0.9647 - loss: 0.1305 - val_accuracy: 0.9729 - val_loss: 0.1303\n",
      "Epoch 171/500\n",
      "\u001b[1m810/810\u001b[0m \u001b[32m━━━━━━━━━━━━━━━━━━━━\u001b[0m\u001b[37m\u001b[0m \u001b[1m4s\u001b[0m 5ms/step - accuracy: 0.9664 - loss: 0.1304 - val_accuracy: 0.9722 - val_loss: 0.1389\n",
      "Epoch 172/500\n",
      "\u001b[1m748/810\u001b[0m \u001b[32m━━━━━━━━━━━━━━━━━━\u001b[0m\u001b[37m━━\u001b[0m \u001b[1m0s\u001b[0m 5ms/step - accuracy: 0.9640 - loss: 0.1346"
     ]
    },
    {
     "name": "stderr",
     "output_type": "stream",
     "text": [
      "[codecarbon INFO @ 13:55:35] Energy consumed for RAM : 0.001292 kWh. RAM Power : 11.8851900100708 W\n",
      "[codecarbon DEBUG @ 13:55:35] RAM : 11.89 W during 13.42 s [measurement time: 0.0299]\n"
     ]
    },
    {
     "name": "stdout",
     "output_type": "stream",
     "text": [
      "\u001b[1m810/810\u001b[0m \u001b[32m━━━━━━━━━━━━━━━━━━━━\u001b[0m\u001b[37m\u001b[0m \u001b[1m4s\u001b[0m 5ms/step - accuracy: 0.9641 - loss: 0.1343 - val_accuracy: 0.9726 - val_loss: 0.1483\n",
      "Epoch 173/500\n"
     ]
    },
    {
     "name": "stderr",
     "output_type": "stream",
     "text": [
      "[codecarbon INFO @ 13:55:37] Energy consumed for all GPUs : 0.000369 kWh. Total GPU Power : 4.6165832639097895 W\n",
      "[codecarbon DEBUG @ 13:55:37] GPU : 4.62 W during 13.46 s [measurement time: 1.5329]\n",
      "[codecarbon INFO @ 13:55:37] Energy consumed for all CPUs : 0.005153 kWh. Total CPU Power : 42.5 W\n",
      "[codecarbon DEBUG @ 13:55:37] CPU : 42.50 W during 14.99 s [measurement time: 0.0038]\n",
      "[codecarbon INFO @ 13:55:37] 0.006814 kWh of electricity used since the beginning.\n",
      "[codecarbon DEBUG @ 13:55:37] last_duration=13.420088700000179\n",
      "------------------------\n"
     ]
    },
    {
     "name": "stdout",
     "output_type": "stream",
     "text": [
      "\u001b[1m810/810\u001b[0m \u001b[32m━━━━━━━━━━━━━━━━━━━━\u001b[0m\u001b[37m\u001b[0m \u001b[1m5s\u001b[0m 5ms/step - accuracy: 0.9670 - loss: 0.1266 - val_accuracy: 0.9736 - val_loss: 0.1315\n",
      "Epoch 174/500\n",
      "\u001b[1m810/810\u001b[0m \u001b[32m━━━━━━━━━━━━━━━━━━━━\u001b[0m\u001b[37m\u001b[0m \u001b[1m4s\u001b[0m 4ms/step - accuracy: 0.9671 - loss: 0.1260 - val_accuracy: 0.9729 - val_loss: 0.1312\n",
      "Epoch 175/500\n",
      "\u001b[1m810/810\u001b[0m \u001b[32m━━━━━━━━━━━━━━━━━━━━\u001b[0m\u001b[37m\u001b[0m \u001b[1m4s\u001b[0m 4ms/step - accuracy: 0.9675 - loss: 0.1259 - val_accuracy: 0.9733 - val_loss: 0.1307\n",
      "Epoch 176/500\n",
      "\u001b[1m328/810\u001b[0m \u001b[32m━━━━━━━━\u001b[0m\u001b[37m━━━━━━━━━━━━\u001b[0m \u001b[1m1s\u001b[0m 4ms/step - accuracy: 0.9677 - loss: 0.1264"
     ]
    },
    {
     "name": "stderr",
     "output_type": "stream",
     "text": [
      "[codecarbon INFO @ 13:55:50] Energy consumed for RAM : 0.001336 kWh. RAM Power : 11.8851900100708 W\n",
      "[codecarbon DEBUG @ 13:55:50] RAM : 11.89 W during 13.42 s [measurement time: 0.0160]\n"
     ]
    },
    {
     "name": "stdout",
     "output_type": "stream",
     "text": [
      "\u001b[1m798/810\u001b[0m \u001b[32m━━━━━━━━━━━━━━━━━━━\u001b[0m\u001b[37m━\u001b[0m \u001b[1m0s\u001b[0m 4ms/step - accuracy: 0.9665 - loss: 0.1303"
     ]
    },
    {
     "name": "stderr",
     "output_type": "stream",
     "text": [
      "[codecarbon INFO @ 13:55:52] Energy consumed for all GPUs : 0.000382 kWh. Total GPU Power : 3.449857126857127 W\n",
      "[codecarbon DEBUG @ 13:55:52] GPU : 3.45 W during 13.46 s [measurement time: 1.5446]\n",
      "[codecarbon INFO @ 13:55:52] Energy consumed for all CPUs : 0.005330 kWh. Total CPU Power : 42.5 W\n",
      "[codecarbon DEBUG @ 13:55:52] CPU : 42.50 W during 15.01 s [measurement time: 0.0039]\n",
      "[codecarbon INFO @ 13:55:52] 0.007049 kWh of electricity used since the beginning.\n",
      "[codecarbon DEBUG @ 13:55:52] last_duration=13.422524799999792\n",
      "------------------------\n"
     ]
    },
    {
     "name": "stdout",
     "output_type": "stream",
     "text": [
      "\u001b[1m810/810\u001b[0m \u001b[32m━━━━━━━━━━━━━━━━━━━━\u001b[0m\u001b[37m\u001b[0m \u001b[1m3s\u001b[0m 4ms/step - accuracy: 0.9664 - loss: 0.1304 - val_accuracy: 0.9729 - val_loss: 0.1372\n",
      "Epoch 177/500\n",
      "\u001b[1m810/810\u001b[0m \u001b[32m━━━━━━━━━━━━━━━━━━━━\u001b[0m\u001b[37m\u001b[0m \u001b[1m3s\u001b[0m 4ms/step - accuracy: 0.9676 - loss: 0.1228 - val_accuracy: 0.9726 - val_loss: 0.1339\n",
      "Epoch 178/500\n",
      "\u001b[1m810/810\u001b[0m \u001b[32m━━━━━━━━━━━━━━━━━━━━\u001b[0m\u001b[37m\u001b[0m \u001b[1m4s\u001b[0m 5ms/step - accuracy: 0.9676 - loss: 0.1233 - val_accuracy: 0.9733 - val_loss: 0.1299\n",
      "Epoch 179/500\n",
      "\u001b[1m810/810\u001b[0m \u001b[32m━━━━━━━━━━━━━━━━━━━━\u001b[0m\u001b[37m\u001b[0m \u001b[1m4s\u001b[0m 5ms/step - accuracy: 0.9650 - loss: 0.1298 - val_accuracy: 0.9729 - val_loss: 0.1358\n",
      "Epoch 180/500\n",
      "\u001b[1m 85/810\u001b[0m \u001b[32m━━\u001b[0m\u001b[37m━━━━━━━━━━━━━━━━━━\u001b[0m \u001b[1m2s\u001b[0m 3ms/step - accuracy: 0.9720 - loss: 0.1071"
     ]
    },
    {
     "name": "stderr",
     "output_type": "stream",
     "text": [
      "[codecarbon INFO @ 13:56:05] Energy consumed for RAM : 0.001381 kWh. RAM Power : 11.8851900100708 W\n"
     ]
    },
    {
     "name": "stdout",
     "output_type": "stream",
     "text": [
      "\u001b[1m 90/810\u001b[0m \u001b[32m━━\u001b[0m\u001b[37m━━━━━━━━━━━━━━━━━━\u001b[0m \u001b[1m2s\u001b[0m 3ms/step - accuracy: 0.9718 - loss: 0.1082"
     ]
    },
    {
     "name": "stderr",
     "output_type": "stream",
     "text": [
      "[codecarbon DEBUG @ 13:56:05] RAM : 11.89 W during 13.43 s [measurement time: 0.0453]\n"
     ]
    },
    {
     "name": "stdout",
     "output_type": "stream",
     "text": [
      "\u001b[1m616/810\u001b[0m \u001b[32m━━━━━━━━━━━━━━━\u001b[0m\u001b[37m━━━━━\u001b[0m \u001b[1m0s\u001b[0m 3ms/step - accuracy: 0.9672 - loss: 0.1255"
     ]
    },
    {
     "name": "stderr",
     "output_type": "stream",
     "text": [
      "[codecarbon INFO @ 13:56:07] Energy consumed for all GPUs : 0.000401 kWh. Total GPU Power : 4.994095512427537 W\n",
      "[codecarbon DEBUG @ 13:56:07] GPU : 4.99 W during 13.52 s [measurement time: 1.5280]\n",
      "[codecarbon INFO @ 13:56:07] Energy consumed for all CPUs : 0.005508 kWh. Total CPU Power : 42.5 W\n",
      "[codecarbon DEBUG @ 13:56:07] CPU : 42.50 W during 15.05 s [measurement time: 0.0015]\n",
      "[codecarbon INFO @ 13:56:07] 0.007289 kWh of electricity used since the beginning.\n",
      "[codecarbon DEBUG @ 13:56:07] last_duration=13.425289899999825\n",
      "------------------------\n"
     ]
    },
    {
     "name": "stdout",
     "output_type": "stream",
     "text": [
      "\u001b[1m810/810\u001b[0m \u001b[32m━━━━━━━━━━━━━━━━━━━━\u001b[0m\u001b[37m\u001b[0m \u001b[1m4s\u001b[0m 3ms/step - accuracy: 0.9667 - loss: 0.1269 - val_accuracy: 0.9733 - val_loss: 0.1380\n",
      "Epoch 181/500\n",
      "\u001b[1m810/810\u001b[0m \u001b[32m━━━━━━━━━━━━━━━━━━━━\u001b[0m\u001b[37m\u001b[0m \u001b[1m5s\u001b[0m 6ms/step - accuracy: 0.9664 - loss: 0.1316 - val_accuracy: 0.9733 - val_loss: 0.1349\n",
      "Epoch 182/500\n",
      "\u001b[1m810/810\u001b[0m \u001b[32m━━━━━━━━━━━━━━━━━━━━\u001b[0m\u001b[37m\u001b[0m \u001b[1m4s\u001b[0m 4ms/step - accuracy: 0.9646 - loss: 0.1331 - val_accuracy: 0.9733 - val_loss: 0.1356\n",
      "Epoch 183/500\n",
      "\u001b[1m651/810\u001b[0m \u001b[32m━━━━━━━━━━━━━━━━\u001b[0m\u001b[37m━━━━\u001b[0m \u001b[1m0s\u001b[0m 3ms/step - accuracy: 0.9670 - loss: 0.1258"
     ]
    },
    {
     "name": "stderr",
     "output_type": "stream",
     "text": [
      "[codecarbon INFO @ 13:56:20] Energy consumed for RAM : 0.001425 kWh. RAM Power : 11.8851900100708 W\n",
      "[codecarbon DEBUG @ 13:56:20] RAM : 11.89 W during 13.37 s [measurement time: 0.0179]\n"
     ]
    },
    {
     "name": "stdout",
     "output_type": "stream",
     "text": [
      "\u001b[1m810/810\u001b[0m \u001b[32m━━━━━━━━━━━━━━━━━━━━\u001b[0m\u001b[37m\u001b[0m \u001b[1m5s\u001b[0m 3ms/step - accuracy: 0.9670 - loss: 0.1265 - val_accuracy: 0.9733 - val_loss: 0.1349\n",
      "Epoch 184/500\n",
      "\u001b[1m229/810\u001b[0m \u001b[32m━━━━━\u001b[0m\u001b[37m━━━━━━━━━━━━━━━\u001b[0m \u001b[1m1s\u001b[0m 3ms/step - accuracy: 0.9681 - loss: 0.1425"
     ]
    },
    {
     "name": "stderr",
     "output_type": "stream",
     "text": [
      "[codecarbon INFO @ 13:56:22] Energy consumed for all GPUs : 0.000414 kWh. Total GPU Power : 3.651630574377714 W\n",
      "[codecarbon DEBUG @ 13:56:22] GPU : 3.65 W during 13.41 s [measurement time: 1.5227]\n",
      "[codecarbon INFO @ 13:56:22] Energy consumed for all CPUs : 0.005685 kWh. Total CPU Power : 42.5 W\n",
      "[codecarbon DEBUG @ 13:56:22] CPU : 42.50 W during 14.94 s [measurement time: 0.0069]\n",
      "[codecarbon INFO @ 13:56:22] 0.007524 kWh of electricity used since the beginning.\n"
     ]
    },
    {
     "name": "stdout",
     "output_type": "stream",
     "text": [
      "\u001b[1m240/810\u001b[0m \u001b[32m━━━━━\u001b[0m\u001b[37m━━━━━━━━━━━━━━━\u001b[0m \u001b[1m1s\u001b[0m 3ms/step - accuracy: 0.9680 - loss: 0.1421"
     ]
    },
    {
     "name": "stderr",
     "output_type": "stream",
     "text": [
      "[codecarbon DEBUG @ 13:56:22] We apply an energy mix of 238 g.CO2eq/kWh for United Kingdom\n"
     ]
    },
    {
     "name": "stdout",
     "output_type": "stream",
     "text": [
      "\u001b[1m243/810\u001b[0m \u001b[32m━━━━━━\u001b[0m\u001b[37m━━━━━━━━━━━━━━\u001b[0m \u001b[1m1s\u001b[0m 3ms/step - accuracy: 0.9680 - loss: 0.1421"
     ]
    },
    {
     "name": "stderr",
     "output_type": "stream",
     "text": [
      "[codecarbon DEBUG @ 13:56:22] EmissionsData(timestamp='2024-11-22T13:56:22', project_name='codecarbon', run_id='None', experiment_id='pkqh9CiOkp4MkPqRqM_k8Xc3mwBRpojS3RayIk1i5Pg', duration=481.9123485, emissions=0.0017875284365477685, emissions_rate=3.7092397447619427e-06, cpu_power=42.5, gpu_power=3.651630574377714, ram_power=11.8851900100708, cpu_energy=0.0056845119161111155, gpu_energy=0.0004142914425439998, ram_energy=0.0014248127874954544, energy_consumed=0.007523616146150573, country_name='United Kingdom', country_iso_code='GBR', region='england', cloud_provider='', cloud_region='', os='Windows-11-10.0.22631-SP0', python_version='3.12.7', codecarbon_version='2.7.4', cpu_count=20, cpu_model='12th Gen Intel(R) Core(TM) i9-12900H', gpu_count=1, gpu_model='1 x NVIDIA GeForce RTX 4060 Laptop GPU', longitude=-0.1905, latitude=51.5005, ram_total_size=31.69384002685547, tracking_mode='machine', on_cloud='N', pue=1.0)\n",
      "[codecarbon INFO @ 13:56:22] 0.003720 g.CO2eq/s mean an estimation of 117.30934642373582 kg.CO2eq/year\n"
     ]
    },
    {
     "name": "stdout",
     "output_type": "stream",
     "text": [
      "\u001b[1m245/810\u001b[0m \u001b[32m━━━━━━\u001b[0m\u001b[37m━━━━━━━━━━━━━━\u001b[0m \u001b[1m1s\u001b[0m 3ms/step - accuracy: 0.9680 - loss: 0.1417"
     ]
    },
    {
     "name": "stderr",
     "output_type": "stream",
     "text": [
      "[codecarbon DEBUG @ 13:56:22] last_duration=13.371796399999766\n",
      "------------------------\n"
     ]
    },
    {
     "name": "stdout",
     "output_type": "stream",
     "text": [
      "\u001b[1m810/810\u001b[0m \u001b[32m━━━━━━━━━━━━━━━━━━━━\u001b[0m\u001b[37m\u001b[0m \u001b[1m4s\u001b[0m 5ms/step - accuracy: 0.9667 - loss: 0.1362 - val_accuracy: 0.9733 - val_loss: 0.1348\n",
      "Epoch 185/500\n",
      "\u001b[1m810/810\u001b[0m \u001b[32m━━━━━━━━━━━━━━━━━━━━\u001b[0m\u001b[37m\u001b[0m \u001b[1m4s\u001b[0m 4ms/step - accuracy: 0.9668 - loss: 0.1308 - val_accuracy: 0.9729 - val_loss: 0.1374\n",
      "Epoch 186/500\n",
      "\u001b[1m810/810\u001b[0m \u001b[32m━━━━━━━━━━━━━━━━━━━━\u001b[0m\u001b[37m\u001b[0m \u001b[1m5s\u001b[0m 4ms/step - accuracy: 0.9672 - loss: 0.1276 - val_accuracy: 0.9733 - val_loss: 0.1327\n",
      "Epoch 187/500\n",
      "\u001b[1m181/810\u001b[0m \u001b[32m━━━━\u001b[0m\u001b[37m━━━━━━━━━━━━━━━━\u001b[0m \u001b[1m2s\u001b[0m 5ms/step - accuracy: 0.9653 - loss: 0.1301"
     ]
    },
    {
     "name": "stderr",
     "output_type": "stream",
     "text": [
      "[codecarbon INFO @ 13:56:35] Energy consumed for RAM : 0.001469 kWh. RAM Power : 11.8851900100708 W\n",
      "[codecarbon DEBUG @ 13:56:35] RAM : 11.89 W during 13.42 s [measurement time: 0.0347]\n"
     ]
    },
    {
     "name": "stdout",
     "output_type": "stream",
     "text": [
      "\u001b[1m560/810\u001b[0m \u001b[32m━━━━━━━━━━━━━\u001b[0m\u001b[37m━━━━━━━\u001b[0m \u001b[1m1s\u001b[0m 4ms/step - accuracy: 0.9651 - loss: 0.1319"
     ]
    },
    {
     "name": "stderr",
     "output_type": "stream",
     "text": [
      "[codecarbon INFO @ 13:56:37] Energy consumed for all GPUs : 0.000428 kWh. Total GPU Power : 3.56960303023624 W\n",
      "[codecarbon DEBUG @ 13:56:37] GPU : 3.57 W during 13.47 s [measurement time: 1.5236]\n",
      "[codecarbon INFO @ 13:56:37] Energy consumed for all CPUs : 0.005862 kWh. Total CPU Power : 42.5 W\n",
      "[codecarbon DEBUG @ 13:56:37] CPU : 42.50 W during 14.99 s [measurement time: 0.0040]\n",
      "[codecarbon INFO @ 13:56:37] 0.007758 kWh of electricity used since the beginning.\n",
      "[codecarbon DEBUG @ 13:56:37] last_duration=13.415162299999793\n",
      "------------------------\n"
     ]
    },
    {
     "name": "stdout",
     "output_type": "stream",
     "text": [
      "\u001b[1m810/810\u001b[0m \u001b[32m━━━━━━━━━━━━━━━━━━━━\u001b[0m\u001b[37m\u001b[0m \u001b[1m4s\u001b[0m 5ms/step - accuracy: 0.9652 - loss: 0.1320 - val_accuracy: 0.9733 - val_loss: 0.1300\n",
      "Epoch 188/500\n",
      "\u001b[1m810/810\u001b[0m \u001b[32m━━━━━━━━━━━━━━━━━━━━\u001b[0m\u001b[37m\u001b[0m \u001b[1m4s\u001b[0m 4ms/step - accuracy: 0.9664 - loss: 0.1295 - val_accuracy: 0.9722 - val_loss: 0.1346\n",
      "Epoch 189/500\n",
      "\u001b[1m810/810\u001b[0m \u001b[32m━━━━━━━━━━━━━━━━━━━━\u001b[0m\u001b[37m\u001b[0m \u001b[1m4s\u001b[0m 5ms/step - accuracy: 0.9657 - loss: 0.1296 - val_accuracy: 0.9729 - val_loss: 0.1330\n",
      "Epoch 190/500\n",
      "\u001b[1m804/810\u001b[0m \u001b[32m━━━━━━━━━━━━━━━━━━━\u001b[0m\u001b[37m━\u001b[0m \u001b[1m0s\u001b[0m 5ms/step - accuracy: 0.9643 - loss: 0.1350"
     ]
    },
    {
     "name": "stderr",
     "output_type": "stream",
     "text": [
      "[codecarbon INFO @ 13:56:50] Energy consumed for RAM : 0.001513 kWh. RAM Power : 11.8851900100708 W\n",
      "[codecarbon DEBUG @ 13:56:50] RAM : 11.89 W during 13.42 s [measurement time: 0.0323]\n"
     ]
    },
    {
     "name": "stdout",
     "output_type": "stream",
     "text": [
      "\u001b[1m810/810\u001b[0m \u001b[32m━━━━━━━━━━━━━━━━━━━━\u001b[0m\u001b[37m\u001b[0m \u001b[1m4s\u001b[0m 5ms/step - accuracy: 0.9643 - loss: 0.1350 - val_accuracy: 0.9726 - val_loss: 0.1314\n",
      "Epoch 191/500\n",
      "\u001b[1m253/810\u001b[0m \u001b[32m━━━━━━\u001b[0m\u001b[37m━━━━━━━━━━━━━━\u001b[0m \u001b[1m2s\u001b[0m 5ms/step - accuracy: 0.9653 - loss: 0.1323"
     ]
    },
    {
     "name": "stderr",
     "output_type": "stream",
     "text": [
      "[codecarbon INFO @ 13:56:52] Energy consumed for all GPUs : 0.000455 kWh. Total GPU Power : 7.297973211665273 W\n",
      "[codecarbon DEBUG @ 13:56:52] GPU : 7.30 W during 13.46 s [measurement time: 1.5277]\n",
      "[codecarbon INFO @ 13:56:52] Energy consumed for all CPUs : 0.006039 kWh. Total CPU Power : 42.5 W\n",
      "[codecarbon DEBUG @ 13:56:52] CPU : 42.50 W during 14.99 s [measurement time: 0.0018]\n",
      "[codecarbon INFO @ 13:56:52] 0.008007 kWh of electricity used since the beginning.\n",
      "[codecarbon DEBUG @ 13:56:52] last_duration=13.42278129999977\n",
      "------------------------\n"
     ]
    },
    {
     "name": "stdout",
     "output_type": "stream",
     "text": [
      "\u001b[1m810/810\u001b[0m \u001b[32m━━━━━━━━━━━━━━━━━━━━\u001b[0m\u001b[37m\u001b[0m \u001b[1m4s\u001b[0m 5ms/step - accuracy: 0.9650 - loss: 0.1334 - val_accuracy: 0.9733 - val_loss: 0.1319\n",
      "Epoch 192/500\n",
      "\u001b[1m810/810\u001b[0m \u001b[32m━━━━━━━━━━━━━━━━━━━━\u001b[0m\u001b[37m\u001b[0m \u001b[1m4s\u001b[0m 4ms/step - accuracy: 0.9658 - loss: 0.1285 - val_accuracy: 0.9733 - val_loss: 0.1316\n",
      "Epoch 193/500\n",
      "\u001b[1m810/810\u001b[0m \u001b[32m━━━━━━━━━━━━━━━━━━━━\u001b[0m\u001b[37m\u001b[0m \u001b[1m5s\u001b[0m 3ms/step - accuracy: 0.9667 - loss: 0.1272 - val_accuracy: 0.9729 - val_loss: 0.1390\n",
      "Epoch 194/500\n",
      "\u001b[1m267/810\u001b[0m \u001b[32m━━━━━━\u001b[0m\u001b[37m━━━━━━━━━━━━━━\u001b[0m \u001b[1m2s\u001b[0m 5ms/step - accuracy: 0.9637 - loss: 0.1364"
     ]
    },
    {
     "name": "stderr",
     "output_type": "stream",
     "text": [
      "[codecarbon INFO @ 13:57:05] Energy consumed for RAM : 0.001558 kWh. RAM Power : 11.8851900100708 W\n"
     ]
    },
    {
     "name": "stdout",
     "output_type": "stream",
     "text": [
      "\u001b[1m275/810\u001b[0m \u001b[32m━━━━━━\u001b[0m\u001b[37m━━━━━━━━━━━━━━\u001b[0m \u001b[1m2s\u001b[0m 5ms/step - accuracy: 0.9637 - loss: 0.1364"
     ]
    },
    {
     "name": "stderr",
     "output_type": "stream",
     "text": [
      "[codecarbon DEBUG @ 13:57:05] RAM : 11.89 W during 13.42 s [measurement time: 0.0313]\n"
     ]
    },
    {
     "name": "stdout",
     "output_type": "stream",
     "text": [
      "\u001b[1m593/810\u001b[0m \u001b[32m━━━━━━━━━━━━━━\u001b[0m\u001b[37m━━━━━━\u001b[0m \u001b[1m1s\u001b[0m 5ms/step - accuracy: 0.9646 - loss: 0.1342"
     ]
    },
    {
     "name": "stderr",
     "output_type": "stream",
     "text": [
      "[codecarbon INFO @ 13:57:07] Energy consumed for all GPUs : 0.000466 kWh. Total GPU Power : 2.8727846255798353 W\n",
      "[codecarbon DEBUG @ 13:57:07] GPU : 2.87 W during 13.47 s [measurement time: 1.5405]\n",
      "[codecarbon INFO @ 13:57:07] Energy consumed for all CPUs : 0.006216 kWh. Total CPU Power : 42.5 W\n"
     ]
    },
    {
     "name": "stdout",
     "output_type": "stream",
     "text": [
      "\u001b[1m605/810\u001b[0m \u001b[32m━━━━━━━━━━━━━━\u001b[0m\u001b[37m━━━━━━\u001b[0m \u001b[1m1s\u001b[0m 5ms/step - accuracy: 0.9646 - loss: 0.1341"
     ]
    },
    {
     "name": "stderr",
     "output_type": "stream",
     "text": [
      "[codecarbon DEBUG @ 13:57:07] CPU : 42.50 W during 15.02 s [measurement time: 0.0095]\n",
      "[codecarbon INFO @ 13:57:07] 0.008239 kWh of electricity used since the beginning.\n",
      "[codecarbon DEBUG @ 13:57:07] last_duration=13.422037100000125\n",
      "------------------------\n"
     ]
    },
    {
     "name": "stdout",
     "output_type": "stream",
     "text": [
      "\u001b[1m810/810\u001b[0m \u001b[32m━━━━━━━━━━━━━━━━━━━━\u001b[0m\u001b[37m\u001b[0m \u001b[1m5s\u001b[0m 6ms/step - accuracy: 0.9650 - loss: 0.1332 - val_accuracy: 0.9729 - val_loss: 0.1364\n",
      "Epoch 195/500\n",
      "\u001b[1m810/810\u001b[0m \u001b[32m━━━━━━━━━━━━━━━━━━━━\u001b[0m\u001b[37m\u001b[0m \u001b[1m5s\u001b[0m 6ms/step - accuracy: 0.9677 - loss: 0.1285 - val_accuracy: 0.9729 - val_loss: 0.1361\n",
      "Epoch 196/500\n",
      "\u001b[1m810/810\u001b[0m \u001b[32m━━━━━━━━━━━━━━━━━━━━\u001b[0m\u001b[37m\u001b[0m \u001b[1m4s\u001b[0m 4ms/step - accuracy: 0.9659 - loss: 0.1287 - val_accuracy: 0.9660 - val_loss: 0.1463\n",
      "Epoch 197/500\n",
      "\u001b[1m799/810\u001b[0m \u001b[32m━━━━━━━━━━━━━━━━━━━\u001b[0m\u001b[37m━\u001b[0m \u001b[1m0s\u001b[0m 4ms/step - accuracy: 0.9670 - loss: 0.1301"
     ]
    },
    {
     "name": "stderr",
     "output_type": "stream",
     "text": [
      "[codecarbon INFO @ 13:57:20] Energy consumed for RAM : 0.001602 kWh. RAM Power : 11.8851900100708 W\n",
      "[codecarbon DEBUG @ 13:57:20] RAM : 11.89 W during 13.38 s [measurement time: 0.0179]\n"
     ]
    },
    {
     "name": "stdout",
     "output_type": "stream",
     "text": [
      "\u001b[1m810/810\u001b[0m \u001b[32m━━━━━━━━━━━━━━━━━━━━\u001b[0m\u001b[37m\u001b[0m \u001b[1m4s\u001b[0m 4ms/step - accuracy: 0.9670 - loss: 0.1302 - val_accuracy: 0.9677 - val_loss: 0.1387\n",
      "Epoch 198/500\n",
      "\u001b[1m218/810\u001b[0m \u001b[32m━━━━━\u001b[0m\u001b[37m━━━━━━━━━━━━━━━\u001b[0m \u001b[1m2s\u001b[0m 5ms/step - accuracy: 0.9628 - loss: 0.1390"
     ]
    },
    {
     "name": "stderr",
     "output_type": "stream",
     "text": [
      "[codecarbon INFO @ 13:57:22] Energy consumed for all GPUs : 0.000477 kWh. Total GPU Power : 2.9875442918462687 W\n",
      "[codecarbon DEBUG @ 13:57:22] GPU : 2.99 W during 13.41 s [measurement time: 1.5276]\n",
      "[codecarbon INFO @ 13:57:22] Energy consumed for all CPUs : 0.006392 kWh. Total CPU Power : 42.5 W\n",
      "[codecarbon DEBUG @ 13:57:22] CPU : 42.50 W during 14.95 s [measurement time: 0.0023]\n",
      "[codecarbon INFO @ 13:57:22] 0.008471 kWh of electricity used since the beginning.\n",
      "[codecarbon DEBUG @ 13:57:22] last_duration=13.384672499999851\n",
      "------------------------\n"
     ]
    },
    {
     "name": "stdout",
     "output_type": "stream",
     "text": [
      "\u001b[1m810/810\u001b[0m \u001b[32m━━━━━━━━━━━━━━━━━━━━\u001b[0m\u001b[37m\u001b[0m \u001b[1m4s\u001b[0m 5ms/step - accuracy: 0.9645 - loss: 0.1343 - val_accuracy: 0.9733 - val_loss: 0.1314\n",
      "Epoch 199/500\n",
      "\u001b[1m810/810\u001b[0m \u001b[32m━━━━━━━━━━━━━━━━━━━━\u001b[0m\u001b[37m\u001b[0m \u001b[1m4s\u001b[0m 4ms/step - accuracy: 0.9660 - loss: 0.1277 - val_accuracy: 0.9691 - val_loss: 0.1386\n",
      "Epoch 200/500\n",
      "\u001b[1m810/810\u001b[0m \u001b[32m━━━━━━━━━━━━━━━━━━━━\u001b[0m\u001b[37m\u001b[0m \u001b[1m5s\u001b[0m 5ms/step - accuracy: 0.9659 - loss: 0.1322 - val_accuracy: 0.9733 - val_loss: 0.1315\n",
      "Epoch 201/500\n",
      "\u001b[1m325/810\u001b[0m \u001b[32m━━━━━━━━\u001b[0m\u001b[37m━━━━━━━━━━━━\u001b[0m \u001b[1m2s\u001b[0m 5ms/step - accuracy: 0.9683 - loss: 0.1262"
     ]
    },
    {
     "name": "stderr",
     "output_type": "stream",
     "text": [
      "[codecarbon INFO @ 13:57:35] Energy consumed for RAM : 0.001646 kWh. RAM Power : 11.8851900100708 W\n"
     ]
    },
    {
     "name": "stdout",
     "output_type": "stream",
     "text": [
      "\u001b[1m333/810\u001b[0m \u001b[32m━━━━━━━━\u001b[0m\u001b[37m━━━━━━━━━━━━\u001b[0m \u001b[1m2s\u001b[0m 5ms/step - accuracy: 0.9682 - loss: 0.1263"
     ]
    },
    {
     "name": "stderr",
     "output_type": "stream",
     "text": [
      "[codecarbon DEBUG @ 13:57:35] RAM : 11.89 W during 13.43 s [measurement time: 0.0181]\n"
     ]
    },
    {
     "name": "stdout",
     "output_type": "stream",
     "text": [
      "\u001b[1m675/810\u001b[0m \u001b[32m━━━━━━━━━━━━━━━━\u001b[0m\u001b[37m━━━━\u001b[0m \u001b[1m0s\u001b[0m 5ms/step - accuracy: 0.9671 - loss: 0.1277"
     ]
    },
    {
     "name": "stderr",
     "output_type": "stream",
     "text": [
      "[codecarbon INFO @ 13:57:37] Energy consumed for all GPUs : 0.000487 kWh. Total GPU Power : 2.781212043516214 W\n",
      "[codecarbon DEBUG @ 13:57:37] GPU : 2.78 W during 13.47 s [measurement time: 1.5278]\n",
      "[codecarbon INFO @ 13:57:37] Energy consumed for all CPUs : 0.006569 kWh. Total CPU Power : 42.5 W\n",
      "[codecarbon DEBUG @ 13:57:37] CPU : 42.50 W during 15.00 s [measurement time: 0.0058]\n"
     ]
    },
    {
     "name": "stdout",
     "output_type": "stream",
     "text": [
      "\u001b[1m684/810\u001b[0m \u001b[32m━━━━━━━━━━━━━━━━\u001b[0m\u001b[37m━━━━\u001b[0m \u001b[1m0s\u001b[0m 5ms/step - accuracy: 0.9671 - loss: 0.1277"
     ]
    },
    {
     "name": "stderr",
     "output_type": "stream",
     "text": [
      "[codecarbon INFO @ 13:57:37] 0.008703 kWh of electricity used since the beginning.\n",
      "[codecarbon DEBUG @ 13:57:37] last_duration=13.425799800000277\n",
      "------------------------\n"
     ]
    },
    {
     "name": "stdout",
     "output_type": "stream",
     "text": [
      "\u001b[1m810/810\u001b[0m \u001b[32m━━━━━━━━━━━━━━━━━━━━\u001b[0m\u001b[37m\u001b[0m \u001b[1m4s\u001b[0m 5ms/step - accuracy: 0.9670 - loss: 0.1278 - val_accuracy: 0.9729 - val_loss: 0.1289\n",
      "Epoch 202/500\n",
      "\u001b[1m810/810\u001b[0m \u001b[32m━━━━━━━━━━━━━━━━━━━━\u001b[0m\u001b[37m\u001b[0m \u001b[1m4s\u001b[0m 5ms/step - accuracy: 0.9657 - loss: 0.1276 - val_accuracy: 0.9729 - val_loss: 0.1394\n",
      "Epoch 203/500\n",
      "\u001b[1m810/810\u001b[0m \u001b[32m━━━━━━━━━━━━━━━━━━━━\u001b[0m\u001b[37m\u001b[0m \u001b[1m5s\u001b[0m 5ms/step - accuracy: 0.9662 - loss: 0.1277 - val_accuracy: 0.9733 - val_loss: 0.1303\n",
      "Epoch 204/500\n",
      "\u001b[1m780/810\u001b[0m \u001b[32m━━━━━━━━━━━━━━━━━━━\u001b[0m\u001b[37m━\u001b[0m \u001b[1m0s\u001b[0m 5ms/step - accuracy: 0.9650 - loss: 0.1296"
     ]
    },
    {
     "name": "stderr",
     "output_type": "stream",
     "text": [
      "[codecarbon INFO @ 13:57:50] Energy consumed for RAM : 0.001691 kWh. RAM Power : 11.8851900100708 W\n",
      "[codecarbon DEBUG @ 13:57:50] RAM : 11.89 W during 13.42 s [measurement time: 0.0282]\n"
     ]
    },
    {
     "name": "stdout",
     "output_type": "stream",
     "text": [
      "\u001b[1m810/810\u001b[0m \u001b[32m━━━━━━━━━━━━━━━━━━━━\u001b[0m\u001b[37m\u001b[0m \u001b[1m4s\u001b[0m 5ms/step - accuracy: 0.9650 - loss: 0.1296 - val_accuracy: 0.9729 - val_loss: 0.1302\n",
      "Epoch 205/500\n",
      "\u001b[1m264/810\u001b[0m \u001b[32m━━━━━━\u001b[0m\u001b[37m━━━━━━━━━━━━━━\u001b[0m \u001b[1m2s\u001b[0m 4ms/step - accuracy: 0.9655 - loss: 0.1300"
     ]
    },
    {
     "name": "stderr",
     "output_type": "stream",
     "text": [
      "[codecarbon INFO @ 13:57:52] Energy consumed for all GPUs : 0.000499 kWh. Total GPU Power : 3.0395320358771456 W\n",
      "[codecarbon DEBUG @ 13:57:52] GPU : 3.04 W during 13.45 s [measurement time: 1.5449]\n",
      "[codecarbon INFO @ 13:57:52] Energy consumed for all CPUs : 0.006746 kWh. Total CPU Power : 42.5 W\n",
      "[codecarbon DEBUG @ 13:57:52] CPU : 42.50 W during 15.01 s [measurement time: 0.0043]\n",
      "[codecarbon INFO @ 13:57:52] 0.008936 kWh of electricity used since the beginning.\n",
      "[codecarbon DEBUG @ 13:57:52] last_duration=13.417240199999924\n",
      "------------------------\n"
     ]
    },
    {
     "name": "stdout",
     "output_type": "stream",
     "text": [
      "\u001b[1m810/810\u001b[0m \u001b[32m━━━━━━━━━━━━━━━━━━━━\u001b[0m\u001b[37m\u001b[0m \u001b[1m4s\u001b[0m 4ms/step - accuracy: 0.9664 - loss: 0.1294 - val_accuracy: 0.9726 - val_loss: 0.1348\n",
      "Epoch 206/500\n",
      "\u001b[1m810/810\u001b[0m \u001b[32m━━━━━━━━━━━━━━━━━━━━\u001b[0m\u001b[37m\u001b[0m \u001b[1m4s\u001b[0m 4ms/step - accuracy: 0.9666 - loss: 0.1229 - val_accuracy: 0.9729 - val_loss: 0.1345\n",
      "Epoch 207/500\n",
      "\u001b[1m810/810\u001b[0m \u001b[32m━━━━━━━━━━━━━━━━━━━━\u001b[0m\u001b[37m\u001b[0m \u001b[1m4s\u001b[0m 4ms/step - accuracy: 0.9662 - loss: 0.1297 - val_accuracy: 0.9729 - val_loss: 0.1333\n",
      "Epoch 208/500\n",
      "\u001b[1m792/810\u001b[0m \u001b[32m━━━━━━━━━━━━━━━━━━━\u001b[0m\u001b[37m━\u001b[0m \u001b[1m0s\u001b[0m 4ms/step - accuracy: 0.9643 - loss: 0.1327"
     ]
    },
    {
     "name": "stderr",
     "output_type": "stream",
     "text": [
      "[codecarbon INFO @ 13:58:05] Energy consumed for RAM : 0.001735 kWh. RAM Power : 11.8851900100708 W\n",
      "[codecarbon DEBUG @ 13:58:05] RAM : 11.89 W during 13.42 s [measurement time: 0.0251]\n"
     ]
    },
    {
     "name": "stdout",
     "output_type": "stream",
     "text": [
      "\u001b[1m810/810\u001b[0m \u001b[32m━━━━━━━━━━━━━━━━━━━━\u001b[0m\u001b[37m\u001b[0m \u001b[1m4s\u001b[0m 5ms/step - accuracy: 0.9643 - loss: 0.1327 - val_accuracy: 0.9726 - val_loss: 0.1390\n",
      "Epoch 209/500\n"
     ]
    },
    {
     "name": "stderr",
     "output_type": "stream",
     "text": [
      "[codecarbon INFO @ 13:58:07] Energy consumed for all GPUs : 0.000509 kWh. Total GPU Power : 2.771243685202678 W\n",
      "[codecarbon DEBUG @ 13:58:07] GPU : 2.77 W during 13.47 s [measurement time: 1.5271]\n",
      "[codecarbon INFO @ 13:58:07] Energy consumed for all CPUs : 0.006924 kWh. Total CPU Power : 42.5 W\n",
      "[codecarbon DEBUG @ 13:58:07] CPU : 42.50 W during 15.00 s [measurement time: 0.0022]\n",
      "[codecarbon INFO @ 13:58:07] 0.009167 kWh of electricity used since the beginning.\n",
      "[codecarbon DEBUG @ 13:58:07] last_duration=13.421350000000075\n",
      "------------------------\n"
     ]
    },
    {
     "name": "stdout",
     "output_type": "stream",
     "text": [
      "\u001b[1m810/810\u001b[0m \u001b[32m━━━━━━━━━━━━━━━━━━━━\u001b[0m\u001b[37m\u001b[0m \u001b[1m5s\u001b[0m 5ms/step - accuracy: 0.9663 - loss: 0.1311 - val_accuracy: 0.9729 - val_loss: 0.1365\n",
      "Epoch 210/500\n",
      "\u001b[1m810/810\u001b[0m \u001b[32m━━━━━━━━━━━━━━━━━━━━\u001b[0m\u001b[37m\u001b[0m \u001b[1m4s\u001b[0m 5ms/step - accuracy: 0.9655 - loss: 0.1315 - val_accuracy: 0.9729 - val_loss: 0.1330\n",
      "Epoch 211/500\n",
      "\u001b[1m810/810\u001b[0m \u001b[32m━━━━━━━━━━━━━━━━━━━━\u001b[0m\u001b[37m\u001b[0m \u001b[1m4s\u001b[0m 4ms/step - accuracy: 0.9648 - loss: 0.1317 - val_accuracy: 0.9733 - val_loss: 0.1382\n",
      "Epoch 212/500\n"
     ]
    },
    {
     "name": "stderr",
     "output_type": "stream",
     "text": [
      "[codecarbon INFO @ 13:58:20] Energy consumed for RAM : 0.001779 kWh. RAM Power : 11.8851900100708 W\n",
      "[codecarbon DEBUG @ 13:58:20] RAM : 11.89 W during 13.43 s [measurement time: 0.0120]\n"
     ]
    },
    {
     "name": "stdout",
     "output_type": "stream",
     "text": [
      "\u001b[1m 87/810\u001b[0m \u001b[32m━━\u001b[0m\u001b[37m━━━━━━━━━━━━━━━━━━\u001b[0m \u001b[1m2s\u001b[0m 3ms/step - accuracy: 0.9651 - loss: 0.1313"
     ]
    },
    {
     "name": "stderr",
     "output_type": "stream",
     "text": [
      "[codecarbon INFO @ 13:58:22] Energy consumed for all GPUs : 0.000519 kWh. Total GPU Power : 2.8142891557915495 W\n",
      "[codecarbon DEBUG @ 13:58:22] GPU : 2.81 W during 13.45 s [measurement time: 1.5197]\n"
     ]
    },
    {
     "name": "stdout",
     "output_type": "stream",
     "text": [
      "\u001b[1m 99/810\u001b[0m \u001b[32m━━\u001b[0m\u001b[37m━━━━━━━━━━━━━━━━━━\u001b[0m \u001b[1m2s\u001b[0m 3ms/step - accuracy: 0.9655 - loss: 0.1302"
     ]
    },
    {
     "name": "stderr",
     "output_type": "stream",
     "text": [
      "[codecarbon INFO @ 13:58:22] Energy consumed for all CPUs : 0.007100 kWh. Total CPU Power : 42.5 W\n"
     ]
    },
    {
     "name": "stdout",
     "output_type": "stream",
     "text": [
      "\u001b[1m103/810\u001b[0m \u001b[32m━━\u001b[0m\u001b[37m━━━━━━━━━━━━━━━━━━\u001b[0m \u001b[1m2s\u001b[0m 3ms/step - accuracy: 0.9656 - loss: 0.1298"
     ]
    },
    {
     "name": "stderr",
     "output_type": "stream",
     "text": [
      "[codecarbon DEBUG @ 13:58:22] CPU : 42.50 W during 14.99 s [measurement time: 0.0080]\n"
     ]
    },
    {
     "name": "stdout",
     "output_type": "stream",
     "text": [
      "\u001b[1m102/810\u001b[0m \u001b[32m━━\u001b[0m\u001b[37m━━━━━━━━━━━━━━━━━━\u001b[0m \u001b[1m2s\u001b[0m 3ms/step - accuracy: 0.9656 - loss: 0.1298"
     ]
    },
    {
     "name": "stderr",
     "output_type": "stream",
     "text": [
      "[codecarbon INFO @ 13:58:22] 0.009399 kWh of electricity used since the beginning.\n"
     ]
    },
    {
     "name": "stdout",
     "output_type": "stream",
     "text": [
      "\u001b[1m104/810\u001b[0m \u001b[32m━━\u001b[0m\u001b[37m━━━━━━━━━━━━━━━━━━\u001b[0m \u001b[1m2s\u001b[0m 3ms/step - accuracy: 0.9656 - loss: 0.1298"
     ]
    },
    {
     "name": "stderr",
     "output_type": "stream",
     "text": [
      "[codecarbon DEBUG @ 13:58:22] We apply an energy mix of 238 g.CO2eq/kWh for United Kingdom\n",
      "[codecarbon DEBUG @ 13:58:22] EmissionsData(timestamp='2024-11-22T13:58:22', project_name='codecarbon', run_id='None', experiment_id='pkqh9CiOkp4MkPqRqM_k8Xc3mwBRpojS3RayIk1i5Pg', duration=601.9813626, emissions=0.002233127705026551, emissions_rate=3.7096293070960117e-06, cpu_power=42.5, gpu_power=2.8142891557915495, ram_power=11.8851900100708, cpu_energy=0.007100465187222216, gpu_energy=0.0005194662489060002, ram_energy=0.0017791893355680773, energy_consumed=0.009399120771696296, country_name='United Kingdom', country_iso_code='GBR', region='england', cloud_provider='', cloud_region='', os='Windows-11-10.0.22631-SP0', python_version='3.12.7', codecarbon_version='2.7.4', cpu_count=20, cpu_model='12th Gen Intel(R) Core(TM) i9-12900H', gpu_count=1, gpu_model='1 x NVIDIA GeForce RTX 4060 Laptop GPU', longitude=-0.1905, latitude=51.5005, ram_total_size=31.69384002685547, tracking_mode='machine', on_cloud='N', pue=1.0)\n",
      "[codecarbon INFO @ 13:58:22] 0.003711 g.CO2eq/s mean an estimation of 117.036178202007 kg.CO2eq/year\n",
      "[codecarbon DEBUG @ 13:58:22] last_duration=13.43083469999965\n",
      "------------------------\n"
     ]
    },
    {
     "name": "stdout",
     "output_type": "stream",
     "text": [
      "\u001b[1m810/810\u001b[0m \u001b[32m━━━━━━━━━━━━━━━━━━━━\u001b[0m\u001b[37m\u001b[0m \u001b[1m6s\u001b[0m 4ms/step - accuracy: 0.9665 - loss: 0.1287 - val_accuracy: 0.9726 - val_loss: 0.1422\n",
      "Epoch 213/500\n",
      "\u001b[1m810/810\u001b[0m \u001b[32m━━━━━━━━━━━━━━━━━━━━\u001b[0m\u001b[37m\u001b[0m \u001b[1m5s\u001b[0m 4ms/step - accuracy: 0.9643 - loss: 0.1339 - val_accuracy: 0.9729 - val_loss: 0.1339\n",
      "Epoch 214/500\n",
      "\u001b[1m810/810\u001b[0m \u001b[32m━━━━━━━━━━━━━━━━━━━━\u001b[0m\u001b[37m\u001b[0m \u001b[1m5s\u001b[0m 5ms/step - accuracy: 0.9656 - loss: 0.1328 - val_accuracy: 0.9733 - val_loss: 0.1377\n",
      "Epoch 215/500\n",
      "\u001b[1m181/810\u001b[0m \u001b[32m━━━━\u001b[0m\u001b[37m━━━━━━━━━━━━━━━━\u001b[0m \u001b[1m3s\u001b[0m 5ms/step - accuracy: 0.9653 - loss: 0.1346"
     ]
    },
    {
     "name": "stderr",
     "output_type": "stream",
     "text": [
      "[codecarbon INFO @ 13:58:35] Energy consumed for RAM : 0.001824 kWh. RAM Power : 11.8851900100708 W\n",
      "[codecarbon DEBUG @ 13:58:35] RAM : 11.89 W during 13.44 s [measurement time: 0.0293]\n"
     ]
    },
    {
     "name": "stdout",
     "output_type": "stream",
     "text": [
      "\u001b[1m509/810\u001b[0m \u001b[32m━━━━━━━━━━━━\u001b[0m\u001b[37m━━━━━━━━\u001b[0m \u001b[1m1s\u001b[0m 5ms/step - accuracy: 0.9656 - loss: 0.1321"
     ]
    },
    {
     "name": "stderr",
     "output_type": "stream",
     "text": [
      "[codecarbon INFO @ 13:58:37] Energy consumed for all GPUs : 0.000530 kWh. Total GPU Power : 2.9426243230439617 W\n"
     ]
    },
    {
     "name": "stdout",
     "output_type": "stream",
     "text": [
      "\u001b[1m522/810\u001b[0m \u001b[32m━━━━━━━━━━━━\u001b[0m\u001b[37m━━━━━━━━\u001b[0m \u001b[1m1s\u001b[0m 5ms/step - accuracy: 0.9656 - loss: 0.1320"
     ]
    },
    {
     "name": "stderr",
     "output_type": "stream",
     "text": [
      "[codecarbon DEBUG @ 13:58:37] GPU : 2.94 W during 13.50 s [measurement time: 1.5450]\n"
     ]
    },
    {
     "name": "stdout",
     "output_type": "stream",
     "text": [
      "\u001b[1m523/810\u001b[0m \u001b[32m━━━━━━━━━━━━\u001b[0m\u001b[37m━━━━━━━━\u001b[0m \u001b[1m1s\u001b[0m 5ms/step - accuracy: 0.9656 - loss: 0.1320"
     ]
    },
    {
     "name": "stderr",
     "output_type": "stream",
     "text": [
      "[codecarbon INFO @ 13:58:37] Energy consumed for all CPUs : 0.007278 kWh. Total CPU Power : 42.5 W\n",
      "[codecarbon DEBUG @ 13:58:37] CPU : 42.50 W during 15.05 s [measurement time: 0.0055]\n",
      "[codecarbon INFO @ 13:58:37] 0.009632 kWh of electricity used since the beginning.\n",
      "[codecarbon DEBUG @ 13:58:37] last_duration=13.435862099999667\n",
      "------------------------\n"
     ]
    },
    {
     "name": "stdout",
     "output_type": "stream",
     "text": [
      "\u001b[1m810/810\u001b[0m \u001b[32m━━━━━━━━━━━━━━━━━━━━\u001b[0m\u001b[37m\u001b[0m \u001b[1m4s\u001b[0m 5ms/step - accuracy: 0.9657 - loss: 0.1317 - val_accuracy: 0.9729 - val_loss: 0.1333\n",
      "Epoch 216/500\n",
      "\u001b[1m810/810\u001b[0m \u001b[32m━━━━━━━━━━━━━━━━━━━━\u001b[0m\u001b[37m\u001b[0m \u001b[1m4s\u001b[0m 4ms/step - accuracy: 0.9662 - loss: 0.1303 - val_accuracy: 0.9733 - val_loss: 0.1406\n",
      "Epoch 217/500\n",
      "\u001b[1m810/810\u001b[0m \u001b[32m━━━━━━━━━━━━━━━━━━━━\u001b[0m\u001b[37m\u001b[0m \u001b[1m4s\u001b[0m 5ms/step - accuracy: 0.9662 - loss: 0.1286 - val_accuracy: 0.9733 - val_loss: 0.1316\n",
      "Epoch 218/500\n",
      "\u001b[1m696/810\u001b[0m \u001b[32m━━━━━━━━━━━━━━━━━\u001b[0m\u001b[37m━━━\u001b[0m \u001b[1m0s\u001b[0m 3ms/step - accuracy: 0.9681 - loss: 0.1239"
     ]
    },
    {
     "name": "stderr",
     "output_type": "stream",
     "text": [
      "[codecarbon INFO @ 13:58:50] Energy consumed for RAM : 0.001868 kWh. RAM Power : 11.8851900100708 W\n",
      "[codecarbon DEBUG @ 13:58:50] RAM : 11.89 W during 13.38 s [measurement time: 0.0153]\n"
     ]
    },
    {
     "name": "stdout",
     "output_type": "stream",
     "text": [
      "\u001b[1m810/810\u001b[0m \u001b[32m━━━━━━━━━━━━━━━━━━━━\u001b[0m\u001b[37m\u001b[0m \u001b[1m4s\u001b[0m 4ms/step - accuracy: 0.9678 - loss: 0.1247 - val_accuracy: 0.9733 - val_loss: 0.1329\n",
      "Epoch 219/500\n",
      "\u001b[1m157/810\u001b[0m \u001b[32m━━━\u001b[0m\u001b[37m━━━━━━━━━━━━━━━━━\u001b[0m \u001b[1m2s\u001b[0m 4ms/step - accuracy: 0.9651 - loss: 0.1405"
     ]
    },
    {
     "name": "stderr",
     "output_type": "stream",
     "text": [
      "[codecarbon INFO @ 13:58:52] Energy consumed for all GPUs : 0.000541 kWh. Total GPU Power : 2.8961442528316512 W\n"
     ]
    },
    {
     "name": "stdout",
     "output_type": "stream",
     "text": [
      "\u001b[1m172/810\u001b[0m \u001b[32m━━━━\u001b[0m\u001b[37m━━━━━━━━━━━━━━━━\u001b[0m \u001b[1m2s\u001b[0m 4ms/step - accuracy: 0.9649 - loss: 0.1406"
     ]
    },
    {
     "name": "stderr",
     "output_type": "stream",
     "text": [
      "[codecarbon DEBUG @ 13:58:52] GPU : 2.90 W during 13.40 s [measurement time: 1.5590]\n"
     ]
    },
    {
     "name": "stdout",
     "output_type": "stream",
     "text": [
      "\u001b[1m171/810\u001b[0m \u001b[32m━━━━\u001b[0m\u001b[37m━━━━━━━━━━━━━━━━\u001b[0m \u001b[1m2s\u001b[0m 4ms/step - accuracy: 0.9649 - loss: 0.1406"
     ]
    },
    {
     "name": "stderr",
     "output_type": "stream",
     "text": [
      "[codecarbon INFO @ 13:58:52] Energy consumed for all CPUs : 0.007455 kWh. Total CPU Power : 42.5 W\n",
      "[codecarbon DEBUG @ 13:58:52] CPU : 42.50 W during 14.98 s [measurement time: 0.0152]\n"
     ]
    },
    {
     "name": "stdout",
     "output_type": "stream",
     "text": [
      "\u001b[1m175/810\u001b[0m \u001b[32m━━━━\u001b[0m\u001b[37m━━━━━━━━━━━━━━━━\u001b[0m \u001b[1m2s\u001b[0m 4ms/step - accuracy: 0.9649 - loss: 0.1405"
     ]
    },
    {
     "name": "stderr",
     "output_type": "stream",
     "text": [
      "[codecarbon INFO @ 13:58:52] 0.009864 kWh of electricity used since the beginning.\n",
      "[codecarbon DEBUG @ 13:58:52] last_duration=13.375556599999982\n",
      "------------------------\n"
     ]
    },
    {
     "name": "stdout",
     "output_type": "stream",
     "text": [
      "\u001b[1m810/810\u001b[0m \u001b[32m━━━━━━━━━━━━━━━━━━━━\u001b[0m\u001b[37m\u001b[0m \u001b[1m4s\u001b[0m 5ms/step - accuracy: 0.9657 - loss: 0.1328 - val_accuracy: 0.9736 - val_loss: 0.1346\n",
      "Epoch 220/500\n",
      "\u001b[1m810/810\u001b[0m \u001b[32m━━━━━━━━━━━━━━━━━━━━\u001b[0m\u001b[37m\u001b[0m \u001b[1m4s\u001b[0m 5ms/step - accuracy: 0.9661 - loss: 0.1270 - val_accuracy: 0.9729 - val_loss: 0.1396\n",
      "Epoch 221/500\n",
      "\u001b[1m810/810\u001b[0m \u001b[32m━━━━━━━━━━━━━━━━━━━━\u001b[0m\u001b[37m\u001b[0m \u001b[1m4s\u001b[0m 5ms/step - accuracy: 0.9676 - loss: 0.1287 - val_accuracy: 0.9729 - val_loss: 0.1360\n",
      "Epoch 222/500\n",
      "\u001b[1m283/810\u001b[0m \u001b[32m━━━━━━\u001b[0m\u001b[37m━━━━━━━━━━━━━━\u001b[0m \u001b[1m2s\u001b[0m 5ms/step - accuracy: 0.9683 - loss: 0.1209"
     ]
    },
    {
     "name": "stderr",
     "output_type": "stream",
     "text": [
      "[codecarbon INFO @ 13:59:05] Energy consumed for RAM : 0.001912 kWh. RAM Power : 11.8851900100708 W\n",
      "[codecarbon DEBUG @ 13:59:05] RAM : 11.89 W during 13.33 s [measurement time: 0.0437]\n"
     ]
    },
    {
     "name": "stdout",
     "output_type": "stream",
     "text": [
      "\u001b[1m590/810\u001b[0m \u001b[32m━━━━━━━━━━━━━━\u001b[0m\u001b[37m━━━━━━\u001b[0m \u001b[1m1s\u001b[0m 5ms/step - accuracy: 0.9675 - loss: 0.1229"
     ]
    },
    {
     "name": "stderr",
     "output_type": "stream",
     "text": [
      "[codecarbon INFO @ 13:59:07] Energy consumed for all GPUs : 0.000552 kWh. Total GPU Power : 2.8020056295630673 W\n",
      "[codecarbon DEBUG @ 13:59:07] GPU : 2.80 W during 13.38 s [measurement time: 1.5100]\n"
     ]
    },
    {
     "name": "stdout",
     "output_type": "stream",
     "text": [
      "\u001b[1m591/810\u001b[0m \u001b[32m━━━━━━━━━━━━━━\u001b[0m\u001b[37m━━━━━━\u001b[0m \u001b[1m1s\u001b[0m 5ms/step - accuracy: 0.9674 - loss: 0.1229"
     ]
    },
    {
     "name": "stderr",
     "output_type": "stream",
     "text": [
      "[codecarbon INFO @ 13:59:07] Energy consumed for all CPUs : 0.007631 kWh. Total CPU Power : 42.5 W\n",
      "[codecarbon DEBUG @ 13:59:07] CPU : 42.50 W during 14.90 s [measurement time: 0.0097]\n",
      "[codecarbon INFO @ 13:59:07] 0.010094 kWh of electricity used since the beginning.\n",
      "[codecarbon DEBUG @ 13:59:07] last_duration=13.327245299999959\n",
      "------------------------\n"
     ]
    },
    {
     "name": "stdout",
     "output_type": "stream",
     "text": [
      "\u001b[1m810/810\u001b[0m \u001b[32m━━━━━━━━━━━━━━━━━━━━\u001b[0m\u001b[37m\u001b[0m \u001b[1m5s\u001b[0m 6ms/step - accuracy: 0.9669 - loss: 0.1244 - val_accuracy: 0.9729 - val_loss: 0.1396\n",
      "Epoch 223/500\n",
      "\u001b[1m810/810\u001b[0m \u001b[32m━━━━━━━━━━━━━━━━━━━━\u001b[0m\u001b[37m\u001b[0m \u001b[1m4s\u001b[0m 5ms/step - accuracy: 0.9690 - loss: 0.1224 - val_accuracy: 0.9729 - val_loss: 0.1339\n",
      "Epoch 224/500\n",
      "\u001b[1m810/810\u001b[0m \u001b[32m━━━━━━━━━━━━━━━━━━━━\u001b[0m\u001b[37m\u001b[0m \u001b[1m4s\u001b[0m 4ms/step - accuracy: 0.9675 - loss: 0.1269 - val_accuracy: 0.9733 - val_loss: 0.1325\n",
      "Epoch 225/500\n",
      "\u001b[1m412/810\u001b[0m \u001b[32m━━━━━━━━━━\u001b[0m\u001b[37m━━━━━━━━━━\u001b[0m \u001b[1m1s\u001b[0m 3ms/step - accuracy: 0.9648 - loss: 0.1335"
     ]
    },
    {
     "name": "stderr",
     "output_type": "stream",
     "text": [
      "[codecarbon INFO @ 13:59:20] Energy consumed for RAM : 0.001956 kWh. RAM Power : 11.8851900100708 W\n",
      "[codecarbon DEBUG @ 13:59:20] RAM : 11.89 W during 13.41 s [measurement time: 0.0176]\n"
     ]
    },
    {
     "name": "stdout",
     "output_type": "stream",
     "text": [
      "\u001b[1m758/810\u001b[0m \u001b[32m━━━━━━━━━━━━━━━━━━\u001b[0m\u001b[37m━━\u001b[0m \u001b[1m0s\u001b[0m 4ms/step - accuracy: 0.9652 - loss: 0.1321"
     ]
    },
    {
     "name": "stderr",
     "output_type": "stream",
     "text": [
      "[codecarbon INFO @ 13:59:22] Energy consumed for all GPUs : 0.000564 kWh. Total GPU Power : 3.1785517079953385 W\n",
      "[codecarbon DEBUG @ 13:59:22] GPU : 3.18 W during 13.44 s [measurement time: 1.5672]\n"
     ]
    },
    {
     "name": "stdout",
     "output_type": "stream",
     "text": [
      "\u001b[1m759/810\u001b[0m \u001b[32m━━━━━━━━━━━━━━━━━━\u001b[0m\u001b[37m━━\u001b[0m \u001b[1m0s\u001b[0m 4ms/step - accuracy: 0.9652 - loss: 0.1321"
     ]
    },
    {
     "name": "stderr",
     "output_type": "stream",
     "text": [
      "[codecarbon INFO @ 13:59:22] Energy consumed for all CPUs : 0.007808 kWh. Total CPU Power : 42.5 W\n",
      "[codecarbon DEBUG @ 13:59:22] CPU : 42.50 W during 15.02 s [measurement time: 0.0066]\n"
     ]
    },
    {
     "name": "stdout",
     "output_type": "stream",
     "text": [
      "\u001b[1m761/810\u001b[0m \u001b[32m━━━━━━━━━━━━━━━━━━\u001b[0m\u001b[37m━━\u001b[0m \u001b[1m0s\u001b[0m 4ms/step - accuracy: 0.9652 - loss: 0.1321"
     ]
    },
    {
     "name": "stderr",
     "output_type": "stream",
     "text": [
      "[codecarbon INFO @ 13:59:22] 0.010328 kWh of electricity used since the beginning.\n",
      "[codecarbon DEBUG @ 13:59:22] last_duration=13.411427199999707\n",
      "------------------------\n"
     ]
    },
    {
     "name": "stdout",
     "output_type": "stream",
     "text": [
      "\u001b[1m810/810\u001b[0m \u001b[32m━━━━━━━━━━━━━━━━━━━━\u001b[0m\u001b[37m\u001b[0m \u001b[1m6s\u001b[0m 4ms/step - accuracy: 0.9653 - loss: 0.1318 - val_accuracy: 0.9729 - val_loss: 0.1367\n",
      "Epoch 226/500\n",
      "\u001b[1m810/810\u001b[0m \u001b[32m━━━━━━━━━━━━━━━━━━━━\u001b[0m\u001b[37m\u001b[0m \u001b[1m5s\u001b[0m 6ms/step - accuracy: 0.9659 - loss: 0.1290 - val_accuracy: 0.9719 - val_loss: 0.1395\n",
      "Epoch 227/500\n",
      "\u001b[1m810/810\u001b[0m \u001b[32m━━━━━━━━━━━━━━━━━━━━\u001b[0m\u001b[37m\u001b[0m \u001b[1m4s\u001b[0m 4ms/step - accuracy: 0.9663 - loss: 0.1300 - val_accuracy: 0.9733 - val_loss: 0.1368\n",
      "Epoch 228/500\n",
      "\u001b[1m810/810\u001b[0m \u001b[32m━━━━━━━━━━━━━━━━━━━━\u001b[0m\u001b[37m\u001b[0m \u001b[1m4s\u001b[0m 5ms/step - accuracy: 0.9632 - loss: 0.1331 - val_accuracy: 0.9729 - val_loss: 0.1364\n",
      "Epoch 229/500\n",
      "\u001b[1m 39/810\u001b[0m \u001b[37m━━━━━━━━━━━━━━━━━━━━\u001b[0m \u001b[1m3s\u001b[0m 5ms/step - accuracy: 0.9712 - loss: 0.1165"
     ]
    },
    {
     "name": "stderr",
     "output_type": "stream",
     "text": [
      "[codecarbon INFO @ 13:59:35] Energy consumed for RAM : 0.002000 kWh. RAM Power : 11.8851900100708 W\n",
      "[codecarbon DEBUG @ 13:59:35] RAM : 11.89 W during 13.38 s [measurement time: 0.0304]\n"
     ]
    },
    {
     "name": "stdout",
     "output_type": "stream",
     "text": [
      "\u001b[1m426/810\u001b[0m \u001b[32m━━━━━━━━━━\u001b[0m\u001b[37m━━━━━━━━━━\u001b[0m \u001b[1m1s\u001b[0m 4ms/step - accuracy: 0.9691 - loss: 0.1208"
     ]
    },
    {
     "name": "stderr",
     "output_type": "stream",
     "text": [
      "[codecarbon INFO @ 13:59:37] Energy consumed for all GPUs : 0.000575 kWh. Total GPU Power : 2.9438861314660603 W\n",
      "[codecarbon DEBUG @ 13:59:37] GPU : 2.94 W during 13.43 s [measurement time: 1.5322]\n",
      "[codecarbon INFO @ 13:59:37] Energy consumed for all CPUs : 0.007985 kWh. Total CPU Power : 42.5 W\n",
      "[codecarbon DEBUG @ 13:59:37] CPU : 42.50 W during 14.97 s [measurement time: 0.0054]\n",
      "[codecarbon INFO @ 13:59:37] 0.010560 kWh of electricity used since the beginning.\n",
      "[codecarbon DEBUG @ 13:59:37] last_duration=13.38425499999994\n",
      "------------------------\n"
     ]
    },
    {
     "name": "stdout",
     "output_type": "stream",
     "text": [
      "\u001b[1m810/810\u001b[0m \u001b[32m━━━━━━━━━━━━━━━━━━━━\u001b[0m\u001b[37m\u001b[0m \u001b[1m4s\u001b[0m 5ms/step - accuracy: 0.9678 - loss: 0.1243 - val_accuracy: 0.9729 - val_loss: 0.1310\n",
      "Epoch 230/500\n",
      "\u001b[1m810/810\u001b[0m \u001b[32m━━━━━━━━━━━━━━━━━━━━\u001b[0m\u001b[37m\u001b[0m \u001b[1m4s\u001b[0m 4ms/step - accuracy: 0.9670 - loss: 0.1238 - val_accuracy: 0.9733 - val_loss: 0.1353\n",
      "Epoch 231/500\n",
      "\u001b[1m810/810\u001b[0m \u001b[32m━━━━━━━━━━━━━━━━━━━━\u001b[0m\u001b[37m\u001b[0m \u001b[1m4s\u001b[0m 5ms/step - accuracy: 0.9657 - loss: 0.1294 - val_accuracy: 0.9729 - val_loss: 0.1341\n",
      "Epoch 232/500\n",
      "\u001b[1m518/810\u001b[0m \u001b[32m━━━━━━━━━━━━\u001b[0m\u001b[37m━━━━━━━━\u001b[0m \u001b[1m1s\u001b[0m 5ms/step - accuracy: 0.9657 - loss: 0.1337"
     ]
    },
    {
     "name": "stderr",
     "output_type": "stream",
     "text": [
      "[codecarbon INFO @ 13:59:50] Energy consumed for RAM : 0.002044 kWh. RAM Power : 11.8851900100708 W\n",
      "[codecarbon DEBUG @ 13:59:50] RAM : 11.89 W during 13.41 s [measurement time: 0.0145]\n"
     ]
    },
    {
     "name": "stdout",
     "output_type": "stream",
     "text": [
      "\u001b[1m810/810\u001b[0m \u001b[32m━━━━━━━━━━━━━━━━━━━━\u001b[0m\u001b[37m\u001b[0m \u001b[1m4s\u001b[0m 5ms/step - accuracy: 0.9654 - loss: 0.1329 - val_accuracy: 0.9733 - val_loss: 0.1379\n",
      "Epoch 233/500\n"
     ]
    },
    {
     "name": "stderr",
     "output_type": "stream",
     "text": [
      "[codecarbon INFO @ 13:59:52] Energy consumed for all GPUs : 0.000586 kWh. Total GPU Power : 3.01872171754706 W\n",
      "[codecarbon DEBUG @ 13:59:52] GPU : 3.02 W during 13.44 s [measurement time: 1.5264]\n",
      "[codecarbon INFO @ 13:59:52] Energy consumed for all CPUs : 0.008162 kWh. Total CPU Power : 42.5 W\n",
      "[codecarbon DEBUG @ 13:59:52] CPU : 42.50 W during 14.97 s [measurement time: 0.0028]\n",
      "[codecarbon INFO @ 13:59:52] 0.010792 kWh of electricity used since the beginning.\n"
     ]
    },
    {
     "name": "stdout",
     "output_type": "stream",
     "text": [
      "\u001b[1m  1/810\u001b[0m \u001b[37m━━━━━━━━━━━━━━━━━━━━\u001b[0m \u001b[1m1:22\u001b[0m 102ms/step - accuracy: 1.0000 - loss: 0.0538"
     ]
    },
    {
     "name": "stderr",
     "output_type": "stream",
     "text": [
      "[codecarbon DEBUG @ 13:59:52] last_duration=13.409985300000244\n",
      "------------------------\n"
     ]
    },
    {
     "name": "stdout",
     "output_type": "stream",
     "text": [
      "\u001b[1m810/810\u001b[0m \u001b[32m━━━━━━━━━━━━━━━━━━━━\u001b[0m\u001b[37m\u001b[0m \u001b[1m4s\u001b[0m 5ms/step - accuracy: 0.9663 - loss: 0.1272 - val_accuracy: 0.9733 - val_loss: 0.1348\n",
      "Epoch 234/500\n",
      "\u001b[1m810/810\u001b[0m \u001b[32m━━━━━━━━━━━━━━━━━━━━\u001b[0m\u001b[37m\u001b[0m \u001b[1m3s\u001b[0m 4ms/step - accuracy: 0.9662 - loss: 0.1283 - val_accuracy: 0.9733 - val_loss: 0.1361\n",
      "Epoch 235/500\n",
      "\u001b[1m810/810\u001b[0m \u001b[32m━━━━━━━━━━━━━━━━━━━━\u001b[0m\u001b[37m\u001b[0m \u001b[1m4s\u001b[0m 4ms/step - accuracy: 0.9661 - loss: 0.1308 - val_accuracy: 0.9733 - val_loss: 0.1395\n",
      "Epoch 236/500\n",
      "\u001b[1m508/810\u001b[0m \u001b[32m━━━━━━━━━━━━\u001b[0m\u001b[37m━━━━━━━━\u001b[0m \u001b[1m1s\u001b[0m 4ms/step - accuracy: 0.9663 - loss: 0.1318"
     ]
    },
    {
     "name": "stderr",
     "output_type": "stream",
     "text": [
      "[codecarbon INFO @ 14:00:05] Energy consumed for RAM : 0.002089 kWh. RAM Power : 11.8851900100708 W\n",
      "[codecarbon DEBUG @ 14:00:05] RAM : 11.89 W during 13.41 s [measurement time: 0.0182]\n"
     ]
    },
    {
     "name": "stdout",
     "output_type": "stream",
     "text": [
      "\u001b[1m810/810\u001b[0m \u001b[32m━━━━━━━━━━━━━━━━━━━━\u001b[0m\u001b[37m\u001b[0m \u001b[1m4s\u001b[0m 4ms/step - accuracy: 0.9662 - loss: 0.1309 - val_accuracy: 0.9733 - val_loss: 0.1423\n",
      "Epoch 237/500\n",
      "\u001b[1m 17/810\u001b[0m \u001b[37m━━━━━━━━━━━━━━━━━━━━\u001b[0m \u001b[1m3s\u001b[0m 5ms/step - accuracy: 0.9701 - loss: 0.1134"
     ]
    },
    {
     "name": "stderr",
     "output_type": "stream",
     "text": [
      "[codecarbon INFO @ 14:00:07] Energy consumed for all GPUs : 0.000597 kWh. Total GPU Power : 2.979434777272805 W\n",
      "[codecarbon DEBUG @ 14:00:07] GPU : 2.98 W during 13.44 s [measurement time: 1.5833]\n",
      "[codecarbon INFO @ 14:00:07] Energy consumed for all CPUs : 0.008339 kWh. Total CPU Power : 42.5 W\n",
      "[codecarbon DEBUG @ 14:00:07] CPU : 42.50 W during 15.03 s [measurement time: 0.0050]\n",
      "[codecarbon INFO @ 14:00:07] 0.011025 kWh of electricity used since the beginning.\n",
      "[codecarbon DEBUG @ 14:00:07] last_duration=13.411425700000109\n",
      "------------------------\n"
     ]
    },
    {
     "name": "stdout",
     "output_type": "stream",
     "text": [
      "\u001b[1m810/810\u001b[0m \u001b[32m━━━━━━━━━━━━━━━━━━━━\u001b[0m\u001b[37m\u001b[0m \u001b[1m4s\u001b[0m 4ms/step - accuracy: 0.9656 - loss: 0.1301 - val_accuracy: 0.9733 - val_loss: 0.1346\n",
      "Epoch 238/500\n",
      "\u001b[1m810/810\u001b[0m \u001b[32m━━━━━━━━━━━━━━━━━━━━\u001b[0m\u001b[37m\u001b[0m \u001b[1m4s\u001b[0m 4ms/step - accuracy: 0.9660 - loss: 0.1270 - val_accuracy: 0.9729 - val_loss: 0.1307\n",
      "Epoch 239/500\n",
      "\u001b[1m810/810\u001b[0m \u001b[32m━━━━━━━━━━━━━━━━━━━━\u001b[0m\u001b[37m\u001b[0m \u001b[1m4s\u001b[0m 4ms/step - accuracy: 0.9675 - loss: 0.1233 - val_accuracy: 0.9701 - val_loss: 0.1480\n",
      "Epoch 240/500\n",
      "\u001b[1m577/810\u001b[0m \u001b[32m━━━━━━━━━━━━━━\u001b[0m\u001b[37m━━━━━━\u001b[0m \u001b[1m1s\u001b[0m 5ms/step - accuracy: 0.9663 - loss: 0.1311"
     ]
    },
    {
     "name": "stderr",
     "output_type": "stream",
     "text": [
      "[codecarbon INFO @ 14:00:20] Energy consumed for RAM : 0.002133 kWh. RAM Power : 11.8851900100708 W\n",
      "[codecarbon DEBUG @ 14:00:20] RAM : 11.89 W during 13.39 s [measurement time: 0.0333]\n"
     ]
    },
    {
     "name": "stdout",
     "output_type": "stream",
     "text": [
      "\u001b[1m810/810\u001b[0m \u001b[32m━━━━━━━━━━━━━━━━━━━━\u001b[0m\u001b[37m\u001b[0m \u001b[1m4s\u001b[0m 5ms/step - accuracy: 0.9661 - loss: 0.1306 - val_accuracy: 0.9729 - val_loss: 0.1370\n",
      "Epoch 241/500\n",
      "\u001b[1m 39/810\u001b[0m \u001b[37m━━━━━━━━━━━━━━━━━━━━\u001b[0m \u001b[1m2s\u001b[0m 4ms/step - accuracy: 0.9643 - loss: 0.1453"
     ]
    },
    {
     "name": "stderr",
     "output_type": "stream",
     "text": [
      "[codecarbon INFO @ 14:00:22] Energy consumed for all GPUs : 0.000607 kWh. Total GPU Power : 2.7743595038556426 W\n",
      "[codecarbon DEBUG @ 14:00:22] GPU : 2.77 W during 13.45 s [measurement time: 1.5039]\n",
      "[codecarbon INFO @ 14:00:22] Energy consumed for all CPUs : 0.008516 kWh. Total CPU Power : 42.5 W\n",
      "[codecarbon DEBUG @ 14:00:22] CPU : 42.50 W during 14.95 s [measurement time: 0.0020]\n",
      "[codecarbon INFO @ 14:00:22] 0.011256 kWh of electricity used since the beginning.\n",
      "[codecarbon DEBUG @ 14:00:22] We apply an energy mix of 238 g.CO2eq/kWh for United Kingdom\n",
      "[codecarbon DEBUG @ 14:00:22] EmissionsData(timestamp='2024-11-22T14:00:22', project_name='codecarbon', run_id='None', experiment_id='pkqh9CiOkp4MkPqRqM_k8Xc3mwBRpojS3RayIk1i5Pg', duration=722.0419563, emissions=0.002674249626566262, emissions_rate=3.7037316228409618e-06, cpu_power=42.5, gpu_power=2.7743595038556426, ram_power=11.8851900100708, cpu_energy=0.008515543870902767, gpu_energy=0.0006073079858460001, ram_energy=0.0021329286152691365, energy_consumed=0.011255780472017906, country_name='United Kingdom', country_iso_code='GBR', region='england', cloud_provider='', cloud_region='', os='Windows-11-10.0.22631-SP0', python_version='3.12.7', codecarbon_version='2.7.4', cpu_count=20, cpu_model='12th Gen Intel(R) Core(TM) i9-12900H', gpu_count=1, gpu_model='1 x NVIDIA GeForce RTX 4060 Laptop GPU', longitude=-0.1905, latitude=51.5005, ram_total_size=31.69384002685547, tracking_mode='machine', on_cloud='N', pue=1.0)\n",
      "[codecarbon INFO @ 14:00:22] 0.003674 g.CO2eq/s mean an estimation of 115.8683335552781 kg.CO2eq/year\n",
      "[codecarbon DEBUG @ 14:00:22] last_duration=13.391090799999802\n",
      "------------------------\n"
     ]
    },
    {
     "name": "stdout",
     "output_type": "stream",
     "text": [
      "\u001b[1m810/810\u001b[0m \u001b[32m━━━━━━━━━━━━━━━━━━━━\u001b[0m\u001b[37m\u001b[0m \u001b[1m4s\u001b[0m 4ms/step - accuracy: 0.9658 - loss: 0.1297 - val_accuracy: 0.9733 - val_loss: 0.1383\n",
      "Epoch 242/500\n",
      "\u001b[1m810/810\u001b[0m \u001b[32m━━━━━━━━━━━━━━━━━━━━\u001b[0m\u001b[37m\u001b[0m \u001b[1m4s\u001b[0m 4ms/step - accuracy: 0.9655 - loss: 0.1299 - val_accuracy: 0.9726 - val_loss: 0.1408\n",
      "Epoch 243/500\n",
      "\u001b[1m810/810\u001b[0m \u001b[32m━━━━━━━━━━━━━━━━━━━━\u001b[0m\u001b[37m\u001b[0m \u001b[1m4s\u001b[0m 4ms/step - accuracy: 0.9671 - loss: 0.1279 - val_accuracy: 0.9729 - val_loss: 0.1353\n",
      "Epoch 244/500\n",
      "\u001b[1m650/810\u001b[0m \u001b[32m━━━━━━━━━━━━━━━━\u001b[0m\u001b[37m━━━━\u001b[0m \u001b[1m0s\u001b[0m 4ms/step - accuracy: 0.9650 - loss: 0.1306"
     ]
    },
    {
     "name": "stderr",
     "output_type": "stream",
     "text": [
      "[codecarbon INFO @ 14:00:35] Energy consumed for RAM : 0.002177 kWh. RAM Power : 11.8851900100708 W\n"
     ]
    },
    {
     "name": "stdout",
     "output_type": "stream",
     "text": [
      "\u001b[1m651/810\u001b[0m \u001b[32m━━━━━━━━━━━━━━━━\u001b[0m\u001b[37m━━━━\u001b[0m \u001b[1m0s\u001b[0m 4ms/step - accuracy: 0.9650 - loss: 0.1306"
     ]
    },
    {
     "name": "stderr",
     "output_type": "stream",
     "text": [
      "[codecarbon DEBUG @ 14:00:35] RAM : 11.89 W during 13.45 s [measurement time: 0.0196]\n"
     ]
    },
    {
     "name": "stdout",
     "output_type": "stream",
     "text": [
      "\u001b[1m810/810\u001b[0m \u001b[32m━━━━━━━━━━━━━━━━━━━━\u001b[0m\u001b[37m\u001b[0m \u001b[1m4s\u001b[0m 4ms/step - accuracy: 0.9652 - loss: 0.1300 - val_accuracy: 0.9729 - val_loss: 0.1425\n",
      "Epoch 245/500\n"
     ]
    },
    {
     "name": "stderr",
     "output_type": "stream",
     "text": [
      "[codecarbon INFO @ 14:00:37] Energy consumed for all GPUs : 0.000618 kWh. Total GPU Power : 2.8246772674340095 W\n",
      "[codecarbon DEBUG @ 14:00:37] GPU : 2.82 W during 13.48 s [measurement time: 1.5369]\n",
      "[codecarbon INFO @ 14:00:37] Energy consumed for all CPUs : 0.008693 kWh. Total CPU Power : 42.5 W\n",
      "[codecarbon DEBUG @ 14:00:37] CPU : 42.50 W during 15.02 s [measurement time: 0.0022]\n",
      "[codecarbon INFO @ 14:00:37] 0.011488 kWh of electricity used since the beginning.\n",
      "[codecarbon DEBUG @ 14:00:37] last_duration=13.446109499999693\n",
      "------------------------\n"
     ]
    },
    {
     "name": "stdout",
     "output_type": "stream",
     "text": [
      "\u001b[1m810/810\u001b[0m \u001b[32m━━━━━━━━━━━━━━━━━━━━\u001b[0m\u001b[37m\u001b[0m \u001b[1m5s\u001b[0m 4ms/step - accuracy: 0.9639 - loss: 0.1342 - val_accuracy: 0.9729 - val_loss: 0.1423\n",
      "Epoch 246/500\n",
      "\u001b[1m810/810\u001b[0m \u001b[32m━━━━━━━━━━━━━━━━━━━━\u001b[0m\u001b[37m\u001b[0m \u001b[1m4s\u001b[0m 4ms/step - accuracy: 0.9673 - loss: 0.1253 - val_accuracy: 0.9733 - val_loss: 0.1375\n",
      "Epoch 247/500\n",
      "\u001b[1m810/810\u001b[0m \u001b[32m━━━━━━━━━━━━━━━━━━━━\u001b[0m\u001b[37m\u001b[0m \u001b[1m5s\u001b[0m 4ms/step - accuracy: 0.9668 - loss: 0.1228 - val_accuracy: 0.9733 - val_loss: 0.1344\n",
      "Epoch 248/500\n",
      "\u001b[1m 64/810\u001b[0m \u001b[32m━\u001b[0m\u001b[37m━━━━━━━━━━━━━━━━━━━\u001b[0m \u001b[1m3s\u001b[0m 4ms/step - accuracy: 0.9677 - loss: 0.1326"
     ]
    },
    {
     "name": "stderr",
     "output_type": "stream",
     "text": [
      "[codecarbon INFO @ 14:00:50] Energy consumed for RAM : 0.002222 kWh. RAM Power : 11.8851900100708 W\n",
      "[codecarbon DEBUG @ 14:00:50] RAM : 11.89 W during 13.44 s [measurement time: 0.0160]\n"
     ]
    },
    {
     "name": "stdout",
     "output_type": "stream",
     "text": [
      "\u001b[1m462/810\u001b[0m \u001b[32m━━━━━━━━━━━\u001b[0m\u001b[37m━━━━━━━━━\u001b[0m \u001b[1m1s\u001b[0m 4ms/step - accuracy: 0.9653 - loss: 0.1304"
     ]
    },
    {
     "name": "stderr",
     "output_type": "stream",
     "text": [
      "[codecarbon INFO @ 14:00:52] Energy consumed for all GPUs : 0.000628 kWh. Total GPU Power : 2.824282344695857 W\n",
      "[codecarbon DEBUG @ 14:00:52] GPU : 2.82 W during 13.46 s [measurement time: 1.5210]\n",
      "[codecarbon INFO @ 14:00:52] Energy consumed for all CPUs : 0.008870 kWh. Total CPU Power : 42.5 W\n",
      "[codecarbon DEBUG @ 14:00:52] CPU : 42.50 W during 14.99 s [measurement time: 0.0048]\n",
      "[codecarbon INFO @ 14:00:52] 0.011720 kWh of electricity used since the beginning.\n",
      "[codecarbon DEBUG @ 14:00:52] last_duration=13.435124500000256\n",
      "------------------------\n"
     ]
    },
    {
     "name": "stdout",
     "output_type": "stream",
     "text": [
      "\u001b[1m810/810\u001b[0m \u001b[32m━━━━━━━━━━━━━━━━━━━━\u001b[0m\u001b[37m\u001b[0m \u001b[1m4s\u001b[0m 4ms/step - accuracy: 0.9660 - loss: 0.1284 - val_accuracy: 0.9736 - val_loss: 0.1324\n",
      "Epoch 249/500\n",
      "\u001b[1m810/810\u001b[0m \u001b[32m━━━━━━━━━━━━━━━━━━━━\u001b[0m\u001b[37m\u001b[0m \u001b[1m4s\u001b[0m 4ms/step - accuracy: 0.9669 - loss: 0.1281 - val_accuracy: 0.9736 - val_loss: 0.1327\n",
      "Epoch 250/500\n",
      "\u001b[1m810/810\u001b[0m \u001b[32m━━━━━━━━━━━━━━━━━━━━\u001b[0m\u001b[37m\u001b[0m \u001b[1m4s\u001b[0m 4ms/step - accuracy: 0.9664 - loss: 0.1293 - val_accuracy: 0.9719 - val_loss: 0.1410\n",
      "Epoch 251/500\n",
      "\u001b[1m810/810\u001b[0m \u001b[32m━━━━━━━━━━━━━━━━━━━━\u001b[0m\u001b[37m\u001b[0m \u001b[1m4s\u001b[0m 4ms/step - accuracy: 0.9664 - loss: 0.1249 - val_accuracy: 0.9733 - val_loss: 0.1364\n",
      "Epoch 252/500\n",
      "\u001b[1m122/810\u001b[0m \u001b[32m━━━\u001b[0m\u001b[37m━━━━━━━━━━━━━━━━━\u001b[0m \u001b[1m2s\u001b[0m 4ms/step - accuracy: 0.9744 - loss: 0.1031"
     ]
    },
    {
     "name": "stderr",
     "output_type": "stream",
     "text": [
      "[codecarbon INFO @ 14:01:05] Energy consumed for RAM : 0.002266 kWh. RAM Power : 11.8851900100708 W\n",
      "[codecarbon DEBUG @ 14:01:05] RAM : 11.89 W during 13.44 s [measurement time: 0.0173]\n"
     ]
    },
    {
     "name": "stdout",
     "output_type": "stream",
     "text": [
      "\u001b[1m545/810\u001b[0m \u001b[32m━━━━━━━━━━━━━\u001b[0m\u001b[37m━━━━━━━\u001b[0m \u001b[1m1s\u001b[0m 4ms/step - accuracy: 0.9698 - loss: 0.1172"
     ]
    },
    {
     "name": "stderr",
     "output_type": "stream",
     "text": [
      "[codecarbon INFO @ 14:01:07] Energy consumed for all GPUs : 0.000639 kWh. Total GPU Power : 2.8033652720359554 W\n",
      "[codecarbon DEBUG @ 14:01:07] GPU : 2.80 W during 13.48 s [measurement time: 1.5450]\n",
      "[codecarbon INFO @ 14:01:07] Energy consumed for all CPUs : 0.009047 kWh. Total CPU Power : 42.5 W\n",
      "[codecarbon DEBUG @ 14:01:07] CPU : 42.50 W during 15.03 s [measurement time: 0.0013]\n",
      "[codecarbon INFO @ 14:01:07] 0.011952 kWh of electricity used since the beginning.\n",
      "[codecarbon DEBUG @ 14:01:07] last_duration=13.436189999999897\n",
      "------------------------\n"
     ]
    },
    {
     "name": "stdout",
     "output_type": "stream",
     "text": [
      "\u001b[1m810/810\u001b[0m \u001b[32m━━━━━━━━━━━━━━━━━━━━\u001b[0m\u001b[37m\u001b[0m \u001b[1m3s\u001b[0m 4ms/step - accuracy: 0.9689 - loss: 0.1199 - val_accuracy: 0.9736 - val_loss: 0.1345\n",
      "Epoch 253/500\n",
      "\u001b[1m810/810\u001b[0m \u001b[32m━━━━━━━━━━━━━━━━━━━━\u001b[0m\u001b[37m\u001b[0m \u001b[1m5s\u001b[0m 5ms/step - accuracy: 0.9678 - loss: 0.1225 - val_accuracy: 0.9729 - val_loss: 0.1380\n",
      "Epoch 254/500\n",
      "\u001b[1m810/810\u001b[0m \u001b[32m━━━━━━━━━━━━━━━━━━━━\u001b[0m\u001b[37m\u001b[0m \u001b[1m4s\u001b[0m 4ms/step - accuracy: 0.9667 - loss: 0.1260 - val_accuracy: 0.9726 - val_loss: 0.1316\n",
      "Epoch 255/500\n",
      "\u001b[1m777/810\u001b[0m \u001b[32m━━━━━━━━━━━━━━━━━━━\u001b[0m\u001b[37m━\u001b[0m \u001b[1m0s\u001b[0m 4ms/step - accuracy: 0.9650 - loss: 0.1313"
     ]
    },
    {
     "name": "stderr",
     "output_type": "stream",
     "text": [
      "[codecarbon INFO @ 14:01:20] Energy consumed for RAM : 0.002310 kWh. RAM Power : 11.8851900100708 W\n",
      "[codecarbon DEBUG @ 14:01:20] RAM : 11.89 W during 13.41 s [measurement time: 0.0323]\n"
     ]
    },
    {
     "name": "stdout",
     "output_type": "stream",
     "text": [
      "\u001b[1m810/810\u001b[0m \u001b[32m━━━━━━━━━━━━━━━━━━━━\u001b[0m\u001b[37m\u001b[0m \u001b[1m4s\u001b[0m 4ms/step - accuracy: 0.9650 - loss: 0.1311 - val_accuracy: 0.9733 - val_loss: 0.1386\n",
      "Epoch 256/500\n",
      "\u001b[1m257/810\u001b[0m \u001b[32m━━━━━━\u001b[0m\u001b[37m━━━━━━━━━━━━━━\u001b[0m \u001b[1m1s\u001b[0m 4ms/step - accuracy: 0.9604 - loss: 0.1466"
     ]
    },
    {
     "name": "stderr",
     "output_type": "stream",
     "text": [
      "[codecarbon INFO @ 14:01:22] Energy consumed for all GPUs : 0.000648 kWh. Total GPU Power : 2.4342561028208958 W\n",
      "[codecarbon DEBUG @ 14:01:22] GPU : 2.43 W during 13.45 s [measurement time: 1.5240]\n"
     ]
    },
    {
     "name": "stdout",
     "output_type": "stream",
     "text": [
      "\u001b[1m270/810\u001b[0m \u001b[32m━━━━━━\u001b[0m\u001b[37m━━━━━━━━━━━━━━\u001b[0m \u001b[1m1s\u001b[0m 4ms/step - accuracy: 0.9606 - loss: 0.1461"
     ]
    },
    {
     "name": "stderr",
     "output_type": "stream",
     "text": [
      "[codecarbon INFO @ 14:01:22] Energy consumed for all CPUs : 0.009224 kWh. Total CPU Power : 42.5 W\n",
      "[codecarbon DEBUG @ 14:01:22] CPU : 42.50 W during 14.99 s [measurement time: 0.0042]\n",
      "[codecarbon INFO @ 14:01:22] 0.012182 kWh of electricity used since the beginning.\n",
      "[codecarbon DEBUG @ 14:01:22] last_duration=13.40504379999993\n",
      "------------------------\n"
     ]
    },
    {
     "name": "stdout",
     "output_type": "stream",
     "text": [
      "\u001b[1m810/810\u001b[0m \u001b[32m━━━━━━━━━━━━━━━━━━━━\u001b[0m\u001b[37m\u001b[0m \u001b[1m3s\u001b[0m 4ms/step - accuracy: 0.9643 - loss: 0.1351 - val_accuracy: 0.9733 - val_loss: 0.1345\n",
      "Epoch 257/500\n",
      "\u001b[1m810/810\u001b[0m \u001b[32m━━━━━━━━━━━━━━━━━━━━\u001b[0m\u001b[37m\u001b[0m \u001b[1m4s\u001b[0m 4ms/step - accuracy: 0.9678 - loss: 0.1230 - val_accuracy: 0.9729 - val_loss: 0.1368\n",
      "Epoch 258/500\n",
      "\u001b[1m810/810\u001b[0m \u001b[32m━━━━━━━━━━━━━━━━━━━━\u001b[0m\u001b[37m\u001b[0m \u001b[1m4s\u001b[0m 4ms/step - accuracy: 0.9652 - loss: 0.1300 - val_accuracy: 0.9729 - val_loss: 0.1335\n",
      "Epoch 259/500\n",
      "\u001b[1m810/810\u001b[0m \u001b[32m━━━━━━━━━━━━━━━━━━━━\u001b[0m\u001b[37m\u001b[0m \u001b[1m4s\u001b[0m 4ms/step - accuracy: 0.9677 - loss: 0.1249 - val_accuracy: 0.9733 - val_loss: 0.1404\n",
      "Epoch 260/500\n",
      "\u001b[1m  1/810\u001b[0m \u001b[37m━━━━━━━━━━━━━━━━━━━━\u001b[0m \u001b[1m1:18\u001b[0m 97ms/step - accuracy: 0.9688 - loss: 0.1356"
     ]
    },
    {
     "name": "stderr",
     "output_type": "stream",
     "text": [
      "[codecarbon INFO @ 14:01:35] Energy consumed for RAM : 0.002355 kWh. RAM Power : 11.8851900100708 W\n"
     ]
    },
    {
     "name": "stdout",
     "output_type": "stream",
     "text": [
      "\u001b[1m  4/810\u001b[0m \u001b[37m━━━━━━━━━━━━━━━━━━━━\u001b[0m \u001b[1m3s\u001b[0m 4ms/step - accuracy: 0.9688 - loss: 0.1401   "
     ]
    },
    {
     "name": "stderr",
     "output_type": "stream",
     "text": [
      "[codecarbon DEBUG @ 14:01:35] RAM : 11.89 W during 13.41 s [measurement time: 0.0245]\n"
     ]
    },
    {
     "name": "stdout",
     "output_type": "stream",
     "text": [
      "\u001b[1m409/810\u001b[0m \u001b[32m━━━━━━━━━━\u001b[0m\u001b[37m━━━━━━━━━━\u001b[0m \u001b[1m1s\u001b[0m 4ms/step - accuracy: 0.9671 - loss: 0.1200"
     ]
    },
    {
     "name": "stderr",
     "output_type": "stream",
     "text": [
      "[codecarbon INFO @ 14:01:37] Energy consumed for all GPUs : 0.000658 kWh. Total GPU Power : 2.7572437624001696 W\n",
      "[codecarbon DEBUG @ 14:01:37] GPU : 2.76 W during 13.46 s [measurement time: 1.5336]\n",
      "[codecarbon INFO @ 14:01:37] Energy consumed for all CPUs : 0.009401 kWh. Total CPU Power : 42.5 W\n"
     ]
    },
    {
     "name": "stdout",
     "output_type": "stream",
     "text": [
      "\u001b[1m426/810\u001b[0m \u001b[32m━━━━━━━━━━\u001b[0m\u001b[37m━━━━━━━━━━\u001b[0m \u001b[1m1s\u001b[0m 4ms/step - accuracy: 0.9670 - loss: 0.1203"
     ]
    },
    {
     "name": "stderr",
     "output_type": "stream",
     "text": [
      "[codecarbon DEBUG @ 14:01:37] CPU : 42.50 W during 15.00 s [measurement time: 0.0147]\n"
     ]
    },
    {
     "name": "stdout",
     "output_type": "stream",
     "text": [
      "\u001b[1m427/810\u001b[0m \u001b[32m━━━━━━━━━━\u001b[0m\u001b[37m━━━━━━━━━━\u001b[0m \u001b[1m1s\u001b[0m 4ms/step - accuracy: 0.9670 - loss: 0.1203"
     ]
    },
    {
     "name": "stderr",
     "output_type": "stream",
     "text": [
      "[codecarbon INFO @ 14:01:37] 0.012414 kWh of electricity used since the beginning.\n",
      "[codecarbon DEBUG @ 14:01:37] last_duration=13.409810099999959\n",
      "------------------------\n"
     ]
    },
    {
     "name": "stdout",
     "output_type": "stream",
     "text": [
      "\u001b[1m810/810\u001b[0m \u001b[32m━━━━━━━━━━━━━━━━━━━━\u001b[0m\u001b[37m\u001b[0m \u001b[1m4s\u001b[0m 4ms/step - accuracy: 0.9662 - loss: 0.1244 - val_accuracy: 0.9726 - val_loss: 0.1343\n",
      "Epoch 261/500\n",
      "\u001b[1m810/810\u001b[0m \u001b[32m━━━━━━━━━━━━━━━━━━━━\u001b[0m\u001b[37m\u001b[0m \u001b[1m4s\u001b[0m 4ms/step - accuracy: 0.9654 - loss: 0.1298 - val_accuracy: 0.9736 - val_loss: 0.1354\n",
      "Epoch 262/500\n",
      "\u001b[1m810/810\u001b[0m \u001b[32m━━━━━━━━━━━━━━━━━━━━\u001b[0m\u001b[37m\u001b[0m \u001b[1m5s\u001b[0m 4ms/step - accuracy: 0.9654 - loss: 0.1302 - val_accuracy: 0.9729 - val_loss: 0.1305\n",
      "Epoch 263/500\n",
      "\u001b[1m718/810\u001b[0m \u001b[32m━━━━━━━━━━━━━━━━━\u001b[0m\u001b[37m━━━\u001b[0m \u001b[1m0s\u001b[0m 4ms/step - accuracy: 0.9665 - loss: 0.1247"
     ]
    },
    {
     "name": "stderr",
     "output_type": "stream",
     "text": [
      "[codecarbon INFO @ 14:01:50] Energy consumed for RAM : 0.002399 kWh. RAM Power : 11.8851900100708 W\n"
     ]
    },
    {
     "name": "stdout",
     "output_type": "stream",
     "text": [
      "\u001b[1m734/810\u001b[0m \u001b[32m━━━━━━━━━━━━━━━━━━\u001b[0m\u001b[37m━━\u001b[0m \u001b[1m0s\u001b[0m 4ms/step - accuracy: 0.9664 - loss: 0.1248"
     ]
    },
    {
     "name": "stderr",
     "output_type": "stream",
     "text": [
      "[codecarbon DEBUG @ 14:01:50] RAM : 11.89 W during 13.39 s [measurement time: 0.0216]\n"
     ]
    },
    {
     "name": "stdout",
     "output_type": "stream",
     "text": [
      "\u001b[1m810/810\u001b[0m \u001b[32m━━━━━━━━━━━━━━━━━━━━\u001b[0m\u001b[37m\u001b[0m \u001b[1m3s\u001b[0m 4ms/step - accuracy: 0.9663 - loss: 0.1252 - val_accuracy: 0.9733 - val_loss: 0.1346\n",
      "Epoch 264/500\n",
      "\u001b[1m248/810\u001b[0m \u001b[32m━━━━━━\u001b[0m\u001b[37m━━━━━━━━━━━━━━\u001b[0m \u001b[1m1s\u001b[0m 3ms/step - accuracy: 0.9646 - loss: 0.1373"
     ]
    },
    {
     "name": "stderr",
     "output_type": "stream",
     "text": [
      "[codecarbon INFO @ 14:01:52] Energy consumed for all GPUs : 0.000669 kWh. Total GPU Power : 2.7502225841952126 W\n",
      "[codecarbon DEBUG @ 14:01:52] GPU : 2.75 W during 13.43 s [measurement time: 1.5467]\n"
     ]
    },
    {
     "name": "stdout",
     "output_type": "stream",
     "text": [
      "\u001b[1m250/810\u001b[0m \u001b[32m━━━━━━\u001b[0m\u001b[37m━━━━━━━━━━━━━━\u001b[0m \u001b[1m1s\u001b[0m 3ms/step - accuracy: 0.9646 - loss: 0.1370"
     ]
    },
    {
     "name": "stderr",
     "output_type": "stream",
     "text": [
      "[codecarbon INFO @ 14:01:52] Energy consumed for all CPUs : 0.009578 kWh. Total CPU Power : 42.5 W\n",
      "[codecarbon DEBUG @ 14:01:52] CPU : 42.50 W during 14.98 s [measurement time: 0.0101]\n",
      "[codecarbon INFO @ 14:01:52] 0.012645 kWh of electricity used since the beginning.\n",
      "[codecarbon DEBUG @ 14:01:52] last_duration=13.393832800000382\n",
      "------------------------\n"
     ]
    },
    {
     "name": "stdout",
     "output_type": "stream",
     "text": [
      "\u001b[1m810/810\u001b[0m \u001b[32m━━━━━━━━━━━━━━━━━━━━\u001b[0m\u001b[37m\u001b[0m \u001b[1m3s\u001b[0m 4ms/step - accuracy: 0.9649 - loss: 0.1327 - val_accuracy: 0.9729 - val_loss: 0.1374\n",
      "Epoch 265/500\n",
      "\u001b[1m810/810\u001b[0m \u001b[32m━━━━━━━━━━━━━━━━━━━━\u001b[0m\u001b[37m\u001b[0m \u001b[1m3s\u001b[0m 4ms/step - accuracy: 0.9671 - loss: 0.1252 - val_accuracy: 0.9733 - val_loss: 0.1338\n",
      "Epoch 266/500\n",
      "\u001b[1m810/810\u001b[0m \u001b[32m━━━━━━━━━━━━━━━━━━━━\u001b[0m\u001b[37m\u001b[0m \u001b[1m3s\u001b[0m 3ms/step - accuracy: 0.9670 - loss: 0.1254 - val_accuracy: 0.9733 - val_loss: 0.1423\n",
      "Epoch 267/500\n",
      "\u001b[1m810/810\u001b[0m \u001b[32m━━━━━━━━━━━━━━━━━━━━\u001b[0m\u001b[37m\u001b[0m \u001b[1m2s\u001b[0m 2ms/step - accuracy: 0.9657 - loss: 0.1271 - val_accuracy: 0.9729 - val_loss: 0.1408\n",
      "Epoch 268/500\n",
      "\u001b[1m810/810\u001b[0m \u001b[32m━━━━━━━━━━━━━━━━━━━━\u001b[0m\u001b[37m\u001b[0m \u001b[1m2s\u001b[0m 2ms/step - accuracy: 0.9664 - loss: 0.1283 - val_accuracy: 0.9733 - val_loss: 0.1350\n",
      "Epoch 269/500\n",
      "\u001b[1m712/810\u001b[0m \u001b[32m━━━━━━━━━━━━━━━━━\u001b[0m\u001b[37m━━━\u001b[0m \u001b[1m0s\u001b[0m 2ms/step - accuracy: 0.9672 - loss: 0.1254"
     ]
    },
    {
     "name": "stderr",
     "output_type": "stream",
     "text": [
      "[codecarbon INFO @ 14:02:05] Energy consumed for RAM : 0.002443 kWh. RAM Power : 11.8851900100708 W\n",
      "[codecarbon DEBUG @ 14:02:05] RAM : 11.89 W during 13.39 s [measurement time: 0.0071]\n"
     ]
    },
    {
     "name": "stdout",
     "output_type": "stream",
     "text": [
      "\u001b[1m810/810\u001b[0m \u001b[32m━━━━━━━━━━━━━━━━━━━━\u001b[0m\u001b[37m\u001b[0m \u001b[1m2s\u001b[0m 2ms/step - accuracy: 0.9671 - loss: 0.1254 - val_accuracy: 0.9733 - val_loss: 0.1337\n",
      "Epoch 270/500\n",
      "\u001b[1m716/810\u001b[0m \u001b[32m━━━━━━━━━━━━━━━━━\u001b[0m\u001b[37m━━━\u001b[0m \u001b[1m0s\u001b[0m 2ms/step - accuracy: 0.9653 - loss: 0.1342"
     ]
    },
    {
     "name": "stderr",
     "output_type": "stream",
     "text": [
      "[codecarbon INFO @ 14:02:07] Energy consumed for all GPUs : 0.000679 kWh. Total GPU Power : 2.868441186474 W\n",
      "[codecarbon DEBUG @ 14:02:07] GPU : 2.87 W during 13.41 s [measurement time: 1.4981]\n",
      "[codecarbon INFO @ 14:02:07] Energy consumed for all CPUs : 0.009754 kWh. Total CPU Power : 42.5 W\n",
      "[codecarbon DEBUG @ 14:02:07] CPU : 42.50 W during 14.91 s [measurement time: 0.0016]\n",
      "[codecarbon INFO @ 14:02:07] 0.012876 kWh of electricity used since the beginning.\n",
      "[codecarbon DEBUG @ 14:02:07] last_duration=13.392735500000072\n",
      "------------------------\n"
     ]
    },
    {
     "name": "stdout",
     "output_type": "stream",
     "text": [
      "\u001b[1m810/810\u001b[0m \u001b[32m━━━━━━━━━━━━━━━━━━━━\u001b[0m\u001b[37m\u001b[0m \u001b[1m1s\u001b[0m 2ms/step - accuracy: 0.9654 - loss: 0.1336 - val_accuracy: 0.9729 - val_loss: 0.1383\n",
      "Epoch 271/500\n",
      "\u001b[1m810/810\u001b[0m \u001b[32m━━━━━━━━━━━━━━━━━━━━\u001b[0m\u001b[37m\u001b[0m \u001b[1m2s\u001b[0m 2ms/step - accuracy: 0.9645 - loss: 0.1288 - val_accuracy: 0.9733 - val_loss: 0.1358\n",
      "Epoch 272/500\n",
      "\u001b[1m810/810\u001b[0m \u001b[32m━━━━━━━━━━━━━━━━━━━━\u001b[0m\u001b[37m\u001b[0m \u001b[1m2s\u001b[0m 2ms/step - accuracy: 0.9659 - loss: 0.1252 - val_accuracy: 0.9733 - val_loss: 0.1353\n",
      "Epoch 273/500\n",
      "\u001b[1m810/810\u001b[0m \u001b[32m━━━━━━━━━━━━━━━━━━━━\u001b[0m\u001b[37m\u001b[0m \u001b[1m1s\u001b[0m 2ms/step - accuracy: 0.9672 - loss: 0.1270 - val_accuracy: 0.9722 - val_loss: 0.1427\n",
      "Epoch 274/500\n",
      "\u001b[1m810/810\u001b[0m \u001b[32m━━━━━━━━━━━━━━━━━━━━\u001b[0m\u001b[37m\u001b[0m \u001b[1m1s\u001b[0m 2ms/step - accuracy: 0.9670 - loss: 0.1286 - val_accuracy: 0.9729 - val_loss: 0.1339\n",
      "Epoch 275/500\n",
      "\u001b[1m810/810\u001b[0m \u001b[32m━━━━━━━━━━━━━━━━━━━━\u001b[0m\u001b[37m\u001b[0m \u001b[1m1s\u001b[0m 2ms/step - accuracy: 0.9651 - loss: 0.1284 - val_accuracy: 0.9722 - val_loss: 0.1409\n",
      "Epoch 276/500\n",
      "\u001b[1m810/810\u001b[0m \u001b[32m━━━━━━━━━━━━━━━━━━━━\u001b[0m\u001b[37m\u001b[0m \u001b[1m1s\u001b[0m 2ms/step - accuracy: 0.9673 - loss: 0.1226 - val_accuracy: 0.9729 - val_loss: 0.1370\n",
      "Epoch 277/500\n",
      "\u001b[1m810/810\u001b[0m \u001b[32m━━━━━━━━━━━━━━━━━━━━\u001b[0m\u001b[37m\u001b[0m \u001b[1m1s\u001b[0m 2ms/step - accuracy: 0.9667 - loss: 0.1287 - val_accuracy: 0.9733 - val_loss: 0.1346\n",
      "Epoch 278/500\n",
      "\u001b[1m810/810\u001b[0m \u001b[32m━━━━━━━━━━━━━━━━━━━━\u001b[0m\u001b[37m\u001b[0m \u001b[1m1s\u001b[0m 2ms/step - accuracy: 0.9678 - loss: 0.1236 - val_accuracy: 0.9733 - val_loss: 0.1374\n",
      "Epoch 279/500\n"
     ]
    },
    {
     "name": "stderr",
     "output_type": "stream",
     "text": [
      "[codecarbon INFO @ 14:02:20] Energy consumed for RAM : 0.002488 kWh. RAM Power : 11.8851900100708 W\n",
      "[codecarbon DEBUG @ 14:02:20] RAM : 11.89 W during 13.49 s [measurement time: 0.0091]\n"
     ]
    },
    {
     "name": "stdout",
     "output_type": "stream",
     "text": [
      "\u001b[1m810/810\u001b[0m \u001b[32m━━━━━━━━━━━━━━━━━━━━\u001b[0m\u001b[37m\u001b[0m \u001b[1m3s\u001b[0m 2ms/step - accuracy: 0.9662 - loss: 0.1279 - val_accuracy: 0.9719 - val_loss: 0.1450\n",
      "Epoch 280/500\n"
     ]
    },
    {
     "name": "stderr",
     "output_type": "stream",
     "text": [
      "[codecarbon INFO @ 14:02:22] Energy consumed for all GPUs : 0.000690 kWh. Total GPU Power : 2.7349858472702677 W\n",
      "[codecarbon DEBUG @ 14:02:22] GPU : 2.73 W during 13.51 s [measurement time: 1.5149]\n",
      "[codecarbon INFO @ 14:02:22] Energy consumed for all CPUs : 0.009931 kWh. Total CPU Power : 42.5 W\n",
      "[codecarbon DEBUG @ 14:02:22] CPU : 42.50 W during 15.02 s [measurement time: 0.0009]\n",
      "[codecarbon INFO @ 14:02:22] 0.013109 kWh of electricity used since the beginning.\n",
      "[codecarbon DEBUG @ 14:02:22] We apply an energy mix of 238 g.CO2eq/kWh for United Kingdom\n",
      "[codecarbon DEBUG @ 14:02:22] EmissionsData(timestamp='2024-11-22T14:02:22', project_name='codecarbon', run_id='None', experiment_id='pkqh9CiOkp4MkPqRqM_k8Xc3mwBRpojS3RayIk1i5Pg', duration=842.0817695000001, emissions=0.003114439779727064, emissions_rate=3.698500421848954e-06, cpu_power=42.5, gpu_power=2.7349858472702677, ram_power=11.8851900100708, cpu_energy=0.009931426636874978, gpu_energy=0.000689548607194, ram_energy=0.0024875431626209905, energy_consumed=0.013108518406689973, country_name='United Kingdom', country_iso_code='GBR', region='england', cloud_provider='', cloud_region='', os='Windows-11-10.0.22631-SP0', python_version='3.12.7', codecarbon_version='2.7.4', cpu_count=20, cpu_model='12th Gen Intel(R) Core(TM) i9-12900H', gpu_count=1, gpu_model='1 x NVIDIA GeForce RTX 4060 Laptop GPU', longitude=-0.1905, latitude=51.5005, ram_total_size=31.69384002685547, tracking_mode='machine', on_cloud='N', pue=1.0)\n"
     ]
    },
    {
     "name": "stdout",
     "output_type": "stream",
     "text": [
      "\u001b[1m  2/810\u001b[0m \u001b[37m━━━━━━━━━━━━━━━━━━━━\u001b[0m \u001b[1m5s\u001b[0m 7ms/step - accuracy: 0.9766 - loss: 0.0597"
     ]
    },
    {
     "name": "stderr",
     "output_type": "stream",
     "text": [
      "[codecarbon INFO @ 14:02:22] 0.003667 g.CO2eq/s mean an estimation of 115.64360440106918 kg.CO2eq/year\n",
      "[codecarbon DEBUG @ 14:02:22] last_duration=13.493108299999676\n",
      "------------------------\n"
     ]
    },
    {
     "name": "stdout",
     "output_type": "stream",
     "text": [
      "\u001b[1m810/810\u001b[0m \u001b[32m━━━━━━━━━━━━━━━━━━━━\u001b[0m\u001b[37m\u001b[0m \u001b[1m1s\u001b[0m 2ms/step - accuracy: 0.9656 - loss: 0.1251 - val_accuracy: 0.9733 - val_loss: 0.1380\n",
      "Epoch 281/500\n",
      "\u001b[1m810/810\u001b[0m \u001b[32m━━━━━━━━━━━━━━━━━━━━\u001b[0m\u001b[37m\u001b[0m \u001b[1m1s\u001b[0m 2ms/step - accuracy: 0.9667 - loss: 0.1239 - val_accuracy: 0.9729 - val_loss: 0.1415\n",
      "Epoch 282/500\n",
      "\u001b[1m810/810\u001b[0m \u001b[32m━━━━━━━━━━━━━━━━━━━━\u001b[0m\u001b[37m\u001b[0m \u001b[1m2s\u001b[0m 2ms/step - accuracy: 0.9670 - loss: 0.1231 - val_accuracy: 0.9726 - val_loss: 0.1377\n",
      "Epoch 283/500\n",
      "\u001b[1m810/810\u001b[0m \u001b[32m━━━━━━━━━━━━━━━━━━━━\u001b[0m\u001b[37m\u001b[0m \u001b[1m1s\u001b[0m 2ms/step - accuracy: 0.9656 - loss: 0.1269 - val_accuracy: 0.9733 - val_loss: 0.1360\n",
      "Epoch 284/500\n",
      "\u001b[1m810/810\u001b[0m \u001b[32m━━━━━━━━━━━━━━━━━━━━\u001b[0m\u001b[37m\u001b[0m \u001b[1m1s\u001b[0m 2ms/step - accuracy: 0.9664 - loss: 0.1270 - val_accuracy: 0.9733 - val_loss: 0.1361\n",
      "Epoch 285/500\n",
      "\u001b[1m810/810\u001b[0m \u001b[32m━━━━━━━━━━━━━━━━━━━━\u001b[0m\u001b[37m\u001b[0m \u001b[1m1s\u001b[0m 2ms/step - accuracy: 0.9653 - loss: 0.1263 - val_accuracy: 0.9729 - val_loss: 0.1412\n",
      "Epoch 286/500\n",
      "\u001b[1m810/810\u001b[0m \u001b[32m━━━━━━━━━━━━━━━━━━━━\u001b[0m\u001b[37m\u001b[0m \u001b[1m1s\u001b[0m 2ms/step - accuracy: 0.9666 - loss: 0.1285 - val_accuracy: 0.9733 - val_loss: 0.1401\n",
      "Epoch 287/500\n",
      "\u001b[1m810/810\u001b[0m \u001b[32m━━━━━━━━━━━━━━━━━━━━\u001b[0m\u001b[37m\u001b[0m \u001b[1m1s\u001b[0m 2ms/step - accuracy: 0.9694 - loss: 0.1168 - val_accuracy: 0.9733 - val_loss: 0.1361\n",
      "Epoch 288/500\n",
      "\u001b[1m810/810\u001b[0m \u001b[32m━━━━━━━━━━━━━━━━━━━━\u001b[0m\u001b[37m\u001b[0m \u001b[1m1s\u001b[0m 2ms/step - accuracy: 0.9679 - loss: 0.1209 - val_accuracy: 0.9729 - val_loss: 0.1356\n",
      "Epoch 289/500\n",
      "\u001b[1m550/810\u001b[0m \u001b[32m━━━━━━━━━━━━━\u001b[0m\u001b[37m━━━━━━━\u001b[0m \u001b[1m0s\u001b[0m 1ms/step - accuracy: 0.9660 - loss: 0.1269"
     ]
    },
    {
     "name": "stderr",
     "output_type": "stream",
     "text": [
      "[codecarbon INFO @ 14:02:35] Energy consumed for RAM : 0.002532 kWh. RAM Power : 11.8851900100708 W\n",
      "[codecarbon DEBUG @ 14:02:35] RAM : 11.89 W during 13.47 s [measurement time: 0.0081]\n"
     ]
    },
    {
     "name": "stdout",
     "output_type": "stream",
     "text": [
      "\u001b[1m810/810\u001b[0m \u001b[32m━━━━━━━━━━━━━━━━━━━━\u001b[0m\u001b[37m\u001b[0m \u001b[1m1s\u001b[0m 2ms/step - accuracy: 0.9659 - loss: 0.1273 - val_accuracy: 0.9733 - val_loss: 0.1378\n",
      "Epoch 290/500\n",
      "\u001b[1m693/810\u001b[0m \u001b[32m━━━━━━━━━━━━━━━━━\u001b[0m\u001b[37m━━━\u001b[0m \u001b[1m0s\u001b[0m 1ms/step - accuracy: 0.9661 - loss: 0.1231"
     ]
    },
    {
     "name": "stderr",
     "output_type": "stream",
     "text": [
      "[codecarbon INFO @ 14:02:37] Energy consumed for all GPUs : 0.000700 kWh. Total GPU Power : 2.7268754452082002 W\n",
      "[codecarbon DEBUG @ 14:02:37] GPU : 2.73 W during 13.48 s [measurement time: 1.5474]\n",
      "[codecarbon INFO @ 14:02:37] Energy consumed for all CPUs : 0.010109 kWh. Total CPU Power : 42.5 W\n",
      "[codecarbon DEBUG @ 14:02:37] CPU : 42.50 W during 15.03 s [measurement time: 0.0049]\n",
      "[codecarbon INFO @ 14:02:37] 0.013341 kWh of electricity used since the beginning.\n",
      "[codecarbon DEBUG @ 14:02:37] last_duration=13.470706999999948\n",
      "------------------------\n"
     ]
    },
    {
     "name": "stdout",
     "output_type": "stream",
     "text": [
      "\u001b[1m810/810\u001b[0m \u001b[32m━━━━━━━━━━━━━━━━━━━━\u001b[0m\u001b[37m\u001b[0m \u001b[1m2s\u001b[0m 2ms/step - accuracy: 0.9662 - loss: 0.1228 - val_accuracy: 0.9729 - val_loss: 0.1414\n",
      "Epoch 291/500\n",
      "\u001b[1m810/810\u001b[0m \u001b[32m━━━━━━━━━━━━━━━━━━━━\u001b[0m\u001b[37m\u001b[0m \u001b[1m4s\u001b[0m 5ms/step - accuracy: 0.9660 - loss: 0.1242 - val_accuracy: 0.9733 - val_loss: 0.1388\n",
      "Epoch 292/500\n",
      "\u001b[1m810/810\u001b[0m \u001b[32m━━━━━━━━━━━━━━━━━━━━\u001b[0m\u001b[37m\u001b[0m \u001b[1m5s\u001b[0m 6ms/step - accuracy: 0.9667 - loss: 0.1206 - val_accuracy: 0.9729 - val_loss: 0.1388\n",
      "Epoch 293/500\n",
      "\u001b[1m783/810\u001b[0m \u001b[32m━━━━━━━━━━━━━━━━━━━\u001b[0m\u001b[37m━\u001b[0m \u001b[1m0s\u001b[0m 5ms/step - accuracy: 0.9656 - loss: 0.1294"
     ]
    },
    {
     "name": "stderr",
     "output_type": "stream",
     "text": [
      "[codecarbon INFO @ 14:02:50] Energy consumed for RAM : 0.002576 kWh. RAM Power : 11.8851900100708 W\n"
     ]
    },
    {
     "name": "stdout",
     "output_type": "stream",
     "text": [
      "\u001b[1m792/810\u001b[0m \u001b[32m━━━━━━━━━━━━━━━━━━━\u001b[0m\u001b[37m━\u001b[0m \u001b[1m0s\u001b[0m 5ms/step - accuracy: 0.9656 - loss: 0.1294"
     ]
    },
    {
     "name": "stderr",
     "output_type": "stream",
     "text": [
      "[codecarbon DEBUG @ 14:02:50] RAM : 11.89 W during 13.44 s [measurement time: 0.0385]\n"
     ]
    },
    {
     "name": "stdout",
     "output_type": "stream",
     "text": [
      "\u001b[1m810/810\u001b[0m \u001b[32m━━━━━━━━━━━━━━━━━━━━\u001b[0m\u001b[37m\u001b[0m \u001b[1m4s\u001b[0m 5ms/step - accuracy: 0.9656 - loss: 0.1293 - val_accuracy: 0.9733 - val_loss: 0.1367\n",
      "Epoch 294/500\n",
      "\u001b[1m233/810\u001b[0m \u001b[32m━━━━━\u001b[0m\u001b[37m━━━━━━━━━━━━━━━\u001b[0m \u001b[1m2s\u001b[0m 4ms/step - accuracy: 0.9664 - loss: 0.1263"
     ]
    },
    {
     "name": "stderr",
     "output_type": "stream",
     "text": [
      "[codecarbon INFO @ 14:02:52] Energy consumed for all GPUs : 0.000711 kWh. Total GPU Power : 2.9224307147318513 W\n",
      "[codecarbon DEBUG @ 14:02:52] GPU : 2.92 W during 13.49 s [measurement time: 1.5340]\n"
     ]
    },
    {
     "name": "stdout",
     "output_type": "stream",
     "text": [
      "\u001b[1m234/810\u001b[0m \u001b[32m━━━━━\u001b[0m\u001b[37m━━━━━━━━━━━━━━━\u001b[0m \u001b[1m2s\u001b[0m 4ms/step - accuracy: 0.9664 - loss: 0.1263"
     ]
    },
    {
     "name": "stderr",
     "output_type": "stream",
     "text": [
      "[codecarbon INFO @ 14:02:52] Energy consumed for all CPUs : 0.010286 kWh. Total CPU Power : 42.5 W\n",
      "[codecarbon DEBUG @ 14:02:52] CPU : 42.50 W during 15.04 s [measurement time: 0.0039]\n",
      "[codecarbon INFO @ 14:02:52] 0.013574 kWh of electricity used since the beginning.\n",
      "[codecarbon DEBUG @ 14:02:52] last_duration=13.4408698000002\n",
      "------------------------\n"
     ]
    },
    {
     "name": "stdout",
     "output_type": "stream",
     "text": [
      "\u001b[1m810/810\u001b[0m \u001b[32m━━━━━━━━━━━━━━━━━━━━\u001b[0m\u001b[37m\u001b[0m \u001b[1m5s\u001b[0m 6ms/step - accuracy: 0.9663 - loss: 0.1278 - val_accuracy: 0.9729 - val_loss: 0.1435\n",
      "Epoch 295/500\n",
      "\u001b[1m810/810\u001b[0m \u001b[32m━━━━━━━━━━━━━━━━━━━━\u001b[0m\u001b[37m\u001b[0m \u001b[1m3s\u001b[0m 4ms/step - accuracy: 0.9693 - loss: 0.1207 - val_accuracy: 0.9729 - val_loss: 0.1452\n",
      "Epoch 296/500\n",
      "\u001b[1m810/810\u001b[0m \u001b[32m━━━━━━━━━━━━━━━━━━━━\u001b[0m\u001b[37m\u001b[0m \u001b[1m5s\u001b[0m 4ms/step - accuracy: 0.9666 - loss: 0.1253 - val_accuracy: 0.9729 - val_loss: 0.1412\n",
      "Epoch 297/500\n"
     ]
    },
    {
     "name": "stderr",
     "output_type": "stream",
     "text": [
      "[codecarbon INFO @ 14:03:05] Energy consumed for RAM : 0.002621 kWh. RAM Power : 11.8851900100708 W\n",
      "[codecarbon DEBUG @ 14:03:05] RAM : 11.89 W during 13.40 s [measurement time: 0.0124]\n"
     ]
    },
    {
     "name": "stdout",
     "output_type": "stream",
     "text": [
      "\u001b[1m345/810\u001b[0m \u001b[32m━━━━━━━━\u001b[0m\u001b[37m━━━━━━━━━━━━\u001b[0m \u001b[1m1s\u001b[0m 3ms/step - accuracy: 0.9642 - loss: 0.1283"
     ]
    },
    {
     "name": "stderr",
     "output_type": "stream",
     "text": [
      "[codecarbon INFO @ 14:03:07] Energy consumed for all GPUs : 0.000721 kWh. Total GPU Power : 2.7982678042449667 W\n"
     ]
    },
    {
     "name": "stdout",
     "output_type": "stream",
     "text": [
      "\u001b[1m347/810\u001b[0m \u001b[32m━━━━━━━━\u001b[0m\u001b[37m━━━━━━━━━━━━\u001b[0m \u001b[1m1s\u001b[0m 3ms/step - accuracy: 0.9642 - loss: 0.1283"
     ]
    },
    {
     "name": "stderr",
     "output_type": "stream",
     "text": [
      "[codecarbon DEBUG @ 14:03:07] GPU : 2.80 W during 13.42 s [measurement time: 1.5176]\n",
      "[codecarbon INFO @ 14:03:07] Energy consumed for all CPUs : 0.010463 kWh. Total CPU Power : 42.5 W\n",
      "[codecarbon DEBUG @ 14:03:07] CPU : 42.50 W during 14.94 s [measurement time: 0.0017]\n",
      "[codecarbon INFO @ 14:03:07] 0.013805 kWh of electricity used since the beginning.\n"
     ]
    },
    {
     "name": "stdout",
     "output_type": "stream",
     "text": [
      "\u001b[1m348/810\u001b[0m \u001b[32m━━━━━━━━\u001b[0m\u001b[37m━━━━━━━━━━━━\u001b[0m \u001b[1m1s\u001b[0m 3ms/step - accuracy: 0.9642 - loss: 0.1282"
     ]
    },
    {
     "name": "stderr",
     "output_type": "stream",
     "text": [
      "[codecarbon DEBUG @ 14:03:07] last_duration=13.400336300000163\n",
      "------------------------\n"
     ]
    },
    {
     "name": "stdout",
     "output_type": "stream",
     "text": [
      "\u001b[1m810/810\u001b[0m \u001b[32m━━━━━━━━━━━━━━━━━━━━\u001b[0m\u001b[37m\u001b[0m \u001b[1m5s\u001b[0m 3ms/step - accuracy: 0.9656 - loss: 0.1255 - val_accuracy: 0.9733 - val_loss: 0.1412\n",
      "Epoch 298/500\n",
      "\u001b[1m810/810\u001b[0m \u001b[32m━━━━━━━━━━━━━━━━━━━━\u001b[0m\u001b[37m\u001b[0m \u001b[1m5s\u001b[0m 4ms/step - accuracy: 0.9660 - loss: 0.1230 - val_accuracy: 0.9729 - val_loss: 0.1332\n",
      "Epoch 299/500\n",
      "\u001b[1m810/810\u001b[0m \u001b[32m━━━━━━━━━━━━━━━━━━━━\u001b[0m\u001b[37m\u001b[0m \u001b[1m4s\u001b[0m 5ms/step - accuracy: 0.9684 - loss: 0.1201 - val_accuracy: 0.9729 - val_loss: 0.1381\n",
      "Epoch 300/500\n",
      "\u001b[1m492/810\u001b[0m \u001b[32m━━━━━━━━━━━━\u001b[0m\u001b[37m━━━━━━━━\u001b[0m \u001b[1m1s\u001b[0m 4ms/step - accuracy: 0.9665 - loss: 0.1246"
     ]
    },
    {
     "name": "stderr",
     "output_type": "stream",
     "text": [
      "[codecarbon INFO @ 14:03:20] Energy consumed for RAM : 0.002665 kWh. RAM Power : 11.8851900100708 W\n",
      "[codecarbon DEBUG @ 14:03:20] RAM : 11.89 W during 13.47 s [measurement time: 0.0222]\n"
     ]
    },
    {
     "name": "stdout",
     "output_type": "stream",
     "text": [
      "\u001b[1m806/810\u001b[0m \u001b[32m━━━━━━━━━━━━━━━━━━━\u001b[0m\u001b[37m━\u001b[0m \u001b[1m0s\u001b[0m 5ms/step - accuracy: 0.9665 - loss: 0.1248"
     ]
    },
    {
     "name": "stderr",
     "output_type": "stream",
     "text": [
      "[codecarbon INFO @ 14:03:22] Energy consumed for all GPUs : 0.000731 kWh. Total GPU Power : 2.6782407937055526 W\n",
      "[codecarbon DEBUG @ 14:03:22] GPU : 2.68 W during 13.51 s [measurement time: 1.5441]\n",
      "[codecarbon INFO @ 14:03:22] Energy consumed for all CPUs : 0.010641 kWh. Total CPU Power : 42.5 W\n",
      "[codecarbon DEBUG @ 14:03:22] CPU : 42.50 W during 15.06 s [measurement time: 0.0056]\n",
      "[codecarbon INFO @ 14:03:22] 0.014037 kWh of electricity used since the beginning.\n",
      "[codecarbon DEBUG @ 14:03:22] last_duration=13.469208799999706\n",
      "------------------------\n"
     ]
    },
    {
     "name": "stdout",
     "output_type": "stream",
     "text": [
      "\u001b[1m810/810\u001b[0m \u001b[32m━━━━━━━━━━━━━━━━━━━━\u001b[0m\u001b[37m\u001b[0m \u001b[1m4s\u001b[0m 5ms/step - accuracy: 0.9665 - loss: 0.1249 - val_accuracy: 0.9733 - val_loss: 0.1376\n",
      "Epoch 301/500\n",
      "\u001b[1m810/810\u001b[0m \u001b[32m━━━━━━━━━━━━━━━━━━━━\u001b[0m\u001b[37m\u001b[0m \u001b[1m4s\u001b[0m 5ms/step - accuracy: 0.9681 - loss: 0.1225 - val_accuracy: 0.9733 - val_loss: 0.1298\n",
      "Epoch 302/500\n",
      "\u001b[1m810/810\u001b[0m \u001b[32m━━━━━━━━━━━━━━━━━━━━\u001b[0m\u001b[37m\u001b[0m \u001b[1m4s\u001b[0m 5ms/step - accuracy: 0.9672 - loss: 0.1216 - val_accuracy: 0.9733 - val_loss: 0.1379\n",
      "Epoch 303/500\n",
      "\u001b[1m810/810\u001b[0m \u001b[32m━━━━━━━━━━━━━━━━━━━━\u001b[0m\u001b[37m\u001b[0m \u001b[1m4s\u001b[0m 5ms/step - accuracy: 0.9682 - loss: 0.1196 - val_accuracy: 0.9733 - val_loss: 0.1424\n",
      "Epoch 304/500\n"
     ]
    },
    {
     "name": "stderr",
     "output_type": "stream",
     "text": [
      "[codecarbon INFO @ 14:03:35] Energy consumed for RAM : 0.002709 kWh. RAM Power : 11.8851900100708 W\n",
      "[codecarbon DEBUG @ 14:03:35] RAM : 11.89 W during 13.39 s [measurement time: 0.0106]\n"
     ]
    },
    {
     "name": "stdout",
     "output_type": "stream",
     "text": [
      "\u001b[1m326/810\u001b[0m \u001b[32m━━━━━━━━\u001b[0m\u001b[37m━━━━━━━━━━━━\u001b[0m \u001b[1m1s\u001b[0m 3ms/step - accuracy: 0.9678 - loss: 0.1205"
     ]
    },
    {
     "name": "stderr",
     "output_type": "stream",
     "text": [
      "[codecarbon INFO @ 14:03:37] Energy consumed for all GPUs : 0.000742 kWh. Total GPU Power : 2.9275903741012446 W\n",
      "[codecarbon DEBUG @ 14:03:37] GPU : 2.93 W during 13.41 s [measurement time: 1.5439]\n"
     ]
    },
    {
     "name": "stdout",
     "output_type": "stream",
     "text": [
      "\u001b[1m327/810\u001b[0m \u001b[32m━━━━━━━━\u001b[0m\u001b[37m━━━━━━━━━━━━\u001b[0m \u001b[1m1s\u001b[0m 3ms/step - accuracy: 0.9678 - loss: 0.1205"
     ]
    },
    {
     "name": "stderr",
     "output_type": "stream",
     "text": [
      "[codecarbon INFO @ 14:03:37] Energy consumed for all CPUs : 0.010817 kWh. Total CPU Power : 42.5 W\n"
     ]
    },
    {
     "name": "stdout",
     "output_type": "stream",
     "text": [
      "\u001b[1m330/810\u001b[0m \u001b[32m━━━━━━━━\u001b[0m\u001b[37m━━━━━━━━━━━━\u001b[0m \u001b[1m1s\u001b[0m 3ms/step - accuracy: 0.9678 - loss: 0.1205"
     ]
    },
    {
     "name": "stderr",
     "output_type": "stream",
     "text": [
      "[codecarbon DEBUG @ 14:03:37] CPU : 42.50 W during 14.96 s [measurement time: 0.0053]\n",
      "[codecarbon INFO @ 14:03:37] 0.014269 kWh of electricity used since the beginning.\n",
      "[codecarbon DEBUG @ 14:03:37] last_duration=13.394185300000117\n",
      "------------------------\n"
     ]
    },
    {
     "name": "stdout",
     "output_type": "stream",
     "text": [
      "\u001b[1m810/810\u001b[0m \u001b[32m━━━━━━━━━━━━━━━━━━━━\u001b[0m\u001b[37m\u001b[0m \u001b[1m4s\u001b[0m 4ms/step - accuracy: 0.9667 - loss: 0.1242 - val_accuracy: 0.9733 - val_loss: 0.1379\n",
      "Epoch 305/500\n",
      "\u001b[1m810/810\u001b[0m \u001b[32m━━━━━━━━━━━━━━━━━━━━\u001b[0m\u001b[37m\u001b[0m \u001b[1m5s\u001b[0m 4ms/step - accuracy: 0.9670 - loss: 0.1254 - val_accuracy: 0.9733 - val_loss: 0.1395\n",
      "Epoch 306/500\n",
      "\u001b[1m810/810\u001b[0m \u001b[32m━━━━━━━━━━━━━━━━━━━━\u001b[0m\u001b[37m\u001b[0m \u001b[1m5s\u001b[0m 4ms/step - accuracy: 0.9668 - loss: 0.1229 - val_accuracy: 0.9733 - val_loss: 0.1383\n",
      "Epoch 307/500\n",
      "\u001b[1m229/810\u001b[0m \u001b[32m━━━━━\u001b[0m\u001b[37m━━━━━━━━━━━━━━━\u001b[0m \u001b[1m2s\u001b[0m 5ms/step - accuracy: 0.9646 - loss: 0.1284"
     ]
    },
    {
     "name": "stderr",
     "output_type": "stream",
     "text": [
      "[codecarbon INFO @ 14:03:50] Energy consumed for RAM : 0.002754 kWh. RAM Power : 11.8851900100708 W\n"
     ]
    },
    {
     "name": "stdout",
     "output_type": "stream",
     "text": [
      "\u001b[1m241/810\u001b[0m \u001b[32m━━━━━\u001b[0m\u001b[37m━━━━━━━━━━━━━━━\u001b[0m \u001b[1m2s\u001b[0m 5ms/step - accuracy: 0.9647 - loss: 0.1283"
     ]
    },
    {
     "name": "stderr",
     "output_type": "stream",
     "text": [
      "[codecarbon DEBUG @ 14:03:50] RAM : 11.89 W during 13.44 s [measurement time: 0.0260]\n"
     ]
    },
    {
     "name": "stdout",
     "output_type": "stream",
     "text": [
      "\u001b[1m591/810\u001b[0m \u001b[32m━━━━━━━━━━━━━━\u001b[0m\u001b[37m━━━━━━\u001b[0m \u001b[1m0s\u001b[0m 5ms/step - accuracy: 0.9648 - loss: 0.1286"
     ]
    },
    {
     "name": "stderr",
     "output_type": "stream",
     "text": [
      "[codecarbon INFO @ 14:03:52] Energy consumed for all GPUs : 0.000754 kWh. Total GPU Power : 3.0767286300211265 W\n",
      "[codecarbon DEBUG @ 14:03:52] GPU : 3.08 W during 13.48 s [measurement time: 1.5460]\n",
      "[codecarbon INFO @ 14:03:52] Energy consumed for all CPUs : 0.010995 kWh. Total CPU Power : 42.5 W\n"
     ]
    },
    {
     "name": "stdout",
     "output_type": "stream",
     "text": [
      "\u001b[1m592/810\u001b[0m \u001b[32m━━━━━━━━━━━━━━\u001b[0m\u001b[37m━━━━━━\u001b[0m \u001b[1m0s\u001b[0m 5ms/step - accuracy: 0.9648 - loss: 0.1286"
     ]
    },
    {
     "name": "stderr",
     "output_type": "stream",
     "text": [
      "[codecarbon DEBUG @ 14:03:52] CPU : 42.50 W during 15.02 s [measurement time: 0.0059]\n",
      "[codecarbon INFO @ 14:03:52] 0.014502 kWh of electricity used since the beginning.\n",
      "[codecarbon DEBUG @ 14:03:52] last_duration=13.439230399999815\n",
      "------------------------\n"
     ]
    },
    {
     "name": "stdout",
     "output_type": "stream",
     "text": [
      "\u001b[1m810/810\u001b[0m \u001b[32m━━━━━━━━━━━━━━━━━━━━\u001b[0m\u001b[37m\u001b[0m \u001b[1m4s\u001b[0m 5ms/step - accuracy: 0.9652 - loss: 0.1280 - val_accuracy: 0.9729 - val_loss: 0.1356\n",
      "Epoch 308/500\n",
      "\u001b[1m810/810\u001b[0m \u001b[32m━━━━━━━━━━━━━━━━━━━━\u001b[0m\u001b[37m\u001b[0m \u001b[1m4s\u001b[0m 5ms/step - accuracy: 0.9673 - loss: 0.1268 - val_accuracy: 0.9729 - val_loss: 0.1405\n",
      "Epoch 309/500\n",
      "\u001b[1m810/810\u001b[0m \u001b[32m━━━━━━━━━━━━━━━━━━━━\u001b[0m\u001b[37m\u001b[0m \u001b[1m4s\u001b[0m 5ms/step - accuracy: 0.9694 - loss: 0.1160 - val_accuracy: 0.9729 - val_loss: 0.1379\n",
      "Epoch 310/500\n",
      "\u001b[1m683/810\u001b[0m \u001b[32m━━━━━━━━━━━━━━━━\u001b[0m\u001b[37m━━━━\u001b[0m \u001b[1m0s\u001b[0m 3ms/step - accuracy: 0.9667 - loss: 0.1247"
     ]
    },
    {
     "name": "stderr",
     "output_type": "stream",
     "text": [
      "[codecarbon INFO @ 14:04:05] Energy consumed for RAM : 0.002798 kWh. RAM Power : 11.8851900100708 W\n"
     ]
    },
    {
     "name": "stdout",
     "output_type": "stream",
     "text": [
      "\u001b[1m697/810\u001b[0m \u001b[32m━━━━━━━━━━━━━━━━━\u001b[0m\u001b[37m━━━\u001b[0m \u001b[1m0s\u001b[0m 3ms/step - accuracy: 0.9667 - loss: 0.1248"
     ]
    },
    {
     "name": "stderr",
     "output_type": "stream",
     "text": [
      "[codecarbon DEBUG @ 14:04:05] RAM : 11.89 W during 13.41 s [measurement time: 0.0363]\n"
     ]
    },
    {
     "name": "stdout",
     "output_type": "stream",
     "text": [
      "\u001b[1m810/810\u001b[0m \u001b[32m━━━━━━━━━━━━━━━━━━━━\u001b[0m\u001b[37m\u001b[0m \u001b[1m4s\u001b[0m 4ms/step - accuracy: 0.9667 - loss: 0.1252 - val_accuracy: 0.9726 - val_loss: 0.1379\n",
      "Epoch 311/500\n",
      "\u001b[1m136/810\u001b[0m \u001b[32m━━━\u001b[0m\u001b[37m━━━━━━━━━━━━━━━━━\u001b[0m \u001b[1m2s\u001b[0m 4ms/step - accuracy: 0.9653 - loss: 0.1266"
     ]
    },
    {
     "name": "stderr",
     "output_type": "stream",
     "text": [
      "[codecarbon INFO @ 14:04:07] Energy consumed for all GPUs : 0.000764 kWh. Total GPU Power : 2.8540312356153468 W\n",
      "[codecarbon DEBUG @ 14:04:07] GPU : 2.85 W during 13.46 s [measurement time: 1.5269]\n",
      "[codecarbon INFO @ 14:04:07] Energy consumed for all CPUs : 0.011172 kWh. Total CPU Power : 42.5 W\n",
      "[codecarbon DEBUG @ 14:04:07] CPU : 42.50 W during 15.00 s [measurement time: 0.0052]\n",
      "[codecarbon INFO @ 14:04:07] 0.014734 kWh of electricity used since the beginning.\n",
      "[codecarbon DEBUG @ 14:04:07] last_duration=13.40553090000003\n",
      "------------------------\n"
     ]
    },
    {
     "name": "stdout",
     "output_type": "stream",
     "text": [
      "\u001b[1m810/810\u001b[0m \u001b[32m━━━━━━━━━━━━━━━━━━━━\u001b[0m\u001b[37m\u001b[0m \u001b[1m3s\u001b[0m 3ms/step - accuracy: 0.9663 - loss: 0.1250 - val_accuracy: 0.9719 - val_loss: 0.1450\n",
      "Epoch 312/500\n",
      "\u001b[1m810/810\u001b[0m \u001b[32m━━━━━━━━━━━━━━━━━━━━\u001b[0m\u001b[37m\u001b[0m \u001b[1m2s\u001b[0m 2ms/step - accuracy: 0.9656 - loss: 0.1262 - val_accuracy: 0.9729 - val_loss: 0.1448\n",
      "Epoch 313/500\n",
      "\u001b[1m810/810\u001b[0m \u001b[32m━━━━━━━━━━━━━━━━━━━━\u001b[0m\u001b[37m\u001b[0m \u001b[1m2s\u001b[0m 2ms/step - accuracy: 0.9663 - loss: 0.1239 - val_accuracy: 0.9733 - val_loss: 0.1384\n",
      "Epoch 314/500\n",
      "\u001b[1m810/810\u001b[0m \u001b[32m━━━━━━━━━━━━━━━━━━━━\u001b[0m\u001b[37m\u001b[0m \u001b[1m2s\u001b[0m 2ms/step - accuracy: 0.9663 - loss: 0.1236 - val_accuracy: 0.9719 - val_loss: 0.1458\n",
      "Epoch 315/500\n",
      "\u001b[1m810/810\u001b[0m \u001b[32m━━━━━━━━━━━━━━━━━━━━\u001b[0m\u001b[37m\u001b[0m \u001b[1m2s\u001b[0m 2ms/step - accuracy: 0.9663 - loss: 0.1247 - val_accuracy: 0.9733 - val_loss: 0.1409\n",
      "Epoch 316/500\n",
      "\u001b[1m810/810\u001b[0m \u001b[32m━━━━━━━━━━━━━━━━━━━━\u001b[0m\u001b[37m\u001b[0m \u001b[1m2s\u001b[0m 2ms/step - accuracy: 0.9666 - loss: 0.1264 - val_accuracy: 0.9729 - val_loss: 0.1370\n",
      "Epoch 317/500\n",
      "\u001b[1m810/810\u001b[0m \u001b[32m━━━━━━━━━━━━━━━━━━━━\u001b[0m\u001b[37m\u001b[0m \u001b[1m2s\u001b[0m 2ms/step - accuracy: 0.9692 - loss: 0.1167 - val_accuracy: 0.9733 - val_loss: 0.1402\n",
      "Epoch 318/500\n",
      "\u001b[1m648/810\u001b[0m \u001b[32m━━━━━━━━━━━━━━━━\u001b[0m\u001b[37m━━━━\u001b[0m \u001b[1m0s\u001b[0m 2ms/step - accuracy: 0.9646 - loss: 0.1272"
     ]
    },
    {
     "name": "stderr",
     "output_type": "stream",
     "text": [
      "[codecarbon INFO @ 14:04:20] Energy consumed for RAM : 0.002842 kWh. RAM Power : 11.8851900100708 W\n",
      "[codecarbon DEBUG @ 14:04:20] RAM : 11.89 W during 13.39 s [measurement time: 0.0096]\n"
     ]
    },
    {
     "name": "stdout",
     "output_type": "stream",
     "text": [
      "\u001b[1m810/810\u001b[0m \u001b[32m━━━━━━━━━━━━━━━━━━━━\u001b[0m\u001b[37m\u001b[0m \u001b[1m2s\u001b[0m 2ms/step - accuracy: 0.9647 - loss: 0.1274 - val_accuracy: 0.9722 - val_loss: 0.1456\n",
      "Epoch 319/500\n"
     ]
    },
    {
     "name": "stderr",
     "output_type": "stream",
     "text": [
      "[codecarbon INFO @ 14:04:22] Energy consumed for all GPUs : 0.000775 kWh. Total GPU Power : 2.7581359560537835 W\n",
      "[codecarbon DEBUG @ 14:04:22] GPU : 2.76 W during 13.42 s [measurement time: 1.5121]\n",
      "[codecarbon INFO @ 14:04:22] Energy consumed for all CPUs : 0.011348 kWh. Total CPU Power : 42.5 W\n",
      "[codecarbon DEBUG @ 14:04:22] CPU : 42.50 W during 14.93 s [measurement time: 0.0072]\n"
     ]
    },
    {
     "name": "stdout",
     "output_type": "stream",
     "text": [
      "\u001b[1m  1/810\u001b[0m \u001b[37m━━━━━━━━━━━━━━━━━━━━\u001b[0m \u001b[1m12:20\u001b[0m 915ms/step - accuracy: 0.9688 - loss: 0.1234"
     ]
    },
    {
     "name": "stderr",
     "output_type": "stream",
     "text": [
      "[codecarbon INFO @ 14:04:22] 0.014965 kWh of electricity used since the beginning.\n"
     ]
    },
    {
     "name": "stdout",
     "output_type": "stream",
     "text": [
      "\u001b[1m  5/810\u001b[0m \u001b[37m━━━━━━━━━━━━━━━━━━━━\u001b[0m \u001b[1m3s\u001b[0m 5ms/step - accuracy: 0.9652 - loss: 0.1504"
     ]
    },
    {
     "name": "stderr",
     "output_type": "stream",
     "text": [
      "[codecarbon DEBUG @ 14:04:22] We apply an energy mix of 238 g.CO2eq/kWh for United Kingdom\n",
      "[codecarbon DEBUG @ 14:04:22] EmissionsData(timestamp='2024-11-22T14:04:22', project_name='codecarbon', run_id='None', experiment_id='pkqh9CiOkp4MkPqRqM_k8Xc3mwBRpojS3RayIk1i5Pg', duration=962.1953226999999, emissions=0.003555442103506809, emissions_rate=3.6951355090044956e-06, cpu_power=42.5, gpu_power=2.7581359560537835, ram_power=11.8851900100708, cpu_energy=0.011347932814097196, gpu_energy=0.0007745770085499998, ram_energy=0.0028421649034840986, energy_consumed=0.014964674726131298, country_name='United Kingdom', country_iso_code='GBR', region='england', cloud_provider='', cloud_region='', os='Windows-11-10.0.22631-SP0', python_version='3.12.7', codecarbon_version='2.7.4', cpu_count=20, cpu_model='12th Gen Intel(R) Core(TM) i9-12900H', gpu_count=1, gpu_model='1 x NVIDIA GeForce RTX 4060 Laptop GPU', longitude=-0.1905, latitude=51.5005, ram_total_size=31.69384002685547, tracking_mode='machine', on_cloud='N', pue=1.0)\n",
      "[codecarbon INFO @ 14:04:22] 0.003672 g.CO2eq/s mean an estimation of 115.78584524563094 kg.CO2eq/year\n",
      "[codecarbon DEBUG @ 14:04:22] last_duration=13.394083599999703\n",
      "------------------------\n"
     ]
    },
    {
     "name": "stdout",
     "output_type": "stream",
     "text": [
      "\u001b[1m810/810\u001b[0m \u001b[32m━━━━━━━━━━━━━━━━━━━━\u001b[0m\u001b[37m\u001b[0m \u001b[1m4s\u001b[0m 4ms/step - accuracy: 0.9648 - loss: 0.1302 - val_accuracy: 0.9729 - val_loss: 0.1391\n",
      "Epoch 320/500\n",
      "\u001b[1m810/810\u001b[0m \u001b[32m━━━━━━━━━━━━━━━━━━━━\u001b[0m\u001b[37m\u001b[0m \u001b[1m5s\u001b[0m 4ms/step - accuracy: 0.9678 - loss: 0.1191 - val_accuracy: 0.9733 - val_loss: 0.1339\n",
      "Epoch 321/500\n",
      "\u001b[1m810/810\u001b[0m \u001b[32m━━━━━━━━━━━━━━━━━━━━\u001b[0m\u001b[37m\u001b[0m \u001b[1m4s\u001b[0m 5ms/step - accuracy: 0.9673 - loss: 0.1245 - val_accuracy: 0.9733 - val_loss: 0.1416\n",
      "Epoch 322/500\n",
      "\u001b[1m192/810\u001b[0m \u001b[32m━━━━\u001b[0m\u001b[37m━━━━━━━━━━━━━━━━\u001b[0m \u001b[1m2s\u001b[0m 4ms/step - accuracy: 0.9659 - loss: 0.1291"
     ]
    },
    {
     "name": "stderr",
     "output_type": "stream",
     "text": [
      "[codecarbon INFO @ 14:04:35] Energy consumed for RAM : 0.002887 kWh. RAM Power : 11.8851900100708 W\n",
      "[codecarbon DEBUG @ 14:04:35] RAM : 11.89 W during 13.46 s [measurement time: 0.0225]\n"
     ]
    },
    {
     "name": "stdout",
     "output_type": "stream",
     "text": [
      "\u001b[1m588/810\u001b[0m \u001b[32m━━━━━━━━━━━━━━\u001b[0m\u001b[37m━━━━━━\u001b[0m \u001b[1m0s\u001b[0m 4ms/step - accuracy: 0.9663 - loss: 0.1268"
     ]
    },
    {
     "name": "stderr",
     "output_type": "stream",
     "text": [
      "[codecarbon INFO @ 14:04:37] Energy consumed for all GPUs : 0.000788 kWh. Total GPU Power : 3.5596505621700065 W\n",
      "[codecarbon DEBUG @ 14:04:37] GPU : 3.56 W during 13.51 s [measurement time: 1.5198]\n",
      "[codecarbon INFO @ 14:04:37] Energy consumed for all CPUs : 0.011525 kWh. Total CPU Power : 42.5 W\n",
      "[codecarbon DEBUG @ 14:04:37] CPU : 42.50 W during 15.03 s [measurement time: 0.0064]\n",
      "[codecarbon INFO @ 14:04:37] 0.015200 kWh of electricity used since the beginning.\n",
      "[codecarbon DEBUG @ 14:04:37] last_duration=13.464922300000126\n",
      "------------------------\n"
     ]
    },
    {
     "name": "stdout",
     "output_type": "stream",
     "text": [
      "\u001b[1m810/810\u001b[0m \u001b[32m━━━━━━━━━━━━━━━━━━━━\u001b[0m\u001b[37m\u001b[0m \u001b[1m4s\u001b[0m 5ms/step - accuracy: 0.9664 - loss: 0.1264 - val_accuracy: 0.9729 - val_loss: 0.1382\n",
      "Epoch 323/500\n",
      "\u001b[1m810/810\u001b[0m \u001b[32m━━━━━━━━━━━━━━━━━━━━\u001b[0m\u001b[37m\u001b[0m \u001b[1m4s\u001b[0m 5ms/step - accuracy: 0.9666 - loss: 0.1274 - val_accuracy: 0.9733 - val_loss: 0.1421\n",
      "Epoch 324/500\n",
      "\u001b[1m810/810\u001b[0m \u001b[32m━━━━━━━━━━━━━━━━━━━━\u001b[0m\u001b[37m\u001b[0m \u001b[1m4s\u001b[0m 5ms/step - accuracy: 0.9675 - loss: 0.1201 - val_accuracy: 0.9729 - val_loss: 0.1376\n",
      "Epoch 325/500\n",
      "\u001b[1m801/810\u001b[0m \u001b[32m━━━━━━━━━━━━━━━━━━━\u001b[0m\u001b[37m━\u001b[0m \u001b[1m0s\u001b[0m 3ms/step - accuracy: 0.9663 - loss: 0.1247"
     ]
    },
    {
     "name": "stderr",
     "output_type": "stream",
     "text": [
      "[codecarbon INFO @ 14:04:50] Energy consumed for RAM : 0.002931 kWh. RAM Power : 11.8851900100708 W\n",
      "[codecarbon DEBUG @ 14:04:50] RAM : 11.89 W during 13.42 s [measurement time: 0.0149]\n"
     ]
    },
    {
     "name": "stdout",
     "output_type": "stream",
     "text": [
      "\u001b[1m810/810\u001b[0m \u001b[32m━━━━━━━━━━━━━━━━━━━━\u001b[0m\u001b[37m\u001b[0m \u001b[1m5s\u001b[0m 4ms/step - accuracy: 0.9663 - loss: 0.1247 - val_accuracy: 0.9729 - val_loss: 0.1372\n",
      "Epoch 326/500\n",
      "\u001b[1m285/810\u001b[0m \u001b[32m━━━━━━━\u001b[0m\u001b[37m━━━━━━━━━━━━━\u001b[0m \u001b[1m2s\u001b[0m 4ms/step - accuracy: 0.9703 - loss: 0.1135"
     ]
    },
    {
     "name": "stderr",
     "output_type": "stream",
     "text": [
      "[codecarbon INFO @ 14:04:52] Energy consumed for all GPUs : 0.000800 kWh. Total GPU Power : 3.363046003778663 W\n",
      "[codecarbon DEBUG @ 14:04:52] GPU : 3.36 W during 13.45 s [measurement time: 1.5226]\n",
      "[codecarbon INFO @ 14:04:52] Energy consumed for all CPUs : 0.011702 kWh. Total CPU Power : 42.5 W\n",
      "[codecarbon DEBUG @ 14:04:52] CPU : 42.50 W during 14.98 s [measurement time: 0.0031]\n"
     ]
    },
    {
     "name": "stdout",
     "output_type": "stream",
     "text": [
      "\u001b[1m297/810\u001b[0m \u001b[32m━━━━━━━\u001b[0m\u001b[37m━━━━━━━━━━━━━\u001b[0m \u001b[1m2s\u001b[0m 4ms/step - accuracy: 0.9702 - loss: 0.1137"
     ]
    },
    {
     "name": "stderr",
     "output_type": "stream",
     "text": [
      "[codecarbon INFO @ 14:04:52] 0.015434 kWh of electricity used since the beginning.\n"
     ]
    },
    {
     "name": "stdout",
     "output_type": "stream",
     "text": [
      "\u001b[1m299/810\u001b[0m \u001b[32m━━━━━━━\u001b[0m\u001b[37m━━━━━━━━━━━━━\u001b[0m \u001b[1m1s\u001b[0m 4ms/step - accuracy: 0.9702 - loss: 0.1137"
     ]
    },
    {
     "name": "stderr",
     "output_type": "stream",
     "text": [
      "[codecarbon DEBUG @ 14:04:52] last_duration=13.422663400000147\n",
      "------------------------\n"
     ]
    },
    {
     "name": "stdout",
     "output_type": "stream",
     "text": [
      "\u001b[1m810/810\u001b[0m \u001b[32m━━━━━━━━━━━━━━━━━━━━\u001b[0m\u001b[37m\u001b[0m \u001b[1m4s\u001b[0m 5ms/step - accuracy: 0.9682 - loss: 0.1205 - val_accuracy: 0.9733 - val_loss: 0.1418\n",
      "Epoch 327/500\n",
      "\u001b[1m810/810\u001b[0m \u001b[32m━━━━━━━━━━━━━━━━━━━━\u001b[0m\u001b[37m\u001b[0m \u001b[1m5s\u001b[0m 4ms/step - accuracy: 0.9675 - loss: 0.1237 - val_accuracy: 0.9729 - val_loss: 0.1335\n",
      "Epoch 328/500\n",
      "\u001b[1m810/810\u001b[0m \u001b[32m━━━━━━━━━━━━━━━━━━━━\u001b[0m\u001b[37m\u001b[0m \u001b[1m4s\u001b[0m 5ms/step - accuracy: 0.9672 - loss: 0.1229 - val_accuracy: 0.9733 - val_loss: 0.1427\n",
      "Epoch 329/500\n",
      "\u001b[1m452/810\u001b[0m \u001b[32m━━━━━━━━━━━\u001b[0m\u001b[37m━━━━━━━━━\u001b[0m \u001b[1m1s\u001b[0m 4ms/step - accuracy: 0.9680 - loss: 0.1216"
     ]
    },
    {
     "name": "stderr",
     "output_type": "stream",
     "text": [
      "[codecarbon INFO @ 14:05:05] Energy consumed for RAM : 0.002975 kWh. RAM Power : 11.8851900100708 W\n",
      "[codecarbon DEBUG @ 14:05:05] RAM : 11.89 W during 13.42 s [measurement time: 0.0169]\n"
     ]
    },
    {
     "name": "stdout",
     "output_type": "stream",
     "text": [
      "\u001b[1m801/810\u001b[0m \u001b[32m━━━━━━━━━━━━━━━━━━━\u001b[0m\u001b[37m━\u001b[0m \u001b[1m0s\u001b[0m 4ms/step - accuracy: 0.9674 - loss: 0.1229"
     ]
    },
    {
     "name": "stderr",
     "output_type": "stream",
     "text": [
      "[codecarbon INFO @ 14:05:07] Energy consumed for all GPUs : 0.000815 kWh. Total GPU Power : 3.7727604964584933 W\n",
      "[codecarbon DEBUG @ 14:05:07] GPU : 3.77 W during 13.46 s [measurement time: 1.5162]\n",
      "[codecarbon INFO @ 14:05:07] Energy consumed for all CPUs : 0.011879 kWh. Total CPU Power : 42.5 W\n",
      "[codecarbon DEBUG @ 14:05:07] CPU : 42.50 W during 14.98 s [measurement time: 0.0031]\n",
      "[codecarbon INFO @ 14:05:07] 0.015669 kWh of electricity used since the beginning.\n",
      "[codecarbon DEBUG @ 14:05:07] last_duration=13.424170000000231\n",
      "------------------------\n"
     ]
    },
    {
     "name": "stdout",
     "output_type": "stream",
     "text": [
      "\u001b[1m810/810\u001b[0m \u001b[32m━━━━━━━━━━━━━━━━━━━━\u001b[0m\u001b[37m\u001b[0m \u001b[1m4s\u001b[0m 5ms/step - accuracy: 0.9674 - loss: 0.1230 - val_accuracy: 0.9729 - val_loss: 0.1394\n",
      "Epoch 330/500\n",
      "\u001b[1m810/810\u001b[0m \u001b[32m━━━━━━━━━━━━━━━━━━━━\u001b[0m\u001b[37m\u001b[0m \u001b[1m4s\u001b[0m 5ms/step - accuracy: 0.9655 - loss: 0.1285 - val_accuracy: 0.9733 - val_loss: 0.1321\n",
      "Epoch 331/500\n",
      "\u001b[1m810/810\u001b[0m \u001b[32m━━━━━━━━━━━━━━━━━━━━\u001b[0m\u001b[37m\u001b[0m \u001b[1m4s\u001b[0m 5ms/step - accuracy: 0.9677 - loss: 0.1208 - val_accuracy: 0.9722 - val_loss: 0.1436\n",
      "Epoch 332/500\n",
      "\u001b[1m810/810\u001b[0m \u001b[32m━━━━━━━━━━━━━━━━━━━━\u001b[0m\u001b[37m\u001b[0m \u001b[1m4s\u001b[0m 4ms/step - accuracy: 0.9671 - loss: 0.1216 - val_accuracy: 0.9733 - val_loss: 0.1393\n",
      "Epoch 333/500\n"
     ]
    },
    {
     "name": "stderr",
     "output_type": "stream",
     "text": [
      "[codecarbon INFO @ 14:05:20] Energy consumed for RAM : 0.003020 kWh. RAM Power : 11.8851900100708 W\n",
      "[codecarbon DEBUG @ 14:05:20] RAM : 11.89 W during 13.45 s [measurement time: 0.0125]\n",
      "[codecarbon INFO @ 14:05:22] Energy consumed for all GPUs : 0.000826 kWh. Total GPU Power : 2.9264709941797094 W\n",
      "[codecarbon DEBUG @ 14:05:22] GPU : 2.93 W during 13.47 s [measurement time: 1.5221]\n",
      "[codecarbon INFO @ 14:05:22] Energy consumed for all CPUs : 0.012056 kWh. Total CPU Power : 42.5 W\n",
      "[codecarbon DEBUG @ 14:05:22] CPU : 42.50 W during 14.99 s [measurement time: 0.0012]\n",
      "[codecarbon INFO @ 14:05:22] 0.015901 kWh of electricity used since the beginning.\n",
      "[codecarbon DEBUG @ 14:05:22] last_duration=13.446395100000245\n",
      "------------------------\n"
     ]
    },
    {
     "name": "stdout",
     "output_type": "stream",
     "text": [
      "\u001b[1m810/810\u001b[0m \u001b[32m━━━━━━━━━━━━━━━━━━━━\u001b[0m\u001b[37m\u001b[0m \u001b[1m6s\u001b[0m 4ms/step - accuracy: 0.9666 - loss: 0.1229 - val_accuracy: 0.9733 - val_loss: 0.1421\n",
      "Epoch 334/500\n",
      "\u001b[1m810/810\u001b[0m \u001b[32m━━━━━━━━━━━━━━━━━━━━\u001b[0m\u001b[37m\u001b[0m \u001b[1m5s\u001b[0m 4ms/step - accuracy: 0.9670 - loss: 0.1200 - val_accuracy: 0.9733 - val_loss: 0.1406\n",
      "Epoch 335/500\n",
      "\u001b[1m797/810\u001b[0m \u001b[32m━━━━━━━━━━━━━━━━━━━\u001b[0m\u001b[37m━\u001b[0m \u001b[1m0s\u001b[0m 3ms/step - accuracy: 0.9685 - loss: 0.1179"
     ]
    },
    {
     "name": "stderr",
     "output_type": "stream",
     "text": [
      "[codecarbon INFO @ 14:05:35] Energy consumed for RAM : 0.003064 kWh. RAM Power : 11.8851900100708 W\n",
      "[codecarbon DEBUG @ 14:05:35] RAM : 11.89 W during 13.46 s [measurement time: 0.0183]\n"
     ]
    },
    {
     "name": "stdout",
     "output_type": "stream",
     "text": [
      "\u001b[1m810/810\u001b[0m \u001b[32m━━━━━━━━━━━━━━━━━━━━\u001b[0m\u001b[37m\u001b[0m \u001b[1m5s\u001b[0m 4ms/step - accuracy: 0.9685 - loss: 0.1179 - val_accuracy: 0.9698 - val_loss: 0.1463\n",
      "Epoch 336/500\n",
      "\u001b[1m328/810\u001b[0m \u001b[32m━━━━━━━━\u001b[0m\u001b[37m━━━━━━━━━━━━\u001b[0m \u001b[1m1s\u001b[0m 4ms/step - accuracy: 0.9677 - loss: 0.1200"
     ]
    },
    {
     "name": "stderr",
     "output_type": "stream",
     "text": [
      "[codecarbon INFO @ 14:05:37] Energy consumed for all GPUs : 0.000835 kWh. Total GPU Power : 2.5304895866724997 W\n",
      "[codecarbon DEBUG @ 14:05:37] GPU : 2.53 W during 13.48 s [measurement time: 1.5425]\n",
      "[codecarbon INFO @ 14:05:37] Energy consumed for all CPUs : 0.012233 kWh. Total CPU Power : 42.5 W\n",
      "[codecarbon DEBUG @ 14:05:37] CPU : 42.50 W during 15.03 s [measurement time: 0.0057]\n",
      "[codecarbon INFO @ 14:05:37] 0.016133 kWh of electricity used since the beginning.\n",
      "[codecarbon DEBUG @ 14:05:37] last_duration=13.456217999999808\n",
      "------------------------\n"
     ]
    },
    {
     "name": "stdout",
     "output_type": "stream",
     "text": [
      "\u001b[1m810/810\u001b[0m \u001b[32m━━━━━━━━━━━━━━━━━━━━\u001b[0m\u001b[37m\u001b[0m \u001b[1m4s\u001b[0m 5ms/step - accuracy: 0.9680 - loss: 0.1204 - val_accuracy: 0.9722 - val_loss: 0.1425\n",
      "Epoch 337/500\n",
      "\u001b[1m810/810\u001b[0m \u001b[32m━━━━━━━━━━━━━━━━━━━━\u001b[0m\u001b[37m\u001b[0m \u001b[1m4s\u001b[0m 5ms/step - accuracy: 0.9677 - loss: 0.1195 - val_accuracy: 0.9729 - val_loss: 0.1379\n",
      "Epoch 338/500\n",
      "\u001b[1m810/810\u001b[0m \u001b[32m━━━━━━━━━━━━━━━━━━━━\u001b[0m\u001b[37m\u001b[0m \u001b[1m4s\u001b[0m 5ms/step - accuracy: 0.9681 - loss: 0.1189 - val_accuracy: 0.9733 - val_loss: 0.1427\n",
      "Epoch 339/500\n",
      "\u001b[1m496/810\u001b[0m \u001b[32m━━━━━━━━━━━━\u001b[0m\u001b[37m━━━━━━━━\u001b[0m \u001b[1m1s\u001b[0m 5ms/step - accuracy: 0.9645 - loss: 0.1281"
     ]
    },
    {
     "name": "stderr",
     "output_type": "stream",
     "text": [
      "[codecarbon INFO @ 14:05:50] Energy consumed for RAM : 0.003108 kWh. RAM Power : 11.8851900100708 W\n",
      "[codecarbon DEBUG @ 14:05:50] RAM : 11.89 W during 13.43 s [measurement time: 0.0199]\n"
     ]
    },
    {
     "name": "stdout",
     "output_type": "stream",
     "text": [
      "\u001b[1m796/810\u001b[0m \u001b[32m━━━━━━━━━━━━━━━━━━━\u001b[0m\u001b[37m━\u001b[0m \u001b[1m0s\u001b[0m 4ms/step - accuracy: 0.9653 - loss: 0.1263"
     ]
    },
    {
     "name": "stderr",
     "output_type": "stream",
     "text": [
      "[codecarbon INFO @ 14:05:52] Energy consumed for all GPUs : 0.000853 kWh. Total GPU Power : 4.707615197279207 W\n",
      "[codecarbon DEBUG @ 14:05:52] GPU : 4.71 W during 13.46 s [measurement time: 1.5134]\n",
      "[codecarbon INFO @ 14:05:52] Energy consumed for all CPUs : 0.012410 kWh. Total CPU Power : 42.5 W\n",
      "[codecarbon DEBUG @ 14:05:52] CPU : 42.50 W during 14.98 s [measurement time: 0.0045]\n",
      "[codecarbon INFO @ 14:05:52] 0.016371 kWh of electricity used since the beginning.\n",
      "[codecarbon DEBUG @ 14:05:52] last_duration=13.425537500000246\n",
      "------------------------\n"
     ]
    },
    {
     "name": "stdout",
     "output_type": "stream",
     "text": [
      "\u001b[1m810/810\u001b[0m \u001b[32m━━━━━━━━━━━━━━━━━━━━\u001b[0m\u001b[37m\u001b[0m \u001b[1m4s\u001b[0m 5ms/step - accuracy: 0.9653 - loss: 0.1263 - val_accuracy: 0.9722 - val_loss: 0.1419\n",
      "Epoch 340/500\n",
      "\u001b[1m810/810\u001b[0m \u001b[32m━━━━━━━━━━━━━━━━━━━━\u001b[0m\u001b[37m\u001b[0m \u001b[1m4s\u001b[0m 5ms/step - accuracy: 0.9651 - loss: 0.1256 - val_accuracy: 0.9733 - val_loss: 0.1384\n",
      "Epoch 341/500\n",
      "\u001b[1m810/810\u001b[0m \u001b[32m━━━━━━━━━━━━━━━━━━━━\u001b[0m\u001b[37m\u001b[0m \u001b[1m5s\u001b[0m 4ms/step - accuracy: 0.9661 - loss: 0.1258 - val_accuracy: 0.9722 - val_loss: 0.1443\n",
      "Epoch 342/500\n",
      "\u001b[1m810/810\u001b[0m \u001b[32m━━━━━━━━━━━━━━━━━━━━\u001b[0m\u001b[37m\u001b[0m \u001b[1m4s\u001b[0m 5ms/step - accuracy: 0.9635 - loss: 0.1327 - val_accuracy: 0.9729 - val_loss: 0.1412\n",
      "Epoch 343/500\n"
     ]
    },
    {
     "name": "stderr",
     "output_type": "stream",
     "text": [
      "[codecarbon INFO @ 14:06:05] Energy consumed for RAM : 0.003153 kWh. RAM Power : 11.8851900100708 W\n",
      "[codecarbon DEBUG @ 14:06:05] RAM : 11.89 W during 13.44 s [measurement time: 0.0111]\n"
     ]
    },
    {
     "name": "stdout",
     "output_type": "stream",
     "text": [
      "\u001b[1m399/810\u001b[0m \u001b[32m━━━━━━━━━\u001b[0m\u001b[37m━━━━━━━━━━━\u001b[0m \u001b[1m1s\u001b[0m 3ms/step - accuracy: 0.9715 - loss: 0.1102"
     ]
    },
    {
     "name": "stderr",
     "output_type": "stream",
     "text": [
      "[codecarbon INFO @ 14:06:07] Energy consumed for all GPUs : 0.000866 kWh. Total GPU Power : 3.493808263689893 W\n"
     ]
    },
    {
     "name": "stdout",
     "output_type": "stream",
     "text": [
      "\u001b[1m400/810\u001b[0m \u001b[32m━━━━━━━━━\u001b[0m\u001b[37m━━━━━━━━━━━\u001b[0m \u001b[1m1s\u001b[0m 3ms/step - accuracy: 0.9715 - loss: 0.1103"
     ]
    },
    {
     "name": "stderr",
     "output_type": "stream",
     "text": [
      "[codecarbon DEBUG @ 14:06:07] GPU : 3.49 W during 13.47 s [measurement time: 1.5216]\n",
      "[codecarbon INFO @ 14:06:07] Energy consumed for all CPUs : 0.012587 kWh. Total CPU Power : 42.5 W\n",
      "[codecarbon DEBUG @ 14:06:07] CPU : 42.50 W during 14.99 s [measurement time: 0.0026]\n",
      "[codecarbon INFO @ 14:06:07] 0.016606 kWh of electricity used since the beginning.\n",
      "[codecarbon DEBUG @ 14:06:07] last_duration=13.444622699999854\n",
      "------------------------\n"
     ]
    },
    {
     "name": "stdout",
     "output_type": "stream",
     "text": [
      "\u001b[1m810/810\u001b[0m \u001b[32m━━━━━━━━━━━━━━━━━━━━\u001b[0m\u001b[37m\u001b[0m \u001b[1m4s\u001b[0m 4ms/step - accuracy: 0.9696 - loss: 0.1163 - val_accuracy: 0.9729 - val_loss: 0.1353\n",
      "Epoch 344/500\n",
      "\u001b[1m810/810\u001b[0m \u001b[32m━━━━━━━━━━━━━━━━━━━━\u001b[0m\u001b[37m\u001b[0m \u001b[1m4s\u001b[0m 5ms/step - accuracy: 0.9676 - loss: 0.1214 - val_accuracy: 0.9733 - val_loss: 0.1399\n",
      "Epoch 345/500\n",
      "\u001b[1m810/810\u001b[0m \u001b[32m━━━━━━━━━━━━━━━━━━━━\u001b[0m\u001b[37m\u001b[0m \u001b[1m4s\u001b[0m 4ms/step - accuracy: 0.9655 - loss: 0.1245 - val_accuracy: 0.9726 - val_loss: 0.1398\n",
      "Epoch 346/500\n",
      "\u001b[1m810/810\u001b[0m \u001b[32m━━━━━━━━━━━━━━━━━━━━\u001b[0m\u001b[37m\u001b[0m \u001b[1m4s\u001b[0m 5ms/step - accuracy: 0.9675 - loss: 0.1248 - val_accuracy: 0.9726 - val_loss: 0.1419\n",
      "Epoch 347/500\n",
      "\u001b[1m 82/810\u001b[0m \u001b[32m━━\u001b[0m\u001b[37m━━━━━━━━━━━━━━━━━━\u001b[0m \u001b[1m3s\u001b[0m 4ms/step - accuracy: 0.9730 - loss: 0.1010"
     ]
    },
    {
     "name": "stderr",
     "output_type": "stream",
     "text": [
      "[codecarbon INFO @ 14:06:20] Energy consumed for RAM : 0.003197 kWh. RAM Power : 11.8851900100708 W\n"
     ]
    },
    {
     "name": "stdout",
     "output_type": "stream",
     "text": [
      "\u001b[1m 98/810\u001b[0m \u001b[32m━━\u001b[0m\u001b[37m━━━━━━━━━━━━━━━━━━\u001b[0m \u001b[1m3s\u001b[0m 4ms/step - accuracy: 0.9724 - loss: 0.1025"
     ]
    },
    {
     "name": "stderr",
     "output_type": "stream",
     "text": [
      "[codecarbon DEBUG @ 14:06:20] RAM : 11.89 W during 13.46 s [measurement time: 0.0345]\n"
     ]
    },
    {
     "name": "stdout",
     "output_type": "stream",
     "text": [
      "\u001b[1m516/810\u001b[0m \u001b[32m━━━━━━━━━━━━\u001b[0m\u001b[37m━━━━━━━━\u001b[0m \u001b[1m1s\u001b[0m 4ms/step - accuracy: 0.9700 - loss: 0.1100"
     ]
    },
    {
     "name": "stderr",
     "output_type": "stream",
     "text": [
      "[codecarbon INFO @ 14:06:22] Energy consumed for all GPUs : 0.000881 kWh. Total GPU Power : 4.050006518668266 W\n",
      "[codecarbon DEBUG @ 14:06:22] GPU : 4.05 W during 13.51 s [measurement time: 1.5213]\n",
      "[codecarbon INFO @ 14:06:22] Energy consumed for all CPUs : 0.012765 kWh. Total CPU Power : 42.5 W\n",
      "[codecarbon DEBUG @ 14:06:22] CPU : 42.50 W during 15.04 s [measurement time: 0.0107]\n"
     ]
    },
    {
     "name": "stdout",
     "output_type": "stream",
     "text": [
      "\u001b[1m526/810\u001b[0m \u001b[32m━━━━━━━━━━━━\u001b[0m\u001b[37m━━━━━━━━\u001b[0m \u001b[1m1s\u001b[0m 4ms/step - accuracy: 0.9700 - loss: 0.1101"
     ]
    },
    {
     "name": "stderr",
     "output_type": "stream",
     "text": [
      "[codecarbon INFO @ 14:06:22] 0.016843 kWh of electricity used since the beginning.\n"
     ]
    },
    {
     "name": "stdout",
     "output_type": "stream",
     "text": [
      "\u001b[1m528/810\u001b[0m \u001b[32m━━━━━━━━━━━━━\u001b[0m\u001b[37m━━━━━━━\u001b[0m \u001b[1m1s\u001b[0m 4ms/step - accuracy: 0.9700 - loss: 0.1101"
     ]
    },
    {
     "name": "stderr",
     "output_type": "stream",
     "text": [
      "[codecarbon DEBUG @ 14:06:22] We apply an energy mix of 238 g.CO2eq/kWh for United Kingdom\n",
      "[codecarbon DEBUG @ 14:06:22] EmissionsData(timestamp='2024-11-22T14:06:22', project_name='codecarbon', run_id='None', experiment_id='pkqh9CiOkp4MkPqRqM_k8Xc3mwBRpojS3RayIk1i5Pg', duration=1082.3426568, emissions=0.004001712976277235, emissions_rate=3.6972699460155246e-06, cpu_power=42.5, gpu_power=4.050006518668266, ram_power=11.8851900100708, cpu_energy=0.01276487145243053, gpu_energy=0.0008809057047239999, ram_energy=0.003197228942779538, energy_consumed=0.01684300609993407, country_name='United Kingdom', country_iso_code='GBR', region='england', cloud_provider='', cloud_region='', os='Windows-11-10.0.22631-SP0', python_version='3.12.7', codecarbon_version='2.7.4', cpu_count=20, cpu_model='12th Gen Intel(R) Core(TM) i9-12900H', gpu_count=1, gpu_model='1 x NVIDIA GeForce RTX 4060 Laptop GPU', longitude=-0.1905, latitude=51.5005, ram_total_size=31.69384002685547, tracking_mode='machine', on_cloud='N', pue=1.0)\n",
      "[codecarbon INFO @ 14:06:22] 0.003714 g.CO2eq/s mean an estimation of 117.13616743235058 kg.CO2eq/year\n",
      "[codecarbon DEBUG @ 14:06:22] last_duration=13.463590100000147\n",
      "------------------------\n"
     ]
    },
    {
     "name": "stdout",
     "output_type": "stream",
     "text": [
      "\u001b[1m810/810\u001b[0m \u001b[32m━━━━━━━━━━━━━━━━━━━━\u001b[0m\u001b[37m\u001b[0m \u001b[1m4s\u001b[0m 4ms/step - accuracy: 0.9690 - loss: 0.1135 - val_accuracy: 0.9729 - val_loss: 0.1422\n",
      "Epoch 348/500\n",
      "\u001b[1m810/810\u001b[0m \u001b[32m━━━━━━━━━━━━━━━━━━━━\u001b[0m\u001b[37m\u001b[0m \u001b[1m4s\u001b[0m 5ms/step - accuracy: 0.9648 - loss: 0.1290 - val_accuracy: 0.9726 - val_loss: 0.1449\n",
      "Epoch 349/500\n",
      "\u001b[1m810/810\u001b[0m \u001b[32m━━━━━━━━━━━━━━━━━━━━\u001b[0m\u001b[37m\u001b[0m \u001b[1m5s\u001b[0m 4ms/step - accuracy: 0.9666 - loss: 0.1239 - val_accuracy: 0.9726 - val_loss: 0.1418\n",
      "Epoch 350/500\n",
      "\u001b[1m430/810\u001b[0m \u001b[32m━━━━━━━━━━\u001b[0m\u001b[37m━━━━━━━━━━\u001b[0m \u001b[1m1s\u001b[0m 3ms/step - accuracy: 0.9660 - loss: 0.1280"
     ]
    },
    {
     "name": "stderr",
     "output_type": "stream",
     "text": [
      "[codecarbon INFO @ 14:06:35] Energy consumed for RAM : 0.003241 kWh. RAM Power : 11.8851900100708 W\n",
      "[codecarbon DEBUG @ 14:06:35] RAM : 11.89 W during 13.41 s [measurement time: 0.0157]\n"
     ]
    },
    {
     "name": "stdout",
     "output_type": "stream",
     "text": [
      "\u001b[1m810/810\u001b[0m \u001b[32m━━━━━━━━━━━━━━━━━━━━\u001b[0m\u001b[37m\u001b[0m \u001b[1m4s\u001b[0m 3ms/step - accuracy: 0.9657 - loss: 0.1278 - val_accuracy: 0.9729 - val_loss: 0.1369\n",
      "Epoch 351/500\n",
      "\u001b[1m 41/810\u001b[0m \u001b[32m━\u001b[0m\u001b[37m━━━━━━━━━━━━━━━━━━━\u001b[0m \u001b[1m2s\u001b[0m 3ms/step - accuracy: 0.9712 - loss: 0.1039"
     ]
    },
    {
     "name": "stderr",
     "output_type": "stream",
     "text": [
      "[codecarbon INFO @ 14:06:37] Energy consumed for all GPUs : 0.000892 kWh. Total GPU Power : 2.852709776026603 W\n",
      "[codecarbon DEBUG @ 14:06:37] GPU : 2.85 W during 13.45 s [measurement time: 1.5330]\n"
     ]
    },
    {
     "name": "stdout",
     "output_type": "stream",
     "text": [
      "\u001b[1m 42/810\u001b[0m \u001b[32m━\u001b[0m\u001b[37m━━━━━━━━━━━━━━━━━━━\u001b[0m \u001b[1m2s\u001b[0m 3ms/step - accuracy: 0.9712 - loss: 0.1038"
     ]
    },
    {
     "name": "stderr",
     "output_type": "stream",
     "text": [
      "[codecarbon INFO @ 14:06:37] Energy consumed for all CPUs : 0.012942 kWh. Total CPU Power : 42.5 W\n"
     ]
    },
    {
     "name": "stdout",
     "output_type": "stream",
     "text": [
      "\u001b[1m 43/810\u001b[0m \u001b[32m━\u001b[0m\u001b[37m━━━━━━━━━━━━━━━━━━━\u001b[0m \u001b[1m2s\u001b[0m 3ms/step - accuracy: 0.9712 - loss: 0.1038"
     ]
    },
    {
     "name": "stderr",
     "output_type": "stream",
     "text": [
      "[codecarbon DEBUG @ 14:06:37] CPU : 42.50 W during 14.99 s [measurement time: 0.0054]\n",
      "[codecarbon INFO @ 14:06:37] 0.017075 kWh of electricity used since the beginning.\n",
      "[codecarbon DEBUG @ 14:06:37] last_duration=13.409142900000006\n",
      "------------------------\n"
     ]
    },
    {
     "name": "stdout",
     "output_type": "stream",
     "text": [
      "\u001b[1m810/810\u001b[0m \u001b[32m━━━━━━━━━━━━━━━━━━━━\u001b[0m\u001b[37m\u001b[0m \u001b[1m4s\u001b[0m 5ms/step - accuracy: 0.9671 - loss: 0.1213 - val_accuracy: 0.9733 - val_loss: 0.1374\n",
      "Epoch 352/500\n",
      "\u001b[1m810/810\u001b[0m \u001b[32m━━━━━━━━━━━━━━━━━━━━\u001b[0m\u001b[37m\u001b[0m \u001b[1m3s\u001b[0m 4ms/step - accuracy: 0.9656 - loss: 0.1264 - val_accuracy: 0.9729 - val_loss: 0.1425\n",
      "Epoch 353/500\n",
      "\u001b[1m810/810\u001b[0m \u001b[32m━━━━━━━━━━━━━━━━━━━━\u001b[0m\u001b[37m\u001b[0m \u001b[1m4s\u001b[0m 4ms/step - accuracy: 0.9680 - loss: 0.1256 - val_accuracy: 0.9733 - val_loss: 0.1418\n",
      "Epoch 354/500\n",
      "\u001b[1m565/810\u001b[0m \u001b[32m━━━━━━━━━━━━━\u001b[0m\u001b[37m━━━━━━━\u001b[0m \u001b[1m0s\u001b[0m 4ms/step - accuracy: 0.9670 - loss: 0.1286"
     ]
    },
    {
     "name": "stderr",
     "output_type": "stream",
     "text": [
      "[codecarbon INFO @ 14:06:50] Energy consumed for RAM : 0.003286 kWh. RAM Power : 11.8851900100708 W\n",
      "[codecarbon DEBUG @ 14:06:50] RAM : 11.89 W during 13.42 s [measurement time: 0.0247]\n"
     ]
    },
    {
     "name": "stdout",
     "output_type": "stream",
     "text": [
      "\u001b[1m810/810\u001b[0m \u001b[32m━━━━━━━━━━━━━━━━━━━━\u001b[0m\u001b[37m\u001b[0m \u001b[1m4s\u001b[0m 4ms/step - accuracy: 0.9669 - loss: 0.1287 - val_accuracy: 0.9726 - val_loss: 0.1490\n",
      "Epoch 355/500\n",
      "\u001b[1m 69/810\u001b[0m \u001b[32m━\u001b[0m\u001b[37m━━━━━━━━━━━━━━━━━━━\u001b[0m \u001b[1m2s\u001b[0m 3ms/step - accuracy: 0.9728 - loss: 0.1076"
     ]
    },
    {
     "name": "stderr",
     "output_type": "stream",
     "text": [
      "[codecarbon INFO @ 14:06:52] Energy consumed for all GPUs : 0.000902 kWh. Total GPU Power : 2.9109887724849832 W\n",
      "[codecarbon DEBUG @ 14:06:52] GPU : 2.91 W during 13.45 s [measurement time: 1.5211]\n",
      "[codecarbon INFO @ 14:06:52] Energy consumed for all CPUs : 0.013119 kWh. Total CPU Power : 42.5 W\n",
      "[codecarbon DEBUG @ 14:06:52] CPU : 42.50 W during 14.98 s [measurement time: 0.0023]\n",
      "[codecarbon INFO @ 14:06:52] 0.017307 kWh of electricity used since the beginning.\n",
      "[codecarbon DEBUG @ 14:06:52] last_duration=13.418687500000033\n",
      "------------------------\n"
     ]
    },
    {
     "name": "stdout",
     "output_type": "stream",
     "text": [
      "\u001b[1m810/810\u001b[0m \u001b[32m━━━━━━━━━━━━━━━━━━━━\u001b[0m\u001b[37m\u001b[0m \u001b[1m3s\u001b[0m 4ms/step - accuracy: 0.9687 - loss: 0.1203 - val_accuracy: 0.9722 - val_loss: 0.1407\n",
      "Epoch 356/500\n",
      "\u001b[1m810/810\u001b[0m \u001b[32m━━━━━━━━━━━━━━━━━━━━\u001b[0m\u001b[37m\u001b[0m \u001b[1m4s\u001b[0m 4ms/step - accuracy: 0.9672 - loss: 0.1233 - val_accuracy: 0.9729 - val_loss: 0.1385\n",
      "Epoch 357/500\n",
      "\u001b[1m810/810\u001b[0m \u001b[32m━━━━━━━━━━━━━━━━━━━━\u001b[0m\u001b[37m\u001b[0m \u001b[1m4s\u001b[0m 4ms/step - accuracy: 0.9676 - loss: 0.1223 - val_accuracy: 0.9719 - val_loss: 0.1439\n",
      "Epoch 358/500\n",
      "\u001b[1m765/810\u001b[0m \u001b[32m━━━━━━━━━━━━━━━━━━\u001b[0m\u001b[37m━━\u001b[0m \u001b[1m0s\u001b[0m 4ms/step - accuracy: 0.9705 - loss: 0.1133"
     ]
    },
    {
     "name": "stderr",
     "output_type": "stream",
     "text": [
      "[codecarbon INFO @ 14:07:05] Energy consumed for RAM : 0.003330 kWh. RAM Power : 11.8851900100708 W\n",
      "[codecarbon DEBUG @ 14:07:05] RAM : 11.89 W during 13.44 s [measurement time: 0.0187]\n"
     ]
    },
    {
     "name": "stdout",
     "output_type": "stream",
     "text": [
      "\u001b[1m810/810\u001b[0m \u001b[32m━━━━━━━━━━━━━━━━━━━━\u001b[0m\u001b[37m\u001b[0m \u001b[1m4s\u001b[0m 4ms/step - accuracy: 0.9703 - loss: 0.1140 - val_accuracy: 0.9733 - val_loss: 0.1411\n",
      "Epoch 359/500\n"
     ]
    },
    {
     "name": "stderr",
     "output_type": "stream",
     "text": [
      "[codecarbon INFO @ 14:07:07] Energy consumed for all GPUs : 0.000913 kWh. Total GPU Power : 2.858116956266768 W\n",
      "[codecarbon DEBUG @ 14:07:07] GPU : 2.86 W during 13.47 s [measurement time: 1.5184]\n",
      "[codecarbon INFO @ 14:07:07] Energy consumed for all CPUs : 0.013296 kWh. Total CPU Power : 42.5 W\n",
      "[codecarbon DEBUG @ 14:07:07] CPU : 42.50 W during 15.00 s [measurement time: 0.0021]\n",
      "[codecarbon INFO @ 14:07:07] 0.017539 kWh of electricity used since the beginning.\n",
      "[codecarbon DEBUG @ 14:07:07] last_duration=13.44211919999998\n",
      "------------------------\n"
     ]
    },
    {
     "name": "stdout",
     "output_type": "stream",
     "text": [
      "\u001b[1m810/810\u001b[0m \u001b[32m━━━━━━━━━━━━━━━━━━━━\u001b[0m\u001b[37m\u001b[0m \u001b[1m5s\u001b[0m 4ms/step - accuracy: 0.9677 - loss: 0.1228 - val_accuracy: 0.9729 - val_loss: 0.1414\n",
      "Epoch 360/500\n",
      "\u001b[1m810/810\u001b[0m \u001b[32m━━━━━━━━━━━━━━━━━━━━\u001b[0m\u001b[37m\u001b[0m \u001b[1m4s\u001b[0m 4ms/step - accuracy: 0.9652 - loss: 0.1321 - val_accuracy: 0.9733 - val_loss: 0.1390\n",
      "Epoch 361/500\n",
      "\u001b[1m810/810\u001b[0m \u001b[32m━━━━━━━━━━━━━━━━━━━━\u001b[0m\u001b[37m\u001b[0m \u001b[1m4s\u001b[0m 4ms/step - accuracy: 0.9660 - loss: 0.1273 - val_accuracy: 0.9726 - val_loss: 0.1383\n",
      "Epoch 362/500\n",
      "\u001b[1m466/810\u001b[0m \u001b[32m━━━━━━━━━━━\u001b[0m\u001b[37m━━━━━━━━━\u001b[0m \u001b[1m1s\u001b[0m 4ms/step - accuracy: 0.9656 - loss: 0.1222"
     ]
    },
    {
     "name": "stderr",
     "output_type": "stream",
     "text": [
      "[codecarbon INFO @ 14:07:20] Energy consumed for RAM : 0.003375 kWh. RAM Power : 11.8851900100708 W\n",
      "[codecarbon DEBUG @ 14:07:20] RAM : 11.89 W during 13.45 s [measurement time: 0.0422]\n"
     ]
    },
    {
     "name": "stdout",
     "output_type": "stream",
     "text": [
      "\u001b[1m528/810\u001b[0m \u001b[32m━━━━━━━━━━━━━\u001b[0m\u001b[37m━━━━━━━\u001b[0m \u001b[1m1s\u001b[0m 4ms/step - accuracy: 0.9656 - loss: 0.1231"
     ]
    }
   ],
   "source": [
    "import pandas as pd\n",
    "import numpy as np\n",
    "from sklearn.model_selection import train_test_split\n",
    "from sklearn.metrics import accuracy_score\n",
    "from tensorflow.keras.models import Sequential\n",
    "from tensorflow.keras.layers import Dense, Dropout, LeakyReLU, Input\n",
    "from tensorflow.keras.optimizers import Adam\n",
    "from tensorflow.keras.callbacks import EarlyStopping\n",
    "\n",
    "@track_emissions()\n",
    "def fit_neural_network(X_train,y_train):\n",
    "    \n",
    "\n",
    "\n",
    "    model = Sequential([\n",
    "        Input(shape=(X_train.shape[1],), sparse=True),\n",
    "        Dense(128),\n",
    "        LeakyReLU(alpha=0.1),\n",
    "        Dropout(0.2),\n",
    "        \n",
    "        Dense(64),\n",
    "        LeakyReLU(alpha=0.1),\n",
    "        Dropout(0.2),\n",
    "        \n",
    "        Dense(32),\n",
    "        LeakyReLU(alpha=0.1),\n",
    "        \n",
    "        Dense(1, activation='sigmoid')\n",
    "    ])\n",
    "\n",
    "    \n",
    "    model.compile(optimizer=Adam(learning_rate=0.001), loss='binary_crossentropy', metrics=['accuracy'])\n",
    "    \n",
    "\n",
    "    early_stopping = EarlyStopping(\n",
    "        monitor='val_loss', \n",
    "        patience=20, \n",
    "        restore_best_weights=True\n",
    "    )\n",
    "\n",
    "    \n",
    "    model.fit(\n",
    "        X_train, y_train,\n",
    "        epochs= 500,\n",
    "        batch_size=32,\n",
    "        validation_split=0.1, \n",
    "        verbose=1,\n",
    "        callbacks = []\n",
    "    )\n",
    "    return model\n",
    "@track_emissions\n",
    "def predict_neural_network(model, X_test):\n",
    "    return (model.predict(X_test) > 0.5).astype(int)\n",
    "\n",
    "for n in [18]:\n",
    "    X_train, X_test, y_train, y_test = preprocess_data(n)\n",
    "    decision_tree = fit_neural_network(X_train, y_train)\n",
    "    print(f\"WWWWWWWWWWWWWWWWWWWWWWWWWWWWWWWWWWWWWWWWWWWWWWWW{n}\")\n",
    "    y_pred = predict_neural_network(decision_tree, X_test)\n",
    "    print(f\"-------------------------------------------{n}\")\n",
    "    accuracy = accuracy_score(y_test, y_pred)\n",
    "    print(f\"Neural Netork Accuracy: {accuracy:.4f} for n = {n}\")\n"
   ]
  }
 ],
 "metadata": {
  "kernelspec": {
   "display_name": "Python 3",
   "language": "python",
   "name": "python3"
  },
  "language_info": {
   "codemirror_mode": {
    "name": "ipython",
    "version": 3
   },
   "file_extension": ".py",
   "mimetype": "text/x-python",
   "name": "python",
   "nbconvert_exporter": "python",
   "pygments_lexer": "ipython3",
   "version": "3.12.7"
  }
 },
 "nbformat": 4,
 "nbformat_minor": 2
}
